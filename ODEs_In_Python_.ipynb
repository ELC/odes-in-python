{
 "cells": [
  {
   "cell_type": "markdown",
   "metadata": {},
   "source": [
    "# Table of Contents\n",
    "\n",
    "- [Initial Configuration](#Initial-Configuration)\n",
    "- [Familiar Economy](#Familiar-Economy)\n",
    "- [House and Air Conditionings](#House-and-Air-Conditionings)\n",
    "- [Stock Control](#Stock-Control)\n",
    "- [Useful life](#Useful-life)\n",
    "- [Foxes and Rabbits](#Foxes-and-Rabbits)"
   ]
  },
  {
   "cell_type": "markdown",
   "metadata": {
    "ExecuteTime": {
     "end_time": "2017-08-14T13:59:41.350670Z",
     "start_time": "2017-08-14T13:59:41.335634Z"
    }
   },
   "source": [
    "# Initial Configuration"
   ]
  },
  {
   "cell_type": "code",
   "execution_count": 1,
   "metadata": {
    "ExecuteTime": {
     "end_time": "2020-10-19T15:27:29.946810Z",
     "start_time": "2020-10-19T15:27:28.547221Z"
    }
   },
   "outputs": [],
   "source": [
    "# General Purpose\n",
    "import numpy as np\n",
    "from scipy.integrate import odeint\n",
    "from matplotlib import pyplot as plt\n",
    "import matplotlib.patches as mpatches\n",
    "\n",
    "# Jupyter Specifics\n",
    "from IPython.display import HTML\n",
    "from ipywidgets.widgets import interact, IntSlider, FloatSlider, Layout\n",
    "\n",
    "%matplotlib inline\n",
    "\n",
    "style = {'description_width': '150px'}\n",
    "slider_layout = Layout(width='99%')"
   ]
  },
  {
   "cell_type": "code",
   "execution_count": 2,
   "metadata": {
    "ExecuteTime": {
     "end_time": "2020-10-19T15:27:29.977807Z",
     "start_time": "2020-10-19T15:27:29.953811Z"
    }
   },
   "outputs": [],
   "source": [
    "plt.style.use('bmh')"
   ]
  },
  {
   "cell_type": "code",
   "execution_count": 3,
   "metadata": {},
   "outputs": [],
   "source": [
    "import sympy as sy\n",
    "from collections import namedtuple\n",
    "\n",
    "fields = [\n",
    "    \"equilibrium_x\",\n",
    "    \"equilibrium_y\",\n",
    "    \"natural_frequency\",\n",
    "    \"damping_ratio\",\n",
    "    \"decay_rate\",\n",
    "]\n",
    "AnalysisResults = namedtuple('AnalysisResults', fields)\n",
    "\n",
    "\n",
    "def analyse(function):\n",
    "    x, y = sy.symbols('x, y', positive=True)\n",
    "    equations = sy.Matrix(function([x, y], 0))\n",
    "    \n",
    "    equilibrium_solutions = sy.solve(sy.Eq(equations, sy.Matrix([0, 0])), [x, y], dict=True)\n",
    "    equilibrium_solutions = equilibrium_solutions[0] if len(equilibrium_solutions) else equilibrium_solutions\n",
    "    x_equilibrium = equilibrium_solutions[x]\n",
    "    y_equilibrium = equilibrium_solutions[y]\n",
    "    \n",
    "    jacobian = equations.jacobian([x, y])\n",
    "    \n",
    "    jacobian_at_equilibrium = jacobian.subs({x: x_equilibrium, y: y_equilibrium})\n",
    "    \n",
    "    eigenvalues = sy.Matrix(list(jacobian_at_equilibrium.eigenvals()))\n",
    "    \n",
    "    decay_rate = abs(sy.re(eigenvalues)[0])\n",
    "    \n",
    "    natural_frequency = abs(sy.im(eigenvalues)[0])\n",
    "    \n",
    "    damping_ratio = decay_rate / (decay_rate**2 + natural_frequency**2)**0.5\n",
    "    \n",
    "    return AnalysisResults(\n",
    "        x_equilibrium,\n",
    "        y_equilibrium,\n",
    "        natural_frequency,\n",
    "        damping_ratio,\n",
    "        decay_rate\n",
    "    )"
   ]
  },
  {
   "cell_type": "code",
   "execution_count": 4,
   "metadata": {
    "ExecuteTime": {
     "end_time": "2020-10-19T15:27:40.841500Z",
     "start_time": "2020-10-19T15:27:38.775426Z"
    }
   },
   "outputs": [],
   "source": [
    "import os\n",
    "import pickle\n",
    "import pprint\n",
    "import time\n",
    "from collections import defaultdict\n",
    "from datetime import datetime\n",
    "\n",
    "import pandas as pd\n",
    "import sympy as sy\n",
    "\n",
    "import matplotlib as mpl\n",
    "import matplotlib.pyplot as plt\n",
    "from matplotlib.colors import ListedColormap\n",
    "import seaborn as sns\n",
    "\n",
    "from IPython.display import clear_output"
   ]
  },
  {
   "cell_type": "code",
   "execution_count": 5,
   "metadata": {},
   "outputs": [],
   "source": [
    "def round_expr(expr, num_digits=5):\n",
    "    return expr.xreplace({n : round(n, num_digits) for n in expr.atoms(sy.Number)})"
   ]
  },
  {
   "cell_type": "code",
   "execution_count": 6,
   "metadata": {},
   "outputs": [],
   "source": [
    "def plot_vector_field(xs, ys, function, *, ax):\n",
    "    X1 , Y1  = np.meshgrid(xs, ys)          # create a grid\n",
    "    DX1, DY1 = function([X1, Y1], 0)        # compute growth rate on the grid\n",
    "    M = np.hypot(DX1, DY1)                  # norm growth rate \n",
    "    M[ M == 0] = 1.                         # avoid zero division errors \n",
    "    DX1 /= M                                # normalize each arrows\n",
    "    DY1 /= M\n",
    "    M /= 2\n",
    "    \n",
    "    cmap = ListedColormap(sns.color_palette(\"Greens_r\", 50)[:-20])\n",
    "    ax.streamplot(X1, Y1, DX1, DY1, density=1.5, color=M, cmap=cmap)"
   ]
  },
  {
   "cell_type": "code",
   "execution_count": 7,
   "metadata": {},
   "outputs": [],
   "source": [
    "def plot_normal_vectors(xs, ys, function, *, ax, skip=15, **kwargs):\n",
    "    xs_, ys_ = xs[::skip], ys[::skip]\n",
    "    \n",
    "    dsdt = np.array(function([xs_, ys_], 0))\n",
    "    norm = np.hypot(*dsdt)\n",
    "    dsdt /= norm\n",
    "    \n",
    "    ax.quiver(xs_, ys_, *dsdt, scale=kwargs.pop(\"scale\"), scale_units=\"x\", **kwargs)"
   ]
  },
  {
   "cell_type": "code",
   "execution_count": 8,
   "metadata": {},
   "outputs": [],
   "source": [
    "def compute_nullclines(xs, delta, independent_variable, dependable_variable, *, invert=False):\n",
    "    solution = sy.solve(sy.Eq(delta, 0), dict=True)\n",
    "\n",
    "    nullcline_, *_ = solution\n",
    "    nullcline = nullcline_.get(independent_variable)\n",
    "\n",
    "    if not nullcline:\n",
    "        nullcline = nullcline_.get(dependable_variable)\n",
    "        invert = True\n",
    "    \n",
    "    if not invert:\n",
    "        evaluate = np.vectorize(sy.utilities.lambdify(dependable_variable, nullcline))\n",
    "        ys = evaluate(xs)\n",
    "        return xs, ys, nullcline\n",
    "    \n",
    "    if not nullcline.free_symbols:\n",
    "        constant = float(sy.N(nullcline))\n",
    "        xs = np.ones_like(xs) * constant\n",
    "        ys = np.linspace(0, constant * 2, 1000)\n",
    "        return xs, ys, nullcline\n",
    "        \n",
    "    nullclines = sy.solve(nullcline - independent_variable, dependable_variable)\n",
    "    nullcline = nullclines[0] if len(nullclines) else nullclines\n",
    "    evaluate = np.vectorize(sy.utilities.lambdify(independent_variable, nullcline))\n",
    "    ys = evaluate(xs)\n",
    "    return xs, ys, nullcline\n",
    "    \n",
    "def plot_nullclines(xs, delta, independent_variable, dependable_variable, function, *, ax, invert=False, **kwargs):\n",
    "    xs, ys, nullcline = compute_nullclines(xs, delta, independent_variable, dependable_variable, invert=invert)\n",
    "    \n",
    "    skip = kwargs.pop(\"skip\")\n",
    "    scale = kwargs.pop(\"scale\")\n",
    "\n",
    "    label = f\"{dependable_variable}-Nullcline - $dx/dt=0 \\Rightarrow f(x): {round_expr(nullcline)}$\"\n",
    "    ax.plot(xs, ys, label=label, ls=\"--\", lw=2, **kwargs)\n",
    "\n",
    "    plot_normal_vectors(xs, ys, function, ax=ax, skip=skip, scale=scale, color=kwargs.get(\"color\"), width=.0025)"
   ]
  },
  {
   "cell_type": "code",
   "execution_count": 9,
   "metadata": {},
   "outputs": [],
   "source": [
    "def plot_equilibrium(dsdt, first_variable, second_variable, *, ax):\n",
    "    equilibrium = sy.solve(dsdt, first_variable, second_variable, dict=True)\n",
    "    equilibrium = equilibrium[0] if len(equilibrium) else equilibrium\n",
    "    first_fix_point = equilibrium[first_variable]\n",
    "    second_fix_point = equilibrium[second_variable]\n",
    "    \n",
    "    label = f\"Fix Point at $x={first_fix_point:2.2f}; y={second_fix_point:2.2f}$\"\n",
    "    ax.scatter(first_fix_point, second_fix_point, s=100, color=\"gold\", ls=\"--\", label=label)"
   ]
  },
  {
   "cell_type": "code",
   "execution_count": 10,
   "metadata": {},
   "outputs": [],
   "source": [
    "def plot_field_and_nullclines(function, *, xlim=(0.01, 50), ylim=(0, 50), sample_size=1000, scale=0.75, x_skip=15, y_skip=45):\n",
    "    xs = np.linspace(*xlim, sample_size)\n",
    "    ys = np.linspace(*ylim, sample_size)\n",
    "    \n",
    "    x, y = sy.symbols('x, y', positive=True)\n",
    "    \n",
    "    system_at_equilibrium = function([x, y], 0)\n",
    "    x_at_equilibrium, y_at_equilibrium = system_at_equilibrium\n",
    "    \n",
    "    fig, ax = plt.subplots(figsize=(16, 5))\n",
    "    \n",
    "    plot_vector_field(xs, ys, function, ax=ax)\n",
    "    \n",
    "    plot_nullclines(xs, x_at_equilibrium, y, x, function, ax=ax, skip=x_skip, color=\"royalblue\", scale=scale)\n",
    "    \n",
    "    plot_nullclines(xs, y_at_equilibrium, x, y, function, ax=ax, invert=True, skip=y_skip, color=\"firebrick\", scale=scale)\n",
    "    \n",
    "    plot_equilibrium(system_at_equilibrium, x, y, ax=ax)\n",
    "    \n",
    "    ax.set_xlim(*xlim)\n",
    "    ax.set_ylim(*ylim)\n",
    "    \n",
    "    ax.legend(loc=\"upper left\")\n",
    "    \n",
    "    plt.tight_layout()\n",
    "    plt.show()"
   ]
  },
  {
   "cell_type": "code",
   "execution_count": 11,
   "metadata": {},
   "outputs": [],
   "source": [
    "def compute_envelope(xs, variable, initial_condition, equilibrium, initial_condition_delta, analysis_results):\n",
    "    C1, C2, t = sy.symbols('C1 C2 t')\n",
    "\n",
    "    exponential_decay = sy.exp(-analysis_results.decay_rate*t)\n",
    "    periodic_oscillation = C1 * sy.cos(analysis_results.natural_frequency*t) + C2 * sy.sin(analysis_results.natural_frequency*t)\n",
    "    offset = equilibrium\n",
    "    general_solution_form = exponential_decay * periodic_oscillation + offset\n",
    "\n",
    "    initial_condition_equation = sy.Eq(general_solution_form.subs(t, 0), initial_condition)\n",
    "\n",
    "    C1_solution = float(sy.solve(initial_condition_equation, C1)[0])\n",
    "    \n",
    "    general_solution_first_derivative_at_initial_time = sy.diff(general_solution_form, t).subs(t, 0)\n",
    "\n",
    "    C2_equation = sy.Eq(general_solution_first_derivative_at_initial_time, initial_condition_delta)\n",
    "\n",
    "    C2_solution = float(sy.solve(C2_equation.subs(C1, C1_solution), C2)[0])\n",
    "\n",
    "    amplitude = np.sqrt((C1_solution) ** 2 + (C2_solution) ** 2)\n",
    "    \n",
    "    envelope_exponential_decay = amplitude * np.exp(-xs * float(analysis_results.decay_rate))\n",
    "    \n",
    "    upper_envelop = offset + envelope_exponential_decay\n",
    "    lower_envelop = offset - envelope_exponential_decay\n",
    "    return upper_envelop, lower_envelop"
   ]
  },
  {
   "cell_type": "markdown",
   "metadata": {
    "jp-MarkdownHeadingCollapsed": true
   },
   "source": [
    "# Familiar Economy"
   ]
  },
  {
   "cell_type": "code",
   "execution_count": 12,
   "metadata": {
    "ExecuteTime": {
     "end_time": "2020-10-19T15:27:31.063634Z",
     "start_time": "2020-10-19T15:27:29.995802Z"
    }
   },
   "outputs": [
    {
     "data": {
      "application/vnd.jupyter.widget-view+json": {
       "model_id": "024ceb3cf80a487a812823c56ddd9db2",
       "version_major": 2,
       "version_minor": 0
      },
      "text/plain": [
       "interactive(children=(IntSlider(value=15000, description='Initial Salary', layout=Layout(width='99%'), max=250…"
      ]
     },
     "metadata": {},
     "output_type": "display_data"
    }
   ],
   "source": [
    "def main(initial_salary, savings_ration, extraordinary_expenses, fixed_costs, days):\n",
    "    saving_limit = savings_ration * initial_salary\n",
    "    \n",
    "    def function(capital, time):\n",
    "        if capital <= saving_limit:\n",
    "            out_rate = 0\n",
    "        else:\n",
    "            out_rate = extraordinary_expenses * (capital - saving_limit)\n",
    "        return -fixed_costs - out_rate\n",
    "    \n",
    "    time = np.linspace(0, days, days*10)\n",
    "    \n",
    "    solution = odeint(function, initial_salary, time)\n",
    "    \n",
    "    #Graphic details\n",
    "    fig, ax = plt.subplots(figsize=(16, 5))    \n",
    "    \n",
    "    ax.plot((0, days), (saving_limit, saving_limit), label='Saving Limit')\n",
    "    ax.plot(time, solution, label='Capital(t)')\n",
    "    \n",
    "    if days <= 60:\n",
    "        step = 1\n",
    "        rotation = \"horizontal\"\n",
    "    elif days <= 300:\n",
    "        step = 5\n",
    "        rotation = \"vertical\"\n",
    "    else:\n",
    "        step = 10\n",
    "        rotation = \"vertical\"\n",
    "    \n",
    "    ax.set_xticks(np.arange(0, days + 1, step))\n",
    "    ax.set_xticklabels(np.arange(0, days + 1, step, dtype=int), rotation=rotation)\n",
    "    \n",
    "    ax.set_yticks(np.arange(0, initial_salary * 1.1, initial_salary / 10))\n",
    "    \n",
    "    ax.set_xlim([0, days])\n",
    "    ax.set_ylim([0, initial_salary * 1.1])\n",
    "    ax.set_xlabel('Days')\n",
    "    ax.set_ylabel('Capital $')\n",
    "    ax.legend(loc='best', ncol=2)\n",
    "\n",
    "    plt.tight_layout()\n",
    "    plt.show()\n",
    "\n",
    "interact(main, initial_salary=IntSlider(min=0, max=25000, step=500, value=15000, description='Initial Salary', style=style, layout=slider_layout),\n",
    "               savings_ration=FloatSlider(min=0, max=1, step=0.01, value=0.2, description='Savings Ratio', style=style, layout=slider_layout),\n",
    "               extraordinary_expenses=FloatSlider(min=0, max=1, step=0.005, description='Extraordinary Expenses', style=style, value=0.3, layout=slider_layout),\n",
    "               fixed_costs=IntSlider(min=1, max=1000, step=1, value=100, description='Fixed Costs', style=style, layout=slider_layout),\n",
    "               days=IntSlider(min=1, max=600, step=5, value=30, description='Total Number of Days', style=style, layout=slider_layout)\n",
    "        );"
   ]
  },
  {
   "cell_type": "markdown",
   "metadata": {
    "jp-MarkdownHeadingCollapsed": true
   },
   "source": [
    "# House and Air Conditionings"
   ]
  },
  {
   "cell_type": "code",
   "execution_count": 13,
   "metadata": {},
   "outputs": [
    {
     "data": {
      "application/vnd.jupyter.widget-view+json": {
       "model_id": "0316241cf06246bfa030121bcb4e4b9f",
       "version_major": 2,
       "version_minor": 0
      },
      "text/plain": [
       "interactive(children=(IntSlider(value=0, description='Initial sold Houses', layout=Layout(width='99%'), max=20…"
      ]
     },
     "metadata": {},
     "output_type": "display_data"
    }
   ],
   "source": [
    "def main(initial_houses, initial_ac, avg_time_house, avg_time_ac, total_houses, days):\n",
    "\n",
    "    def function(s, time):\n",
    "        x, y = s\n",
    "        dydt = [\n",
    "            (1 / avg_time_house) * (total_houses - x), # dx/dt: Change in the House sales\n",
    "            (1 / avg_time_ac) * (x - y) # dx/dt: Change in the AC sales\n",
    "        ]\n",
    "        return dydt\n",
    "    \n",
    "    time = np.linspace(0, days, days * 10)\n",
    "    initial_conditions = [initial_houses, initial_ac]\n",
    "    solution = odeint(function, initial_conditions, time)\n",
    "\n",
    "    analysis = analyse(function)\n",
    "    damping_ratio = analysis.damping_ratio\n",
    "\n",
    "    #Graphic details\n",
    "    fig, ax = plt.subplots(figsize=(16, 5))\n",
    " \n",
    "    ax.plot(time, solution[:, 0], label='Houses(t)')\n",
    "    ax.plot(time, solution[:, 1], label='Air Conditionings(t)')\n",
    "    ax.plot((0, days), (total_houses, total_houses), label='Total Houses')\n",
    "    \n",
    "    if days <= 60:\n",
    "        step = 1\n",
    "        rotation = \"horizontal\"\n",
    "    elif days <= 300:\n",
    "        step = 5\n",
    "        rotation = \"vertical\"\n",
    "    else:\n",
    "        step = 10\n",
    "        rotation = \"vertical\"\n",
    "    \n",
    "    ax.set_xticks(np.arange(0, days + 1, step))\n",
    "    ax.set_xticklabels(np.arange(0, days + 1, step, dtype=int), rotation=rotation)\n",
    "    \n",
    "    ax.set_yticks(np.arange(0, total_houses * 1.1, total_houses / 20))\n",
    "\n",
    "    ax.set_xlim([0, days])\n",
    "    ax.set_ylim([0, total_houses * 1.1])\n",
    "    ax.set_xlabel('Months')\n",
    "    ax.set_ylabel('Units')\n",
    "    \n",
    "    handles, labels = ax.get_legend_handles_labels()\n",
    "    proxy_artist = mpatches.Rectangle((0, 0), 1, 1, alpha=0)\n",
    "    handles += [proxy_artist]\n",
    "    labels += [f\"Damping Ratio: $\\zeta={damping_ratio:.2f}$\"]\n",
    "    ax.legend(handles, labels, loc='best', ncol=4)\n",
    "    \n",
    "    plt.tight_layout()\n",
    "    plt.show()\n",
    "\n",
    "interact(main, initial_houses=IntSlider(min=0, max=2000, step=10, value=0, description='Initial sold Houses', style=style, layout=slider_layout),\n",
    "               initial_ac=IntSlider(min=0, max=2000, step=10, value=0, description='Initial sold AC', style=style, layout=slider_layout),\n",
    "               total_houses=IntSlider(min=1, max=2000, step=100, value=1000, description='Total Houses', style=style, layout=slider_layout),\n",
    "               avg_time_house=FloatSlider(min=0.1, max=24, step=0.1, value=2, description='Time for House', style=style, layout=slider_layout),\n",
    "               avg_time_ac=FloatSlider(min=0.1, max=24, step=0.1, value=4, description='Time for AC', style=style, layout=slider_layout),\n",
    "               days=IntSlider(min=1, max=360, step=10, value=30, description='Total Number of Days', style=style, layout=slider_layout),\n",
    "        );"
   ]
  },
  {
   "cell_type": "code",
   "execution_count": 14,
   "metadata": {},
   "outputs": [
    {
     "data": {
      "application/vnd.jupyter.widget-view+json": {
       "model_id": "35279a48e0fd4acf9dbc972162e6705f",
       "version_major": 2,
       "version_minor": 0
      },
      "text/plain": [
       "interactive(children=(FloatSlider(value=2.0, description='Time for House', layout=Layout(width='99%'), max=24.…"
      ]
     },
     "metadata": {},
     "output_type": "display_data"
    }
   ],
   "source": [
    "def main(avg_time_house, avg_time_ac, total_houses):\n",
    "\n",
    "    def function(s, time):\n",
    "        x, y = s\n",
    "        dydt = [\n",
    "            (1 / avg_time_house) * (total_houses - x), # dx/dt: Change in the House sales\n",
    "            (1 / avg_time_ac) * (x - y) # dx/dt: Change in the AC sales\n",
    "        ]\n",
    "        return dydt\n",
    "    \n",
    "    plot_field_and_nullclines(function, xlim=(900, 1100), ylim=(900, 1100), scale=.1, x_skip=10, y_skip=25)\n",
    "\n",
    "interact(\n",
    "    main, \n",
    "    total_houses=IntSlider(min=1, max=2000, step=100, value=1001, description='Total Houses', style=style, layout=slider_layout),           \n",
    "    avg_time_house=FloatSlider(min=0.1, max=24, step=0.1, value=2, description='Time for House', style=style, layout=slider_layout),           \n",
    "    avg_time_ac=FloatSlider(min=0.1, max=24, step=0.1, value=4, description='Time for AC', style=style, layout=slider_layout),           \n",
    ");"
   ]
  },
  {
   "cell_type": "markdown",
   "metadata": {},
   "source": [
    "# Stock Control"
   ]
  },
  {
   "cell_type": "code",
   "execution_count": 15,
   "metadata": {
    "ExecuteTime": {
     "end_time": "2020-10-19T15:27:33.661230Z",
     "start_time": "2020-10-19T15:27:32.288443Z"
    }
   },
   "outputs": [],
   "source": [
    "def main(desired_stock, initial_stock, initial_request, stock_control, market_demand, provider_delay, days):\n",
    "    \n",
    "    def function(v0, time):\n",
    "        x, y = v0\n",
    "        dydt = [\n",
    "            (1 / provider_delay) * y - market_demand, # dx/dt -> Change in Stock\n",
    "          - (1 / provider_delay) * y + market_demand + stock_control * (desired_stock - x) # dy/dt -> Change in Requests\n",
    "        ]\n",
    "        return dydt\n",
    "    \n",
    "    time = np.linspace(0, days, days * 10)\n",
    "    initial_conditions = [initial_stock, initial_request]\n",
    "    initial_stock_delta, initial_request_delta = function([initial_stock, initial_request], 0)\n",
    "    \n",
    "    solution = odeint(function, initial_conditions, time)\n",
    "    stocks, requests = solution.T\n",
    "\n",
    "    analysis_results = analyse(function)\n",
    "    stock_equilibrium = analysis_results.equilibrium_x\n",
    "    requests_equilibrium = analysis_results.equilibrium_y\n",
    "    \n",
    "\n",
    "    #Graphic details\n",
    "    fig, axes = plt.subplots(1, 2, figsize=(16, 8))\n",
    "\n",
    "    ax = axes[0]\n",
    "\n",
    "    \n",
    "    ax.plot(time, stocks, label='Stock(t)', color=\"royalblue\")\n",
    "    stock_upper_envelope, stock_lower_envelope = compute_envelope(time, x, initial_stock, stock_equilibrium, initial_stock_delta, analysis_results)\n",
    "    ax.plot(time, stock_upper_envelope, color=\"royalblue\", ls=\"--\")\n",
    "    ax.plot(time, stock_lower_envelope, color=\"royalblue\", ls=\"--\")\n",
    "\n",
    "    \n",
    "    ax.plot(time, requests, label='Requests(t)', color=\"firebrick\")\n",
    "    requests_upper_envelope, requests_lower_envelope = compute_envelope(time, y, initial_request, requests_equilibrium, initial_request_delta, analysis_results)\n",
    "    ax.plot(time, requests_upper_envelope, color=\"firebrick\", ls=\"--\")\n",
    "    ax.plot(time, requests_lower_envelope, color=\"firebrick\", ls=\"--\")\n",
    "    \n",
    "    ax.plot((0, days), (desired_stock, desired_stock), label='Desired Stock')\n",
    "    \n",
    "    if days <= 60:\n",
    "        step = 1\n",
    "        rotation = \"horizontal\"\n",
    "    elif days <= 300:\n",
    "        step = 5\n",
    "        rotation = \"vertical\"\n",
    "    else:\n",
    "        step = 10\n",
    "        rotation = \"vertical\"\n",
    "\n",
    "    ax.set_xticks(np.arange(0, days + 1, step))\n",
    "    ax.set_xticklabels(np.arange(0, days + 1, step, dtype=int), rotation=rotation)\n",
    "    \n",
    "    ax.set_xlim([0, days])\n",
    "    ax.set_ylim([0, solution.max() * 1.05])\n",
    "    ax.set_xlabel('Days')\n",
    "    ax.set_ylabel('Units')\n",
    "    \n",
    "    handles, labels = ax.get_legend_handles_labels()\n",
    "    proxy_artist = mpatches.Rectangle((0, 0), 1, 1, alpha=0)\n",
    "    handles += [proxy_artist]\n",
    "    labels += [f\"Damping Ratio: $\\zeta={float(analysis_results.damping_ratio):.2f}$\"]\n",
    "\n",
    "    proxy_artist = mpatches.Rectangle((0, 0), 1, 1, alpha=0)\n",
    "    handles += [proxy_artist]\n",
    "    labels += [f\"Decay Rate: $\\lambda={float(analysis_results.decay_rate):.2f}$\"]\n",
    "\n",
    "    proxy_artist = mpatches.Rectangle((0, 0), 1, 1, alpha=0)\n",
    "    handles += [proxy_artist]\n",
    "    labels += [f\"Natural Frequency: $\\omega_n={float(analysis_results.natural_frequency):.2f}$\"]\n",
    "    \n",
    "    ax.legend(handles, labels, loc='best')\n",
    "\n",
    "    ax = axes[1]\n",
    "\n",
    "    ax.plot(stocks, requests, label='Stocks vs Requests')\n",
    "    ax.set_xlabel('Stocks')\n",
    "    ax.set_ylabel('Requests')\n",
    "    ax.legend(loc='best')\n",
    "\n",
    "    plt.tight_layout()\n",
    "    plt.show()"
   ]
  },
  {
   "cell_type": "markdown",
   "metadata": {},
   "source": [
    "## Interactive"
   ]
  },
  {
   "cell_type": "code",
   "execution_count": 16,
   "metadata": {},
   "outputs": [
    {
     "data": {
      "application/vnd.jupyter.widget-view+json": {
       "model_id": "24d0d16bd20d4888ba8488bf8ce34481",
       "version_major": 2,
       "version_minor": 0
      },
      "text/plain": [
       "interactive(children=(IntSlider(value=5, description='Desired Stock', layout=Layout(width='99%'), min=1, style…"
      ]
     },
     "metadata": {},
     "output_type": "display_data"
    },
    {
     "data": {
      "image/png": "[encoded data removed]",
      "text/plain": [
       "<Figure size 1600x800 with 2 Axes>"
      ]
     },
     "metadata": {},
     "output_type": "display_data"
    }
   ],
   "source": [
    "interact(\n",
    "    main,\n",
    "    desired_stock=IntSlider(min=1, max=100, step=1, value=5, description='Desired Stock', style=style, layout=slider_layout),\n",
    "    initial_stock=IntSlider(min=1, max=100, step=1, value=10, description='Initial Stock', style=style, layout=slider_layout),\n",
    "    initial_request=IntSlider(min=1, max=100, step=1, value=20, description='Initial Requests', style=style, layout=slider_layout),\n",
    "    stock_control=FloatSlider(min=0, max=2, step=0.001, value=1, description='Stock Control', style=style, layout=slider_layout),\n",
    "    market_demand=FloatSlider(min=0, max=24, step=0.01, value=5, description='Market Demand', style=style, layout=slider_layout),\n",
    "    provider_delay=FloatSlider(min=0, max=10, step=0.1, value=5, description='Provider Delay', style=style, layout=slider_layout),\n",
    "    days=IntSlider(min=1, max=360, step=10, value=51, description='Total Number of Days', style=style, layout=slider_layout),\n",
    ");"
   ]
  },
  {
   "cell_type": "code",
   "execution_count": 17,
   "metadata": {},
   "outputs": [],
   "source": [
    "initial_request = 6\n",
    "initial_stock = 8\n",
    "days = 60"
   ]
  },
  {
   "cell_type": "markdown",
   "metadata": {},
   "source": [
    "## Underdamped"
   ]
  },
  {
   "cell_type": "code",
   "execution_count": 18,
   "metadata": {},
   "outputs": [
    {
     "ename": "NameError",
     "evalue": "name 'x' is not defined",
     "output_type": "error",
     "traceback": [
      "\u001b[1;31m---------------------------------------------------------------------------\u001b[0m",
      "\u001b[1;31mNameError\u001b[0m                                 Traceback (most recent call last)",
      "Cell \u001b[1;32mIn[18], line 1\u001b[0m\n\u001b[1;32m----> 1\u001b[0m \u001b[43mmain\u001b[49m\u001b[43m(\u001b[49m\n\u001b[0;32m      2\u001b[0m \u001b[43m    \u001b[49m\u001b[43mstock_control\u001b[49m\u001b[38;5;241;43m=\u001b[39;49m\u001b[38;5;241;43m2\u001b[39;49m\u001b[43m,\u001b[49m\n\u001b[0;32m      3\u001b[0m \u001b[43m    \u001b[49m\u001b[43mprovider_delay\u001b[49m\u001b[38;5;241;43m=\u001b[39;49m\u001b[38;5;241;43m4\u001b[39;49m\u001b[43m,\u001b[49m\n\u001b[0;32m      4\u001b[0m \u001b[43m    \u001b[49m\u001b[43mdesired_stock\u001b[49m\u001b[38;5;241;43m=\u001b[39;49m\u001b[38;5;241;43m15\u001b[39;49m\u001b[43m,\u001b[49m\n\u001b[0;32m      5\u001b[0m \u001b[43m    \u001b[49m\u001b[43mmarket_demand\u001b[49m\u001b[38;5;241;43m=\u001b[39;49m\u001b[38;5;241;43m10\u001b[39;49m\u001b[43m,\u001b[49m\n\u001b[0;32m      6\u001b[0m \u001b[43m    \u001b[49m\u001b[43minitial_request\u001b[49m\u001b[38;5;241;43m=\u001b[39;49m\u001b[43minitial_request\u001b[49m\u001b[43m,\u001b[49m\n\u001b[0;32m      7\u001b[0m \u001b[43m    \u001b[49m\u001b[43minitial_stock\u001b[49m\u001b[38;5;241;43m=\u001b[39;49m\u001b[43minitial_stock\u001b[49m\u001b[43m,\u001b[49m\n\u001b[0;32m      8\u001b[0m \u001b[43m    \u001b[49m\u001b[43mdays\u001b[49m\u001b[38;5;241;43m=\u001b[39;49m\u001b[43mdays\u001b[49m\u001b[43m,\u001b[49m\n\u001b[0;32m      9\u001b[0m \u001b[43m)\u001b[49m;\n",
      "Cell \u001b[1;32mIn[15], line 30\u001b[0m, in \u001b[0;36mmain\u001b[1;34m(desired_stock, initial_stock, initial_request, stock_control, market_demand, provider_delay, days)\u001b[0m\n\u001b[0;32m     26\u001b[0m ax \u001b[38;5;241m=\u001b[39m axes[\u001b[38;5;241m0\u001b[39m]\n\u001b[0;32m     29\u001b[0m ax\u001b[38;5;241m.\u001b[39mplot(time, stocks, label\u001b[38;5;241m=\u001b[39m\u001b[38;5;124m'\u001b[39m\u001b[38;5;124mStock(t)\u001b[39m\u001b[38;5;124m'\u001b[39m, color\u001b[38;5;241m=\u001b[39m\u001b[38;5;124m\"\u001b[39m\u001b[38;5;124mroyalblue\u001b[39m\u001b[38;5;124m\"\u001b[39m)\n\u001b[1;32m---> 30\u001b[0m stock_upper_envelope, stock_lower_envelope \u001b[38;5;241m=\u001b[39m compute_envelope(time, \u001b[43mx\u001b[49m, initial_stock, stock_equilibrium, initial_stock_delta, analysis_results)\n\u001b[0;32m     31\u001b[0m ax\u001b[38;5;241m.\u001b[39mplot(time, stock_upper_envelope, color\u001b[38;5;241m=\u001b[39m\u001b[38;5;124m\"\u001b[39m\u001b[38;5;124mroyalblue\u001b[39m\u001b[38;5;124m\"\u001b[39m, ls\u001b[38;5;241m=\u001b[39m\u001b[38;5;124m\"\u001b[39m\u001b[38;5;124m--\u001b[39m\u001b[38;5;124m\"\u001b[39m)\n\u001b[0;32m     32\u001b[0m ax\u001b[38;5;241m.\u001b[39mplot(time, stock_lower_envelope, color\u001b[38;5;241m=\u001b[39m\u001b[38;5;124m\"\u001b[39m\u001b[38;5;124mroyalblue\u001b[39m\u001b[38;5;124m\"\u001b[39m, ls\u001b[38;5;241m=\u001b[39m\u001b[38;5;124m\"\u001b[39m\u001b[38;5;124m--\u001b[39m\u001b[38;5;124m\"\u001b[39m)\n",
      "\u001b[1;31mNameError\u001b[0m: name 'x' is not defined"
     ]
    },
    {
     "data": {
      "image/png": "[encoded data removed]",
      "text/plain": [
       "<Figure size 1600x800 with 2 Axes>"
      ]
     },
     "metadata": {},
     "output_type": "display_data"
    }
   ],
   "source": [
    "main(\n",
    "    stock_control=2,\n",
    "    provider_delay=4,\n",
    "    desired_stock=15,\n",
    "    market_demand=10,\n",
    "    initial_request=initial_request,\n",
    "    initial_stock=initial_stock,\n",
    "    days=days,\n",
    ");"
   ]
  },
  {
   "cell_type": "markdown",
   "metadata": {},
   "source": [
    "## Critically Damped"
   ]
  },
  {
   "cell_type": "code",
   "execution_count": null,
   "metadata": {},
   "outputs": [],
   "source": [
    "main(\n",
    "    stock_control=0.04,\n",
    "    provider_delay=4,\n",
    "    desired_stock=25,\n",
    "    market_demand=10,\n",
    "    initial_request=initial_request,\n",
    "    initial_stock=30,\n",
    "    days=days,\n",
    ");"
   ]
  },
  {
   "cell_type": "markdown",
   "metadata": {},
   "source": [
    "## Critically Damped - Special Case - Equilibrium at same point\n",
    "\n",
    "This happpens when the desired stock is the same value as the equilibrium point of the requests"
   ]
  },
  {
   "cell_type": "code",
   "execution_count": null,
   "metadata": {},
   "outputs": [],
   "source": [
    "main(\n",
    "    stock_control=0.04,\n",
    "    provider_delay=4,\n",
    "    desired_stock=40,\n",
    "    market_demand=10,\n",
    "    initial_request=initial_request,\n",
    "    initial_stock=30,\n",
    "    days=days*2,\n",
    ");"
   ]
  },
  {
   "cell_type": "markdown",
   "metadata": {},
   "source": [
    "## Real Condition - Two degrees of freedom fewer\n",
    "\n",
    "Provider delay and market demand are outside of the control of the system\n",
    "\n",
    "If those values are fixed, can critically damped behaviour be achieved?"
   ]
  },
  {
   "cell_type": "code",
   "execution_count": null,
   "metadata": {},
   "outputs": [],
   "source": [
    "provider_delay = 10\n",
    "market_demand = 10"
   ]
  },
  {
   "cell_type": "markdown",
   "metadata": {},
   "source": [
    "### Underdamped"
   ]
  },
  {
   "cell_type": "code",
   "execution_count": null,
   "metadata": {},
   "outputs": [],
   "source": [
    "main(\n",
    "    stock_control=0.3,\n",
    "    provider_delay=provider_delay,\n",
    "    desired_stock=50,\n",
    "    market_demand=market_demand,\n",
    "    initial_request=initial_request,\n",
    "    initial_stock=30,\n",
    "    days=days,\n",
    ");"
   ]
  },
  {
   "cell_type": "markdown",
   "metadata": {},
   "source": [
    "### Critically Damped"
   ]
  },
  {
   "cell_type": "code",
   "execution_count": null,
   "metadata": {},
   "outputs": [],
   "source": [
    "main(\n",
    "    stock_control=0.025,\n",
    "    provider_delay=provider_delay,\n",
    "    desired_stock=50,\n",
    "    market_demand=market_demand,\n",
    "    initial_request=initial_request,\n",
    "    initial_stock=100,\n",
    "    days=days*3,\n",
    ");"
   ]
  },
  {
   "cell_type": "markdown",
   "metadata": {},
   "source": [
    "### Automatic Computation"
   ]
  },
  {
   "cell_type": "code",
   "execution_count": null,
   "metadata": {},
   "outputs": [],
   "source": [
    "def safe_solve(equation: sy.Eq, initial_points: np.ndarray[float] = np.logspace(-4, 1, 20)) -> float:\n",
    "    \"\"\"Solves an equation with multiple initial points, skiping the ones that failed and returns the maxima)\"\"\"\n",
    "    best = initial_points[0]\n",
    "    for initial in initial_points:\n",
    "        try:\n",
    "            solution = sy.nsolve(equation, initial)\n",
    "            best = max(best, solution)\n",
    "        except:\n",
    "            continue\n",
    "    return best"
   ]
  },
  {
   "cell_type": "code",
   "execution_count": null,
   "metadata": {},
   "outputs": [],
   "source": [
    "def compute_with_automatic_control(provider_delay: float, market_demand: float, desired_stock: int, initial_stock: int, days: int) -> None:\n",
    "    stock_control = sy.symbols('stock_control', positive=True)\n",
    "\n",
    "    def function(s, time):\n",
    "        x, y = s\n",
    "        dydt = [\n",
    "            (1 / provider_delay) * y - market_demand, # dx/dt -> Change in Stock\n",
    "          - (1 / provider_delay) * y + market_demand + stock_control * (desired_stock - x) # dy/dt -> Change in Requests\n",
    "        ]\n",
    "        return dydt\n",
    "\n",
    "    damping_ratio = analyse(function)[\"damping_ratio\"]\n",
    "    stock_control = safe_solve(sy.Eq(damping_ratio, 1))\n",
    "\n",
    "    print(f\"{stock_control = }\")\n",
    "    main(\n",
    "        stock_control=stock_control,\n",
    "        provider_delay=provider_delay,\n",
    "        desired_stock=desired_stock,\n",
    "        market_demand=market_demand,\n",
    "        initial_request=initial_request,\n",
    "        initial_stock=initial_stock,\n",
    "        days=days,\n",
    "    );"
   ]
  },
  {
   "cell_type": "code",
   "execution_count": null,
   "metadata": {},
   "outputs": [],
   "source": [
    "interact(\n",
    "    compute_with_automatic_control,\n",
    "    desired_stock=IntSlider(min=1, max=200, step=1, value=50, description='Desired Stock', style=style, layout=slider_layout),\n",
    "    initial_stock=IntSlider(min=1, max=200, step=1, value=100, description='Initial Stock', style=style, layout=slider_layout),\n",
    "    initial_request=IntSlider(min=1, max=200, step=1, value=14, description='Initial Requests', style=style, layout=slider_layout),\n",
    "    market_demand=FloatSlider(min=0, max=50, step=0.5, value=10, description='Market Demand', style=style, layout=slider_layout),\n",
    "    provider_delay=FloatSlider(min=0, max=50, step=0.5, value=10, description='Provider Delay', style=style, layout=slider_layout),\n",
    "    days=IntSlider(min=1, max=360, step=10, value=180, description='Total Number of Days', style=style, layout=slider_layout),\n",
    ");"
   ]
  },
  {
   "cell_type": "markdown",
   "metadata": {},
   "source": [
    "## NullClines"
   ]
  },
  {
   "cell_type": "code",
   "execution_count": null,
   "metadata": {},
   "outputs": [],
   "source": [
    "def main(desired_stock, stock_control, market_demand, provider_delay):\n",
    "\n",
    "    def function(v0, time):\n",
    "        x, y = v0\n",
    "        dydt = [\n",
    "            (1 / provider_delay) * y - market_demand, # dx/dt -> Change in Stock\n",
    "          - (1 / provider_delay) * y + market_demand + stock_control * (desired_stock - x) # dy/dt -> Change in Requests\n",
    "        ]\n",
    "        return dydt\n",
    "\n",
    "    plot_field_and_nullclines(function, scale=.5, x_skip=20, y_skip=10)\n",
    "\n",
    "interact(\n",
    "    main,\n",
    "    desired_stock=IntSlider(min=1, max=100, step=1, value=25, description='Desired Stock', style=style, layout=slider_layout),\n",
    "    stock_control=FloatSlider(min=0, max=5, step=0.001, value=1, description='Stock Control', style=style, layout=slider_layout),\n",
    "    market_demand=FloatSlider(min=0, max=9, step=0.01, value=5, description='Market Demand', style=style, layout=slider_layout),\n",
    "    provider_delay=FloatSlider(min=0, max=10, step=0.1, value=5, description='Provider Delay', style=style, layout=slider_layout),\n",
    ");"
   ]
  },
  {
   "cell_type": "markdown",
   "metadata": {
    "jp-MarkdownHeadingCollapsed": true
   },
   "source": [
    "# Useful life"
   ]
  },
  {
   "cell_type": "code",
   "execution_count": null,
   "metadata": {
    "ExecuteTime": {
     "end_time": "2020-10-19T15:27:34.587082Z",
     "start_time": "2020-10-19T15:27:33.665227Z"
    }
   },
   "outputs": [],
   "source": [
    "def main(useful_life, intake_mg, intake_interval, intake_number, hours):\n",
    "    \n",
    "    def function(y, t):\n",
    "        return - (np.log(2) / useful_life) * y # dy/dt -> Change of mg \n",
    "    \n",
    "    intake_hours = [intake_interval * i for i in range(intake_number - 1)]\n",
    "    initial_condition = intake_mg\n",
    "    times = []\n",
    "    solutions = []\n",
    "    \n",
    "    for intake_time in intake_hours:\n",
    "        time = np.arange(intake_time, intake_time + intake_interval, 0.1)\n",
    "        solution = odeint(function, initial_condition, time)\n",
    "        \n",
    "        initial_condition = solution[-1] + intake_mg\n",
    "        \n",
    "        times.extend(time)\n",
    "        solutions.extend(solution)\n",
    "        \n",
    "    \n",
    "    intake_time = intake_hours[-1] + intake_interval\n",
    "    time = np.arange(intake_time, intake_time + 10 * intake_interval, 0.1)\n",
    "    solution = odeint(function, initial_condition, time)\n",
    "    times.extend(time)\n",
    "    solutions.extend(solution)\n",
    "    \n",
    "    #Graphic details\n",
    "    fig, ax = plt.subplots(figsize=(16, 5))\n",
    "    \n",
    "    plt.plot(times, solutions, label='Concentration in the Body(t)')\n",
    "    \n",
    "    if hours <= 60:\n",
    "        step = 1\n",
    "        rotation = \"horizontal\"\n",
    "    elif hours <= 300:\n",
    "        step = 5\n",
    "        rotation = \"vertical\"\n",
    "    else:\n",
    "        step = 10\n",
    "        rotation = \"vertical\"\n",
    "    \n",
    "    ax.set_xticks(np.arange(0, hours + 1, step))\n",
    "    ax.set_xticklabels(np.arange(0, hours + 1, step, dtype=int), rotation=rotation)\n",
    "    \n",
    "    ax.set_xlim([0, hours])\n",
    "    ax.set_ylim([0, max(solutions) * 1.05])\n",
    "    ax.set_xlabel('Hours')\n",
    "    ax.set_ylabel('Concentration')\n",
    "    ax.legend(loc='best')\n",
    "    \n",
    "    plt.tight_layout()\n",
    "    plt.show()\n",
    "\n",
    "interact(main,        \n",
    "        useful_life=FloatSlider(min=0, max=24, step=0.01, value=3.8, description='Useful Life (hs)', style=style, layout=slider_layout),\n",
    "        intake_mg=FloatSlider(min=0, max=1, step=0.001, value=0.01, description='Miligrams per Intake', style=style, layout=slider_layout),\n",
    "        intake_interval=FloatSlider(min=0, max=24, step=0.1, value=6, description='Hours between Intakes', style=style, layout=slider_layout),\n",
    "        intake_number=IntSlider(min=1, max=20, step=1, value=4, description='Number of Intakes', style=style, layout=slider_layout),\n",
    "        hours=FloatSlider(min=1, max=240, step=0.5, value=40, description='Total number of Hours', style=style, layout=slider_layout),\n",
    "        );"
   ]
  },
  {
   "cell_type": "markdown",
   "metadata": {},
   "source": [
    "# Foxes and Rabbits"
   ]
  },
  {
   "cell_type": "markdown",
   "metadata": {},
   "source": [
    "## Lotka–Volterra"
   ]
  },
  {
   "cell_type": "code",
   "execution_count": null,
   "metadata": {
    "ExecuteTime": {
     "end_time": "2020-10-19T15:27:35.947868Z",
     "start_time": "2020-10-19T15:27:34.591083Z"
    }
   },
   "outputs": [],
   "source": [
    "def main(rabbits_birthrate, rabbits_deathrate, foxes_birthrate, foxes_deathrate, initial_rabbits, initial_foxes, days):\n",
    "\n",
    "    def function(s, t):\n",
    "        x, y = s\n",
    "        dydt = [\n",
    "            rabbits_birthrate * x - rabbits_deathrate * x * y, # dx/dy -> Change in Rabbits\n",
    "            foxes_birthrate * x * y - foxes_deathrate * y # dy/dt -> Change in Foxes\n",
    "        ]\n",
    "        \n",
    "        return dydt\n",
    "    \n",
    "    time = np.arange(0, days, 0.1)\n",
    "    initial_conditions = [initial_rabbits, initial_foxes]\n",
    "    solution = odeint(function, initial_conditions, time)\n",
    "\n",
    "    rabbits, foxes = solution.T\n",
    "\n",
    "    analysis = analyse(function)\n",
    "    damping_ratio = analysis[\"damping_ratio\"]\n",
    "\n",
    "    #Graphic details\n",
    "    fig, axes = plt.subplots(1, 2, figsize=(16, 8))\n",
    "    \n",
    "    ax = axes[0]\n",
    "    \n",
    "    ax.plot(time, rabbits, label='Rabbits(t)')\n",
    "    ax.plot(time, foxes, label='Foxes(t)')\n",
    "    \n",
    "    if days <= 30:\n",
    "        step = 1\n",
    "        rotation = \"horizontal\"\n",
    "    elif days <= 150:\n",
    "        step = 5\n",
    "        rotation = \"vertical\"\n",
    "    else:\n",
    "        step = 10\n",
    "        rotation = \"vertical\"\n",
    "    \n",
    "    ax.set_xticks(np.arange(0, days + 1, step))\n",
    "    ax.set_xticklabels(np.arange(0, days + 1, step, dtype=int), rotation=rotation)\n",
    "        \n",
    "    ax.set_xlim([0, days])\n",
    "    ax.set_xlabel('Time')\n",
    "    ax.set_ylabel('Population')\n",
    "\n",
    "    handles, labels = ax.get_legend_handles_labels()\n",
    "    proxy_artist = mpatches.Rectangle((0, 0), 1, 1, alpha=0)\n",
    "    handles += [proxy_artist]\n",
    "    labels += [f\"Damping Ratio: $\\zeta={damping_ratio:.2f}$\"]\n",
    "    ax.legend(handles, labels, loc='best')\n",
    "    \n",
    "    \n",
    "    ax = axes[1]\n",
    "    \n",
    "    ax.plot(rabbits, foxes, label='Foxes vs Rabbits')\n",
    "\n",
    "    ax.set_xlabel('Rabbits')\n",
    "    ax.set_ylabel('Foxes')\n",
    "    ax.legend(loc='best')\n",
    "    \n",
    "    plt.tight_layout()\n",
    "    plt.show()\n",
    "\n",
    "    \n",
    "interact(main, rabbits_birthrate=FloatSlider(min=0, max=1, step=0.001, value=0.09, description='Birth Rate of Rabbits', style=style, layout=slider_layout),\n",
    "               rabbits_deathrate=FloatSlider(min=0, max=1, step=0.000005, value=5.5e-5, description='Death Rate of Rabbits', style=style, layout=slider_layout),\n",
    "               foxes_birthrate=FloatSlider(min=0, max=1, step=0.0000001, value=0.0003, description='Birth Rate of Foxes', style=style, layout=slider_layout),\n",
    "               foxes_deathrate=FloatSlider(min=0, max=1, step=0.0005, value=0.936, description='Death Rate of Foxes', style=style, layout=slider_layout),\n",
    "               initial_rabbits=FloatSlider(min=0 , max=10000, step=1, value=3000, description='Initial Rabbits', style=style, layout=slider_layout),\n",
    "               initial_foxes=FloatSlider(min=0 , max=10000, step=25, value=1800, description='Initial Foxes', style=style, layout=slider_layout),\n",
    "               days=FloatSlider(min=0 ,max=365 , step=10, value=360, description='Total number of Days', style=style, layout=slider_layout),\n",
    "        );"
   ]
  },
  {
   "cell_type": "markdown",
   "metadata": {},
   "source": [
    "### Analysis"
   ]
  },
  {
   "cell_type": "code",
   "execution_count": null,
   "metadata": {},
   "outputs": [],
   "source": [
    "rabbits_birthrate, rabbits_deathrate, foxes_birthrate, foxes_deathrate = sy.symbols('rabbits_birthrate, rabbits_deathrate, foxes_birthrate, foxes_deathrate', positive=True)\n",
    "\n",
    "def function(s, t):\n",
    "    x, y = s\n",
    "    dydt = [\n",
    "        rabbits_birthrate * x - rabbits_deathrate * x * y, # dx/dy -> Change in Rabbits\n",
    "        foxes_birthrate * x * y - foxes_deathrate * y # dy/dt -> Change in Foxes\n",
    "    ]\n",
    "    \n",
    "    return dydt"
   ]
  },
  {
   "cell_type": "code",
   "execution_count": null,
   "metadata": {},
   "outputs": [],
   "source": [
    "analyse(function)"
   ]
  },
  {
   "cell_type": "markdown",
   "metadata": {},
   "source": [
    "### Undamped"
   ]
  },
  {
   "cell_type": "code",
   "execution_count": null,
   "metadata": {},
   "outputs": [],
   "source": [
    "main(\n",
    "    rabbits_birthrate=0.1,\n",
    "    rabbits_deathrate=5.5e-5,\n",
    "    foxes_birthrate=3.1e-4,\n",
    "    foxes_deathrate=1,\n",
    "    initial_rabbits=3000,\n",
    "    initial_foxes=1800,\n",
    "    days=360,\n",
    ");"
   ]
  },
  {
   "cell_type": "markdown",
   "metadata": {},
   "source": [
    "### Underdamped"
   ]
  },
  {
   "cell_type": "code",
   "execution_count": null,
   "metadata": {},
   "outputs": [],
   "source": [
    "main(\n",
    "    rabbits_birthrate=0.1,\n",
    "    rabbits_deathrate=5.5e-5,\n",
    "    foxes_birthrate=3.1e-4,\n",
    "    foxes_deathrate=1,\n",
    "    initial_rabbits=3000,\n",
    "    initial_foxes=1800,\n",
    "    days=360,\n",
    ");"
   ]
  },
  {
   "cell_type": "markdown",
   "metadata": {
    "jp-MarkdownHeadingCollapsed": true
   },
   "source": [
    "### Nullclines"
   ]
  },
  {
   "cell_type": "code",
   "execution_count": null,
   "metadata": {},
   "outputs": [],
   "source": [
    "def main(rabbits_birthrate, rabbits_deathrate, foxes_birthrate, foxes_deathrate):\n",
    "\n",
    "    def function(s, t):\n",
    "        x, y = s\n",
    "        dydt = [\n",
    "            rabbits_birthrate * x - rabbits_deathrate * x * y, # dx/dy -> Change in Rabbits\n",
    "            foxes_birthrate * x * y - foxes_deathrate * y # dy/dt -> Change in Foxes\n",
    "        ]\n",
    "        \n",
    "        return dydt\n",
    "\n",
    "    plot_field_and_nullclines(function, xlim=(2970, 3270), ylim=(1500, 1800), scale=.1, x_skip=20, y_skip=5)\n",
    "\n",
    "interact(\n",
    "    main, \n",
    "    rabbits_birthrate=FloatSlider(min=0, max=1, step=0.001, value=0.09, description='Birth Rate of Rabbits', style=style, layout=slider_layout),\n",
    "    rabbits_deathrate=FloatSlider(min=0, max=1, step=0.000005, value=5.5e-5, description='Death Rate of Rabbits', style=style, layout=slider_layout),\n",
    "    foxes_birthrate=FloatSlider(min=0, max=1, step=0.0000001, value=0.0003, description='Birth Rate of Foxes', style=style, layout=slider_layout),\n",
    "    foxes_deathrate=FloatSlider(min=0, max=1, step=0.0005, value=0.936, description='Death Rate of Foxes', style=style, layout=slider_layout),\n",
    ");"
   ]
  },
  {
   "cell_type": "markdown",
   "metadata": {
    "jp-MarkdownHeadingCollapsed": true
   },
   "source": [
    "## Lotka–Volterra with bounded Growth"
   ]
  },
  {
   "cell_type": "code",
   "execution_count": null,
   "metadata": {
    "ExecuteTime": {
     "end_time": "2020-10-19T15:27:37.368644Z",
     "start_time": "2020-10-19T15:27:35.955866Z"
    }
   },
   "outputs": [],
   "source": [
    "def main(rabbits_birthrate, rabbits_deathrate, \n",
    "         foxes_birthrate, foxes_deathrate, \n",
    "         maximal_rabbits, initial_rabbits, initial_foxes, days):\n",
    "\n",
    "    def function(s, t):\n",
    "        x, y = s\n",
    "        dydt = [\n",
    "            rabbits_birthrate * x - rabbits_birthrate / maximal_rabbits * x**2 - rabbits_deathrate * x * y, # dx/dy -> Change in Rabbits \n",
    "            foxes_birthrate * x * y - foxes_deathrate * y # dy/dt -> Change in Foxes\n",
    "        ]\n",
    "        \n",
    "        return dydt\n",
    "    \n",
    "    time = np.arange(0, days, 0.1)\n",
    "    initial_conditions = [initial_rabbits, initial_foxes]\n",
    "    solution = odeint(function, initial_conditions, time)\n",
    "    \n",
    "    rabbits = solution[:, 0]\n",
    "    foxes = solution[:, 1]\n",
    "\n",
    "    #Graphic details\n",
    "    fig, axes = plt.subplots(1, 2, figsize=(16, 8))\n",
    "    \n",
    "    ax = axes[0]\n",
    "    \n",
    "    ax.plot(time, rabbits, label='Rabbits(t)')\n",
    "    ax.plot(time, foxes, label='Foxes(t)')\n",
    "    \n",
    "    if days <= 30:\n",
    "        step = 1\n",
    "        rotation = \"horizontal\"\n",
    "    elif days <= 150:\n",
    "        step = 5\n",
    "        rotation = \"vertical\"\n",
    "    else:\n",
    "        step = 10\n",
    "        rotation = \"vertical\"\n",
    "\n",
    "    ax.set_xticks(np.arange(0, days + 1, step))\n",
    "    ax.set_xticklabels(np.arange(0, days + 1, step, dtype=int), rotation=rotation)\n",
    "        \n",
    "    ax.set_xlim([0, days])\n",
    "    ax.set_xlabel('Time')\n",
    "    ax.set_ylabel('Population')\n",
    "    ax.legend(loc='best')\n",
    "    \n",
    "    ax = axes[1]\n",
    "    \n",
    "    ax.plot(rabbits, foxes, label='Foxes vs Rabbits')\n",
    "\n",
    "    ax.set_xlabel('Rabbits')\n",
    "    ax.set_ylabel('Foxes')\n",
    "    ax.legend(loc='best')\n",
    "    \n",
    "    plt.tight_layout()\n",
    "    plt.show()\n",
    "\n",
    "interact(main, rabbits_birthrate=FloatSlider(min=0, max=1, step=0.001, value=0.09, description='Birth Rate of Rabbits', style=style, layout=slider_layout),\n",
    "               rabbits_deathrate=FloatSlider(min=0, max=0.005, step=0.000005, value=5.5e-5, description='Death Rate of Rabbits', style=style, layout=slider_layout),\n",
    "               foxes_birthrate=FloatSlider(min=0, max=0.003, step=0.0000001, value=0.0003, description='Birth Rate of Foxes', style=style, layout=slider_layout),\n",
    "               foxes_deathrate=FloatSlider(min=0, max=1, step=0.0005, value=0.936, description='Death Rate of Foxes', style=style, layout=slider_layout),\n",
    "               initial_rabbits=FloatSlider(min=0 , max=10000, step=1, value=3000, description='Initial Rabbits', style=style, layout=slider_layout),\n",
    "               initial_foxes=FloatSlider(min=0 , max=10000, step=25, value=1800, description='Initial Foxes', style=style, layout=slider_layout),\n",
    "               maximal_rabbits=FloatSlider(min=0 , max=10000, step=100, value=10000, description='Maximal Rabbits', style=style, layout=slider_layout),\n",
    "               days=FloatSlider(min=0 ,max=365 , step=10, value=360, description='Total number of Days', style=style, layout=slider_layout),\n",
    "        );"
   ]
  },
  {
   "cell_type": "code",
   "execution_count": null,
   "metadata": {},
   "outputs": [],
   "source": [
    "rabbits_birthrate, rabbits_deathrate, foxes_birthrate, foxes_deathrate, maximal_rabbits = sy.symbols('rabbits_birthrate, rabbits_deathrate, foxes_birthrate, foxes_deathrate, maximal_rabbits', positive=True)\n",
    "\n",
    "def function(s, t):\n",
    "    x, y = s\n",
    "    dydt = [\n",
    "        rabbits_birthrate * x - rabbits_birthrate / maximal_rabbits * x**2 - rabbits_deathrate * x * y, # dx/dy -> Change in Rabbits \n",
    "        foxes_birthrate * x * y - foxes_deathrate * y # dy/dt -> Change in Foxes\n",
    "    ]\n",
    "    \n",
    "    return dydt"
   ]
  },
  {
   "cell_type": "code",
   "execution_count": null,
   "metadata": {},
   "outputs": [],
   "source": [
    "# damping_ratio = analyse(function)[\"damping_ratio\"]"
   ]
  },
  {
   "cell_type": "code",
   "execution_count": null,
   "metadata": {},
   "outputs": [],
   "source": [
    "# damping_substitution = damping_ratio.subs({\n",
    "#     # rabbits_birthrate: 0.1,\n",
    "#     rabbits_deathrate:5.5e-5,\n",
    "#     foxes_birthrate: 3.1e-4,\n",
    "#     foxes_deathrate: 1,\n",
    "#     maximal_rabbits: 10000\n",
    "# })\n",
    "# damping_substitution"
   ]
  },
  {
   "cell_type": "code",
   "execution_count": null,
   "metadata": {},
   "outputs": [],
   "source": [
    "# n, d = sy.fraction(damping_substitution)\n",
    "# n"
   ]
  },
  {
   "cell_type": "code",
   "execution_count": null,
   "metadata": {},
   "outputs": [],
   "source": [
    "# sy.nsolve(sy.Eq(n, 0.001), rabbits_birthrate, 0.4)"
   ]
  },
  {
   "cell_type": "code",
   "execution_count": null,
   "metadata": {},
   "outputs": [],
   "source": [
    "# sy.nsolve(sy.Eq(d, 0.001), rabbits_birthrate, 5)"
   ]
  },
  {
   "cell_type": "code",
   "execution_count": null,
   "metadata": {},
   "outputs": [],
   "source": [
    "# damping_substitution >= 1"
   ]
  },
  {
   "cell_type": "code",
   "execution_count": null,
   "metadata": {},
   "outputs": [],
   "source": [
    "# sy.reduce_inequalities([damping_substitution >= 1], rabbits_birthrate)"
   ]
  },
  {
   "cell_type": "code",
   "execution_count": null,
   "metadata": {},
   "outputs": [],
   "source": [
    "# sy.nsolve(damping_substitution >= 1, rabbits_birthrate)"
   ]
  },
  {
   "cell_type": "code",
   "execution_count": null,
   "metadata": {},
   "outputs": [],
   "source": [
    "main(\n",
    "    rabbits_birthrate=0.1,\n",
    "    rabbits_deathrate=5.5e-5,\n",
    "    foxes_birthrate=3.1e-4,\n",
    "    foxes_deathrate=1,\n",
    "    initial_rabbits=3000,\n",
    "    initial_foxes=1800,\n",
    "    maximal_rabbits=10000,\n",
    "    days=360,\n",
    ");"
   ]
  },
  {
   "cell_type": "markdown",
   "metadata": {},
   "source": [
    "### Nullclines"
   ]
  },
  {
   "cell_type": "code",
   "execution_count": null,
   "metadata": {},
   "outputs": [],
   "source": [
    "def main(\n",
    "    rabbits_birthrate: float, \n",
    "    rabbits_deathrate: float, \n",
    "    foxes_birthrate: float, \n",
    "    foxes_deathrate: float, \n",
    "    maximal_rabbits: int, \n",
    "):\n",
    "\n",
    "    def function(s, t):\n",
    "        x, y = s\n",
    "        dydt = [\n",
    "            rabbits_birthrate * x - rabbits_birthrate / maximal_rabbits * x**2 - rabbits_deathrate * x * y, # dx/dy -> Change in Rabbits \n",
    "            foxes_birthrate * x * y - foxes_deathrate * y # dy/dt -> Change in Foxes\n",
    "        ]\n",
    "        \n",
    "        return dydt\n",
    "    \n",
    "    plot_field_and_nullclines(function, xlim=(2970, 3270), ylim=(975, 1275), scale=.1, x_skip=20, y_skip=2)\n",
    "\n",
    "interact(\n",
    "    main, \n",
    "    rabbits_birthrate=FloatSlider(min=0, max=1, step=0.001, value=0.09, description='Birth Rate of Rabbits', style=style, layout=slider_layout),           \n",
    "    rabbits_deathrate=FloatSlider(min=0, max=0.005, step=0.000005, value=5.5e-5, description='Death Rate of Rabbits', style=style, layout=slider_layout),           \n",
    "    foxes_birthrate=FloatSlider(min=0, max=0.003, step=0.0000001, value=0.0003, description='Birth Rate of Foxes', style=style, layout=slider_layout),           \n",
    "    foxes_deathrate=FloatSlider(min=0, max=1, step=0.0005, value=0.936, description='Death Rate of Foxes', style=style, layout=slider_layout),           \n",
    "    maximal_rabbits=FloatSlider(min=0 , max=10000, step=100, value=10000, description='Maximal Rabbits', style=style, layout=slider_layout),           \n",
    ");"
   ]
  },
  {
   "cell_type": "markdown",
   "metadata": {},
   "source": [
    "## R. M. May's Model"
   ]
  },
  {
   "cell_type": "code",
   "execution_count": null,
   "metadata": {
    "ExecuteTime": {
     "end_time": "2020-10-19T15:27:38.771427Z",
     "start_time": "2020-10-19T15:27:37.373645Z"
    }
   },
   "outputs": [],
   "source": [
    "def main(rabbits_birthrate, maximal_rabbits, rabbits_deathrate, predator_efficiency, foxes_birthrate, food_efficiency, initial_rabbits, initial_foxes, days):\n",
    "\n",
    "    def function(s, t):\n",
    "        x, y = s\n",
    "        dydt = [\n",
    "            rabbits_birthrate * x * (1 - x / maximal_rabbits) - (rabbits_deathrate * x * y) / (x + predator_efficiency), # dx/dy -> Change in Rabbits\n",
    "            foxes_birthrate * y * (1 - y / (food_efficiency * x)) # dy/dt -> Change in Foxes\n",
    "        ]\n",
    "        \n",
    "        return dydt\n",
    "    \n",
    "    time = np.arange(0, days, 0.05)\n",
    "    initial_conditions = [initial_rabbits, initial_foxes]\n",
    "    solution = odeint(function, initial_conditions, time)\n",
    "\n",
    "    rabbits = solution[:, 0]\n",
    "    foxes = solution[:, 1]\n",
    "\n",
    "    fig, axes = plt.subplots(1, 2, figsize=(16, 7))\n",
    "    \n",
    "    ax = axes[0]\n",
    "    \n",
    "    ax.plot(time, rabbits, label='Rabbits(t)')\n",
    "    ax.plot(time, foxes, label='Foxes(t)')\n",
    "    \n",
    "    if days <= 30:\n",
    "        step = 1\n",
    "        rotation = \"horizontal\"\n",
    "    elif days <= 150:\n",
    "        step = 5\n",
    "        rotation = \"vertical\"\n",
    "    else:\n",
    "        step = 10\n",
    "        rotation = \"vertical\"\n",
    "    \n",
    "    ax.set_xticks(np.arange(0, days + 1, step))\n",
    "    ax.set_xticklabels(np.arange(0, days + 1, step, dtype=int), rotation=rotation)\n",
    "        \n",
    "    ax.set_xlim([0, days])\n",
    "    ax.set_xlabel('Time')\n",
    "    ax.set_ylabel('Population')\n",
    "    ax.legend(loc='best')\n",
    "    \n",
    "    ax = axes[1]\n",
    "    \n",
    "    ax.plot(rabbits, foxes, label='Foxes vs Rabbits')\n",
    "\n",
    "    ax.set_xlabel('Rabbits')\n",
    "    ax.set_ylabel('Foxes')\n",
    "    ax.legend(loc='best')\n",
    "    \n",
    "    plt.tight_layout()\n",
    "    plt.show()\n",
    "    \n",
    "interact(main, rabbits_birthrate=FloatSlider(min=0, max=24, step=0.01, value=2, description='Birth Rate of Rabbits', style=style, layout=slider_layout),\n",
    "               rabbits_deathrate=FloatSlider(min=0, max=10, step=0.01, value=5.5, description='Death Rate of Rabbits', style=style, layout=slider_layout),\n",
    "               foxes_birthrate=FloatSlider(min=0, max=3, step=0.01, value=0.2, description='Birth Rate of Foxes', style=style, layout=slider_layout),\n",
    "               predator_efficiency=FloatSlider(min=0, max=10, step=0.5, value=2, description='Predator Efficiency', style=style, layout=slider_layout),\n",
    "               food_efficiency=FloatSlider(min=0, max=2, step=0.01, value=0.2, description='Food Eficiency of Foxes', style=style, layout=slider_layout),\n",
    "               maximal_rabbits=FloatSlider(min=0, max=5000, step=1, value=1000, description='Maximal Rabbits', style=style, layout=slider_layout),\n",
    "               initial_rabbits=FloatSlider(min=0 , max=1000, step=1, value=500, description='Initial Rabbits', style=style, layout=slider_layout),\n",
    "               initial_foxes=FloatSlider(min=0 , max=1000, step=1, value=100, description='Initial Foxes', style=style, layout=slider_layout),\n",
    "               days=FloatSlider(min=0 ,max=365*3 , step=10, value=360, description='Total number of Days', style=style, layout=slider_layout),\n",
    "        );"
   ]
  },
  {
   "cell_type": "markdown",
   "metadata": {},
   "source": [
    "### Nullclines"
   ]
  },
  {
   "cell_type": "code",
   "execution_count": null,
   "metadata": {},
   "outputs": [],
   "source": [
    "def main(rabbits_birthrate, maximal_rabbits, rabbits_deathrate, predator_efficiency, foxes_birthrate, food_efficiency):\n",
    "\n",
    "    def function(s, t):\n",
    "        x, y = s\n",
    "        dydt = [\n",
    "            rabbits_birthrate * x * (1 - x / maximal_rabbits) - (rabbits_deathrate * x * y) / (x + predator_efficiency), # dx/dy -> Change in Rabbits\n",
    "            foxes_birthrate * y * (1 - y / (food_efficiency * x)) # dy/dt -> Change in Foxes\n",
    "        ]\n",
    "        \n",
    "        return dydt\n",
    "\n",
    "    plot_field_and_nullclines(function, xlim=(300, 600), ylim=(70, 110), scale=.1, x_skip=20, y_skip=25)\n",
    "    \n",
    "interact(\n",
    "    main, \n",
    "    rabbits_birthrate=FloatSlider(min=0, max=24, step=0.01, value=2, description='Birth Rate of Rabbits', style=style, layout=slider_layout),           \n",
    "    rabbits_deathrate=FloatSlider(min=0, max=10, step=0.01, value=5.5, description='Death Rate of Rabbits', style=style, layout=slider_layout),           \n",
    "    foxes_birthrate=FloatSlider(min=0, max=3, step=0.01, value=0.2, description='Birth Rate of Foxes', style=style, layout=slider_layout),           \n",
    "    predator_efficiency=FloatSlider(min=0, max=10, step=0.5, value=2, description='Predator Efficiency', style=style, layout=slider_layout),           \n",
    "    food_efficiency=FloatSlider(min=0, max=2, step=0.01, value=0.2, description='Food Eficiency of Foxes', style=style, layout=slider_layout),           \n",
    "    maximal_rabbits=FloatSlider(min=0, max=5000, step=1, value=1000, description='Maximal Rabbits', style=style, layout=slider_layout),           \n",
    ");"
   ]
  },
  {
   "cell_type": "code",
   "execution_count": null,
   "metadata": {},
   "outputs": [],
   "source": []
  }
 ],
 "metadata": {
  "_draft": {
   "nbviewer_url": "https://gist.github.com/8fdc0f490b3058872a7014f01416dfb6"
  },
  "gist": {
   "data": {
    "description": "ODEs in Python",
    "public": false
   },
   "id": "8fdc0f490b3058872a7014f01416dfb6"
  },
  "kernelspec": {
   "display_name": "Python 3 (ipykernel)",
   "language": "python",
   "name": "python3"
  },
  "language_info": {
   "codemirror_mode": {
    "name": "ipython",
    "version": 3
   },
   "file_extension": ".py",
   "mimetype": "text/x-python",
   "name": "python",
   "nbconvert_exporter": "python",
   "pygments_lexer": "ipython3",
   "version": "3.10.9"
  },
  "toc": {
   "colors": {
    "hover_highlight": "#DAA520",
    "navigate_num": "#000000",
    "navigate_text": "#333333",
    "running_highlight": "#FF0000",
    "selected_highlight": "#FFD700",
    "sidebar_border": "#EEEEEE",
    "wrapper_background": "#FFFFFF"
   },
   "moveMenuLeft": true,
   "nav_menu": {
    "height": "30px",
    "width": "252px"
   },
   "navigate_menu": true,
   "number_sections": true,
   "sideBar": true,
   "threshold": 4,
   "toc_cell": true,
   "toc_section_display": "block",
   "toc_window_display": false,
   "widenNotebook": false
  },
  "widgets": {
   "application/vnd.jupyter.widget-state+json": {
    "state": {
     "0063e60bcfb444e59de9bb62f10cf9ac": {
      "model_module": "jupyter-js-widgets",
      "model_module_version": "~2.1.4",
      "model_name": "LayoutModel",
      "state": {
       "_model_module_version": "~2.1.4",
       "_view_module_version": "~2.1.4",
       "width": "100%"
      }
     },
     "007c531764f7463385db7f57f8c01262": {
      "model_module": "jupyter-js-widgets",
      "model_module_version": "~2.1.4",
      "model_name": "LayoutModel",
      "state": {
       "_model_module_version": "~2.1.4",
       "_view_module_version": "~2.1.4",
       "width": "100%"
      }
     },
     "00fa5c9aab084b8c9a24f77c417b116b": {
      "model_module": "jupyter-js-widgets",
      "model_module_version": "~2.1.4",
      "model_name": "SliderStyleModel",
      "state": {
       "_model_module_version": "~2.1.4",
       "_view_module_version": "~2.1.4"
      }
     },
     "016c0f8846f24365825075f8efe297c9": {
      "model_module": "jupyter-js-widgets",
      "model_module_version": "~2.1.4",
      "model_name": "LayoutModel",
      "state": {
       "_model_module_version": "~2.1.4",
       "_view_module_version": "~2.1.4",
       "width": "100%"
      }
     },
     "01847e4797494f8f9efc05f91b0b27ef": {
      "model_module": "jupyter-js-widgets",
      "model_module_version": "~2.1.4",
      "model_name": "IntSliderModel",
      "state": {
       "_model_module_version": "~2.1.4",
       "_view_module_version": "~2.1.4",
       "description": "sueldo_inicial",
       "layout": "IPY_MODEL_660f90f830544ed2bfde67ef4d458b6c",
       "max": 25000,
       "step": 500,
       "style": "IPY_MODEL_7d29218a89a04d7295376abd6fef7f3e",
       "value": 15000
      }
     },
     "01a8800523704eb38c176ee4dc51bf52": {
      "model_module": "jupyter-js-widgets",
      "model_module_version": "~2.1.4",
      "model_name": "IntSliderModel",
      "state": {
       "_model_module_version": "~2.1.4",
       "_view_module_version": "~2.1.4",
       "description": "gasto_fijo_diario",
       "layout": "IPY_MODEL_e2b4f0af228142ec8a3378fa788e24c8",
       "max": 1000,
       "min": 1,
       "step": 50,
       "style": "IPY_MODEL_db743130f6b04a4b943288cb6d2c6a13",
       "value": 100
      }
     },
     "01ee5320c3334555b415dbdc2071fc7f": {
      "model_module": "jupyter-js-widgets",
      "model_module_version": "~2.1.4",
      "model_name": "LayoutModel",
      "state": {
       "_model_module_version": "~2.1.4",
       "_view_module_version": "~2.1.4",
       "width": "100%"
      }
     },
     "020de3a60db0411d98bfdbdb877f446c": {
      "model_module": "jupyter-js-widgets",
      "model_module_version": "~2.1.4",
      "model_name": "SliderStyleModel",
      "state": {
       "_model_module_version": "~2.1.4",
       "_view_module_version": "~2.1.4"
      }
     },
     "024fc7ea3f9a46b3ba67e4c70c080c1f": {
      "model_module": "jupyter-js-widgets",
      "model_module_version": "~2.1.4",
      "model_name": "LayoutModel",
      "state": {
       "_model_module_version": "~2.1.4",
       "_view_module_version": "~2.1.4",
       "width": "100%"
      }
     },
     "026928c8094c49d3a63509b490c2987d": {
      "model_module": "jupyter-js-widgets",
      "model_module_version": "~2.1.4",
      "model_name": "IntSliderModel",
      "state": {
       "_model_module_version": "~2.1.4",
       "_view_module_version": "~2.1.4",
       "description": "intervalo",
       "layout": "IPY_MODEL_dbfedf49120b46a5a96878d958b7d5e9",
       "max": 360,
       "min": 1,
       "step": 10,
       "style": "IPY_MODEL_36f0e0359c5343969aea000c9fe1f4a5",
       "value": 30
      }
     },
     "029772b2f66d43abbce78b3ed2152af7": {
      "model_module": "jupyter-js-widgets",
      "model_module_version": "~2.1.4",
      "model_name": "SliderStyleModel",
      "state": {
       "_model_module_version": "~2.1.4",
       "_view_module_version": "~2.1.4"
      }
     },
     "029b26f9499041feaaa18433621a4ff1": {
      "model_module": "jupyter-js-widgets",
      "model_module_version": "~2.1.4",
      "model_name": "LayoutModel",
      "state": {
       "_model_module_version": "~2.1.4",
       "_view_module_version": "~2.1.4"
      }
     },
     "02b02007fe7c482eb897e75e199d136b": {
      "model_module": "jupyter-js-widgets",
      "model_module_version": "~2.1.4",
      "model_name": "FloatSliderModel",
      "state": {
       "_model_module_version": "~2.1.4",
       "_view_module_version": "~2.1.4",
       "description": "tasa_gasto_extra",
       "layout": "IPY_MODEL_8c6a683179f94188aecec36a9640c762",
       "max": 1,
       "step": 0.01,
       "value": 0.3
      }
     },
     "0348caa6b5b5487abfb2408f6f9d8703": {
      "model_module": "jupyter-js-widgets",
      "model_module_version": "~2.1.4",
      "model_name": "IntSliderModel",
      "state": {
       "_model_module_version": "~2.1.4",
       "_view_module_version": "~2.1.4",
       "description": "gasto_fijo_diario",
       "layout": "IPY_MODEL_b2371e4c76ab416f8aa84a8a89daa5f1",
       "max": 1000,
       "min": 1,
       "step": 50,
       "style": "IPY_MODEL_5623b1dacc7944b6b2f35a625cc7c9d6",
       "value": 100
      }
     },
     "03f514927d9f4afc8e15c2657498e9a6": {
      "model_module": "jupyter-js-widgets",
      "model_module_version": "~2.1.4",
      "model_name": "SliderStyleModel",
      "state": {
       "_model_module_version": "~2.1.4",
       "_view_module_version": "~2.1.4"
      }
     },
     "041aade89c0d4ab8bbf2a1c669821c33": {
      "model_module": "jupyter-js-widgets",
      "model_module_version": "~2.1.4",
      "model_name": "FloatSliderModel",
      "state": {
       "_model_module_version": "~2.1.4",
       "_view_module_version": "~2.1.4",
       "description": "tasa_gasto_extra",
       "layout": "IPY_MODEL_e82e07c724c340fba5ac323f11e776cd",
       "max": 1,
       "step": 0.01,
       "value": 0.3
      }
     },
     "041beffdfef2422eb3fd6326d19f65ef": {
      "model_module": "jupyter-js-widgets",
      "model_module_version": "~2.1.4",
      "model_name": "LayoutModel",
      "state": {
       "_model_module_version": "~2.1.4",
       "_view_module_version": "~2.1.4",
       "width": "100%"
      }
     },
     "04e02c678758424b9dd701cab953ef93": {
      "model_module": "jupyter-js-widgets",
      "model_module_version": "~2.1.4",
      "model_name": "LayoutModel",
      "state": {
       "_model_module_version": "~2.1.4",
       "_view_module_version": "~2.1.4",
       "width": "100%"
      }
     },
     "0509c24a99c349d1be66db3df422492b": {
      "model_module": "jupyter-js-widgets",
      "model_module_version": "~2.1.4",
      "model_name": "LayoutModel",
      "state": {
       "_model_module_version": "~2.1.4",
       "_view_module_version": "~2.1.4",
       "width": "100%"
      }
     },
     "051c32c837b3439e9f5df091e54baba7": {
      "model_module": "jupyter-js-widgets",
      "model_module_version": "~2.1.4",
      "model_name": "IntSliderModel",
      "state": {
       "_model_module_version": "~2.1.4",
       "_view_module_version": "~2.1.4",
       "description": "sueldo_inicial",
       "layout": "IPY_MODEL_141db3122f1846568c2f600e94975998",
       "max": 25000,
       "step": 500,
       "style": "IPY_MODEL_286a813531194257912a12d93f49c39a",
       "value": 15000
      }
     },
     "051ec9573f4b4d71a7796e24a86337f2": {
      "model_module": "jupyter-js-widgets",
      "model_module_version": "~2.1.4",
      "model_name": "IntSliderModel",
      "state": {
       "_model_module_version": "~2.1.4",
       "_view_module_version": "~2.1.4",
       "description": "sueldo_inicial",
       "layout": "IPY_MODEL_a26c00d9be644a3c94f144d96dcdd14c",
       "max": 25000,
       "step": 500,
       "style": "IPY_MODEL_383b11795a2a44fe9b8965280327a50f",
       "value": 15000
      }
     },
     "05384823777a4dab84746229e0be48b4": {
      "model_module": "jupyter-js-widgets",
      "model_module_version": "~2.1.4",
      "model_name": "FloatSliderModel",
      "state": {
       "_model_module_version": "~2.1.4",
       "_view_module_version": "~2.1.4",
       "description": "tasa_ahorro",
       "layout": "IPY_MODEL_fc94d500ad9f49b799ba5636a695fd3f",
       "max": 1,
       "step": 0.01,
       "value": 0.2
      }
     },
     "053fb6beb26a48668978348853858cd6": {
      "model_module": "jupyter-js-widgets",
      "model_module_version": "~2.1.4",
      "model_name": "LayoutModel",
      "state": {
       "_model_module_version": "~2.1.4",
       "_view_module_version": "~2.1.4",
       "width": "100%"
      }
     },
     "0609196914604bfd93cf80a5bfeae869": {
      "model_module": "jupyter-js-widgets",
      "model_module_version": "~2.1.4",
      "model_name": "LayoutModel",
      "state": {
       "_model_module_version": "~2.1.4",
       "_view_module_version": "~2.1.4",
       "width": "100%"
      }
     },
     "06883ee468a34228b0c3ff1a3db4c589": {
      "model_module": "jupyter-js-widgets",
      "model_module_version": "~2.1.4",
      "model_name": "LayoutModel",
      "state": {
       "_model_module_version": "~2.1.4",
       "_view_module_version": "~2.1.4",
       "width": "100%"
      }
     },
     "069e6efa0d2d4dacb66b617192f63c6f": {
      "model_module": "jupyter-js-widgets",
      "model_module_version": "~2.1.4",
      "model_name": "SliderStyleModel",
      "state": {
       "_model_module_version": "~2.1.4",
       "_view_module_version": "~2.1.4"
      }
     },
     "06ae34398e0b461084bb5334cc6eb65d": {
      "model_module": "jupyter-js-widgets",
      "model_module_version": "~2.1.4",
      "model_name": "LayoutModel",
      "state": {
       "_model_module_version": "~2.1.4",
       "_view_module_version": "~2.1.4",
       "width": "100%"
      }
     },
     "06bc614edf374d58b3ceba3b97abf203": {
      "model_module": "jupyter-js-widgets",
      "model_module_version": "~2.1.4",
      "model_name": "SliderStyleModel",
      "state": {
       "_model_module_version": "~2.1.4",
       "_view_module_version": "~2.1.4"
      }
     },
     "06be906abedf4dc2bf9df1252962a58b": {
      "model_module": "jupyter-js-widgets",
      "model_module_version": "~2.1.4",
      "model_name": "OutputModel",
      "state": {
       "_dom_classes": [],
       "_model_module": "jupyter-js-widgets",
       "_model_module_version": "~2.1.4",
       "_view_module": "jupyter-js-widgets",
       "_view_module_version": "~2.1.4",
       "layout": "IPY_MODEL_7539960ceada4e3a89283ba258f2e4ab",
       "msg_throttle": 1
      }
     },
     "06d1d402a1404f41931f05732f8a61e3": {
      "model_module": "jupyter-js-widgets",
      "model_module_version": "~2.1.4",
      "model_name": "FloatSliderModel",
      "state": {
       "_model_module_version": "~2.1.4",
       "_view_module_version": "~2.1.4",
       "description": "tasa_gasto_extra",
       "layout": "IPY_MODEL_06db87a7b8254122bd321155ef395caf",
       "max": 1,
       "step": 0.01,
       "value": 0.3
      }
     },
     "06db87a7b8254122bd321155ef395caf": {
      "model_module": "jupyter-js-widgets",
      "model_module_version": "~2.1.4",
      "model_name": "LayoutModel",
      "state": {
       "_model_module_version": "~2.1.4",
       "_view_module_version": "~2.1.4",
       "width": "100%"
      }
     },
     "0704eaab1a954f359f39919b0735daaa": {
      "model_module": "jupyter-js-widgets",
      "model_module_version": "~2.1.4",
      "model_name": "LayoutModel",
      "state": {
       "_model_module_version": "~2.1.4",
       "_view_module_version": "~2.1.4",
       "width": "100%"
      }
     },
     "0725b23e49f6482d830c514bfcff3572": {
      "model_module": "jupyter-js-widgets",
      "model_module_version": "~2.1.4",
      "model_name": "IntSliderModel",
      "state": {
       "_model_module_version": "~2.1.4",
       "_view_module_version": "~2.1.4",
       "description": "dias",
       "layout": "IPY_MODEL_ef247107a1df419b936569ca93b0b313",
       "max": 360,
       "min": 1,
       "step": 10,
       "style": "IPY_MODEL_7bb0c39e163e415c86a43e50a505aeb5",
       "value": 60
      }
     },
     "0734f7e7ef8b4d5e95546c53a173c54e": {
      "model_module": "jupyter-js-widgets",
      "model_module_version": "~2.1.4",
      "model_name": "IntSliderModel",
      "state": {
       "_model_module_version": "~2.1.4",
       "_view_module_version": "~2.1.4",
       "description": "intervalo",
       "layout": "IPY_MODEL_115c092d77b0454a84b1ff71602913ab",
       "max": 360,
       "min": 1,
       "step": 10,
       "style": "IPY_MODEL_f53a614fdd7f4bc48521aa2924cbd7ce",
       "value": 30
      }
     },
     "077dca1bfaec49749cb4192e1c826e0a": {
      "model_module": "jupyter-js-widgets",
      "model_module_version": "~2.1.4",
      "model_name": "VBoxModel",
      "state": {
       "_dom_classes": [
        "widget-interact"
       ],
       "_model_module_version": "~2.1.4",
       "_view_module_version": "~2.1.4",
       "children": [
        "IPY_MODEL_0b73e56651664310928980fe855942f8",
        "IPY_MODEL_a598e659b733415fa79466b134a2421e",
        "IPY_MODEL_ef0813f98d4a48c1806e977be698c913",
        "IPY_MODEL_fbd1a24383fe489a87a5d4b21db25d51",
        "IPY_MODEL_7fd725fdabe6499cbca296c0405d0319",
        "IPY_MODEL_11f4147923664707987d4dadd33749a9"
       ],
       "layout": "IPY_MODEL_1d984b1b4a7f409db93fddefd735512e"
      }
     },
     "078798fc1e3f487898cd4b41d6bead3f": {
      "model_module": "jupyter-js-widgets",
      "model_module_version": "~2.1.4",
      "model_name": "IntSliderModel",
      "state": {
       "_model_module_version": "~2.1.4",
       "_view_module_version": "~2.1.4",
       "description": "intervalo",
       "layout": "IPY_MODEL_01ee5320c3334555b415dbdc2071fc7f",
       "max": 360,
       "min": 1,
       "step": 10,
       "style": "IPY_MODEL_f7f73ad538954623964286c7321e04f3",
       "value": 30
      }
     },
     "07a67db7d5184e98b731eb946e35d63a": {
      "model_module": "jupyter-js-widgets",
      "model_module_version": "~2.1.4",
      "model_name": "FloatSliderModel",
      "state": {
       "_model_module_version": "~2.1.4",
       "_view_module_version": "~2.1.4",
       "description": "paso",
       "layout": "IPY_MODEL_06883ee468a34228b0c3ff1a3db4c589",
       "max": 1,
       "step": 0.01,
       "value": 0.1
      }
     },
     "07f4188b8a10442f90e9feed6a02fdba": {
      "model_module": "jupyter-js-widgets",
      "model_module_version": "~2.1.4",
      "model_name": "OutputModel",
      "state": {
       "_dom_classes": [],
       "_model_module": "jupyter-js-widgets",
       "_model_module_version": "~2.1.4",
       "_view_module": "jupyter-js-widgets",
       "_view_module_version": "~2.1.4",
       "layout": "IPY_MODEL_d09357064cc44b9ebab5a6bd04f8ac4c",
       "msg_throttle": 1
      }
     },
     "0831865a2e5c4d779244b8e8f40bfc4d": {
      "model_module": "jupyter-js-widgets",
      "model_module_version": "~2.1.4",
      "model_name": "LayoutModel",
      "state": {
       "_model_module_version": "~2.1.4",
       "_view_module_version": "~2.1.4",
       "width": "100%"
      }
     },
     "0856c9ddd1f148dd9f79bc36adb69c3c": {
      "model_module": "jupyter-js-widgets",
      "model_module_version": "~2.1.4",
      "model_name": "LayoutModel",
      "state": {
       "_model_module_version": "~2.1.4",
       "_view_module_version": "~2.1.4",
       "width": "100%"
      }
     },
     "086eafdf4cf14179aed329b0b0b6d38f": {
      "model_module": "jupyter-js-widgets",
      "model_module_version": "~2.1.4",
      "model_name": "FloatSliderModel",
      "state": {
       "_model_module_version": "~2.1.4",
       "_view_module_version": "~2.1.4",
       "description": "tasa_ahorro",
       "layout": "IPY_MODEL_0e0937be411d4e6ba99847d19eddf597",
       "max": 1,
       "step": 0.01,
       "value": 0.2
      }
     },
     "08fc12899a9a46cd9c041117f145f157": {
      "model_module": "jupyter-js-widgets",
      "model_module_version": "~2.1.4",
      "model_name": "VBoxModel",
      "state": {
       "_dom_classes": [
        "widget-interact"
       ],
       "_model_module_version": "~2.1.4",
       "_view_module_version": "~2.1.4",
       "children": [
        "IPY_MODEL_72bebb6d64674972adf0b2f01d4b2f9c",
        "IPY_MODEL_b08ae0a85f0e4addbdd6d6c7cbe7a582",
        "IPY_MODEL_a0ba5df0a16448f3b366e44cdb7060c0",
        "IPY_MODEL_c4dd391213e0491e9f7ee06aa333aef8",
        "IPY_MODEL_ac33a33aa1e642c08ee9aff6b9ea66c8",
        "IPY_MODEL_7104a566842f405eb35637c9a3e28197",
        "IPY_MODEL_861229a815f3400ca2cfbd3d290dd34c",
        "IPY_MODEL_1b4024576b5d49e49890aa8d2e50e859"
       ],
       "layout": "IPY_MODEL_4e08c1b1962a4f0c8f30207539eef2bf"
      }
     },
     "09143970a1ba4475b01b2d2b84d16624": {
      "model_module": "jupyter-js-widgets",
      "model_module_version": "~2.1.4",
      "model_name": "FloatSliderModel",
      "state": {
       "_model_module_version": "~2.1.4",
       "_view_module_version": "~2.1.4",
       "description": "tasa_ahorro",
       "layout": "IPY_MODEL_f59e006590f041b4becf5be20142979a",
       "max": 1,
       "step": 0.01,
       "value": 0.2
      }
     },
     "092ac994bdb14aabb19f476495627410": {
      "model_module": "jupyter-js-widgets",
      "model_module_version": "~2.1.4",
      "model_name": "IntSliderModel",
      "state": {
       "_model_module_version": "~2.1.4",
       "_view_module_version": "~2.1.4",
       "description": "dias",
       "layout": "IPY_MODEL_40f2eec1c959449fad5bb7ba4f989261",
       "max": 360,
       "min": 1,
       "step": 10,
       "style": "IPY_MODEL_a849c8d9ebb24c089a038393b1bbe51c",
       "value": 60
      }
     },
     "0955ab8e531e41f28b3dc6a1499ded14": {
      "model_module": "jupyter-js-widgets",
      "model_module_version": "~2.1.4",
      "model_name": "LayoutModel",
      "state": {
       "_model_module_version": "~2.1.4",
       "_view_module_version": "~2.1.4",
       "width": "100%"
      }
     },
     "0972a84579d8427f934afda0a8386b54": {
      "model_module": "jupyter-js-widgets",
      "model_module_version": "~2.1.4",
      "model_name": "LayoutModel",
      "state": {
       "_model_module_version": "~2.1.4",
       "_view_module_version": "~2.1.4",
       "width": "100%"
      }
     },
     "098ecad279834c33a056558ddad4ad74": {
      "model_module": "jupyter-js-widgets",
      "model_module_version": "~2.1.4",
      "model_name": "FloatSliderModel",
      "state": {
       "_model_module_version": "~2.1.4",
       "_view_module_version": "~2.1.4",
       "description": "tasa_ahorro",
       "layout": "IPY_MODEL_572e88fbb0b24235b244d451a055aed4",
       "max": 1,
       "step": 0.01,
       "value": 0.2
      }
     },
     "09b053e568aa401da5d3db2ed76d6b3a": {
      "model_module": "jupyter-js-widgets",
      "model_module_version": "~2.1.4",
      "model_name": "FloatSliderModel",
      "state": {
       "_model_module_version": "~2.1.4",
       "_view_module_version": "~2.1.4",
       "description": "cap",
       "layout": "IPY_MODEL_f55256d49f8840de8ef1f0040a4b3bec",
       "max": 1,
       "step": 0.1,
       "value": 0.2
      }
     },
     "0a031c9b99a440428657fe3bb920835c": {
      "model_module": "jupyter-js-widgets",
      "model_module_version": "~2.1.4",
      "model_name": "OutputModel",
      "state": {
       "_dom_classes": [],
       "_model_module": "jupyter-js-widgets",
       "_model_module_version": "~2.1.4",
       "_view_module": "jupyter-js-widgets",
       "_view_module_version": "~2.1.4",
       "layout": "IPY_MODEL_0bc74c6d567046ceadef1287afa4cdad",
       "msg_throttle": 1
      }
     },
     "0a460f78bba340929b5d8b87e38a67d7": {
      "model_module": "jupyter-js-widgets",
      "model_module_version": "~2.1.4",
      "model_name": "FloatSliderModel",
      "state": {
       "_model_module_version": "~2.1.4",
       "_view_module_version": "~2.1.4",
       "description": "tasa_gasto_extra",
       "layout": "IPY_MODEL_6b9e27d2c1fb47feb97ef0c65eb8796c",
       "max": 1,
       "step": 0.01,
       "value": 0.3
      }
     },
     "0a52e590d27f4b349f3a2d7810c4aa30": {
      "model_module": "jupyter-js-widgets",
      "model_module_version": "~2.1.4",
      "model_name": "SliderStyleModel",
      "state": {
       "_model_module_version": "~2.1.4",
       "_view_module_version": "~2.1.4"
      }
     },
     "0a6603049ef94fc7a556861f06529d7d": {
      "model_module": "jupyter-js-widgets",
      "model_module_version": "~2.1.4",
      "model_name": "IntSliderModel",
      "state": {
       "_model_module_version": "~2.1.4",
       "_view_module_version": "~2.1.4",
       "description": "sueldo_inicial",
       "layout": "IPY_MODEL_a8bb738090e34aab8200a116e98af5b7",
       "max": 25000,
       "step": 500,
       "style": "IPY_MODEL_e1cd3b4bfeb14bd2a3e4e5e439ac1fa2",
       "value": 15000
      }
     },
     "0a7a80cfed674ec78ccfe81f77cb0386": {
      "model_module": "jupyter-js-widgets",
      "model_module_version": "~2.1.4",
      "model_name": "LayoutModel",
      "state": {
       "_model_module_version": "~2.1.4",
       "_view_module_version": "~2.1.4",
       "width": "100%"
      }
     },
     "0ad220aeb24e4171bf93a519b39c9146": {
      "model_module": "jupyter-js-widgets",
      "model_module_version": "~2.1.4",
      "model_name": "FloatSliderModel",
      "state": {
       "_model_module_version": "~2.1.4",
       "_view_module_version": "~2.1.4",
       "description": "cap",
       "layout": "IPY_MODEL_6511b1522f0e4983ae8bfdce167bc8b3",
       "max": 1,
       "step": 0.05,
       "value": 0.3
      }
     },
     "0aee2e810b5e4032a5134b374f4919ec": {
      "model_module": "jupyter-js-widgets",
      "model_module_version": "~2.1.4",
      "model_name": "LayoutModel",
      "state": {
       "_model_module_version": "~2.1.4",
       "_view_module_version": "~2.1.4"
      }
     },
     "0b54b42fd8ef4c17a116d8fafdbeb34c": {
      "model_module": "jupyter-js-widgets",
      "model_module_version": "~2.1.4",
      "model_name": "VBoxModel",
      "state": {
       "_dom_classes": [
        "widget-interact"
       ],
       "_model_module_version": "~2.1.4",
       "_view_module_version": "~2.1.4",
       "children": [
        "IPY_MODEL_e5c102305782482896b510c9e76a78ae",
        "IPY_MODEL_2a82996bdd864085bcd425d77ceb215b",
        "IPY_MODEL_bd6160be82394ac480a792cee57d7159",
        "IPY_MODEL_4cf6efd213a646a599e6fbc5a22954d6",
        "IPY_MODEL_83ebb2a3111041ba9d3287b280b665ea",
        "IPY_MODEL_13df3f82b53c4b1a8722ba30ad559e5a",
        "IPY_MODEL_d0a7a4542f874ab0965ef17310c468f2",
        "IPY_MODEL_913727a93e0e453d95f26898a61ee730"
       ],
       "layout": "IPY_MODEL_cacab7208d22443fa9b4dde9ead7da23"
      }
     },
     "0b6b45c855e74a5f964a8f73de29a085": {
      "model_module": "jupyter-js-widgets",
      "model_module_version": "~2.1.4",
      "model_name": "OutputModel",
      "state": {
       "_dom_classes": [],
       "_model_module": "jupyter-js-widgets",
       "_model_module_version": "~2.1.4",
       "_view_module": "jupyter-js-widgets",
       "_view_module_version": "~2.1.4",
       "layout": "IPY_MODEL_271a027bbada4425b06035f906fefa7b",
       "msg_throttle": 1
      }
     },
     "0b73e56651664310928980fe855942f8": {
      "model_module": "jupyter-js-widgets",
      "model_module_version": "~2.1.4",
      "model_name": "IntSliderModel",
      "state": {
       "_model_module_version": "~2.1.4",
       "_view_module_version": "~2.1.4",
       "description": "sueldo_inicial",
       "layout": "IPY_MODEL_e746298c63224dbe8ae659d70f2c346e",
       "max": 25000,
       "step": 500,
       "style": "IPY_MODEL_12bd4b1966a348f6827e089304926539",
       "value": 15000
      }
     },
     "0b80716716ca4262a1bb878edfe774e6": {
      "model_module": "jupyter-js-widgets",
      "model_module_version": "~2.1.4",
      "model_name": "FloatSliderModel",
      "state": {
       "_model_module_version": "~2.1.4",
       "_view_module_version": "~2.1.4",
       "description": "tasa_ahorro",
       "layout": "IPY_MODEL_d3761d473d50400aa618ca360ab87da4",
       "max": 1,
       "step": 0.01,
       "value": 0.2
      }
     },
     "0ba95022dc85429aae31783b6a207385": {
      "model_module": "jupyter-js-widgets",
      "model_module_version": "~2.1.4",
      "model_name": "IntSliderModel",
      "state": {
       "_model_module_version": "~2.1.4",
       "_view_module_version": "~2.1.4",
       "description": "dias",
       "layout": "IPY_MODEL_94ddd6516a4f4065918d76f4fd9338e2",
       "max": 360,
       "min": 1,
       "step": 10,
       "style": "IPY_MODEL_c93437c554d04b9b8f1d9a466e494bee",
       "value": 30
      }
     },
     "0bc74c6d567046ceadef1287afa4cdad": {
      "model_module": "jupyter-js-widgets",
      "model_module_version": "~2.1.4",
      "model_name": "LayoutModel",
      "state": {
       "_model_module_version": "~2.1.4",
       "_view_module_version": "~2.1.4"
      }
     },
     "0c802ce407ff4d9080b1b8cbac1b0a97": {
      "model_module": "jupyter-js-widgets",
      "model_module_version": "~2.1.4",
      "model_name": "LayoutModel",
      "state": {
       "_model_module_version": "~2.1.4",
       "_view_module_version": "~2.1.4"
      }
     },
     "0c9f533063904f8d907456a015e1b1f9": {
      "model_module": "jupyter-js-widgets",
      "model_module_version": "~2.1.4",
      "model_name": "OutputModel",
      "state": {
       "_dom_classes": [],
       "_model_module": "jupyter-js-widgets",
       "_model_module_version": "~2.1.4",
       "_view_module": "jupyter-js-widgets",
       "_view_module_version": "~2.1.4",
       "layout": "IPY_MODEL_0aee2e810b5e4032a5134b374f4919ec",
       "msg_throttle": 1
      }
     },
     "0e0937be411d4e6ba99847d19eddf597": {
      "model_module": "jupyter-js-widgets",
      "model_module_version": "~2.1.4",
      "model_name": "LayoutModel",
      "state": {
       "_model_module_version": "~2.1.4",
       "_view_module_version": "~2.1.4",
       "width": "100%"
      }
     },
     "0e34023ba0474c019fb733493cfd23aa": {
      "model_module": "jupyter-js-widgets",
      "model_module_version": "~2.1.4",
      "model_name": "LayoutModel",
      "state": {
       "_model_module_version": "~2.1.4",
       "_view_module_version": "~2.1.4",
       "width": "100%"
      }
     },
     "0e873fce10dd48e99071e5d36d40c596": {
      "model_module": "jupyter-js-widgets",
      "model_module_version": "~2.1.4",
      "model_name": "LayoutModel",
      "state": {
       "_model_module_version": "~2.1.4",
       "_view_module_version": "~2.1.4"
      }
     },
     "0f6230659af04421ba8fb628dba004f1": {
      "model_module": "jupyter-js-widgets",
      "model_module_version": "~2.1.4",
      "model_name": "LayoutModel",
      "state": {
       "_model_module_version": "~2.1.4",
       "_view_module_version": "~2.1.4"
      }
     },
     "0fa4827e0cee430a9cc5117a75facf84": {
      "model_module": "jupyter-js-widgets",
      "model_module_version": "~2.1.4",
      "model_name": "LayoutModel",
      "state": {
       "_model_module_version": "~2.1.4",
       "_view_module_version": "~2.1.4"
      }
     },
     "10c0a86d06ef44e680890f4b8603d5e0": {
      "model_module": "jupyter-js-widgets",
      "model_module_version": "~2.1.4",
      "model_name": "LayoutModel",
      "state": {
       "_model_module_version": "~2.1.4",
       "_view_module_version": "~2.1.4",
       "width": "100%"
      }
     },
     "10c9a95668be4abeac58bde42776248f": {
      "model_module": "jupyter-js-widgets",
      "model_module_version": "~2.1.4",
      "model_name": "SliderStyleModel",
      "state": {
       "_model_module_version": "~2.1.4",
       "_view_module_version": "~2.1.4"
      }
     },
     "10e45403b8a347298b101391920d8219": {
      "model_module": "jupyter-js-widgets",
      "model_module_version": "~2.1.4",
      "model_name": "LayoutModel",
      "state": {
       "_model_module_version": "~2.1.4",
       "_view_module_version": "~2.1.4"
      }
     },
     "113067202bb24cabbece529fc9ca4d23": {
      "model_module": "jupyter-js-widgets",
      "model_module_version": "~2.1.4",
      "model_name": "FloatSliderModel",
      "state": {
       "_model_module_version": "~2.1.4",
       "_view_module_version": "~2.1.4",
       "description": "tasa_ahorro",
       "layout": "IPY_MODEL_9f04ad4b67d945c6841eea9e6e119f7c",
       "max": 1,
       "step": 0.01,
       "value": 0.2
      }
     },
     "113fc8fc1d5d45edae243c6797be3430": {
      "model_module": "jupyter-js-widgets",
      "model_module_version": "~2.1.4",
      "model_name": "SliderStyleModel",
      "state": {
       "_model_module_version": "~2.1.4",
       "_view_module_version": "~2.1.4"
      }
     },
     "11424e3a192e4bdfa8fb1d4445cce203": {
      "model_module": "jupyter-js-widgets",
      "model_module_version": "~2.1.4",
      "model_name": "VBoxModel",
      "state": {
       "_dom_classes": [
        "widget-interact"
       ],
       "_model_module_version": "~2.1.4",
       "_view_module_version": "~2.1.4",
       "children": [
        "IPY_MODEL_30977fcf54b842bfb24bf0348a9a44c9",
        "IPY_MODEL_d470a7ef47c24f0db26dbd7c99159e58",
        "IPY_MODEL_b75b8204fb134c1d86c0888921d1d0e4",
        "IPY_MODEL_c45b9ca7baee43c091764188b05121c6",
        "IPY_MODEL_2c4d54ac8171489fb5bdb62598580684",
        "IPY_MODEL_47191822d8b848668bc0002fd969aa5d",
        "IPY_MODEL_5bd7ac3a9afe4b458b614ab7625abb5c",
        "IPY_MODEL_6d970aba98624277bc46d7e7f9d2b347"
       ],
       "layout": "IPY_MODEL_def374b6685c41aba85447001b0c406d"
      }
     },
     "1155d54403854934b8444209ab63225b": {
      "model_module": "jupyter-js-widgets",
      "model_module_version": "~2.1.4",
      "model_name": "IntSliderModel",
      "state": {
       "_model_module_version": "~2.1.4",
       "_view_module_version": "~2.1.4",
       "description": "gasto_fijo_diario",
       "layout": "IPY_MODEL_0955ab8e531e41f28b3dc6a1499ded14",
       "max": 1000,
       "min": 1,
       "step": 50,
       "style": "IPY_MODEL_22c0c67eb0404b6c810f8c9f1c06eeda",
       "value": 100
      }
     },
     "115c092d77b0454a84b1ff71602913ab": {
      "model_module": "jupyter-js-widgets",
      "model_module_version": "~2.1.4",
      "model_name": "LayoutModel",
      "state": {
       "_model_module_version": "~2.1.4",
       "_view_module_version": "~2.1.4",
       "width": "100%"
      }
     },
     "115eb7a9bbca4a06ab590ce3b6386f05": {
      "model_module": "jupyter-js-widgets",
      "model_module_version": "~2.1.4",
      "model_name": "LayoutModel",
      "state": {
       "_model_module_version": "~2.1.4",
       "_view_module_version": "~2.1.4",
       "width": "100%"
      }
     },
     "117d689816824867b0ae77d27871d016": {
      "model_module": "jupyter-js-widgets",
      "model_module_version": "~2.1.4",
      "model_name": "IntSliderModel",
      "state": {
       "_model_module_version": "~2.1.4",
       "_view_module_version": "~2.1.4",
       "description": "dias",
       "layout": "IPY_MODEL_2c97273df7894601bb9ae9f9b0c844a1",
       "max": 360,
       "min": 1,
       "step": 10,
       "style": "IPY_MODEL_af8e4cfbb5c74a9396f5e556efca4501",
       "value": 101
      }
     },
     "118b3b462691439992d47582f16c60de": {
      "model_module": "jupyter-js-widgets",
      "model_module_version": "~2.1.4",
      "model_name": "IntSliderModel",
      "state": {
       "_model_module_version": "~2.1.4",
       "_view_module_version": "~2.1.4",
       "description": "sueldo_inicial",
       "layout": "IPY_MODEL_373168c145c5446aa6dfd5372b2f554a",
       "max": 25000,
       "step": 500,
       "style": "IPY_MODEL_a5b523fdd7f94c1198186b381a827153",
       "value": 15000
      }
     },
     "118c813c639141329684531077a47eb6": {
      "model_module": "jupyter-js-widgets",
      "model_module_version": "~2.1.4",
      "model_name": "SliderStyleModel",
      "state": {
       "_model_module_version": "~2.1.4",
       "_view_module_version": "~2.1.4"
      }
     },
     "11aed75adad347539d171ec92e892168": {
      "model_module": "jupyter-js-widgets",
      "model_module_version": "~2.1.4",
      "model_name": "FloatSliderModel",
      "state": {
       "_model_module_version": "~2.1.4",
       "_view_module_version": "~2.1.4",
       "description": "k",
       "layout": "IPY_MODEL_8ec43390a4cb41e398757ed3f0e7271b",
       "max": 1,
       "step": 0.1,
       "value": 0.3
      }
     },
     "11f4147923664707987d4dadd33749a9": {
      "model_module": "jupyter-js-widgets",
      "model_module_version": "~2.1.4",
      "model_name": "OutputModel",
      "state": {
       "_dom_classes": [],
       "_model_module": "jupyter-js-widgets",
       "_model_module_version": "~2.1.4",
       "_view_module": "jupyter-js-widgets",
       "_view_module_version": "~2.1.4",
       "layout": "IPY_MODEL_79425bd0942d462bb3d57ec973f00c77",
       "msg_throttle": 1
      }
     },
     "124fae624c644f41a93f0c36a08044a0": {
      "model_module": "jupyter-js-widgets",
      "model_module_version": "~2.1.4",
      "model_name": "VBoxModel",
      "state": {
       "_dom_classes": [
        "widget-interact"
       ],
       "_model_module_version": "~2.1.4",
       "_view_module_version": "~2.1.4",
       "children": [
        "IPY_MODEL_db03dbcdfc40434d91a9e6ccdd48aa21",
        "IPY_MODEL_535a007316b34e13a53a9663a03b010a",
        "IPY_MODEL_e8c15f0fbf4141689b09c53dc37e1d44",
        "IPY_MODEL_c23afa5c8377477fb647d786f562979c",
        "IPY_MODEL_092ac994bdb14aabb19f476495627410",
        "IPY_MODEL_7f0c72f21562481487b4f3edf609d85c",
        "IPY_MODEL_d20a20748327423dadfdc8ac120d87a0",
        "IPY_MODEL_31b79404379741ceacf3eaa4a9cf27df"
       ],
       "layout": "IPY_MODEL_582c4514e2e54e67a8c37f879a2d6198"
      }
     },
     "1251cd18206347ffad4f3d7f214bb287": {
      "model_module": "jupyter-js-widgets",
      "model_module_version": "~2.1.4",
      "model_name": "FloatSliderModel",
      "state": {
       "_model_module_version": "~2.1.4",
       "_view_module_version": "~2.1.4",
       "description": "tasa_gasto_extra",
       "layout": "IPY_MODEL_2326d475b6364112a4908d3b41e8d4e5",
       "max": 1,
       "step": 0.01,
       "value": 0.3
      }
     },
     "128b1bb0fdc1435d830dd663718d5875": {
      "model_module": "jupyter-js-widgets",
      "model_module_version": "~2.1.4",
      "model_name": "LayoutModel",
      "state": {
       "_model_module_version": "~2.1.4",
       "_view_module_version": "~2.1.4",
       "width": "100%"
      }
     },
     "129692740d4a4a1e9ef4aa669d73e954": {
      "model_module": "jupyter-js-widgets",
      "model_module_version": "~2.1.4",
      "model_name": "VBoxModel",
      "state": {
       "_dom_classes": [
        "widget-interact"
       ],
       "_model_module_version": "~2.1.4",
       "_view_module_version": "~2.1.4",
       "children": [
        "IPY_MODEL_35562182da5049978f6716fd832e18f7",
        "IPY_MODEL_62111c0b01d148c493681a07121e0d31",
        "IPY_MODEL_da35d015febc47d0bbe515c0a2e7374d",
        "IPY_MODEL_7270fe4a51a144178fec8cad284847ab",
        "IPY_MODEL_2150e49bc2a644e48e8d9a029d8ae8ee",
        "IPY_MODEL_026928c8094c49d3a63509b490c2987d",
        "IPY_MODEL_750026ac997e487bbad4f1a11d15336b",
        "IPY_MODEL_e36da62eb6764e40a32d398f8e5d1ab3"
       ],
       "layout": "IPY_MODEL_177304159f15447695e23020c0fac8c9"
      }
     },
     "12bd4b1966a348f6827e089304926539": {
      "model_module": "jupyter-js-widgets",
      "model_module_version": "~2.1.4",
      "model_name": "SliderStyleModel",
      "state": {
       "_model_module_version": "~2.1.4",
       "_view_module_version": "~2.1.4"
      }
     },
     "12c8e9e394af426db56e56806ba3acd9": {
      "model_module": "jupyter-js-widgets",
      "model_module_version": "~2.1.4",
      "model_name": "IntSliderModel",
      "state": {
       "_model_module_version": "~2.1.4",
       "_view_module_version": "~2.1.4",
       "description": "intervalo",
       "layout": "IPY_MODEL_4fa0c6dcdf414b938f4878409a327699",
       "max": 360,
       "min": 1,
       "step": 10,
       "style": "IPY_MODEL_31d1260fd55b45489839f5c73b5856fb",
       "value": 30
      }
     },
     "12ced1c33b2e47bfaab633645fa13aa3": {
      "model_module": "jupyter-js-widgets",
      "model_module_version": "~2.1.4",
      "model_name": "IntSliderModel",
      "state": {
       "_model_module_version": "~2.1.4",
       "_view_module_version": "~2.1.4",
       "description": "sueldo_inicial",
       "layout": "IPY_MODEL_7d52870894d14319b12d94ad29742b13",
       "max": 25000,
       "step": 500,
       "style": "IPY_MODEL_fabfcb49846545b29c6ee81119844b2f",
       "value": 15000
      }
     },
     "12d50f1c31664aaaa12c26f4a6385cba": {
      "model_module": "jupyter-js-widgets",
      "model_module_version": "~2.1.4",
      "model_name": "LayoutModel",
      "state": {
       "_model_module_version": "~2.1.4",
       "_view_module_version": "~2.1.4"
      }
     },
     "12dd13a4fce6415daa7065847a94ba41": {
      "model_module": "jupyter-js-widgets",
      "model_module_version": "~2.1.4",
      "model_name": "SliderStyleModel",
      "state": {
       "_model_module_version": "~2.1.4",
       "_view_module_version": "~2.1.4"
      }
     },
     "12f73f1357be4a3f8ee47f5a4443f9d4": {
      "model_module": "jupyter-js-widgets",
      "model_module_version": "~2.1.4",
      "model_name": "IntSliderModel",
      "state": {
       "_model_module_version": "~2.1.4",
       "_view_module_version": "~2.1.4",
       "description": "sueldo_inicial",
       "layout": "IPY_MODEL_2573e106f2b14789bc15084b7886ceba",
       "max": 25000,
       "step": 500,
       "style": "IPY_MODEL_d3fae39da89a4d9b92b13d59d1f9c950",
       "value": 7000
      }
     },
     "130ca9264b844b5ca1d0d7831b56338d": {
      "model_module": "jupyter-js-widgets",
      "model_module_version": "~2.1.4",
      "model_name": "FloatSliderModel",
      "state": {
       "_model_module_version": "~2.1.4",
       "_view_module_version": "~2.1.4",
       "description": "tasa_ahorro",
       "layout": "IPY_MODEL_1a9f5ca7a61e48388339a665fd672041",
       "max": 1,
       "step": 0.01,
       "value": 0.2
      }
     },
     "138a79daa089434fa86bf10d2b0ee9f5": {
      "model_module": "jupyter-js-widgets",
      "model_module_version": "~2.1.4",
      "model_name": "IntSliderModel",
      "state": {
       "_model_module_version": "~2.1.4",
       "_view_module_version": "~2.1.4",
       "description": "dias",
       "layout": "IPY_MODEL_aa5c6748461b4f6e8db197e4a4064a69",
       "max": 360,
       "min": 1,
       "step": 10,
       "style": "IPY_MODEL_8e763cc752eb4b038cd0a00b9022af70",
       "value": 30
      }
     },
     "138b68bebba34881bfad4afe21d3dce5": {
      "model_module": "jupyter-js-widgets",
      "model_module_version": "~2.1.4",
      "model_name": "VBoxModel",
      "state": {
       "_dom_classes": [
        "widget-interact"
       ],
       "_model_module_version": "~2.1.4",
       "_view_module_version": "~2.1.4",
       "children": [
        "IPY_MODEL_3543446d0cba4f18b6a8e49e8bcc8219",
        "IPY_MODEL_a9e658e6802247d780ba7e59183f4ba6",
        "IPY_MODEL_6bf0c24c8a2e45e1876999eca6a12561",
        "IPY_MODEL_f64b587771c34a4a8f0e34a4e5e41332",
        "IPY_MODEL_4feee14ceae24fc99284e7b8b43539d9",
        "IPY_MODEL_a93435361f04435b85cbbfec8a683f3c"
       ],
       "layout": "IPY_MODEL_bbb1265e5fe84ce38d8c3791f000fd7c"
      }
     },
     "13923febf6fb466b8dd0b8f2e052d6a4": {
      "model_module": "jupyter-js-widgets",
      "model_module_version": "~2.1.4",
      "model_name": "LayoutModel",
      "state": {
       "_model_module_version": "~2.1.4",
       "_view_module_version": "~2.1.4",
       "width": "100%"
      }
     },
     "139998ec96df450f89f4913450b93cb2": {
      "model_module": "jupyter-js-widgets",
      "model_module_version": "~2.1.4",
      "model_name": "LayoutModel",
      "state": {
       "_model_module_version": "~2.1.4",
       "_view_module_version": "~2.1.4",
       "width": "100%"
      }
     },
     "139ba59b80cc445d870c8facc7710eae": {
      "model_module": "jupyter-js-widgets",
      "model_module_version": "~2.1.4",
      "model_name": "LayoutModel",
      "state": {
       "_model_module_version": "~2.1.4",
       "_view_module_version": "~2.1.4",
       "width": "100%"
      }
     },
     "13df3f82b53c4b1a8722ba30ad559e5a": {
      "model_module": "jupyter-js-widgets",
      "model_module_version": "~2.1.4",
      "model_name": "IntSliderModel",
      "state": {
       "_model_module_version": "~2.1.4",
       "_view_module_version": "~2.1.4",
       "description": "intervalo",
       "layout": "IPY_MODEL_caad949d5bd246c6bff54c82082fb378",
       "max": 360,
       "min": 1,
       "step": 10,
       "style": "IPY_MODEL_ebc1544e0f7f4812a6af48d807d1aabc",
       "value": 30
      }
     },
     "141db3122f1846568c2f600e94975998": {
      "model_module": "jupyter-js-widgets",
      "model_module_version": "~2.1.4",
      "model_name": "LayoutModel",
      "state": {
       "_model_module_version": "~2.1.4",
       "_view_module_version": "~2.1.4",
       "width": "100%"
      }
     },
     "14cda01bfa78495692209f9803866ac0": {
      "model_module": "jupyter-js-widgets",
      "model_module_version": "~2.1.4",
      "model_name": "FloatSliderModel",
      "state": {
       "_model_module_version": "~2.1.4",
       "_view_module_version": "~2.1.4",
       "description": "tasa_ahorro",
       "layout": "IPY_MODEL_c0cba5409d9d497d823288e0ff76d8a4",
       "max": 1,
       "step": 0.01,
       "value": 0.2
      }
     },
     "14f487b085e74c61b705f639a4fc7973": {
      "model_module": "jupyter-js-widgets",
      "model_module_version": "~2.1.4",
      "model_name": "SliderStyleModel",
      "state": {
       "_model_module_version": "~2.1.4",
       "_view_module_version": "~2.1.4"
      }
     },
     "150aa620eb1e4e9697ee8d36b1eb53dc": {
      "model_module": "jupyter-js-widgets",
      "model_module_version": "~2.1.4",
      "model_name": "IntSliderModel",
      "state": {
       "_model_module_version": "~2.1.4",
       "_view_module_version": "~2.1.4",
       "description": "intervalo",
       "layout": "IPY_MODEL_62e35911b8224c76aec9ee645169ca9e",
       "max": 360,
       "min": 1,
       "step": 10,
       "style": "IPY_MODEL_a4982672823c487eafdb5121dc9c3e5b",
       "value": 30
      }
     },
     "15180f8df2a94e76bdec956c84fd06c7": {
      "model_module": "jupyter-js-widgets",
      "model_module_version": "~2.1.4",
      "model_name": "SliderStyleModel",
      "state": {
       "_model_module_version": "~2.1.4",
       "_view_module_version": "~2.1.4"
      }
     },
     "154e17af17064e6c995aff90af9551f0": {
      "model_module": "jupyter-js-widgets",
      "model_module_version": "~2.1.4",
      "model_name": "SliderStyleModel",
      "state": {
       "_model_module_version": "~2.1.4",
       "_view_module_version": "~2.1.4"
      }
     },
     "15602ea8f2354e91abf1f15cdacb632f": {
      "model_module": "jupyter-js-widgets",
      "model_module_version": "~2.1.4",
      "model_name": "IntSliderModel",
      "state": {
       "_model_module_version": "~2.1.4",
       "_view_module_version": "~2.1.4",
       "layout": "IPY_MODEL_e4fd28a375a34c788b03ecf0ccaddf2c",
       "max": 25000,
       "step": 500,
       "style": "IPY_MODEL_c6217591f20947ac8f37ac964ed65796",
       "value": 15000
      }
     },
     "158d1760a9334deab5a4c7f75e6de3c1": {
      "model_module": "jupyter-js-widgets",
      "model_module_version": "~2.1.4",
      "model_name": "IntSliderModel",
      "state": {
       "_model_module_version": "~2.1.4",
       "_view_module_version": "~2.1.4",
       "description": "dias",
       "layout": "IPY_MODEL_3ea838df80264d2192edce8a9181130d",
       "max": 360,
       "min": 1,
       "step": 10,
       "style": "IPY_MODEL_0a52e590d27f4b349f3a2d7810c4aa30",
       "value": 60
      }
     },
     "162768b314c04365961137f7b16496ad": {
      "model_module": "jupyter-js-widgets",
      "model_module_version": "~2.1.4",
      "model_name": "IntSliderModel",
      "state": {
       "_model_module_version": "~2.1.4",
       "_view_module_version": "~2.1.4",
       "description": "dias",
       "layout": "IPY_MODEL_c0918fabce0f476f9fd23b88c60ef05e",
       "max": 360,
       "min": 1,
       "step": 10,
       "style": "IPY_MODEL_c3cc4e66b3694b049a80917b0b1c30d5",
       "value": 30
      }
     },
     "1633df7b25b04bc9a5aba2ae18e28140": {
      "model_module": "jupyter-js-widgets",
      "model_module_version": "~2.1.4",
      "model_name": "LayoutModel",
      "state": {
       "_model_module_version": "~2.1.4",
       "_view_module_version": "~2.1.4",
       "width": "100%"
      }
     },
     "1670507ed1bc4f44b3a6d28f80544053": {
      "model_module": "jupyter-js-widgets",
      "model_module_version": "~2.1.4",
      "model_name": "LayoutModel",
      "state": {
       "_model_module_version": "~2.1.4",
       "_view_module_version": "~2.1.4",
       "width": "100%"
      }
     },
     "16cb63615b11447a8679cecc57e5ce76": {
      "model_module": "jupyter-js-widgets",
      "model_module_version": "~2.1.4",
      "model_name": "LayoutModel",
      "state": {
       "_model_module_version": "~2.1.4",
       "_view_module_version": "~2.1.4",
       "width": "100%"
      }
     },
     "171db36705d6458caff0abf2d16bf5f3": {
      "model_module": "jupyter-js-widgets",
      "model_module_version": "~2.1.4",
      "model_name": "SliderStyleModel",
      "state": {
       "_model_module_version": "~2.1.4",
       "_view_module_version": "~2.1.4"
      }
     },
     "17386266830643a9b0e91cfe2c6b804e": {
      "model_module": "jupyter-js-widgets",
      "model_module_version": "~2.1.4",
      "model_name": "SliderStyleModel",
      "state": {
       "_model_module_version": "~2.1.4",
       "_view_module_version": "~2.1.4"
      }
     },
     "17660560be8a4bd8981ac3af8bae3dc0": {
      "model_module": "jupyter-js-widgets",
      "model_module_version": "~2.1.4",
      "model_name": "SliderStyleModel",
      "state": {
       "_model_module_version": "~2.1.4",
       "_view_module_version": "~2.1.4"
      }
     },
     "177304159f15447695e23020c0fac8c9": {
      "model_module": "jupyter-js-widgets",
      "model_module_version": "~2.1.4",
      "model_name": "LayoutModel",
      "state": {
       "_model_module_version": "~2.1.4",
       "_view_module_version": "~2.1.4"
      }
     },
     "17913eb10bd044cd9d41c6861325316f": {
      "model_module": "jupyter-js-widgets",
      "model_module_version": "~2.1.4",
      "model_name": "IntSliderModel",
      "state": {
       "_model_module_version": "~2.1.4",
       "_view_module_version": "~2.1.4",
       "description": "intervalo",
       "layout": "IPY_MODEL_412409e310ef47ceaf7ac6621581bc29",
       "max": 360,
       "min": 1,
       "step": 10,
       "style": "IPY_MODEL_14f487b085e74c61b705f639a4fc7973",
       "value": 30
      }
     },
     "1802d1da82fc441c8be5e74e951ab0a4": {
      "model_module": "jupyter-js-widgets",
      "model_module_version": "~2.1.4",
      "model_name": "LayoutModel",
      "state": {
       "_model_module_version": "~2.1.4",
       "_view_module_version": "~2.1.4"
      }
     },
     "18030716e13748278dc6ccac719c9b07": {
      "model_module": "jupyter-js-widgets",
      "model_module_version": "~2.1.4",
      "model_name": "LayoutModel",
      "state": {
       "_model_module_version": "~2.1.4",
       "_view_module_version": "~2.1.4",
       "width": "100%"
      }
     },
     "18441e23c27945fb8a84dde133165f03": {
      "model_module": "jupyter-js-widgets",
      "model_module_version": "~2.1.4",
      "model_name": "LayoutModel",
      "state": {
       "_model_module_version": "~2.1.4",
       "_view_module_version": "~2.1.4"
      }
     },
     "18a99da83a4e4982bc0e311bbf454c46": {
      "model_module": "jupyter-js-widgets",
      "model_module_version": "~2.1.4",
      "model_name": "LayoutModel",
      "state": {
       "_model_module_version": "~2.1.4",
       "_view_module_version": "~2.1.4"
      }
     },
     "1951202932d944d69b6c71fd7d071940": {
      "model_module": "jupyter-js-widgets",
      "model_module_version": "~2.1.4",
      "model_name": "IntSliderModel",
      "state": {
       "_model_module_version": "~2.1.4",
       "_view_module_version": "~2.1.4",
       "description": "sueldo_inicial",
       "layout": "IPY_MODEL_552ef1bd6dff4b0ba5390dc4e51764af",
       "max": 25000,
       "step": 500,
       "style": "IPY_MODEL_5b89d04c46f74ca59644f604a10d4888",
       "value": 15000
      }
     },
     "1952cc01cc4c441387781166e8e1222c": {
      "model_module": "jupyter-js-widgets",
      "model_module_version": "~2.1.4",
      "model_name": "LayoutModel",
      "state": {
       "_model_module_version": "~2.1.4",
       "_view_module_version": "~2.1.4",
       "width": "100%"
      }
     },
     "19c2112d52894e18872ed162cf69932f": {
      "model_module": "jupyter-js-widgets",
      "model_module_version": "~2.1.4",
      "model_name": "IntSliderModel",
      "state": {
       "_model_module_version": "~2.1.4",
       "_view_module_version": "~2.1.4",
       "description": "cap",
       "layout": "IPY_MODEL_ef5781a7c7314078a2f4ebed1c109580",
       "max": 1,
       "step": 0,
       "style": "IPY_MODEL_25ed0196962445b6a697d379fcaecb3b"
      }
     },
     "19db67d649024404aa83ece6665fbeae": {
      "model_module": "jupyter-js-widgets",
      "model_module_version": "~2.1.4",
      "model_name": "SliderStyleModel",
      "state": {
       "_model_module_version": "~2.1.4",
       "_view_module_version": "~2.1.4"
      }
     },
     "1a1a81c1ea4f4f31b8cb9affc307752b": {
      "model_module": "jupyter-js-widgets",
      "model_module_version": "~2.1.4",
      "model_name": "SliderStyleModel",
      "state": {
       "_model_module_version": "~2.1.4",
       "_view_module_version": "~2.1.4"
      }
     },
     "1a804f75a8f742cf9df3055c03da2ff6": {
      "model_module": "jupyter-js-widgets",
      "model_module_version": "~2.1.4",
      "model_name": "LayoutModel",
      "state": {
       "_model_module_version": "~2.1.4",
       "_view_module_version": "~2.1.4"
      }
     },
     "1a9f5ca7a61e48388339a665fd672041": {
      "model_module": "jupyter-js-widgets",
      "model_module_version": "~2.1.4",
      "model_name": "LayoutModel",
      "state": {
       "_model_module_version": "~2.1.4",
       "_view_module_version": "~2.1.4",
       "width": "100%"
      }
     },
     "1aaf81d924e941bfb417edd3194b2f63": {
      "model_module": "jupyter-js-widgets",
      "model_module_version": "~2.1.4",
      "model_name": "LayoutModel",
      "state": {
       "_model_module_version": "~2.1.4",
       "_view_module_version": "~2.1.4",
       "width": "100%"
      }
     },
     "1acd5298455c478aa8539ee8e2cee3ae": {
      "model_module": "jupyter-js-widgets",
      "model_module_version": "~2.1.4",
      "model_name": "LayoutModel",
      "state": {
       "_model_module_version": "~2.1.4",
       "_view_module_version": "~2.1.4",
       "width": "100%"
      }
     },
     "1ae81a4418c048d7891a2f95e4d44365": {
      "model_module": "jupyter-js-widgets",
      "model_module_version": "~2.1.4",
      "model_name": "IntSliderModel",
      "state": {
       "_model_module_version": "~2.1.4",
       "_view_module_version": "~2.1.4",
       "description": "gasto_fijo_diario",
       "layout": "IPY_MODEL_8a53938b992d4bfd843adf50c94f7b64",
       "max": 1000,
       "min": 1,
       "step": 50,
       "style": "IPY_MODEL_db437519a9cb4aafa3abb4c003ff78e6",
       "value": 100
      }
     },
     "1b349b9de165467d8800eae28e193dab": {
      "model_module": "jupyter-js-widgets",
      "model_module_version": "~2.1.4",
      "model_name": "LayoutModel",
      "state": {
       "_model_module_version": "~2.1.4",
       "_view_module_version": "~2.1.4"
      }
     },
     "1b4024576b5d49e49890aa8d2e50e859": {
      "model_module": "jupyter-js-widgets",
      "model_module_version": "~2.1.4",
      "model_name": "OutputModel",
      "state": {
       "_dom_classes": [],
       "_model_module": "jupyter-js-widgets",
       "_model_module_version": "~2.1.4",
       "_view_module": "jupyter-js-widgets",
       "_view_module_version": "~2.1.4",
       "layout": "IPY_MODEL_ab007d73cedd4d9996a86611b3e124e0",
       "msg_throttle": 1
      }
     },
     "1b4349aa93e44ecea95f4ca5ab375cba": {
      "model_module": "jupyter-js-widgets",
      "model_module_version": "~2.1.4",
      "model_name": "IntSliderModel",
      "state": {
       "_model_module_version": "~2.1.4",
       "_view_module_version": "~2.1.4",
       "description": "dias",
       "layout": "IPY_MODEL_007c531764f7463385db7f57f8c01262",
       "max": 360,
       "min": 1,
       "step": 10,
       "style": "IPY_MODEL_2e917b7f954a4ccf88dc5025a141504f",
       "value": 30
      }
     },
     "1b438a34860946bd84955564455740f3": {
      "model_module": "jupyter-js-widgets",
      "model_module_version": "~2.1.4",
      "model_name": "LayoutModel",
      "state": {
       "_model_module_version": "~2.1.4",
       "_view_module_version": "~2.1.4",
       "width": "100%"
      }
     },
     "1b504e494b6a43498d15625f989a2f40": {
      "model_module": "jupyter-js-widgets",
      "model_module_version": "~2.1.4",
      "model_name": "LayoutModel",
      "state": {
       "_model_module_version": "~2.1.4",
       "_view_module_version": "~2.1.4",
       "width": "100%"
      }
     },
     "1b7a7108e75646b0992bdbb511575ba7": {
      "model_module": "jupyter-js-widgets",
      "model_module_version": "~2.1.4",
      "model_name": "IntSliderModel",
      "state": {
       "_model_module_version": "~2.1.4",
       "_view_module_version": "~2.1.4",
       "description": "sueldo_inicial",
       "layout": "IPY_MODEL_5cd6e33fc8e4488e9bbead6476743bad",
       "max": 25000,
       "step": 500,
       "style": "IPY_MODEL_113fc8fc1d5d45edae243c6797be3430",
       "value": 15000
      }
     },
     "1b989f6d83794276a9f2c682fd1f60a2": {
      "model_module": "jupyter-js-widgets",
      "model_module_version": "~2.1.4",
      "model_name": "SliderStyleModel",
      "state": {
       "_model_module_version": "~2.1.4",
       "_view_module_version": "~2.1.4"
      }
     },
     "1c3b39190f67406cb5e69406a0ac268d": {
      "model_module": "jupyter-js-widgets",
      "model_module_version": "~2.1.4",
      "model_name": "OutputModel",
      "state": {
       "_dom_classes": [],
       "_model_module": "jupyter-js-widgets",
       "_model_module_version": "~2.1.4",
       "_view_module": "jupyter-js-widgets",
       "_view_module_version": "~2.1.4",
       "layout": "IPY_MODEL_1f37dc4961e544c29ba3e6da4dadd51d",
       "msg_throttle": 1
      }
     },
     "1cc60da0929c48d38790ab2d5d65c358": {
      "model_module": "jupyter-js-widgets",
      "model_module_version": "~2.1.4",
      "model_name": "SliderStyleModel",
      "state": {
       "_model_module_version": "~2.1.4",
       "_view_module_version": "~2.1.4"
      }
     },
     "1cf1d0cce7d2496b9950d07b24918079": {
      "model_module": "jupyter-js-widgets",
      "model_module_version": "~2.1.4",
      "model_name": "LayoutModel",
      "state": {
       "_model_module_version": "~2.1.4",
       "_view_module_version": "~2.1.4",
       "width": "100%"
      }
     },
     "1cfaa9525fd740f7ad4c00b321f99383": {
      "model_module": "jupyter-js-widgets",
      "model_module_version": "~2.1.4",
      "model_name": "LayoutModel",
      "state": {
       "_model_module_version": "~2.1.4",
       "_view_module_version": "~2.1.4",
       "width": "100%"
      }
     },
     "1d059d299b584c8381e3dd4fe109156e": {
      "model_module": "jupyter-js-widgets",
      "model_module_version": "~2.1.4",
      "model_name": "LayoutModel",
      "state": {
       "_model_module_version": "~2.1.4",
       "_view_module_version": "~2.1.4",
       "width": "100%"
      }
     },
     "1d51479f7047400182a01fe86554bc3d": {
      "model_module": "jupyter-js-widgets",
      "model_module_version": "~2.1.4",
      "model_name": "LayoutModel",
      "state": {
       "_model_module_version": "~2.1.4",
       "_view_module_version": "~2.1.4"
      }
     },
     "1d8bc379fcc647ca9ba5902bb0e6c80a": {
      "model_module": "jupyter-js-widgets",
      "model_module_version": "~2.1.4",
      "model_name": "LayoutModel",
      "state": {
       "_model_module_version": "~2.1.4",
       "_view_module_version": "~2.1.4",
       "width": "100%"
      }
     },
     "1d984b1b4a7f409db93fddefd735512e": {
      "model_module": "jupyter-js-widgets",
      "model_module_version": "~2.1.4",
      "model_name": "LayoutModel",
      "state": {
       "_model_module_version": "~2.1.4",
       "_view_module_version": "~2.1.4"
      }
     },
     "1d98a51a85ce4cd8915777b441a2136a": {
      "model_module": "jupyter-js-widgets",
      "model_module_version": "~2.1.4",
      "model_name": "LayoutModel",
      "state": {
       "_model_module_version": "~2.1.4",
       "_view_module_version": "~2.1.4",
       "width": "100%"
      }
     },
     "1dd1385a7e7c46a38a5d34689e214c87": {
      "model_module": "jupyter-js-widgets",
      "model_module_version": "~2.1.4",
      "model_name": "LayoutModel",
      "state": {
       "_model_module_version": "~2.1.4",
       "_view_module_version": "~2.1.4",
       "width": "100%"
      }
     },
     "1e1cc861ccaf46f683a380ee2363da35": {
      "model_module": "jupyter-js-widgets",
      "model_module_version": "~2.1.4",
      "model_name": "IntSliderModel",
      "state": {
       "_model_module_version": "~2.1.4",
       "_view_module_version": "~2.1.4",
       "description": "intervalo",
       "layout": "IPY_MODEL_2f3c441a694f4db584f83300c089516f",
       "max": 360,
       "min": 1,
       "step": 10,
       "style": "IPY_MODEL_57330566bbb24499b559a3fd9fd732b7",
       "value": 30
      }
     },
     "1e51135e714841a19c4ffa0957b01ef6": {
      "model_module": "jupyter-js-widgets",
      "model_module_version": "~2.1.4",
      "model_name": "IntSliderModel",
      "state": {
       "_model_module_version": "~2.1.4",
       "_view_module_version": "~2.1.4",
       "description": "dias",
       "layout": "IPY_MODEL_c05863d1e3f5434f8742f7fe4e8b3df3",
       "max": 360,
       "min": 1,
       "step": 10,
       "style": "IPY_MODEL_6b9434d5d6fb4b83be1dd691a2420547",
       "value": 30
      }
     },
     "1e73897187ea4658b43133d55cad00ca": {
      "model_module": "jupyter-js-widgets",
      "model_module_version": "~2.1.4",
      "model_name": "SliderStyleModel",
      "state": {
       "_model_module_version": "~2.1.4",
       "_view_module_version": "~2.1.4"
      }
     },
     "1e8fbfa738d540d9b6a5f4913a77a8b4": {
      "model_module": "jupyter-js-widgets",
      "model_module_version": "~2.1.4",
      "model_name": "LayoutModel",
      "state": {
       "_model_module_version": "~2.1.4",
       "_view_module_version": "~2.1.4",
       "width": "100%"
      }
     },
     "1f251ef78c69457c9c83302f1f3107f3": {
      "model_module": "jupyter-js-widgets",
      "model_module_version": "~2.1.4",
      "model_name": "FloatSliderModel",
      "state": {
       "_model_module_version": "~2.1.4",
       "_view_module_version": "~2.1.4",
       "description": "tasa_gasto_extra",
       "layout": "IPY_MODEL_aacae23179d1458894c94c362402349f",
       "max": 1,
       "step": 0.05,
       "value": 0.3
      }
     },
     "1f37dc4961e544c29ba3e6da4dadd51d": {
      "model_module": "jupyter-js-widgets",
      "model_module_version": "~2.1.4",
      "model_name": "LayoutModel",
      "state": {
       "_model_module_version": "~2.1.4",
       "_view_module_version": "~2.1.4"
      }
     },
     "1f3d6121035743d39002a6393b6bedbf": {
      "model_module": "jupyter-js-widgets",
      "model_module_version": "~2.1.4",
      "model_name": "LayoutModel",
      "state": {
       "_model_module_version": "~2.1.4",
       "_view_module_version": "~2.1.4",
       "width": "100%"
      }
     },
     "1f92c1c9dd0b45c9bfe00d8bfaea7235": {
      "model_module": "jupyter-js-widgets",
      "model_module_version": "~2.1.4",
      "model_name": "LayoutModel",
      "state": {
       "_model_module_version": "~2.1.4",
       "_view_module_version": "~2.1.4",
       "width": "100%"
      }
     },
     "1fd3e362e8464192a9f36e5eba90732e": {
      "model_module": "jupyter-js-widgets",
      "model_module_version": "~2.1.4",
      "model_name": "LayoutModel",
      "state": {
       "_model_module_version": "~2.1.4",
       "_view_module_version": "~2.1.4",
       "width": "100%"
      }
     },
     "2015191ff1c14f659f7d0dab0568ca75": {
      "model_module": "jupyter-js-widgets",
      "model_module_version": "~2.1.4",
      "model_name": "LayoutModel",
      "state": {
       "_model_module_version": "~2.1.4",
       "_view_module_version": "~2.1.4",
       "width": "100%"
      }
     },
     "203fd23aade04049b4f42eba7318e76d": {
      "model_module": "jupyter-js-widgets",
      "model_module_version": "~2.1.4",
      "model_name": "LayoutModel",
      "state": {
       "_model_module_version": "~2.1.4",
       "_view_module_version": "~2.1.4",
       "width": "100%"
      }
     },
     "206b0e40b17c4f2391e76da487786c9f": {
      "model_module": "jupyter-js-widgets",
      "model_module_version": "~2.1.4",
      "model_name": "LayoutModel",
      "state": {
       "_model_module_version": "~2.1.4",
       "_view_module_version": "~2.1.4",
       "width": "100%"
      }
     },
     "207bc9b037a94feaa4593975077b7b19": {
      "model_module": "jupyter-js-widgets",
      "model_module_version": "~2.1.4",
      "model_name": "SliderStyleModel",
      "state": {
       "_model_module_version": "~2.1.4",
       "_view_module_version": "~2.1.4"
      }
     },
     "20968fc472f74743b74f32d40a05a123": {
      "model_module": "jupyter-js-widgets",
      "model_module_version": "~2.1.4",
      "model_name": "SliderStyleModel",
      "state": {
       "_model_module_version": "~2.1.4",
       "_view_module_version": "~2.1.4"
      }
     },
     "20cf373aefbd4ad4a51501e2ba290674": {
      "model_module": "jupyter-js-widgets",
      "model_module_version": "~2.1.4",
      "model_name": "SliderStyleModel",
      "state": {
       "_model_module_version": "~2.1.4",
       "_view_module_version": "~2.1.4"
      }
     },
     "2150e49bc2a644e48e8d9a029d8ae8ee": {
      "model_module": "jupyter-js-widgets",
      "model_module_version": "~2.1.4",
      "model_name": "IntSliderModel",
      "state": {
       "_model_module_version": "~2.1.4",
       "_view_module_version": "~2.1.4",
       "description": "dias",
       "layout": "IPY_MODEL_af1ba15f1bdc4d09824468b16688b4d7",
       "max": 360,
       "min": 1,
       "step": 10,
       "style": "IPY_MODEL_17386266830643a9b0e91cfe2c6b804e",
       "value": 60
      }
     },
     "21580a17a9e64917a0ff2b3e70968b80": {
      "model_module": "jupyter-js-widgets",
      "model_module_version": "~2.1.4",
      "model_name": "LayoutModel",
      "state": {
       "_model_module_version": "~2.1.4",
       "_view_module_version": "~2.1.4",
       "width": "100%"
      }
     },
     "21ca3544ec954f70a59590a86e504ce8": {
      "model_module": "jupyter-js-widgets",
      "model_module_version": "~2.1.4",
      "model_name": "VBoxModel",
      "state": {
       "_dom_classes": [
        "widget-interact"
       ],
       "_model_module_version": "~2.1.4",
       "_view_module_version": "~2.1.4",
       "children": [
        "IPY_MODEL_ff20c84841ea45c28297ac7722d1156b",
        "IPY_MODEL_8fb6137229a64af3b5f82e23c2f1cf65",
        "IPY_MODEL_041aade89c0d4ab8bbf2a1c669821c33",
        "IPY_MODEL_e3194e5b57694c20b3b9e82f4f7c68fd",
        "IPY_MODEL_56889dcdd3e24e6f93671e2c2d26ec5f",
        "IPY_MODEL_cf390057ad034351bb464708d6d021a8",
        "IPY_MODEL_4567f38d1f084edfa2731fe565c80a88",
        "IPY_MODEL_f7d660ba56994082a274932cf3757161"
       ],
       "layout": "IPY_MODEL_1802d1da82fc441c8be5e74e951ab0a4"
      }
     },
     "21f819bc56f04121b9f71655689ee6fe": {
      "model_module": "jupyter-js-widgets",
      "model_module_version": "~2.1.4",
      "model_name": "FloatSliderModel",
      "state": {
       "_model_module_version": "~2.1.4",
       "_view_module_version": "~2.1.4",
       "description": "tasa_ahorro",
       "layout": "IPY_MODEL_39c825c1a6054b3db52b2a98376c5ae4",
       "max": 1,
       "step": 0.05,
       "value": 0.2
      }
     },
     "2220a106f8684defac1acdee220f2c22": {
      "model_module": "jupyter-js-widgets",
      "model_module_version": "~2.1.4",
      "model_name": "FloatSliderModel",
      "state": {
       "_model_module_version": "~2.1.4",
       "_view_module_version": "~2.1.4",
       "description": "tasa_gasto_extra",
       "layout": "IPY_MODEL_ca892381a15940bb82999ba77d631e2e",
       "max": 1,
       "step": 0.01,
       "value": 0.3
      }
     },
     "225515574e1b4d8087547803ce7f3b8b": {
      "model_module": "jupyter-js-widgets",
      "model_module_version": "~2.1.4",
      "model_name": "VBoxModel",
      "state": {
       "_dom_classes": [
        "widget-interact"
       ],
       "_model_module_version": "~2.1.4",
       "_view_module_version": "~2.1.4",
       "children": [
        "IPY_MODEL_b5eafaba18b34fd1ae1c864aea19219b",
        "IPY_MODEL_857f55c0a1644f8888fe80d459006400",
        "IPY_MODEL_da679cd9f1744eae98381d8506c75fb7",
        "IPY_MODEL_54613ff837754fe8a1318b24f6a5c3c8",
        "IPY_MODEL_c10ab1d33675417788465d4e3837281d",
        "IPY_MODEL_7d25f41a79ef4630aa401087723923ad",
        "IPY_MODEL_deefd5a2aafd485b84496719e3b64409",
        "IPY_MODEL_c68a27bece884bcca7aa7eb341a62046"
       ],
       "layout": "IPY_MODEL_3c2ca3b007ba4a07a5ba36850504d188"
      }
     },
     "22c0c67eb0404b6c810f8c9f1c06eeda": {
      "model_module": "jupyter-js-widgets",
      "model_module_version": "~2.1.4",
      "model_name": "SliderStyleModel",
      "state": {
       "_model_module_version": "~2.1.4",
       "_view_module_version": "~2.1.4"
      }
     },
     "22f48efa76e54b83be8a65154664acb2": {
      "model_module": "jupyter-js-widgets",
      "model_module_version": "~2.1.4",
      "model_name": "LayoutModel",
      "state": {
       "_model_module_version": "~2.1.4",
       "_view_module_version": "~2.1.4"
      }
     },
     "23114bbb442e4152810b003ce509e5f7": {
      "model_module": "jupyter-js-widgets",
      "model_module_version": "~2.1.4",
      "model_name": "VBoxModel",
      "state": {
       "_dom_classes": [
        "widget-interact"
       ],
       "_model_module_version": "~2.1.4",
       "_view_module_version": "~2.1.4",
       "children": [
        "IPY_MODEL_12f73f1357be4a3f8ee47f5a4443f9d4",
        "IPY_MODEL_5f13320a64484fbb80efd88b2b8fcb9e",
        "IPY_MODEL_f570a24d39904f1caa5fc0173b339a46",
        "IPY_MODEL_4d9dd2c825dd421bb6caa3430e9054b0",
        "IPY_MODEL_b118ccc311814399b6eeb2ce7a77525e",
        "IPY_MODEL_e83270a9409d405cb1979562bbb5d099",
        "IPY_MODEL_cf9045e8ba4a4496a7f08b50512c79d8",
        "IPY_MODEL_a4514d7459714e74bbf41e2b34def0ad"
       ],
       "layout": "IPY_MODEL_029b26f9499041feaaa18433621a4ff1"
      }
     },
     "2326d475b6364112a4908d3b41e8d4e5": {
      "model_module": "jupyter-js-widgets",
      "model_module_version": "~2.1.4",
      "model_name": "LayoutModel",
      "state": {
       "_model_module_version": "~2.1.4",
       "_view_module_version": "~2.1.4",
       "width": "100%"
      }
     },
     "23758e58e9384463b4e1b5cfd1b43f1f": {
      "model_module": "jupyter-js-widgets",
      "model_module_version": "~2.1.4",
      "model_name": "IntSliderModel",
      "state": {
       "_model_module_version": "~2.1.4",
       "_view_module_version": "~2.1.4",
       "description": "intervalo",
       "layout": "IPY_MODEL_a9e686bd98cc42f88b7636fbf3fbf6d4",
       "max": 360,
       "min": 1,
       "step": 10,
       "style": "IPY_MODEL_069e6efa0d2d4dacb66b617192f63c6f",
       "value": 30
      }
     },
     "23e903eaba3c40f3bce75a45bda90d9d": {
      "model_module": "jupyter-js-widgets",
      "model_module_version": "~2.1.4",
      "model_name": "SliderStyleModel",
      "state": {
       "_model_module_version": "~2.1.4",
       "_view_module_version": "~2.1.4"
      }
     },
     "24553e3b2fea47bca97fc408385705ac": {
      "model_module": "jupyter-js-widgets",
      "model_module_version": "~2.1.4",
      "model_name": "LayoutModel",
      "state": {
       "_model_module_version": "~2.1.4",
       "_view_module_version": "~2.1.4",
       "width": "100%"
      }
     },
     "2475a629cee4440f9670e1d50c312c6b": {
      "model_module": "jupyter-js-widgets",
      "model_module_version": "~2.1.4",
      "model_name": "IntSliderModel",
      "state": {
       "_model_module_version": "~2.1.4",
       "_view_module_version": "~2.1.4",
       "description": "sueldo_inicial",
       "layout": "IPY_MODEL_f5a1b4c2107d4664a5c8e6c179452b65",
       "max": 25000,
       "step": 500,
       "style": "IPY_MODEL_807c49d98dda4618be36f5763c22152c",
       "value": 15000
      }
     },
     "24a55996423a4d529c3de6c11eabce3d": {
      "model_module": "jupyter-js-widgets",
      "model_module_version": "~2.1.4",
      "model_name": "FloatSliderModel",
      "state": {
       "_model_module_version": "~2.1.4",
       "_view_module_version": "~2.1.4",
       "description": "tasa_gasto_extra",
       "layout": "IPY_MODEL_55dc21758a904d208076abfd66ad8403",
       "max": 1,
       "step": 0.01,
       "value": 0.3
      }
     },
     "24e4e7b161e449b3bb4c7bbfb12b48a4": {
      "model_module": "jupyter-js-widgets",
      "model_module_version": "~2.1.4",
      "model_name": "IntSliderModel",
      "state": {
       "_model_module_version": "~2.1.4",
       "_view_module_version": "~2.1.4",
       "description": "intervalo",
       "layout": "IPY_MODEL_717a5c16490644fe8778abd724f170e8",
       "max": 360,
       "min": 1,
       "step": 10,
       "style": "IPY_MODEL_405c9a6812294039990584236c910dd2",
       "value": 30
      }
     },
     "2573e106f2b14789bc15084b7886ceba": {
      "model_module": "jupyter-js-widgets",
      "model_module_version": "~2.1.4",
      "model_name": "LayoutModel",
      "state": {
       "_model_module_version": "~2.1.4",
       "_view_module_version": "~2.1.4",
       "width": "100%"
      }
     },
     "2582de81be734184ad452ea6e4f26d91": {
      "model_module": "jupyter-js-widgets",
      "model_module_version": "~2.1.4",
      "model_name": "VBoxModel",
      "state": {
       "_dom_classes": [
        "widget-interact"
       ],
       "_model_module_version": "~2.1.4",
       "_view_module_version": "~2.1.4",
       "children": [
        "IPY_MODEL_9199f760b58d4111a91a9e70d327f7c3",
        "IPY_MODEL_92b49a86e98f48f2bf6ca67dea90e287",
        "IPY_MODEL_a04fc3a34b194d98961afc3ba583d3dc",
        "IPY_MODEL_c9cdd059493544c1be7112801de74783",
        "IPY_MODEL_a5a3ec6abb104c04a4fd54cc67421aa5",
        "IPY_MODEL_838135dfbc014212a9fdf81b79a6dc06",
        "IPY_MODEL_81c35b2311cf4f5a9c5eb95d2731d731",
        "IPY_MODEL_7e085e71af464e72927d0b9fc66420fc"
       ],
       "layout": "IPY_MODEL_dbe05e09b3314be5b631dfa7e87c672b"
      }
     },
     "258a651cb33d47e9a110e42299f95e47": {
      "model_module": "jupyter-js-widgets",
      "model_module_version": "~2.1.4",
      "model_name": "LayoutModel",
      "state": {
       "_model_module_version": "~2.1.4",
       "_view_module_version": "~2.1.4"
      }
     },
     "25d60461622b4463af139ec9f75768e2": {
      "model_module": "jupyter-js-widgets",
      "model_module_version": "~2.1.4",
      "model_name": "LayoutModel",
      "state": {
       "_model_module_version": "~2.1.4",
       "_view_module_version": "~2.1.4",
       "width": "100%"
      }
     },
     "25e6816862354bdebad7469347cfe9be": {
      "model_module": "jupyter-js-widgets",
      "model_module_version": "~2.1.4",
      "model_name": "LayoutModel",
      "state": {
       "_model_module_version": "~2.1.4",
       "_view_module_version": "~2.1.4",
       "width": "100%"
      }
     },
     "25ed0196962445b6a697d379fcaecb3b": {
      "model_module": "jupyter-js-widgets",
      "model_module_version": "~2.1.4",
      "model_name": "SliderStyleModel",
      "state": {
       "_model_module_version": "~2.1.4",
       "_view_module_version": "~2.1.4"
      }
     },
     "26434c336e9543a58582e4147bfd95af": {
      "model_module": "jupyter-js-widgets",
      "model_module_version": "~2.1.4",
      "model_name": "SliderStyleModel",
      "state": {
       "_model_module_version": "~2.1.4",
       "_view_module_version": "~2.1.4"
      }
     },
     "2674c34c816f44e9b0505bff6e362dcd": {
      "model_module": "jupyter-js-widgets",
      "model_module_version": "~2.1.4",
      "model_name": "LayoutModel",
      "state": {
       "_model_module_version": "~2.1.4",
       "_view_module_version": "~2.1.4",
       "width": "100%"
      }
     },
     "2682c72519a6432fa0b4f379b679d636": {
      "model_module": "jupyter-js-widgets",
      "model_module_version": "~2.1.4",
      "model_name": "SliderStyleModel",
      "state": {
       "_model_module_version": "~2.1.4",
       "_view_module_version": "~2.1.4"
      }
     },
     "26e69f04ebad4dde8c25b7596b9f81b5": {
      "model_module": "jupyter-js-widgets",
      "model_module_version": "~2.1.4",
      "model_name": "LayoutModel",
      "state": {
       "_model_module_version": "~2.1.4",
       "_view_module_version": "~2.1.4",
       "width": "100%"
      }
     },
     "2712be7d676a498fad2f4a3c92da942d": {
      "model_module": "jupyter-js-widgets",
      "model_module_version": "~2.1.4",
      "model_name": "SliderStyleModel",
      "state": {
       "_model_module_version": "~2.1.4",
       "_view_module_version": "~2.1.4"
      }
     },
     "271a027bbada4425b06035f906fefa7b": {
      "model_module": "jupyter-js-widgets",
      "model_module_version": "~2.1.4",
      "model_name": "LayoutModel",
      "state": {
       "_model_module_version": "~2.1.4",
       "_view_module_version": "~2.1.4"
      }
     },
     "27460c74eb9641d08169e32127cb2af4": {
      "model_module": "jupyter-js-widgets",
      "model_module_version": "~2.1.4",
      "model_name": "SliderStyleModel",
      "state": {
       "_model_module_version": "~2.1.4",
       "_view_module_version": "~2.1.4"
      }
     },
     "275ba1124e544725ba52d59dd2f14684": {
      "model_module": "jupyter-js-widgets",
      "model_module_version": "~2.1.4",
      "model_name": "LayoutModel",
      "state": {
       "_model_module_version": "~2.1.4",
       "_view_module_version": "~2.1.4",
       "width": "100%"
      }
     },
     "278af4639d414a79a3e63d3bdb195563": {
      "model_module": "jupyter-js-widgets",
      "model_module_version": "~2.1.4",
      "model_name": "LayoutModel",
      "state": {
       "_model_module_version": "~2.1.4",
       "_view_module_version": "~2.1.4",
       "width": "100%"
      }
     },
     "27983ff0260a4b4c94286f4d4ab53a77": {
      "model_module": "jupyter-js-widgets",
      "model_module_version": "~2.1.4",
      "model_name": "LayoutModel",
      "state": {
       "_model_module_version": "~2.1.4",
       "_view_module_version": "~2.1.4",
       "width": "100%"
      }
     },
     "27c5c7d064ee4baaa249d7c54086aec9": {
      "model_module": "jupyter-js-widgets",
      "model_module_version": "~2.1.4",
      "model_name": "IntSliderModel",
      "state": {
       "_model_module_version": "~2.1.4",
       "_view_module_version": "~2.1.4",
       "description": "dias",
       "layout": "IPY_MODEL_f74e86b0176740e1b4cd657d60570e67",
       "max": 360,
       "min": 1,
       "step": 10,
       "style": "IPY_MODEL_d2c93bff9cb043d3b616c116b1e7503e",
       "value": 30
      }
     },
     "27fbc19eb1894d9c824c41a53a1d3ae9": {
      "model_module": "jupyter-js-widgets",
      "model_module_version": "~2.1.4",
      "model_name": "IntSliderModel",
      "state": {
       "_model_module_version": "~2.1.4",
       "_view_module_version": "~2.1.4",
       "description": "dias",
       "layout": "IPY_MODEL_c1fd53175d8546a4b03fe316bdff1a99",
       "max": 360,
       "min": 1,
       "step": 10,
       "style": "IPY_MODEL_fb6ce20aeef245bd818d6e0d616a181e",
       "value": 51
      }
     },
     "28371cd33393430e89860305e9d2bc85": {
      "model_module": "jupyter-js-widgets",
      "model_module_version": "~2.1.4",
      "model_name": "LayoutModel",
      "state": {
       "_model_module_version": "~2.1.4",
       "_view_module_version": "~2.1.4",
       "width": "100%"
      }
     },
     "286a813531194257912a12d93f49c39a": {
      "model_module": "jupyter-js-widgets",
      "model_module_version": "~2.1.4",
      "model_name": "SliderStyleModel",
      "state": {
       "_model_module_version": "~2.1.4",
       "_view_module_version": "~2.1.4"
      }
     },
     "28888131991d412794295d52ab6bdc0e": {
      "model_module": "jupyter-js-widgets",
      "model_module_version": "~2.1.4",
      "model_name": "LayoutModel",
      "state": {
       "_model_module_version": "~2.1.4",
       "_view_module_version": "~2.1.4",
       "width": "100%"
      }
     },
     "28b3daa16545412ab7d4d0ea16771481": {
      "model_module": "jupyter-js-widgets",
      "model_module_version": "~2.1.4",
      "model_name": "SliderStyleModel",
      "state": {
       "_model_module_version": "~2.1.4",
       "_view_module_version": "~2.1.4"
      }
     },
     "2906d822da16495f8ed4b95596753b59": {
      "model_module": "jupyter-js-widgets",
      "model_module_version": "~2.1.4",
      "model_name": "SliderStyleModel",
      "state": {
       "_model_module_version": "~2.1.4",
       "_view_module_version": "~2.1.4"
      }
     },
     "2926395d072a4f0c842dff23ae2e9aef": {
      "model_module": "jupyter-js-widgets",
      "model_module_version": "~2.1.4",
      "model_name": "LayoutModel",
      "state": {
       "_model_module_version": "~2.1.4",
       "_view_module_version": "~2.1.4"
      }
     },
     "2934441fe9e34a4e8bab7e8365da0085": {
      "model_module": "jupyter-js-widgets",
      "model_module_version": "~2.1.4",
      "model_name": "LayoutModel",
      "state": {
       "_model_module_version": "~2.1.4",
       "_view_module_version": "~2.1.4",
       "width": "100%"
      }
     },
     "29408cbbec9e4b87a41a72f42b70b229": {
      "model_module": "jupyter-js-widgets",
      "model_module_version": "~2.1.4",
      "model_name": "LayoutModel",
      "state": {
       "_model_module_version": "~2.1.4",
       "_view_module_version": "~2.1.4",
       "width": "100%"
      }
     },
     "29d01d9ce51a4893991bcd893c13f2d2": {
      "model_module": "jupyter-js-widgets",
      "model_module_version": "~2.1.4",
      "model_name": "LayoutModel",
      "state": {
       "_model_module_version": "~2.1.4",
       "_view_module_version": "~2.1.4"
      }
     },
     "29dbd4e5caa04f249c3729ddef69eb56": {
      "model_module": "jupyter-js-widgets",
      "model_module_version": "~2.1.4",
      "model_name": "IntSliderModel",
      "state": {
       "_model_module_version": "~2.1.4",
       "_view_module_version": "~2.1.4",
       "description": "intervalo",
       "layout": "IPY_MODEL_a05aa76e96934af88b034ccd1193208d",
       "max": 360,
       "min": 1,
       "step": 10,
       "style": "IPY_MODEL_e7523ea7f7db4b5c92072596ff394428",
       "value": 30
      }
     },
     "2a82996bdd864085bcd425d77ceb215b": {
      "model_module": "jupyter-js-widgets",
      "model_module_version": "~2.1.4",
      "model_name": "FloatSliderModel",
      "state": {
       "_model_module_version": "~2.1.4",
       "_view_module_version": "~2.1.4",
       "description": "tasa_ahorro",
       "layout": "IPY_MODEL_ea2333f5c9a64df79c3601376afb51ef",
       "max": 1,
       "step": 0.01,
       "value": 0.2
      }
     },
     "2aa34d885e4a4d66b61d7b93b311486e": {
      "model_module": "jupyter-js-widgets",
      "model_module_version": "~2.1.4",
      "model_name": "LayoutModel",
      "state": {
       "_model_module_version": "~2.1.4",
       "_view_module_version": "~2.1.4",
       "width": "100%"
      }
     },
     "2ab25805a8b440a6ad031c41d6a9bf3e": {
      "model_module": "jupyter-js-widgets",
      "model_module_version": "~2.1.4",
      "model_name": "FloatSliderModel",
      "state": {
       "_model_module_version": "~2.1.4",
       "_view_module_version": "~2.1.4",
       "description": "tasa_ahorro",
       "layout": "IPY_MODEL_73eb8f93f7e249c3b3129b416931d740",
       "max": 1,
       "step": 0.01,
       "value": 0.2
      }
     },
     "2ace8a9be97d4134a7db5e04368e79ea": {
      "model_module": "jupyter-js-widgets",
      "model_module_version": "~2.1.4",
      "model_name": "LayoutModel",
      "state": {
       "_model_module_version": "~2.1.4",
       "_view_module_version": "~2.1.4",
       "width": "100%"
      }
     },
     "2b063a9851ac434b9610435c60aa32bb": {
      "model_module": "jupyter-js-widgets",
      "model_module_version": "~2.1.4",
      "model_name": "LayoutModel",
      "state": {
       "_model_module_version": "~2.1.4",
       "_view_module_version": "~2.1.4",
       "width": "100%"
      }
     },
     "2bf36c918c314388bdf1ff77510de960": {
      "model_module": "jupyter-js-widgets",
      "model_module_version": "~2.1.4",
      "model_name": "LayoutModel",
      "state": {
       "_model_module_version": "~2.1.4",
       "_view_module_version": "~2.1.4",
       "width": "100%"
      }
     },
     "2bff5bf48e8647a88d0ffd7f0938149f": {
      "model_module": "jupyter-js-widgets",
      "model_module_version": "~2.1.4",
      "model_name": "LayoutModel",
      "state": {
       "_model_module_version": "~2.1.4",
       "_view_module_version": "~2.1.4"
      }
     },
     "2c2b3cabeb47441b9467b948fdb525df": {
      "model_module": "jupyter-js-widgets",
      "model_module_version": "~2.1.4",
      "model_name": "OutputModel",
      "state": {
       "_dom_classes": [],
       "_model_module": "jupyter-js-widgets",
       "_model_module_version": "~2.1.4",
       "_view_module": "jupyter-js-widgets",
       "_view_module_version": "~2.1.4",
       "layout": "IPY_MODEL_8910af21d3ba426298f71a914b2ae19b",
       "msg_throttle": 1
      }
     },
     "2c4d54ac8171489fb5bdb62598580684": {
      "model_module": "jupyter-js-widgets",
      "model_module_version": "~2.1.4",
      "model_name": "IntSliderModel",
      "state": {
       "_model_module_version": "~2.1.4",
       "_view_module_version": "~2.1.4",
       "description": "dias",
       "layout": "IPY_MODEL_dd95c9b0b85144b5915f06c3c7af40db",
       "max": 360,
       "min": 1,
       "step": 10,
       "style": "IPY_MODEL_be9c3949841b4fe587e81202a2584c30",
       "value": 30
      }
     },
     "2c97273df7894601bb9ae9f9b0c844a1": {
      "model_module": "jupyter-js-widgets",
      "model_module_version": "~2.1.4",
      "model_name": "LayoutModel",
      "state": {
       "_model_module_version": "~2.1.4",
       "_view_module_version": "~2.1.4",
       "width": "100%"
      }
     },
     "2cc61afafda5498086f775e38b7ba3a8": {
      "model_module": "jupyter-js-widgets",
      "model_module_version": "~2.1.4",
      "model_name": "IntSliderModel",
      "state": {
       "_model_module_version": "~2.1.4",
       "_view_module_version": "~2.1.4",
       "description": "sueldo_inicial",
       "layout": "IPY_MODEL_c2f70cd86a3941c2bb079262bbabedb9",
       "max": 25000,
       "step": 500,
       "style": "IPY_MODEL_d54e986bf9934d629dac80e59e0cf885",
       "value": 15000
      }
     },
     "2d3df5b2040441598aa075bf09a1f361": {
      "model_module": "jupyter-js-widgets",
      "model_module_version": "~2.1.4",
      "model_name": "LayoutModel",
      "state": {
       "_model_module_version": "~2.1.4",
       "_view_module_version": "~2.1.4",
       "width": "100%"
      }
     },
     "2d5cfbdb430447dd92d8512e27366631": {
      "model_module": "jupyter-js-widgets",
      "model_module_version": "~2.1.4",
      "model_name": "SliderStyleModel",
      "state": {
       "_model_module_version": "~2.1.4",
       "_view_module_version": "~2.1.4"
      }
     },
     "2d8f0f820d774fbd9ab1901dec35a0ea": {
      "model_module": "jupyter-js-widgets",
      "model_module_version": "~2.1.4",
      "model_name": "LayoutModel",
      "state": {
       "_model_module_version": "~2.1.4",
       "_view_module_version": "~2.1.4",
       "width": "100%"
      }
     },
     "2db9896eac1e4f8589eef8c912317750": {
      "model_module": "jupyter-js-widgets",
      "model_module_version": "~2.1.4",
      "model_name": "IntSliderModel",
      "state": {
       "_model_module_version": "~2.1.4",
       "_view_module_version": "~2.1.4",
       "description": "dias",
       "layout": "IPY_MODEL_d6bc473663be4a9e8438d6bd079ab197",
       "max": 360,
       "min": 1,
       "step": 10,
       "style": "IPY_MODEL_d3e2e0eb40184b54b4bb46400e629327",
       "value": 41
      }
     },
     "2e105e9e3f2a4dda89f09f302cc2ae7a": {
      "model_module": "jupyter-js-widgets",
      "model_module_version": "~2.1.4",
      "model_name": "LayoutModel",
      "state": {
       "_model_module_version": "~2.1.4",
       "_view_module_version": "~2.1.4",
       "width": "100%"
      }
     },
     "2e277cb07f83492bb05b11585c3f1d1b": {
      "model_module": "jupyter-js-widgets",
      "model_module_version": "~2.1.4",
      "model_name": "LayoutModel",
      "state": {
       "_model_module_version": "~2.1.4",
       "_view_module_version": "~2.1.4",
       "width": "100%"
      }
     },
     "2e917b7f954a4ccf88dc5025a141504f": {
      "model_module": "jupyter-js-widgets",
      "model_module_version": "~2.1.4",
      "model_name": "SliderStyleModel",
      "state": {
       "_model_module_version": "~2.1.4",
       "_view_module_version": "~2.1.4"
      }
     },
     "2ea8e8800bee4a908eddafed6e9489cc": {
      "model_module": "jupyter-js-widgets",
      "model_module_version": "~2.1.4",
      "model_name": "LayoutModel",
      "state": {
       "_model_module_version": "~2.1.4",
       "_view_module_version": "~2.1.4"
      }
     },
     "2f3c441a694f4db584f83300c089516f": {
      "model_module": "jupyter-js-widgets",
      "model_module_version": "~2.1.4",
      "model_name": "LayoutModel",
      "state": {
       "_model_module_version": "~2.1.4",
       "_view_module_version": "~2.1.4",
       "width": "100%"
      }
     },
     "2f414a908fe4465abf4a30b1118e012b": {
      "model_module": "jupyter-js-widgets",
      "model_module_version": "~2.1.4",
      "model_name": "FloatSliderModel",
      "state": {
       "_model_module_version": "~2.1.4",
       "_view_module_version": "~2.1.4",
       "description": "tasa_ahorro",
       "layout": "IPY_MODEL_7f96f0bbbc314094b9d5d54e94a6b3cf",
       "max": 1,
       "step": 0.05,
       "value": 0.2
      }
     },
     "2f9477c7ce9842faadd6afaaae7222ae": {
      "model_module": "jupyter-js-widgets",
      "model_module_version": "~2.1.4",
      "model_name": "OutputModel",
      "state": {
       "_dom_classes": [],
       "_model_module": "jupyter-js-widgets",
       "_model_module_version": "~2.1.4",
       "_view_module": "jupyter-js-widgets",
       "_view_module_version": "~2.1.4",
       "layout": "IPY_MODEL_0f6230659af04421ba8fb628dba004f1",
       "msg_throttle": 1
      }
     },
     "2fca45e0cf3b4a51a1a4992ab5a23ffc": {
      "model_module": "jupyter-js-widgets",
      "model_module_version": "~2.1.4",
      "model_name": "SliderStyleModel",
      "state": {
       "_model_module_version": "~2.1.4",
       "_view_module_version": "~2.1.4"
      }
     },
     "301a9fe7e8f94430a57943f04ae61694": {
      "model_module": "jupyter-js-widgets",
      "model_module_version": "~2.1.4",
      "model_name": "IntSliderModel",
      "state": {
       "_model_module_version": "~2.1.4",
       "_view_module_version": "~2.1.4",
       "description": "intervalo",
       "layout": "IPY_MODEL_63d1579a92c24e0cb6d3d93f9929f0f7",
       "max": 360,
       "min": 1,
       "step": 10,
       "style": "IPY_MODEL_d6f347a21eac4f949d95309e29f55965",
       "value": 30
      }
     },
     "301b1fa9d1bd4ba694e326d682641e67": {
      "model_module": "jupyter-js-widgets",
      "model_module_version": "~2.1.4",
      "model_name": "VBoxModel",
      "state": {
       "_dom_classes": [
        "widget-interact"
       ],
       "_model_module_version": "~2.1.4",
       "_view_module_version": "~2.1.4",
       "children": [
        "IPY_MODEL_de321fe40e6d414692eae8dbb3bf9929",
        "IPY_MODEL_b51f8b5001124c54ad6d73900caa707a",
        "IPY_MODEL_ca08fea17a904b9ca46ee0c56d557ee9",
        "IPY_MODEL_01a8800523704eb38c176ee4dc51bf52",
        "IPY_MODEL_fd5844b51fd145969750e0225a658bcf",
        "IPY_MODEL_6b95b9a890ea4c0aa49bde0f33129453"
       ],
       "layout": "IPY_MODEL_90477522814a4952b81ae1c9186991fd"
      }
     },
     "306e8174e3e34c29bb512bed41cdbcf0": {
      "model_module": "jupyter-js-widgets",
      "model_module_version": "~2.1.4",
      "model_name": "IntSliderModel",
      "state": {
       "_model_module_version": "~2.1.4",
       "_view_module_version": "~2.1.4",
       "description": "intervalo",
       "layout": "IPY_MODEL_d41cda49bc404df7a8747ce71e2bf33f",
       "max": 360,
       "min": 1,
       "step": 10,
       "style": "IPY_MODEL_dfc9700ef8bf44fba52fda422f86efe8",
       "value": 30
      }
     },
     "30977fcf54b842bfb24bf0348a9a44c9": {
      "model_module": "jupyter-js-widgets",
      "model_module_version": "~2.1.4",
      "model_name": "IntSliderModel",
      "state": {
       "_model_module_version": "~2.1.4",
       "_view_module_version": "~2.1.4",
       "description": "sueldo_inicial",
       "layout": "IPY_MODEL_31bf64fbeab34667881e9936c3bcb618",
       "max": 25000,
       "step": 500,
       "style": "IPY_MODEL_2906d822da16495f8ed4b95596753b59",
       "value": 15000
      }
     },
     "30b13dccfc8d48c78546f75720fa7666": {
      "model_module": "jupyter-js-widgets",
      "model_module_version": "~2.1.4",
      "model_name": "VBoxModel",
      "state": {
       "_dom_classes": [
        "widget-interact"
       ],
       "_model_module_version": "~2.1.4",
       "_view_module_version": "~2.1.4",
       "children": [
        "IPY_MODEL_7720a64ffc6d4f02b918dcdcb8bdf086",
        "IPY_MODEL_2ab25805a8b440a6ad031c41d6a9bf3e",
        "IPY_MODEL_324ccb1dac634119b5726e5e13865591",
        "IPY_MODEL_8131efbc292145b49ed6b32feae01004",
        "IPY_MODEL_9c44bef9017c43bfa54a1b1a5f045b78",
        "IPY_MODEL_8ceaf04e58be4f29afcce70ddd966f19",
        "IPY_MODEL_dbc6413d2836465ab226e16b7b3b0323",
        "IPY_MODEL_0b6b45c855e74a5f964a8f73de29a085"
       ],
       "layout": "IPY_MODEL_ffce00de703245a28dd3c5b97d7d20bf"
      }
     },
     "30d7da75261e4ddd9316da86be2363d0": {
      "model_module": "jupyter-js-widgets",
      "model_module_version": "~2.1.4",
      "model_name": "LayoutModel",
      "state": {
       "_model_module_version": "~2.1.4",
       "_view_module_version": "~2.1.4",
       "width": "100%"
      }
     },
     "31311e853e394ce4a3cb7a9ad11fe0f5": {
      "model_module": "jupyter-js-widgets",
      "model_module_version": "~2.1.4",
      "model_name": "VBoxModel",
      "state": {
       "_dom_classes": [
        "widget-interact"
       ],
       "_model_module_version": "~2.1.4",
       "_view_module_version": "~2.1.4",
       "children": [
        "IPY_MODEL_051ec9573f4b4d71a7796e24a86337f2",
        "IPY_MODEL_05384823777a4dab84746229e0be48b4",
        "IPY_MODEL_3f6a324f9f4a47619c2e854580d8ae0e",
        "IPY_MODEL_896fc91a9bb841ea84b222398557602b",
        "IPY_MODEL_6264a8af3e514703a416c67417ccb598",
        "IPY_MODEL_9159fb6af783494c8e5e1661c510d47f",
        "IPY_MODEL_4c1202d3f9d14cff93c6d7765dce4c5a",
        "IPY_MODEL_865e4c9e662f4530b74334a117695f7d"
       ],
       "layout": "IPY_MODEL_6bf3181960214238a8cb26dac3899815"
      }
     },
     "3187f179b7f54a16831b5e14845f5b2f": {
      "model_module": "jupyter-js-widgets",
      "model_module_version": "~2.1.4",
      "model_name": "LayoutModel",
      "state": {
       "_model_module_version": "~2.1.4",
       "_view_module_version": "~2.1.4",
       "width": "100%"
      }
     },
     "31a8bd8218074d30a865efab6f66656c": {
      "model_module": "jupyter-js-widgets",
      "model_module_version": "~2.1.4",
      "model_name": "VBoxModel",
      "state": {
       "_dom_classes": [
        "widget-interact"
       ],
       "_model_module_version": "~2.1.4",
       "_view_module_version": "~2.1.4",
       "children": [
        "IPY_MODEL_8082f61ba6c04493be359ce65c7ea153",
        "IPY_MODEL_b096de42797e4775a77d0b4e85db424a",
        "IPY_MODEL_d75f746887c7463e88cffa776e6d4d7b",
        "IPY_MODEL_8b5b60742ea1487f8e378c67f8d6f888",
        "IPY_MODEL_158d1760a9334deab5a4c7f75e6de3c1",
        "IPY_MODEL_a5086651f5c64e29a6e32d2eb2c7c96c",
        "IPY_MODEL_affbb5d8d4094b67a983da5348d104f1",
        "IPY_MODEL_2c2b3cabeb47441b9467b948fdb525df"
       ],
       "layout": "IPY_MODEL_94f3c6c438434046af96afefc8088096"
      }
     },
     "31b79404379741ceacf3eaa4a9cf27df": {
      "model_module": "jupyter-js-widgets",
      "model_module_version": "~2.1.4",
      "model_name": "OutputModel",
      "state": {
       "_dom_classes": [],
       "_model_module": "jupyter-js-widgets",
       "_model_module_version": "~2.1.4",
       "_view_module": "jupyter-js-widgets",
       "_view_module_version": "~2.1.4",
       "layout": "IPY_MODEL_929bce4f0bba48fe9f74d52f3b5497ac",
       "msg_throttle": 1
      }
     },
     "31bf64fbeab34667881e9936c3bcb618": {
      "model_module": "jupyter-js-widgets",
      "model_module_version": "~2.1.4",
      "model_name": "LayoutModel",
      "state": {
       "_model_module_version": "~2.1.4",
       "_view_module_version": "~2.1.4",
       "width": "100%"
      }
     },
     "31d1260fd55b45489839f5c73b5856fb": {
      "model_module": "jupyter-js-widgets",
      "model_module_version": "~2.1.4",
      "model_name": "SliderStyleModel",
      "state": {
       "_model_module_version": "~2.1.4",
       "_view_module_version": "~2.1.4"
      }
     },
     "32062d5041b34f21b1894d01e043d421": {
      "model_module": "jupyter-js-widgets",
      "model_module_version": "~2.1.4",
      "model_name": "SliderStyleModel",
      "state": {
       "_model_module_version": "~2.1.4",
       "_view_module_version": "~2.1.4"
      }
     },
     "322f42a083994540b4120fcba3d419b8": {
      "model_module": "jupyter-js-widgets",
      "model_module_version": "~2.1.4",
      "model_name": "SliderStyleModel",
      "state": {
       "_model_module_version": "~2.1.4",
       "_view_module_version": "~2.1.4"
      }
     },
     "324ccb1dac634119b5726e5e13865591": {
      "model_module": "jupyter-js-widgets",
      "model_module_version": "~2.1.4",
      "model_name": "FloatSliderModel",
      "state": {
       "_model_module_version": "~2.1.4",
       "_view_module_version": "~2.1.4",
       "description": "tasa_gasto_extra",
       "layout": "IPY_MODEL_332626e0475b4e1eb4fb24f2886b0394",
       "max": 1,
       "step": 0.01,
       "value": 0.3
      }
     },
     "32519b80ee31474f912bb11de560ad8e": {
      "model_module": "jupyter-js-widgets",
      "model_module_version": "~2.1.4",
      "model_name": "FloatSliderModel",
      "state": {
       "_model_module_version": "~2.1.4",
       "_view_module_version": "~2.1.4",
       "description": "paso",
       "layout": "IPY_MODEL_e310ffd141254088b70b8cd96a4a976d",
       "max": 1,
       "step": 0.01,
       "value": 0.1
      }
     },
     "326a514162314f29b28ab361cd32ceb3": {
      "model_module": "jupyter-js-widgets",
      "model_module_version": "~2.1.4",
      "model_name": "LayoutModel",
      "state": {
       "_model_module_version": "~2.1.4",
       "_view_module_version": "~2.1.4"
      }
     },
     "327d3fb52e42411696211b17e825ae57": {
      "model_module": "jupyter-js-widgets",
      "model_module_version": "~2.1.4",
      "model_name": "IntSliderModel",
      "state": {
       "_model_module_version": "~2.1.4",
       "_view_module_version": "~2.1.4",
       "description": "intervalo",
       "layout": "IPY_MODEL_8d6d0e52a1304246891e63fefd2230fb",
       "max": 360,
       "min": 1,
       "step": 10,
       "style": "IPY_MODEL_69a218c89a204d82b7ce5e4cc407aa59",
       "value": 30
      }
     },
     "32aceeee99554e43bbc58ffe56f28460": {
      "model_module": "jupyter-js-widgets",
      "model_module_version": "~2.1.4",
      "model_name": "FloatSliderModel",
      "state": {
       "_model_module_version": "~2.1.4",
       "_view_module_version": "~2.1.4",
       "description": "paso",
       "layout": "IPY_MODEL_3a707425684846a0af65ae7275989256",
       "max": 1,
       "step": 0.01,
       "value": 0.1
      }
     },
     "32f175f82e694f758e397312d8529b36": {
      "model_module": "jupyter-js-widgets",
      "model_module_version": "~2.1.4",
      "model_name": "IntSliderModel",
      "state": {
       "_model_module_version": "~2.1.4",
       "_view_module_version": "~2.1.4",
       "description": "sueldo_inicial",
       "layout": "IPY_MODEL_33b751fc62b945df9f914064bb4e2213",
       "max": 25000,
       "step": 500,
       "style": "IPY_MODEL_2712be7d676a498fad2f4a3c92da942d",
       "value": 15000
      }
     },
     "332626e0475b4e1eb4fb24f2886b0394": {
      "model_module": "jupyter-js-widgets",
      "model_module_version": "~2.1.4",
      "model_name": "LayoutModel",
      "state": {
       "_model_module_version": "~2.1.4",
       "_view_module_version": "~2.1.4",
       "width": "100%"
      }
     },
     "33684b747b714a1a96fdb5a747170562": {
      "model_module": "jupyter-js-widgets",
      "model_module_version": "~2.1.4",
      "model_name": "FloatSliderModel",
      "state": {
       "_model_module_version": "~2.1.4",
       "_view_module_version": "~2.1.4",
       "description": "paso",
       "layout": "IPY_MODEL_78cb8959bde642ae8c910ab0a908af42",
       "max": 1,
       "step": 0.01,
       "value": 0.1
      }
     },
     "33a01a32b4994cdaa457617344cf49e7": {
      "model_module": "jupyter-js-widgets",
      "model_module_version": "~2.1.4",
      "model_name": "FloatSliderModel",
      "state": {
       "_model_module_version": "~2.1.4",
       "_view_module_version": "~2.1.4",
       "description": "paso",
       "layout": "IPY_MODEL_24553e3b2fea47bca97fc408385705ac",
       "max": 1,
       "step": 0.01,
       "value": 0.1
      }
     },
     "33b751fc62b945df9f914064bb4e2213": {
      "model_module": "jupyter-js-widgets",
      "model_module_version": "~2.1.4",
      "model_name": "LayoutModel",
      "state": {
       "_model_module_version": "~2.1.4",
       "_view_module_version": "~2.1.4",
       "width": "100%"
      }
     },
     "33fe6bac406a4d99bd5b746463d23cde": {
      "model_module": "jupyter-js-widgets",
      "model_module_version": "~2.1.4",
      "model_name": "LayoutModel",
      "state": {
       "_model_module_version": "~2.1.4",
       "_view_module_version": "~2.1.4",
       "width": "100%"
      }
     },
     "3444c9a229ef458c9dfb4d0c678657d3": {
      "model_module": "jupyter-js-widgets",
      "model_module_version": "~2.1.4",
      "model_name": "IntSliderModel",
      "state": {
       "_model_module_version": "~2.1.4",
       "_view_module_version": "~2.1.4",
       "description": "sueldo_inicial",
       "layout": "IPY_MODEL_18030716e13748278dc6ccac719c9b07",
       "max": 25000,
       "step": 500,
       "style": "IPY_MODEL_d23d731c01f0403f8f5d1e5d89f14dbe",
       "value": 15000
      }
     },
     "3474c5064bdd464cb47b5318729be520": {
      "model_module": "jupyter-js-widgets",
      "model_module_version": "~2.1.4",
      "model_name": "LayoutModel",
      "state": {
       "_model_module_version": "~2.1.4",
       "_view_module_version": "~2.1.4",
       "width": "100%"
      }
     },
     "34c73d64d369484390836e1d883360fc": {
      "model_module": "jupyter-js-widgets",
      "model_module_version": "~2.1.4",
      "model_name": "LayoutModel",
      "state": {
       "_model_module_version": "~2.1.4",
       "_view_module_version": "~2.1.4",
       "width": "100%"
      }
     },
     "3543446d0cba4f18b6a8e49e8bcc8219": {
      "model_module": "jupyter-js-widgets",
      "model_module_version": "~2.1.4",
      "model_name": "IntSliderModel",
      "state": {
       "_model_module_version": "~2.1.4",
       "_view_module_version": "~2.1.4",
       "description": "initial",
       "layout": "IPY_MODEL_b3519a522e3944e09510b8b2bc7079d5",
       "max": 25000,
       "step": 500,
       "style": "IPY_MODEL_b3ba11ee9e3a484db1fb0c060dd89880",
       "value": 15000
      }
     },
     "35562182da5049978f6716fd832e18f7": {
      "model_module": "jupyter-js-widgets",
      "model_module_version": "~2.1.4",
      "model_name": "IntSliderModel",
      "state": {
       "_model_module_version": "~2.1.4",
       "_view_module_version": "~2.1.4",
       "description": "sueldo_inicial",
       "layout": "IPY_MODEL_bbe48c95b549449cb84a0803642534e0",
       "max": 25000,
       "step": 500,
       "style": "IPY_MODEL_8817e0e9a02a4a9f946970a8a7ae239e",
       "value": 15000
      }
     },
     "3577b3167c1f46bc9d487dfa18fea18f": {
      "model_module": "jupyter-js-widgets",
      "model_module_version": "~2.1.4",
      "model_name": "LayoutModel",
      "state": {
       "_model_module_version": "~2.1.4",
       "_view_module_version": "~2.1.4"
      }
     },
     "357d9842372442acb73d14f85438a489": {
      "model_module": "jupyter-js-widgets",
      "model_module_version": "~2.1.4",
      "model_name": "SliderStyleModel",
      "state": {
       "_model_module_version": "~2.1.4",
       "_view_module_version": "~2.1.4"
      }
     },
     "35d0ad106a2b4b03878d9a7c2d29cce9": {
      "model_module": "jupyter-js-widgets",
      "model_module_version": "~2.1.4",
      "model_name": "SliderStyleModel",
      "state": {
       "_model_module_version": "~2.1.4",
       "_view_module_version": "~2.1.4"
      }
     },
     "364de3a9b21a426d92f162b81a9436f2": {
      "model_module": "jupyter-js-widgets",
      "model_module_version": "~2.1.4",
      "model_name": "LayoutModel",
      "state": {
       "_model_module_version": "~2.1.4",
       "_view_module_version": "~2.1.4",
       "width": "100%"
      }
     },
     "36aa4e4cd5f54e29b16817700d8df011": {
      "model_module": "jupyter-js-widgets",
      "model_module_version": "~2.1.4",
      "model_name": "SliderStyleModel",
      "state": {
       "_model_module_version": "~2.1.4",
       "_view_module_version": "~2.1.4"
      }
     },
     "36af5681bf3444809328b46efded69f3": {
      "model_module": "jupyter-js-widgets",
      "model_module_version": "~2.1.4",
      "model_name": "FloatSliderModel",
      "state": {
       "_model_module_version": "~2.1.4",
       "_view_module_version": "~2.1.4",
       "description": "tasa_ahorro",
       "layout": "IPY_MODEL_ad8ec7e8d7034901b4aa165f9194a527",
       "max": 1,
       "step": 0.01,
       "value": 0.2
      }
     },
     "36f0e0359c5343969aea000c9fe1f4a5": {
      "model_module": "jupyter-js-widgets",
      "model_module_version": "~2.1.4",
      "model_name": "SliderStyleModel",
      "state": {
       "_model_module_version": "~2.1.4",
       "_view_module_version": "~2.1.4"
      }
     },
     "36f5d0d28c914031a6d17e0dbcd31504": {
      "model_module": "jupyter-js-widgets",
      "model_module_version": "~2.1.4",
      "model_name": "IntSliderModel",
      "state": {
       "_model_module_version": "~2.1.4",
       "_view_module_version": "~2.1.4",
       "description": "initial",
       "layout": "IPY_MODEL_c411bac4a68f4fe888e9112a0f0c5755",
       "max": 25000,
       "step": 500,
       "style": "IPY_MODEL_da13e4c30e8a46ffa1f12fff96855fdb",
       "value": 15000
      }
     },
     "373168c145c5446aa6dfd5372b2f554a": {
      "model_module": "jupyter-js-widgets",
      "model_module_version": "~2.1.4",
      "model_name": "LayoutModel",
      "state": {
       "_model_module_version": "~2.1.4",
       "_view_module_version": "~2.1.4",
       "width": "100%"
      }
     },
     "374f31f9b9174735abac97d495c932eb": {
      "model_module": "jupyter-js-widgets",
      "model_module_version": "~2.1.4",
      "model_name": "SliderStyleModel",
      "state": {
       "_model_module_version": "~2.1.4",
       "_view_module_version": "~2.1.4"
      }
     },
     "374f9393caef47e090c3bb3e7499e432": {
      "model_module": "jupyter-js-widgets",
      "model_module_version": "~2.1.4",
      "model_name": "OutputModel",
      "state": {
       "_dom_classes": [],
       "_model_module": "jupyter-js-widgets",
       "_model_module_version": "~2.1.4",
       "_view_module": "jupyter-js-widgets",
       "_view_module_version": "~2.1.4",
       "layout": "IPY_MODEL_532d959da1834e67a13f5c83cbc34a11",
       "msg_throttle": 1
      }
     },
     "377bbe6ea14c419b8320d0ab0f7a6b78": {
      "model_module": "jupyter-js-widgets",
      "model_module_version": "~2.1.4",
      "model_name": "FloatSliderModel",
      "state": {
       "_model_module_version": "~2.1.4",
       "_view_module_version": "~2.1.4",
       "description": "tasa_gasto_extra",
       "layout": "IPY_MODEL_c34dccb75a174a208360a363e0b84590",
       "max": 1,
       "step": 0.01,
       "value": 0.3
      }
     },
     "37880bc36ce44cf88410ea3c24748de7": {
      "model_module": "jupyter-js-widgets",
      "model_module_version": "~2.1.4",
      "model_name": "LayoutModel",
      "state": {
       "_model_module_version": "~2.1.4",
       "_view_module_version": "~2.1.4",
       "width": "100%"
      }
     },
     "383b11795a2a44fe9b8965280327a50f": {
      "model_module": "jupyter-js-widgets",
      "model_module_version": "~2.1.4",
      "model_name": "SliderStyleModel",
      "state": {
       "_model_module_version": "~2.1.4",
       "_view_module_version": "~2.1.4"
      }
     },
     "38827043ca3246479438bdcb66632110": {
      "model_module": "jupyter-js-widgets",
      "model_module_version": "~2.1.4",
      "model_name": "SliderStyleModel",
      "state": {
       "_model_module_version": "~2.1.4",
       "_view_module_version": "~2.1.4"
      }
     },
     "398c5a9c40b84cd8a8d8bd8c8a5122f1": {
      "model_module": "jupyter-js-widgets",
      "model_module_version": "~2.1.4",
      "model_name": "SliderStyleModel",
      "state": {
       "_model_module_version": "~2.1.4",
       "_view_module_version": "~2.1.4"
      }
     },
     "39a1f246c9c748cda68e391509808b40": {
      "model_module": "jupyter-js-widgets",
      "model_module_version": "~2.1.4",
      "model_name": "SliderStyleModel",
      "state": {
       "_model_module_version": "~2.1.4",
       "_view_module_version": "~2.1.4"
      }
     },
     "39c56eb082834a27afd0a1192f1f10dc": {
      "model_module": "jupyter-js-widgets",
      "model_module_version": "~2.1.4",
      "model_name": "SliderStyleModel",
      "state": {
       "_model_module_version": "~2.1.4",
       "_view_module_version": "~2.1.4"
      }
     },
     "39c825c1a6054b3db52b2a98376c5ae4": {
      "model_module": "jupyter-js-widgets",
      "model_module_version": "~2.1.4",
      "model_name": "LayoutModel",
      "state": {
       "_model_module_version": "~2.1.4",
       "_view_module_version": "~2.1.4",
       "width": "100%"
      }
     },
     "3a1dfb62261b41ab9bc41299e8f73ebf": {
      "model_module": "jupyter-js-widgets",
      "model_module_version": "~2.1.4",
      "model_name": "FloatSliderModel",
      "state": {
       "_model_module_version": "~2.1.4",
       "_view_module_version": "~2.1.4",
       "description": "tasa_gasto_extra",
       "layout": "IPY_MODEL_b7b6e9ebc872480e83ae69faa007ade4",
       "max": 1,
       "step": 0.01,
       "value": 0.3
      }
     },
     "3a6625b6dc1c4eab8f32198a6928956f": {
      "model_module": "jupyter-js-widgets",
      "model_module_version": "~2.1.4",
      "model_name": "FloatSliderModel",
      "state": {
       "_model_module_version": "~2.1.4",
       "_view_module_version": "~2.1.4",
       "description": "tasa_gasto_extra",
       "layout": "IPY_MODEL_d45e367dec244fde86caf5994df2f521",
       "max": 1,
       "step": 0.01,
       "value": 0.3
      }
     },
     "3a707425684846a0af65ae7275989256": {
      "model_module": "jupyter-js-widgets",
      "model_module_version": "~2.1.4",
      "model_name": "LayoutModel",
      "state": {
       "_model_module_version": "~2.1.4",
       "_view_module_version": "~2.1.4",
       "width": "100%"
      }
     },
     "3a9c07a0d18f45e0b9545fe86ca2f50b": {
      "model_module": "jupyter-js-widgets",
      "model_module_version": "~2.1.4",
      "model_name": "LayoutModel",
      "state": {
       "_model_module_version": "~2.1.4",
       "_view_module_version": "~2.1.4",
       "width": "100%"
      }
     },
     "3b073daaab324d1ba06cf24142faf098": {
      "model_module": "jupyter-js-widgets",
      "model_module_version": "~2.1.4",
      "model_name": "LayoutModel",
      "state": {
       "_model_module_version": "~2.1.4",
       "_view_module_version": "~2.1.4",
       "width": "100%"
      }
     },
     "3b8cfe629d9e458fbd048e2b635652ef": {
      "model_module": "jupyter-js-widgets",
      "model_module_version": "~2.1.4",
      "model_name": "LayoutModel",
      "state": {
       "_model_module_version": "~2.1.4",
       "_view_module_version": "~2.1.4",
       "width": "100%"
      }
     },
     "3bbd5f12dfc74820ba42f40c915d87db": {
      "model_module": "jupyter-js-widgets",
      "model_module_version": "~2.1.4",
      "model_name": "VBoxModel",
      "state": {
       "_dom_classes": [
        "widget-interact"
       ],
       "_model_module_version": "~2.1.4",
       "_view_module_version": "~2.1.4",
       "children": [
        "IPY_MODEL_d4896bcd10f9495f94d50069be80267a",
        "IPY_MODEL_2f414a908fe4465abf4a30b1118e012b",
        "IPY_MODEL_f878dcebd6874a93a4a692dd4fe13d24",
        "IPY_MODEL_0348caa6b5b5487abfb2408f6f9d8703",
        "IPY_MODEL_a6cf49ebb18f4606b09ff9049c0e8449",
        "IPY_MODEL_bc386c6b90ad478195b15013bae91d3b"
       ],
       "layout": "IPY_MODEL_7a35152308b944e9af8eb23019a915cb"
      }
     },
     "3c0efafecd564a7ca1ceda2435a2f5ab": {
      "model_module": "jupyter-js-widgets",
      "model_module_version": "~2.1.4",
      "model_name": "SliderStyleModel",
      "state": {
       "_model_module_version": "~2.1.4",
       "_view_module_version": "~2.1.4"
      }
     },
     "3c2ca3b007ba4a07a5ba36850504d188": {
      "model_module": "jupyter-js-widgets",
      "model_module_version": "~2.1.4",
      "model_name": "LayoutModel",
      "state": {
       "_model_module_version": "~2.1.4",
       "_view_module_version": "~2.1.4"
      }
     },
     "3c9b6e86dbe8450c970e24d3e091bae6": {
      "model_module": "jupyter-js-widgets",
      "model_module_version": "~2.1.4",
      "model_name": "FloatSliderModel",
      "state": {
       "_model_module_version": "~2.1.4",
       "_view_module_version": "~2.1.4",
       "description": "tasa_gasto_extra",
       "layout": "IPY_MODEL_0a7a80cfed674ec78ccfe81f77cb0386",
       "max": 1,
       "step": 0.01,
       "value": 0.5
      }
     },
     "3ca9d91194e044d7b49e2be4e4a0d744": {
      "model_module": "jupyter-js-widgets",
      "model_module_version": "~2.1.4",
      "model_name": "IntSliderModel",
      "state": {
       "_model_module_version": "~2.1.4",
       "_view_module_version": "~2.1.4",
       "description": "gasto_fijo_diario",
       "layout": "IPY_MODEL_33fe6bac406a4d99bd5b746463d23cde",
       "max": 1000,
       "min": 1,
       "step": 50,
       "style": "IPY_MODEL_52287ad8411b4858a290d4ee2d6fe40a",
       "value": 100
      }
     },
     "3cef8a10590c4221a9ec6a0517a3b368": {
      "model_module": "jupyter-js-widgets",
      "model_module_version": "~2.1.4",
      "model_name": "FloatSliderModel",
      "state": {
       "_model_module_version": "~2.1.4",
       "_view_module_version": "~2.1.4",
       "description": "tasa_ahorro",
       "layout": "IPY_MODEL_b0d08f3f736c43b79d9e579c35bea336",
       "max": 1,
       "step": 0.01,
       "value": 0.2
      }
     },
     "3d14c6223dd3440a8695a35645fb1cee": {
      "model_module": "jupyter-js-widgets",
      "model_module_version": "~2.1.4",
      "model_name": "LayoutModel",
      "state": {
       "_model_module_version": "~2.1.4",
       "_view_module_version": "~2.1.4",
       "width": "100%"
      }
     },
     "3d214e9d884d4710b92a72bf6cdac201": {
      "model_module": "jupyter-js-widgets",
      "model_module_version": "~2.1.4",
      "model_name": "LayoutModel",
      "state": {
       "_model_module_version": "~2.1.4",
       "_view_module_version": "~2.1.4"
      }
     },
     "3d6d1e05c0a04a37b23dd157ba1141e1": {
      "model_module": "jupyter-js-widgets",
      "model_module_version": "~2.1.4",
      "model_name": "LayoutModel",
      "state": {
       "_model_module_version": "~2.1.4",
       "_view_module_version": "~2.1.4",
       "width": "100%"
      }
     },
     "3dac88b93b994cdbbe28d37b5093b0dd": {
      "model_module": "jupyter-js-widgets",
      "model_module_version": "~2.1.4",
      "model_name": "IntSliderModel",
      "state": {
       "_model_module_version": "~2.1.4",
       "_view_module_version": "~2.1.4",
       "description": "sueldo_inicial",
       "layout": "IPY_MODEL_a22c2e089357495a88474df746400a02",
       "max": 25000,
       "step": 500,
       "style": "IPY_MODEL_a87a649117274a27904d87c58dd65f71",
       "value": 15000
      }
     },
     "3dc826e5657141c99671b053b28f2e65": {
      "model_module": "jupyter-js-widgets",
      "model_module_version": "~2.1.4",
      "model_name": "SliderStyleModel",
      "state": {
       "_model_module_version": "~2.1.4",
       "_view_module_version": "~2.1.4"
      }
     },
     "3e5bf23400554974bdd48fce29283048": {
      "model_module": "jupyter-js-widgets",
      "model_module_version": "~2.1.4",
      "model_name": "SliderStyleModel",
      "state": {
       "_model_module_version": "~2.1.4",
       "_view_module_version": "~2.1.4"
      }
     },
     "3ea838df80264d2192edce8a9181130d": {
      "model_module": "jupyter-js-widgets",
      "model_module_version": "~2.1.4",
      "model_name": "LayoutModel",
      "state": {
       "_model_module_version": "~2.1.4",
       "_view_module_version": "~2.1.4",
       "width": "100%"
      }
     },
     "3eb9da9982c54268ad572a87bba8ce41": {
      "model_module": "jupyter-js-widgets",
      "model_module_version": "~2.1.4",
      "model_name": "LayoutModel",
      "state": {
       "_model_module_version": "~2.1.4",
       "_view_module_version": "~2.1.4",
       "width": "100%"
      }
     },
     "3ec2068dbcb146d08601bd1c3ea19493": {
      "model_module": "jupyter-js-widgets",
      "model_module_version": "~2.1.4",
      "model_name": "IntSliderModel",
      "state": {
       "_model_module_version": "~2.1.4",
       "_view_module_version": "~2.1.4",
       "description": "intervalo",
       "layout": "IPY_MODEL_e3f704eb00f54334b23d8bf0e37e12e3",
       "max": 360,
       "min": 1,
       "step": 10,
       "style": "IPY_MODEL_1a1a81c1ea4f4f31b8cb9affc307752b",
       "value": 30
      }
     },
     "3f6a324f9f4a47619c2e854580d8ae0e": {
      "model_module": "jupyter-js-widgets",
      "model_module_version": "~2.1.4",
      "model_name": "FloatSliderModel",
      "state": {
       "_model_module_version": "~2.1.4",
       "_view_module_version": "~2.1.4",
       "description": "tasa_gasto_extra",
       "layout": "IPY_MODEL_0831865a2e5c4d779244b8e8f40bfc4d",
       "max": 1,
       "step": 0.01,
       "value": 0.3
      }
     },
     "3f75c6f0958944bcab36c32c7475a5f5": {
      "model_module": "jupyter-js-widgets",
      "model_module_version": "~2.1.4",
      "model_name": "LayoutModel",
      "state": {
       "_model_module_version": "~2.1.4",
       "_view_module_version": "~2.1.4",
       "width": "100%"
      }
     },
     "3f921726d11143329da38d4d9298bf0d": {
      "model_module": "jupyter-js-widgets",
      "model_module_version": "~2.1.4",
      "model_name": "OutputModel",
      "state": {
       "_dom_classes": [],
       "_model_module": "jupyter-js-widgets",
       "_model_module_version": "~2.1.4",
       "_view_module": "jupyter-js-widgets",
       "_view_module_version": "~2.1.4",
       "layout": "IPY_MODEL_2ea8e8800bee4a908eddafed6e9489cc",
       "msg_throttle": 1
      }
     },
     "3fa8003bc0c74e5cab5ab112b91cdb1a": {
      "model_module": "jupyter-js-widgets",
      "model_module_version": "~2.1.4",
      "model_name": "IntSliderModel",
      "state": {
       "_model_module_version": "~2.1.4",
       "_view_module_version": "~2.1.4",
       "description": "sueldo_inicial",
       "layout": "IPY_MODEL_4e557e78f25241f78fb2d463f0376fd2",
       "max": 25000,
       "step": 500,
       "style": "IPY_MODEL_12dd13a4fce6415daa7065847a94ba41",
       "value": 15000
      }
     },
     "403b9628f563478e83c538861b928153": {
      "model_module": "jupyter-js-widgets",
      "model_module_version": "~2.1.4",
      "model_name": "FloatSliderModel",
      "state": {
       "_model_module_version": "~2.1.4",
       "_view_module_version": "~2.1.4",
       "description": "tasa_gasto_extra",
       "layout": "IPY_MODEL_30d7da75261e4ddd9316da86be2363d0",
       "max": 1,
       "step": 0.01,
       "value": 0.3
      }
     },
     "405c9a6812294039990584236c910dd2": {
      "model_module": "jupyter-js-widgets",
      "model_module_version": "~2.1.4",
      "model_name": "SliderStyleModel",
      "state": {
       "_model_module_version": "~2.1.4",
       "_view_module_version": "~2.1.4"
      }
     },
     "4061d0fb35cd4528a031b21b91e852c1": {
      "model_module": "jupyter-js-widgets",
      "model_module_version": "~2.1.4",
      "model_name": "LayoutModel",
      "state": {
       "_model_module_version": "~2.1.4",
       "_view_module_version": "~2.1.4",
       "width": "100%"
      }
     },
     "409f2f8598404e0fb3cec06a780a301f": {
      "model_module": "jupyter-js-widgets",
      "model_module_version": "~2.1.4",
      "model_name": "IntSliderModel",
      "state": {
       "_model_module_version": "~2.1.4",
       "_view_module_version": "~2.1.4",
       "description": "dias",
       "layout": "IPY_MODEL_84d8d6fd3dda497cb227a2930cc4aac9",
       "max": 360,
       "min": 1,
       "step": 10,
       "style": "IPY_MODEL_6dcabeb93df74fffbea9d2781f92342a",
       "value": 30
      }
     },
     "40f2eec1c959449fad5bb7ba4f989261": {
      "model_module": "jupyter-js-widgets",
      "model_module_version": "~2.1.4",
      "model_name": "LayoutModel",
      "state": {
       "_model_module_version": "~2.1.4",
       "_view_module_version": "~2.1.4",
       "width": "100%"
      }
     },
     "41053946f58046a894847af44753cea1": {
      "model_module": "jupyter-js-widgets",
      "model_module_version": "~2.1.4",
      "model_name": "LayoutModel",
      "state": {
       "_model_module_version": "~2.1.4",
       "_view_module_version": "~2.1.4",
       "width": "100%"
      }
     },
     "410ea02bd2894436ac0068a81da8914f": {
      "model_module": "jupyter-js-widgets",
      "model_module_version": "~2.1.4",
      "model_name": "IntSliderModel",
      "state": {
       "_model_module_version": "~2.1.4",
       "_view_module_version": "~2.1.4",
       "description": "gasto_fijo_diario",
       "layout": "IPY_MODEL_8082b4e2447b4c2191e9e872b08bcf15",
       "max": 1000,
       "min": 1,
       "step": 50,
       "style": "IPY_MODEL_23e903eaba3c40f3bce75a45bda90d9d",
       "value": 100
      }
     },
     "41164a5180b04290a18285d891dfa266": {
      "model_module": "jupyter-js-widgets",
      "model_module_version": "~2.1.4",
      "model_name": "LayoutModel",
      "state": {
       "_model_module_version": "~2.1.4",
       "_view_module_version": "~2.1.4",
       "width": "100%"
      }
     },
     "412409e310ef47ceaf7ac6621581bc29": {
      "model_module": "jupyter-js-widgets",
      "model_module_version": "~2.1.4",
      "model_name": "LayoutModel",
      "state": {
       "_model_module_version": "~2.1.4",
       "_view_module_version": "~2.1.4",
       "width": "100%"
      }
     },
     "422d56a4b90f446cb289b5493a09e70a": {
      "model_module": "jupyter-js-widgets",
      "model_module_version": "~2.1.4",
      "model_name": "IntSliderModel",
      "state": {
       "_model_module_version": "~2.1.4",
       "_view_module_version": "~2.1.4",
       "description": "dias",
       "layout": "IPY_MODEL_4eb7d09eb571497892b7677f227a83b5",
       "max": 360,
       "min": 1,
       "step": 10,
       "style": "IPY_MODEL_ef96ffb95c2648c0a66891817644e69f",
       "value": 30
      }
     },
     "423392e0b2b94f7cab14c0e9491614a7": {
      "model_module": "jupyter-js-widgets",
      "model_module_version": "~2.1.4",
      "model_name": "FloatSliderModel",
      "state": {
       "_model_module_version": "~2.1.4",
       "_view_module_version": "~2.1.4",
       "description": "cap",
       "layout": "IPY_MODEL_4cc28846f2104feb9abfde1135eb0349",
       "max": 1,
       "step": 0.05,
       "value": 0.75
      }
     },
     "430ee3612a38410d8cc67c616dbb0181": {
      "model_module": "jupyter-js-widgets",
      "model_module_version": "~2.1.4",
      "model_name": "IntSliderModel",
      "state": {
       "_model_module_version": "~2.1.4",
       "_view_module_version": "~2.1.4",
       "description": "gasto_fijo_diario",
       "layout": "IPY_MODEL_4d56892647f34e4fa1acc35c507c392a",
       "max": 1000,
       "min": 1,
       "step": 50,
       "style": "IPY_MODEL_b001dd64d2a0460a8a15722f028df57b",
       "value": 100
      }
     },
     "432dab950831488e82344a4ba308ce3e": {
      "model_module": "jupyter-js-widgets",
      "model_module_version": "~2.1.4",
      "model_name": "SliderStyleModel",
      "state": {
       "_model_module_version": "~2.1.4",
       "_view_module_version": "~2.1.4"
      }
     },
     "436828b1d3b042af87e4220926d015bf": {
      "model_module": "jupyter-js-widgets",
      "model_module_version": "~2.1.4",
      "model_name": "LayoutModel",
      "state": {
       "_model_module_version": "~2.1.4",
       "_view_module_version": "~2.1.4",
       "width": "100%"
      }
     },
     "43768c4e8b604c64a16d8dcb01749206": {
      "model_module": "jupyter-js-widgets",
      "model_module_version": "~2.1.4",
      "model_name": "SliderStyleModel",
      "state": {
       "_model_module_version": "~2.1.4",
       "_view_module_version": "~2.1.4"
      }
     },
     "4388c5c62e9840a2a19918d45a80f0cb": {
      "model_module": "jupyter-js-widgets",
      "model_module_version": "~2.1.4",
      "model_name": "LayoutModel",
      "state": {
       "_model_module_version": "~2.1.4",
       "_view_module_version": "~2.1.4",
       "width": "100%"
      }
     },
     "43a89a7a0e734fc3942c51c1ec54984b": {
      "model_module": "jupyter-js-widgets",
      "model_module_version": "~2.1.4",
      "model_name": "SliderStyleModel",
      "state": {
       "_model_module_version": "~2.1.4",
       "_view_module_version": "~2.1.4"
      }
     },
     "43b95c55671c4affb4b3c3cb31b32a0b": {
      "model_module": "jupyter-js-widgets",
      "model_module_version": "~2.1.4",
      "model_name": "LayoutModel",
      "state": {
       "_model_module_version": "~2.1.4",
       "_view_module_version": "~2.1.4",
       "width": "100%"
      }
     },
     "43f3d52a0b904b1798564411cc2371b8": {
      "model_module": "jupyter-js-widgets",
      "model_module_version": "~2.1.4",
      "model_name": "SliderStyleModel",
      "state": {
       "_model_module_version": "~2.1.4",
       "_view_module_version": "~2.1.4"
      }
     },
     "443b4dda4b5b42d5a842b16811f368bd": {
      "model_module": "jupyter-js-widgets",
      "model_module_version": "~2.1.4",
      "model_name": "SliderStyleModel",
      "state": {
       "_model_module_version": "~2.1.4",
       "_view_module_version": "~2.1.4"
      }
     },
     "444e03df63ba4f61b5e7174b09f349d3": {
      "model_module": "jupyter-js-widgets",
      "model_module_version": "~2.1.4",
      "model_name": "VBoxModel",
      "state": {
       "_dom_classes": [
        "widget-interact"
       ],
       "_model_module_version": "~2.1.4",
       "_view_module_version": "~2.1.4",
       "children": [
        "IPY_MODEL_1951202932d944d69b6c71fd7d071940",
        "IPY_MODEL_8ca0244ea137431889e98f715668f394",
        "IPY_MODEL_dc91858ef6ee47c9b894f6bdde05e485",
        "IPY_MODEL_ee4e4acfb73543558a8ab8de1cee19d2",
        "IPY_MODEL_dc8d16e3687c422892d1ed1438417d65",
        "IPY_MODEL_8dbc852623914aee9455f785ddd17ed7",
        "IPY_MODEL_33a01a32b4994cdaa457617344cf49e7",
        "IPY_MODEL_0c9f533063904f8d907456a015e1b1f9"
       ],
       "layout": "IPY_MODEL_fd7aef97b12948f4bd528dcdee82e69c"
      }
     },
     "445756eca64e45138d5574ab42b5bf60": {
      "model_module": "jupyter-js-widgets",
      "model_module_version": "~2.1.4",
      "model_name": "IntSliderModel",
      "state": {
       "_model_module_version": "~2.1.4",
       "_view_module_version": "~2.1.4",
       "description": "sueldo_inicial",
       "layout": "IPY_MODEL_f5de49ba28174205af6299443a73f836",
       "max": 25000,
       "step": 500,
       "style": "IPY_MODEL_c053e6718f2943f8928b9081dc92baca",
       "value": 15000
      }
     },
     "446f4916c28f40faa7e2d6a74ef907ab": {
      "model_module": "jupyter-js-widgets",
      "model_module_version": "~2.1.4",
      "model_name": "SliderStyleModel",
      "state": {
       "_model_module_version": "~2.1.4",
       "_view_module_version": "~2.1.4"
      }
     },
     "44fc81d284f64ffbb68c2367b81227bd": {
      "model_module": "jupyter-js-widgets",
      "model_module_version": "~2.1.4",
      "model_name": "LayoutModel",
      "state": {
       "_model_module_version": "~2.1.4",
       "_view_module_version": "~2.1.4"
      }
     },
     "4567f38d1f084edfa2731fe565c80a88": {
      "model_module": "jupyter-js-widgets",
      "model_module_version": "~2.1.4",
      "model_name": "FloatSliderModel",
      "state": {
       "_model_module_version": "~2.1.4",
       "_view_module_version": "~2.1.4",
       "description": "paso",
       "layout": "IPY_MODEL_27983ff0260a4b4c94286f4d4ab53a77",
       "max": 1,
       "step": 0.01,
       "value": 0.1
      }
     },
     "45b08b8033014e9fa6dc74482cf76b5a": {
      "model_module": "jupyter-js-widgets",
      "model_module_version": "~2.1.4",
      "model_name": "FloatSliderModel",
      "state": {
       "_model_module_version": "~2.1.4",
       "_view_module_version": "~2.1.4",
       "description": "paso",
       "layout": "IPY_MODEL_727d5a4d1044494386f79929462c1239",
       "max": 1,
       "step": 0.01,
       "value": 0.1
      }
     },
     "4668e81c73024155ae3f67e6f078d70d": {
      "model_module": "jupyter-js-widgets",
      "model_module_version": "~2.1.4",
      "model_name": "FloatSliderModel",
      "state": {
       "_model_module_version": "~2.1.4",
       "_view_module_version": "~2.1.4",
       "description": "tasa_ahorro",
       "layout": "IPY_MODEL_ff3b5e9e42604c0183851336dd1d4aa0",
       "max": 1,
       "step": 0.01,
       "value": 0.2
      }
     },
     "46de5df2ec5548ca9cd75990889e7e05": {
      "model_module": "jupyter-js-widgets",
      "model_module_version": "~2.1.4",
      "model_name": "SliderStyleModel",
      "state": {
       "_model_module_version": "~2.1.4",
       "_view_module_version": "~2.1.4"
      }
     },
     "47191822d8b848668bc0002fd969aa5d": {
      "model_module": "jupyter-js-widgets",
      "model_module_version": "~2.1.4",
      "model_name": "IntSliderModel",
      "state": {
       "_model_module_version": "~2.1.4",
       "_view_module_version": "~2.1.4",
       "description": "intervalo",
       "layout": "IPY_MODEL_3b073daaab324d1ba06cf24142faf098",
       "max": 360,
       "min": 1,
       "step": 10,
       "style": "IPY_MODEL_f907f321f9ef4248bb301c22f64f7586",
       "value": 30
      }
     },
     "471e93dba8b142fc821ca48633fd36ae": {
      "model_module": "jupyter-js-widgets",
      "model_module_version": "~2.1.4",
      "model_name": "OutputModel",
      "state": {
       "_dom_classes": [],
       "_model_module": "jupyter-js-widgets",
       "_model_module_version": "~2.1.4",
       "_view_module": "jupyter-js-widgets",
       "_view_module_version": "~2.1.4",
       "layout": "IPY_MODEL_eafed4c2d71f4513aa4db4f015da1347",
       "msg_throttle": 1
      }
     },
     "47298b04b5384461860734a29036d704": {
      "model_module": "jupyter-js-widgets",
      "model_module_version": "~2.1.4",
      "model_name": "SliderStyleModel",
      "state": {
       "_model_module_version": "~2.1.4",
       "_view_module_version": "~2.1.4"
      }
     },
     "4762278541a54477b9755f9ac843ef86": {
      "model_module": "jupyter-js-widgets",
      "model_module_version": "~2.1.4",
      "model_name": "LayoutModel",
      "state": {
       "_model_module_version": "~2.1.4",
       "_view_module_version": "~2.1.4",
       "width": "100%"
      }
     },
     "47bc8496acc44720933280721a42af7d": {
      "model_module": "jupyter-js-widgets",
      "model_module_version": "~2.1.4",
      "model_name": "LayoutModel",
      "state": {
       "_model_module_version": "~2.1.4",
       "_view_module_version": "~2.1.4"
      }
     },
     "483b7693f8284dd3a53b4df07d3004c2": {
      "model_module": "jupyter-js-widgets",
      "model_module_version": "~2.1.4",
      "model_name": "SliderStyleModel",
      "state": {
       "_model_module_version": "~2.1.4",
       "_view_module_version": "~2.1.4"
      }
     },
     "48e3a868100c44868c4735ed10352d9b": {
      "model_module": "jupyter-js-widgets",
      "model_module_version": "~2.1.4",
      "model_name": "LayoutModel",
      "state": {
       "_model_module_version": "~2.1.4",
       "_view_module_version": "~2.1.4",
       "width": "100%"
      }
     },
     "4903c650c1804df891a6d870dc278bc6": {
      "model_module": "jupyter-js-widgets",
      "model_module_version": "~2.1.4",
      "model_name": "VBoxModel",
      "state": {
       "_dom_classes": [
        "widget-interact"
       ],
       "_model_module_version": "~2.1.4",
       "_view_module_version": "~2.1.4",
       "children": [
        "IPY_MODEL_3fa8003bc0c74e5cab5ab112b91cdb1a",
        "IPY_MODEL_80eeb984e9404b5aafc28c83b4f21ec6",
        "IPY_MODEL_6c20169a9b6b4e09a435ea9e55a7adc0",
        "IPY_MODEL_ee5e3664d0164c05a5812c1f596c567c",
        "IPY_MODEL_821c09c7ce3c40d6859d40b66902125c",
        "IPY_MODEL_e08b277bbd8f4e95b7d55e76d51b9780",
        "IPY_MODEL_32aceeee99554e43bbc58ffe56f28460",
        "IPY_MODEL_78e93ae8d4884bfa9e877dff50d31cef"
       ],
       "layout": "IPY_MODEL_968d228aafc642afa8af6158da5b62bf"
      }
     },
     "495812fbcaed4f56b2840bb7bf08d212": {
      "model_module": "jupyter-js-widgets",
      "model_module_version": "~2.1.4",
      "model_name": "IntSliderModel",
      "state": {
       "_model_module_version": "~2.1.4",
       "_view_module_version": "~2.1.4",
       "description": "intervalo",
       "layout": "IPY_MODEL_ea345ef5274b48f68cf463bdf0fcefb8",
       "max": 360,
       "min": 1,
       "step": 10,
       "style": "IPY_MODEL_9fb613be6a2641ca8e4ce5341508d61b",
       "value": 30
      }
     },
     "49843e0d0a73473ead24d49eab36b2ff": {
      "model_module": "jupyter-js-widgets",
      "model_module_version": "~2.1.4",
      "model_name": "LayoutModel",
      "state": {
       "_model_module_version": "~2.1.4",
       "_view_module_version": "~2.1.4",
       "width": "100%"
      }
     },
     "4a176b621bce48aea43217dd914c97ff": {
      "model_module": "jupyter-js-widgets",
      "model_module_version": "~2.1.4",
      "model_name": "SliderStyleModel",
      "state": {
       "_model_module_version": "~2.1.4",
       "_view_module_version": "~2.1.4"
      }
     },
     "4a3e3c491970421aa64a915aeb9dc251": {
      "model_module": "jupyter-js-widgets",
      "model_module_version": "~2.1.4",
      "model_name": "SliderStyleModel",
      "state": {
       "_model_module_version": "~2.1.4",
       "_view_module_version": "~2.1.4"
      }
     },
     "4acd50072f19465abf6f446b3ee904e9": {
      "model_module": "jupyter-js-widgets",
      "model_module_version": "~2.1.4",
      "model_name": "LayoutModel",
      "state": {
       "_model_module_version": "~2.1.4",
       "_view_module_version": "~2.1.4",
       "width": "100%"
      }
     },
     "4b2050a0f30344baba3b2cc0b0226850": {
      "model_module": "jupyter-js-widgets",
      "model_module_version": "~2.1.4",
      "model_name": "LayoutModel",
      "state": {
       "_model_module_version": "~2.1.4",
       "_view_module_version": "~2.1.4"
      }
     },
     "4b5a846485e344589b75259e7ebab47a": {
      "model_module": "jupyter-js-widgets",
      "model_module_version": "~2.1.4",
      "model_name": "LayoutModel",
      "state": {
       "_model_module_version": "~2.1.4",
       "_view_module_version": "~2.1.4",
       "width": "100%"
      }
     },
     "4b8216e805a64582953408272474b2bf": {
      "model_module": "jupyter-js-widgets",
      "model_module_version": "~2.1.4",
      "model_name": "SliderStyleModel",
      "state": {
       "_model_module_version": "~2.1.4",
       "_view_module_version": "~2.1.4"
      }
     },
     "4b95a851e4eb4725834f9bb1bff3910c": {
      "model_module": "jupyter-js-widgets",
      "model_module_version": "~2.1.4",
      "model_name": "LayoutModel",
      "state": {
       "_model_module_version": "~2.1.4",
       "_view_module_version": "~2.1.4",
       "width": "100%"
      }
     },
     "4bd85e982cfd407b8414d8c8970a4404": {
      "model_module": "jupyter-js-widgets",
      "model_module_version": "~2.1.4",
      "model_name": "VBoxModel",
      "state": {
       "_dom_classes": [
        "widget-interact"
       ],
       "_model_module_version": "~2.1.4",
       "_view_module_version": "~2.1.4",
       "children": [
        "IPY_MODEL_01847e4797494f8f9efc05f91b0b27ef",
        "IPY_MODEL_3cef8a10590c4221a9ec6a0517a3b368",
        "IPY_MODEL_f061cc47b4d8405bb598f17cf4550e11",
        "IPY_MODEL_8909c85357ef4a6ca5dee0fceddc7c65",
        "IPY_MODEL_422d56a4b90f446cb289b5493a09e70a",
        "IPY_MODEL_beec4ed41b4a4e12a234bbbca13cd111"
       ],
       "layout": "IPY_MODEL_c3385e707e93493a98def8be215f66c0"
      }
     },
     "4be611ae085a452aaa4df181379ed874": {
      "model_module": "jupyter-js-widgets",
      "model_module_version": "~2.1.4",
      "model_name": "IntSliderModel",
      "state": {
       "_model_module_version": "~2.1.4",
       "_view_module_version": "~2.1.4",
       "description": "gasto_fijo_diario",
       "layout": "IPY_MODEL_ce12ab9ea134405bb7387ea0d8f6ee50",
       "max": 1000,
       "min": 1,
       "step": 50,
       "style": "IPY_MODEL_c6f0f435eb9b494d8c01815848a311aa",
       "value": 100
      }
     },
     "4c05e82495bc4c348d3620240cd02d90": {
      "model_module": "jupyter-js-widgets",
      "model_module_version": "~2.1.4",
      "model_name": "LayoutModel",
      "state": {
       "_model_module_version": "~2.1.4",
       "_view_module_version": "~2.1.4",
       "width": "100%"
      }
     },
     "4c0baf58f7ae4e439f17c96ffd49d825": {
      "model_module": "jupyter-js-widgets",
      "model_module_version": "~2.1.4",
      "model_name": "SliderStyleModel",
      "state": {
       "_model_module_version": "~2.1.4",
       "_view_module_version": "~2.1.4"
      }
     },
     "4c1202d3f9d14cff93c6d7765dce4c5a": {
      "model_module": "jupyter-js-widgets",
      "model_module_version": "~2.1.4",
      "model_name": "FloatSliderModel",
      "state": {
       "_model_module_version": "~2.1.4",
       "_view_module_version": "~2.1.4",
       "description": "paso",
       "layout": "IPY_MODEL_d99c8cf5c2ed45c5ad8252ec47535ee2",
       "max": 1,
       "step": 0.01,
       "value": 0.1
      }
     },
     "4ca23eeccbd2498ca1199a98b45ce39c": {
      "model_module": "jupyter-js-widgets",
      "model_module_version": "~2.1.4",
      "model_name": "LayoutModel",
      "state": {
       "_model_module_version": "~2.1.4",
       "_view_module_version": "~2.1.4",
       "width": "100%"
      }
     },
     "4cc28846f2104feb9abfde1135eb0349": {
      "model_module": "jupyter-js-widgets",
      "model_module_version": "~2.1.4",
      "model_name": "LayoutModel",
      "state": {
       "_model_module_version": "~2.1.4",
       "_view_module_version": "~2.1.4",
       "width": "100%"
      }
     },
     "4cf6efd213a646a599e6fbc5a22954d6": {
      "model_module": "jupyter-js-widgets",
      "model_module_version": "~2.1.4",
      "model_name": "IntSliderModel",
      "state": {
       "_model_module_version": "~2.1.4",
       "_view_module_version": "~2.1.4",
       "description": "gasto_fijo_diario",
       "layout": "IPY_MODEL_bf680b721aa04fef9bf83dfb32e053aa",
       "max": 1000,
       "min": 1,
       "step": 50,
       "style": "IPY_MODEL_43768c4e8b604c64a16d8dcb01749206",
       "value": 100
      }
     },
     "4d56892647f34e4fa1acc35c507c392a": {
      "model_module": "jupyter-js-widgets",
      "model_module_version": "~2.1.4",
      "model_name": "LayoutModel",
      "state": {
       "_model_module_version": "~2.1.4",
       "_view_module_version": "~2.1.4",
       "width": "100%"
      }
     },
     "4d5aeab76c89436a927be9eee534c00c": {
      "model_module": "jupyter-js-widgets",
      "model_module_version": "~2.1.4",
      "model_name": "SliderStyleModel",
      "state": {
       "_model_module_version": "~2.1.4",
       "_view_module_version": "~2.1.4"
      }
     },
     "4d9dd2c825dd421bb6caa3430e9054b0": {
      "model_module": "jupyter-js-widgets",
      "model_module_version": "~2.1.4",
      "model_name": "IntSliderModel",
      "state": {
       "_model_module_version": "~2.1.4",
       "_view_module_version": "~2.1.4",
       "description": "gasto_fijo_diario",
       "layout": "IPY_MODEL_7450e1c18d464cdfb61d77d215e2f606",
       "max": 1000,
       "min": 1,
       "step": 50,
       "style": "IPY_MODEL_35d0ad106a2b4b03878d9a7c2d29cce9",
       "value": 100
      }
     },
     "4e08c1b1962a4f0c8f30207539eef2bf": {
      "model_module": "jupyter-js-widgets",
      "model_module_version": "~2.1.4",
      "model_name": "LayoutModel",
      "state": {
       "_model_module_version": "~2.1.4",
       "_view_module_version": "~2.1.4"
      }
     },
     "4e3cf831008546cfac3ac120b4a099e9": {
      "model_module": "jupyter-js-widgets",
      "model_module_version": "~2.1.4",
      "model_name": "VBoxModel",
      "state": {
       "_dom_classes": [
        "widget-interact"
       ],
       "_model_module_version": "~2.1.4",
       "_view_module_version": "~2.1.4",
       "children": [
        "IPY_MODEL_0a6603049ef94fc7a556861f06529d7d",
        "IPY_MODEL_c1f5df527c76497eb4063116084e5350",
        "IPY_MODEL_3c9b6e86dbe8450c970e24d3e091bae6",
        "IPY_MODEL_c6812dbb9833408db19fe050ff6fcd5e",
        "IPY_MODEL_27c5c7d064ee4baaa249d7c54086aec9",
        "IPY_MODEL_84eb721441d64923b3d9c04696292090",
        "IPY_MODEL_819beb222581430cb6596fee0f1c92ca",
        "IPY_MODEL_ded650dda1ed4edbba700a088c878151"
       ],
       "layout": "IPY_MODEL_ada1d4217d6a4b8795445d77769e5c0f"
      }
     },
     "4e557e78f25241f78fb2d463f0376fd2": {
      "model_module": "jupyter-js-widgets",
      "model_module_version": "~2.1.4",
      "model_name": "LayoutModel",
      "state": {
       "_model_module_version": "~2.1.4",
       "_view_module_version": "~2.1.4",
       "width": "100%"
      }
     },
     "4e67997aeef7422bb2b56b657bfa94e0": {
      "model_module": "jupyter-js-widgets",
      "model_module_version": "~2.1.4",
      "model_name": "LayoutModel",
      "state": {
       "_model_module_version": "~2.1.4",
       "_view_module_version": "~2.1.4"
      }
     },
     "4e97a6b8cf964f9aa880427aba1d0983": {
      "model_module": "jupyter-js-widgets",
      "model_module_version": "~2.1.4",
      "model_name": "LayoutModel",
      "state": {
       "_model_module_version": "~2.1.4",
       "_view_module_version": "~2.1.4",
       "width": "100%"
      }
     },
     "4eb7d09eb571497892b7677f227a83b5": {
      "model_module": "jupyter-js-widgets",
      "model_module_version": "~2.1.4",
      "model_name": "LayoutModel",
      "state": {
       "_model_module_version": "~2.1.4",
       "_view_module_version": "~2.1.4",
       "width": "100%"
      }
     },
     "4ebb438c64ca425fbd088f01c64b97ef": {
      "model_module": "jupyter-js-widgets",
      "model_module_version": "~2.1.4",
      "model_name": "FloatSliderModel",
      "state": {
       "_model_module_version": "~2.1.4",
       "_view_module_version": "~2.1.4",
       "description": "tasa_gasto_extra",
       "layout": "IPY_MODEL_6aefb8c9f17b4ba49b8a04bd59a6f426",
       "max": 1,
       "step": 0.01,
       "value": 0.3
      }
     },
     "4eda6c6a2b2b42d796d0c8a30eec4fad": {
      "model_module": "jupyter-js-widgets",
      "model_module_version": "~2.1.4",
      "model_name": "LayoutModel",
      "state": {
       "_model_module_version": "~2.1.4",
       "_view_module_version": "~2.1.4"
      }
     },
     "4fa0c6dcdf414b938f4878409a327699": {
      "model_module": "jupyter-js-widgets",
      "model_module_version": "~2.1.4",
      "model_name": "LayoutModel",
      "state": {
       "_model_module_version": "~2.1.4",
       "_view_module_version": "~2.1.4",
       "width": "100%"
      }
     },
     "4fd6fc4e78354d52af199701dfc06318": {
      "model_module": "jupyter-js-widgets",
      "model_module_version": "~2.1.4",
      "model_name": "IntSliderModel",
      "state": {
       "_model_module_version": "~2.1.4",
       "_view_module_version": "~2.1.4",
       "description": "dias",
       "layout": "IPY_MODEL_3d6d1e05c0a04a37b23dd157ba1141e1",
       "max": 360,
       "min": 1,
       "step": 10,
       "style": "IPY_MODEL_92c82ab4bee04decba01a743d1c3974b",
       "value": 30
      }
     },
     "4feee14ceae24fc99284e7b8b43539d9": {
      "model_module": "jupyter-js-widgets",
      "model_module_version": "~2.1.4",
      "model_name": "IntSliderModel",
      "state": {
       "_model_module_version": "~2.1.4",
       "_view_module_version": "~2.1.4",
       "description": "dias",
       "layout": "IPY_MODEL_13923febf6fb466b8dd0b8f2e052d6a4",
       "max": 360,
       "min": 1,
       "step": 10,
       "style": "IPY_MODEL_87611af9712548d28818845163f055af",
       "value": 41
      }
     },
     "4ff668eefc2f4502aaf68164777a23f3": {
      "model_module": "jupyter-js-widgets",
      "model_module_version": "~2.1.4",
      "model_name": "LayoutModel",
      "state": {
       "_model_module_version": "~2.1.4",
       "_view_module_version": "~2.1.4",
       "width": "100%"
      }
     },
     "50b250391f5442c4a10a5ed89097bd37": {
      "model_module": "jupyter-js-widgets",
      "model_module_version": "~2.1.4",
      "model_name": "FloatSliderModel",
      "state": {
       "_model_module_version": "~2.1.4",
       "_view_module_version": "~2.1.4",
       "description": "tasa_ahorro",
       "layout": "IPY_MODEL_dcc6299c9b80451bbe5f31fd27693733",
       "max": 1,
       "step": 0.01,
       "value": 0.2
      }
     },
     "50b2d13c2fba49698aa81136ac91c26a": {
      "model_module": "jupyter-js-widgets",
      "model_module_version": "~2.1.4",
      "model_name": "LayoutModel",
      "state": {
       "_model_module_version": "~2.1.4",
       "_view_module_version": "~2.1.4"
      }
     },
     "51022e0283b04e3583abed65c45dce54": {
      "model_module": "jupyter-js-widgets",
      "model_module_version": "~2.1.4",
      "model_name": "LayoutModel",
      "state": {
       "_model_module_version": "~2.1.4",
       "_view_module_version": "~2.1.4",
       "width": "100%"
      }
     },
     "512134c033fb490893329d4841286e84": {
      "model_module": "jupyter-js-widgets",
      "model_module_version": "~2.1.4",
      "model_name": "LayoutModel",
      "state": {
       "_model_module_version": "~2.1.4",
       "_view_module_version": "~2.1.4",
       "width": "100%"
      }
     },
     "512b039bf4ce4a7d99da13779e6ad5f3": {
      "model_module": "jupyter-js-widgets",
      "model_module_version": "~2.1.4",
      "model_name": "FloatSliderModel",
      "state": {
       "_model_module_version": "~2.1.4",
       "_view_module_version": "~2.1.4",
       "description": "k",
       "layout": "IPY_MODEL_c9ceb76b871e4626a5cdb1df438e0d70",
       "max": 1,
       "step": 0.05,
       "value": 0.3
      }
     },
     "51c057027e29442ca46d0927023d21f6": {
      "model_module": "jupyter-js-widgets",
      "model_module_version": "~2.1.4",
      "model_name": "LayoutModel",
      "state": {
       "_model_module_version": "~2.1.4",
       "_view_module_version": "~2.1.4",
       "width": "100%"
      }
     },
     "51d77d46f0cd4ff3ba652b5b7b15cb21": {
      "model_module": "jupyter-js-widgets",
      "model_module_version": "~2.1.4",
      "model_name": "VBoxModel",
      "state": {
       "_dom_classes": [
        "widget-interact"
       ],
       "_model_module_version": "~2.1.4",
       "_view_module_version": "~2.1.4",
       "children": [
        "IPY_MODEL_8894fcdef9964cb193a686d4b1b9c42f",
        "IPY_MODEL_7b81eb8af43842169018c69e2f4ea4e9",
        "IPY_MODEL_9a7fb46ea9fc4b17bafb730c44b1828d",
        "IPY_MODEL_90820d7da0c64229ad080c2b52c021f8",
        "IPY_MODEL_da180986476b4f4489ae60491f571098",
        "IPY_MODEL_8de539b506d244e08d049f44a7bce5e1",
        "IPY_MODEL_c58e7906fd6b48c0b75def4e7d883c2b",
        "IPY_MODEL_e30d0e1820ea4158980b7bcccbb7654e"
       ],
       "layout": "IPY_MODEL_50b2d13c2fba49698aa81136ac91c26a"
      }
     },
     "52287ad8411b4858a290d4ee2d6fe40a": {
      "model_module": "jupyter-js-widgets",
      "model_module_version": "~2.1.4",
      "model_name": "SliderStyleModel",
      "state": {
       "_model_module_version": "~2.1.4",
       "_view_module_version": "~2.1.4"
      }
     },
     "526fe17a4cd145eb92558096b785d721": {
      "model_module": "jupyter-js-widgets",
      "model_module_version": "~2.1.4",
      "model_name": "SliderStyleModel",
      "state": {
       "_model_module_version": "~2.1.4",
       "_view_module_version": "~2.1.4"
      }
     },
     "52a7d100d0df416c821a530c34df1265": {
      "model_module": "jupyter-js-widgets",
      "model_module_version": "~2.1.4",
      "model_name": "IntSliderModel",
      "state": {
       "_model_module_version": "~2.1.4",
       "_view_module_version": "~2.1.4",
       "description": "sueldo_inicial",
       "layout": "IPY_MODEL_98e20cf20d5245e38f17538bf41bb60f",
       "max": 25000,
       "step": 500,
       "style": "IPY_MODEL_7818499530a04d24bc2eb2f47014d902",
       "value": 15000
      }
     },
     "52d4f6ba8c864c14a8e7964711eb1d12": {
      "model_module": "jupyter-js-widgets",
      "model_module_version": "~2.1.4",
      "model_name": "LayoutModel",
      "state": {
       "_model_module_version": "~2.1.4",
       "_view_module_version": "~2.1.4",
       "width": "100%"
      }
     },
     "52dfe86f0dd4447bab56fd70f43caf5e": {
      "model_module": "jupyter-js-widgets",
      "model_module_version": "~2.1.4",
      "model_name": "SliderStyleModel",
      "state": {
       "_model_module_version": "~2.1.4",
       "_view_module_version": "~2.1.4"
      }
     },
     "532d959da1834e67a13f5c83cbc34a11": {
      "model_module": "jupyter-js-widgets",
      "model_module_version": "~2.1.4",
      "model_name": "LayoutModel",
      "state": {
       "_model_module_version": "~2.1.4",
       "_view_module_version": "~2.1.4"
      }
     },
     "535a007316b34e13a53a9663a03b010a": {
      "model_module": "jupyter-js-widgets",
      "model_module_version": "~2.1.4",
      "model_name": "FloatSliderModel",
      "state": {
       "_model_module_version": "~2.1.4",
       "_view_module_version": "~2.1.4",
       "description": "tasa_ahorro",
       "layout": "IPY_MODEL_041beffdfef2422eb3fd6326d19f65ef",
       "max": 1,
       "step": 0.01,
       "value": 0.2
      }
     },
     "539c2975ab194b6cb20de719ffbc6ced": {
      "model_module": "jupyter-js-widgets",
      "model_module_version": "~2.1.4",
      "model_name": "LayoutModel",
      "state": {
       "_model_module_version": "~2.1.4",
       "_view_module_version": "~2.1.4",
       "width": "100%"
      }
     },
     "542ecb01af4e4161a0636aee3876ded8": {
      "model_module": "jupyter-js-widgets",
      "model_module_version": "~2.1.4",
      "model_name": "LayoutModel",
      "state": {
       "_model_module_version": "~2.1.4",
       "_view_module_version": "~2.1.4"
      }
     },
     "54613ff837754fe8a1318b24f6a5c3c8": {
      "model_module": "jupyter-js-widgets",
      "model_module_version": "~2.1.4",
      "model_name": "IntSliderModel",
      "state": {
       "_model_module_version": "~2.1.4",
       "_view_module_version": "~2.1.4",
       "description": "gasto_fijo_diario",
       "layout": "IPY_MODEL_bc1a0c9f1077484b81c9505f186b1e79",
       "max": 1000,
       "min": 1,
       "step": 50,
       "style": "IPY_MODEL_e48b159771f94d5289880af67ee8f340",
       "value": 100
      }
     },
     "5470e42602374719ae8c7230fc46bd07": {
      "model_module": "jupyter-js-widgets",
      "model_module_version": "~2.1.4",
      "model_name": "VBoxModel",
      "state": {
       "_dom_classes": [
        "widget-interact"
       ],
       "_model_module_version": "~2.1.4",
       "_view_module_version": "~2.1.4",
       "children": [
        "IPY_MODEL_e85ed25fe084448a98cd79c81f884a9a",
        "IPY_MODEL_5c7a283ed85841b28a60e3c395131004",
        "IPY_MODEL_02b02007fe7c482eb897e75e199d136b",
        "IPY_MODEL_b710fd2dc475402ca0ccde80447981b4",
        "IPY_MODEL_409f2f8598404e0fb3cec06a780a301f",
        "IPY_MODEL_17913eb10bd044cd9d41c6861325316f",
        "IPY_MODEL_f7aa45ffd7c14d7098266516068f2c37",
        "IPY_MODEL_effb853b6ff8482b8fd2ddd18df81505"
       ],
       "layout": "IPY_MODEL_bcc1e246b8bd437ba90b47540ab23b68"
      }
     },
     "55191ae88a5b4adb8aea59724f8ec33b": {
      "model_module": "jupyter-js-widgets",
      "model_module_version": "~2.1.4",
      "model_name": "IntSliderModel",
      "state": {
       "_model_module_version": "~2.1.4",
       "_view_module_version": "~2.1.4",
       "layout": "IPY_MODEL_c728028ff4404c249b6611b5425169e2",
       "max": 1000,
       "min": 1,
       "step": 50,
       "style": "IPY_MODEL_6edfc363a1334e3ea7e7efdc589d50e5",
       "value": 100
      }
     },
     "5527108d50954962b7cd1edb64932010": {
      "model_module": "jupyter-js-widgets",
      "model_module_version": "~2.1.4",
      "model_name": "LayoutModel",
      "state": {
       "_model_module_version": "~2.1.4",
       "_view_module_version": "~2.1.4",
       "width": "100%"
      }
     },
     "552bd870186b49d4b16e31e2e6441147": {
      "model_module": "jupyter-js-widgets",
      "model_module_version": "~2.1.4",
      "model_name": "FloatSliderModel",
      "state": {
       "_model_module_version": "~2.1.4",
       "_view_module_version": "~2.1.4",
       "description": "tasa_gasto_extra",
       "layout": "IPY_MODEL_59d1812ff3ec4c66962ec83037c14fc7",
       "max": 1,
       "step": 0.01,
       "value": 0.3
      }
     },
     "552ef1bd6dff4b0ba5390dc4e51764af": {
      "model_module": "jupyter-js-widgets",
      "model_module_version": "~2.1.4",
      "model_name": "LayoutModel",
      "state": {
       "_model_module_version": "~2.1.4",
       "_view_module_version": "~2.1.4",
       "width": "100%"
      }
     },
     "556dc683e07b4aa9b9543c9bc803f753": {
      "model_module": "jupyter-js-widgets",
      "model_module_version": "~2.1.4",
      "model_name": "IntSliderModel",
      "state": {
       "_model_module_version": "~2.1.4",
       "_view_module_version": "~2.1.4",
       "description": "sueldo_inicial",
       "layout": "IPY_MODEL_04e02c678758424b9dd701cab953ef93",
       "max": 25000,
       "step": 500,
       "style": "IPY_MODEL_526fe17a4cd145eb92558096b785d721",
       "value": 15000
      }
     },
     "558c1e770779448c9b4454ba6efdf760": {
      "model_module": "jupyter-js-widgets",
      "model_module_version": "~2.1.4",
      "model_name": "SliderStyleModel",
      "state": {
       "_model_module_version": "~2.1.4",
       "_view_module_version": "~2.1.4"
      }
     },
     "55a4913ee3924fcf8954d8593bc3cff3": {
      "model_module": "jupyter-js-widgets",
      "model_module_version": "~2.1.4",
      "model_name": "VBoxModel",
      "state": {
       "_dom_classes": [
        "widget-interact"
       ],
       "_model_module_version": "~2.1.4",
       "_view_module_version": "~2.1.4",
       "children": [
        "IPY_MODEL_051c32c837b3439e9f5df091e54baba7",
        "IPY_MODEL_098ecad279834c33a056558ddad4ad74",
        "IPY_MODEL_5b7e10a89ee0436e952ffde2a1947067",
        "IPY_MODEL_e90d265722444f06bc90db8859b8e324",
        "IPY_MODEL_117d689816824867b0ae77d27871d016",
        "IPY_MODEL_29dbd4e5caa04f249c3729ddef69eb56",
        "IPY_MODEL_96302d1375c042ad84b9d778c8c3409a"
       ],
       "layout": "IPY_MODEL_6009eaf6e4ba4ea187309d18b78d7537"
      }
     },
     "55dc21758a904d208076abfd66ad8403": {
      "model_module": "jupyter-js-widgets",
      "model_module_version": "~2.1.4",
      "model_name": "LayoutModel",
      "state": {
       "_model_module_version": "~2.1.4",
       "_view_module_version": "~2.1.4",
       "width": "100%"
      }
     },
     "55e680c867cb4bfebfcd702e5cdf5d83": {
      "model_module": "jupyter-js-widgets",
      "model_module_version": "~2.1.4",
      "model_name": "SliderStyleModel",
      "state": {
       "_model_module_version": "~2.1.4",
       "_view_module_version": "~2.1.4"
      }
     },
     "5623b1dacc7944b6b2f35a625cc7c9d6": {
      "model_module": "jupyter-js-widgets",
      "model_module_version": "~2.1.4",
      "model_name": "SliderStyleModel",
      "state": {
       "_model_module_version": "~2.1.4",
       "_view_module_version": "~2.1.4"
      }
     },
     "565b32f9c0ca421497bc94f72f918f46": {
      "model_module": "jupyter-js-widgets",
      "model_module_version": "~2.1.4",
      "model_name": "IntSliderModel",
      "state": {
       "_model_module_version": "~2.1.4",
       "_view_module_version": "~2.1.4",
       "description": "dias",
       "layout": "IPY_MODEL_b7e4e3fc48a74ba0bd230129b6b8c919",
       "max": 360,
       "min": 1,
       "step": 10,
       "style": "IPY_MODEL_00fa5c9aab084b8c9a24f77c417b116b",
       "value": 30
      }
     },
     "56889dcdd3e24e6f93671e2c2d26ec5f": {
      "model_module": "jupyter-js-widgets",
      "model_module_version": "~2.1.4",
      "model_name": "IntSliderModel",
      "state": {
       "_model_module_version": "~2.1.4",
       "_view_module_version": "~2.1.4",
       "description": "dias",
       "layout": "IPY_MODEL_2e105e9e3f2a4dda89f09f302cc2ae7a",
       "max": 360,
       "min": 1,
       "step": 10,
       "style": "IPY_MODEL_8b5e1fc919d947edbd1ca1870744cae6",
       "value": 61
      }
     },
     "571cc2ba14f7462aa348577c5605a01d": {
      "model_module": "jupyter-js-widgets",
      "model_module_version": "~2.1.4",
      "model_name": "OutputModel",
      "state": {
       "_dom_classes": [],
       "_model_module": "jupyter-js-widgets",
       "_model_module_version": "~2.1.4",
       "_view_module": "jupyter-js-widgets",
       "_view_module_version": "~2.1.4",
       "layout": "IPY_MODEL_aa6660aa1833480d9f86b7ad696322e1",
       "msg_throttle": 1
      }
     },
     "572e88fbb0b24235b244d451a055aed4": {
      "model_module": "jupyter-js-widgets",
      "model_module_version": "~2.1.4",
      "model_name": "LayoutModel",
      "state": {
       "_model_module_version": "~2.1.4",
       "_view_module_version": "~2.1.4",
       "width": "100%"
      }
     },
     "57330566bbb24499b559a3fd9fd732b7": {
      "model_module": "jupyter-js-widgets",
      "model_module_version": "~2.1.4",
      "model_name": "SliderStyleModel",
      "state": {
       "_model_module_version": "~2.1.4",
       "_view_module_version": "~2.1.4"
      }
     },
     "5746635b92974311b43400b1d50584e5": {
      "model_module": "jupyter-js-widgets",
      "model_module_version": "~2.1.4",
      "model_name": "IntSliderModel",
      "state": {
       "_model_module_version": "~2.1.4",
       "_view_module_version": "~2.1.4",
       "description": "sueldo_inicial",
       "layout": "IPY_MODEL_edb66be6843f4ecca0eed2bb6372d5d1",
       "max": 25000,
       "step": 500,
       "style": "IPY_MODEL_1cc60da0929c48d38790ab2d5d65c358",
       "value": 15000
      }
     },
     "582c4514e2e54e67a8c37f879a2d6198": {
      "model_module": "jupyter-js-widgets",
      "model_module_version": "~2.1.4",
      "model_name": "LayoutModel",
      "state": {
       "_model_module_version": "~2.1.4",
       "_view_module_version": "~2.1.4"
      }
     },
     "588ff22515a2416195b28891006833db": {
      "model_module": "jupyter-js-widgets",
      "model_module_version": "~2.1.4",
      "model_name": "IntSliderModel",
      "state": {
       "_model_module_version": "~2.1.4",
       "_view_module_version": "~2.1.4",
       "description": "gasto_fijo_diario",
       "layout": "IPY_MODEL_024fc7ea3f9a46b3ba67e4c70c080c1f",
       "max": 1000,
       "min": 1,
       "step": 50,
       "style": "IPY_MODEL_d4ad165108474dafa12f1e55eecdaaf6",
       "value": 100
      }
     },
     "58eed4f82b5943728595bc65eb8509a7": {
      "model_module": "jupyter-js-widgets",
      "model_module_version": "~2.1.4",
      "model_name": "LayoutModel",
      "state": {
       "_model_module_version": "~2.1.4",
       "_view_module_version": "~2.1.4",
       "width": "100%"
      }
     },
     "5918d042169449d2953619773028b578": {
      "model_module": "jupyter-js-widgets",
      "model_module_version": "~2.1.4",
      "model_name": "IntSliderModel",
      "state": {
       "_model_module_version": "~2.1.4",
       "_view_module_version": "~2.1.4",
       "description": "s",
       "layout": "IPY_MODEL_10c0a86d06ef44e680890f4b8603d5e0",
       "max": 1000,
       "min": 1,
       "step": 50,
       "style": "IPY_MODEL_de9b6a7416d44d80b4907f74fee0a80c",
       "value": 100
      }
     },
     "59d1812ff3ec4c66962ec83037c14fc7": {
      "model_module": "jupyter-js-widgets",
      "model_module_version": "~2.1.4",
      "model_name": "LayoutModel",
      "state": {
       "_model_module_version": "~2.1.4",
       "_view_module_version": "~2.1.4",
       "width": "100%"
      }
     },
     "59e0cefccc0a4a6281c694f2930e032c": {
      "model_module": "jupyter-js-widgets",
      "model_module_version": "~2.1.4",
      "model_name": "LayoutModel",
      "state": {
       "_model_module_version": "~2.1.4",
       "_view_module_version": "~2.1.4",
       "width": "100%"
      }
     },
     "5a1dc2c87a8d4304892c198f0a1a8b8c": {
      "model_module": "jupyter-js-widgets",
      "model_module_version": "~2.1.4",
      "model_name": "LayoutModel",
      "state": {
       "_model_module_version": "~2.1.4",
       "_view_module_version": "~2.1.4",
       "width": "100%"
      }
     },
     "5ae5de56d56842239a85f7a802425360": {
      "model_module": "jupyter-js-widgets",
      "model_module_version": "~2.1.4",
      "model_name": "SliderStyleModel",
      "state": {
       "_model_module_version": "~2.1.4",
       "_view_module_version": "~2.1.4"
      }
     },
     "5b3ad9dc4ecb4e409097fdbb99874c6b": {
      "model_module": "jupyter-js-widgets",
      "model_module_version": "~2.1.4",
      "model_name": "LayoutModel",
      "state": {
       "_model_module_version": "~2.1.4",
       "_view_module_version": "~2.1.4"
      }
     },
     "5b433d050eab46aab2a8abf9c43c95b0": {
      "model_module": "jupyter-js-widgets",
      "model_module_version": "~2.1.4",
      "model_name": "SliderStyleModel",
      "state": {
       "_model_module_version": "~2.1.4",
       "_view_module_version": "~2.1.4"
      }
     },
     "5b7e10a89ee0436e952ffde2a1947067": {
      "model_module": "jupyter-js-widgets",
      "model_module_version": "~2.1.4",
      "model_name": "FloatSliderModel",
      "state": {
       "_model_module_version": "~2.1.4",
       "_view_module_version": "~2.1.4",
       "description": "tasa_gasto_extra",
       "layout": "IPY_MODEL_1f92c1c9dd0b45c9bfe00d8bfaea7235",
       "max": 1,
       "step": 0.01,
       "value": 0.3
      }
     },
     "5b89d04c46f74ca59644f604a10d4888": {
      "model_module": "jupyter-js-widgets",
      "model_module_version": "~2.1.4",
      "model_name": "SliderStyleModel",
      "state": {
       "_model_module_version": "~2.1.4",
       "_view_module_version": "~2.1.4"
      }
     },
     "5b991afeb69448baa9dd008ad88823f3": {
      "model_module": "jupyter-js-widgets",
      "model_module_version": "~2.1.4",
      "model_name": "FloatSliderModel",
      "state": {
       "_model_module_version": "~2.1.4",
       "_view_module_version": "~2.1.4",
       "description": "tasa_gasto_extra",
       "layout": "IPY_MODEL_e227fdcd5d35473fad0f76e0637e8959",
       "max": 1,
       "step": 0.01,
       "value": 0.3
      }
     },
     "5bd7ac3a9afe4b458b614ab7625abb5c": {
      "model_module": "jupyter-js-widgets",
      "model_module_version": "~2.1.4",
      "model_name": "FloatSliderModel",
      "state": {
       "_model_module_version": "~2.1.4",
       "_view_module_version": "~2.1.4",
       "description": "paso",
       "layout": "IPY_MODEL_203fd23aade04049b4f42eba7318e76d",
       "max": 1,
       "step": 0.01,
       "value": 0.1
      }
     },
     "5c7a283ed85841b28a60e3c395131004": {
      "model_module": "jupyter-js-widgets",
      "model_module_version": "~2.1.4",
      "model_name": "FloatSliderModel",
      "state": {
       "_model_module_version": "~2.1.4",
       "_view_module_version": "~2.1.4",
       "description": "tasa_ahorro",
       "layout": "IPY_MODEL_b945acde6e2d4dd6b748480ecc7ba972",
       "max": 1,
       "step": 0.01,
       "value": 0.2
      }
     },
     "5cd6e33fc8e4488e9bbead6476743bad": {
      "model_module": "jupyter-js-widgets",
      "model_module_version": "~2.1.4",
      "model_name": "LayoutModel",
      "state": {
       "_model_module_version": "~2.1.4",
       "_view_module_version": "~2.1.4",
       "width": "100%"
      }
     },
     "5d1137fbe6bb4934b4994a3c7eb70bb7": {
      "model_module": "jupyter-js-widgets",
      "model_module_version": "~2.1.4",
      "model_name": "FloatSliderModel",
      "state": {
       "_model_module_version": "~2.1.4",
       "_view_module_version": "~2.1.4",
       "description": "tasa_ahorro",
       "layout": "IPY_MODEL_0972a84579d8427f934afda0a8386b54",
       "max": 1,
       "step": 0.01,
       "value": 0.24
      }
     },
     "5d6963b4f0284ac8b8cd703f0b88de4e": {
      "model_module": "jupyter-js-widgets",
      "model_module_version": "~2.1.4",
      "model_name": "LayoutModel",
      "state": {
       "_model_module_version": "~2.1.4",
       "_view_module_version": "~2.1.4",
       "width": "100%"
      }
     },
     "5d9faf5f08f54a3896b992210941aadd": {
      "model_module": "jupyter-js-widgets",
      "model_module_version": "~2.1.4",
      "model_name": "FloatSliderModel",
      "state": {
       "_model_module_version": "~2.1.4",
       "_view_module_version": "~2.1.4",
       "description": "tasa_gasto_extra",
       "layout": "IPY_MODEL_8cb32421f14e45b09cddb583f96f83cd",
       "max": 1,
       "step": 0.01,
       "value": 0.3
      }
     },
     "5de288e0c2b449d39009e90ee071f572": {
      "model_module": "jupyter-js-widgets",
      "model_module_version": "~2.1.4",
      "model_name": "LayoutModel",
      "state": {
       "_model_module_version": "~2.1.4",
       "_view_module_version": "~2.1.4",
       "width": "100%"
      }
     },
     "5ec1e37f577f422487c78f5a7b773aeb": {
      "model_module": "jupyter-js-widgets",
      "model_module_version": "~2.1.4",
      "model_name": "SliderStyleModel",
      "state": {
       "_model_module_version": "~2.1.4",
       "_view_module_version": "~2.1.4"
      }
     },
     "5f13320a64484fbb80efd88b2b8fcb9e": {
      "model_module": "jupyter-js-widgets",
      "model_module_version": "~2.1.4",
      "model_name": "FloatSliderModel",
      "state": {
       "_model_module_version": "~2.1.4",
       "_view_module_version": "~2.1.4",
       "description": "tasa_ahorro",
       "layout": "IPY_MODEL_5de288e0c2b449d39009e90ee071f572",
       "max": 1,
       "step": 0.01,
       "value": 0.2
      }
     },
     "5f742ecaddcb4a0caa1db1f3c15dd8f8": {
      "model_module": "jupyter-js-widgets",
      "model_module_version": "~2.1.4",
      "model_name": "LayoutModel",
      "state": {
       "_model_module_version": "~2.1.4",
       "_view_module_version": "~2.1.4",
       "width": "100%"
      }
     },
     "5fad1c9cf1c94fd6b92507a28d5cb3ab": {
      "model_module": "jupyter-js-widgets",
      "model_module_version": "~2.1.4",
      "model_name": "LayoutModel",
      "state": {
       "_model_module_version": "~2.1.4",
       "_view_module_version": "~2.1.4",
       "width": "100%"
      }
     },
     "5fe316c908b949c6976a0d652a0f62b0": {
      "model_module": "jupyter-js-widgets",
      "model_module_version": "~2.1.4",
      "model_name": "FloatSliderModel",
      "state": {
       "_model_module_version": "~2.1.4",
       "_view_module_version": "~2.1.4",
       "description": "tasa_gasto_extra",
       "layout": "IPY_MODEL_41164a5180b04290a18285d891dfa266",
       "max": 1,
       "step": 0.01,
       "value": 0.3
      }
     },
     "6009eaf6e4ba4ea187309d18b78d7537": {
      "model_module": "jupyter-js-widgets",
      "model_module_version": "~2.1.4",
      "model_name": "LayoutModel",
      "state": {
       "_model_module_version": "~2.1.4",
       "_view_module_version": "~2.1.4"
      }
     },
     "604a892777f245d995a740025de0df72": {
      "model_module": "jupyter-js-widgets",
      "model_module_version": "~2.1.4",
      "model_name": "LayoutModel",
      "state": {
       "_model_module_version": "~2.1.4",
       "_view_module_version": "~2.1.4",
       "width": "100%"
      }
     },
     "6079ca8d64134470ae3c81e39e43c6a4": {
      "model_module": "jupyter-js-widgets",
      "model_module_version": "~2.1.4",
      "model_name": "LayoutModel",
      "state": {
       "_model_module_version": "~2.1.4",
       "_view_module_version": "~2.1.4"
      }
     },
     "60887de85a244347b3fd06960ca26566": {
      "model_module": "jupyter-js-widgets",
      "model_module_version": "~2.1.4",
      "model_name": "SliderStyleModel",
      "state": {
       "_model_module_version": "~2.1.4",
       "_view_module_version": "~2.1.4"
      }
     },
     "609958a084e34795abd496915fa85712": {
      "model_module": "jupyter-js-widgets",
      "model_module_version": "~2.1.4",
      "model_name": "SliderStyleModel",
      "state": {
       "_model_module_version": "~2.1.4",
       "_view_module_version": "~2.1.4"
      }
     },
     "60a82bf70a134bc78c7ba9870e574d75": {
      "model_module": "jupyter-js-widgets",
      "model_module_version": "~2.1.4",
      "model_name": "LayoutModel",
      "state": {
       "_model_module_version": "~2.1.4",
       "_view_module_version": "~2.1.4",
       "width": "100%"
      }
     },
     "613622dc35fc4d1e99c259c25bf3fadf": {
      "model_module": "jupyter-js-widgets",
      "model_module_version": "~2.1.4",
      "model_name": "SliderStyleModel",
      "state": {
       "_model_module_version": "~2.1.4",
       "_view_module_version": "~2.1.4"
      }
     },
     "61be3fbef11e4de8b42c941c2b310b5a": {
      "model_module": "jupyter-js-widgets",
      "model_module_version": "~2.1.4",
      "model_name": "SliderStyleModel",
      "state": {
       "_model_module_version": "~2.1.4",
       "_view_module_version": "~2.1.4"
      }
     },
     "61c1ec0c1cee44b994d352c5f617485a": {
      "model_module": "jupyter-js-widgets",
      "model_module_version": "~2.1.4",
      "model_name": "OutputModel",
      "state": {
       "_dom_classes": [],
       "_model_module": "jupyter-js-widgets",
       "_model_module_version": "~2.1.4",
       "_view_module": "jupyter-js-widgets",
       "_view_module_version": "~2.1.4",
       "layout": "IPY_MODEL_7f34a8769ba447dd90a093f9c4f9503c",
       "msg_throttle": 1
      }
     },
     "61d461704926454693ff8d5f91236b3e": {
      "model_module": "jupyter-js-widgets",
      "model_module_version": "~2.1.4",
      "model_name": "FloatSliderModel",
      "state": {
       "_model_module_version": "~2.1.4",
       "_view_module_version": "~2.1.4",
       "description": "tasa_gasto_extra",
       "layout": "IPY_MODEL_c3eedddff62a4d2d895e579129b02496",
       "max": 1,
       "step": 0.01,
       "value": 0.3
      }
     },
     "61db789ae03f4b0ebaee8468af6b6932": {
      "model_module": "jupyter-js-widgets",
      "model_module_version": "~2.1.4",
      "model_name": "SliderStyleModel",
      "state": {
       "_model_module_version": "~2.1.4",
       "_view_module_version": "~2.1.4"
      }
     },
     "61deb9f49ca8404fbc13685e3ef2831b": {
      "model_module": "jupyter-js-widgets",
      "model_module_version": "~2.1.4",
      "model_name": "LayoutModel",
      "state": {
       "_model_module_version": "~2.1.4",
       "_view_module_version": "~2.1.4"
      }
     },
     "62111c0b01d148c493681a07121e0d31": {
      "model_module": "jupyter-js-widgets",
      "model_module_version": "~2.1.4",
      "model_name": "FloatSliderModel",
      "state": {
       "_model_module_version": "~2.1.4",
       "_view_module_version": "~2.1.4",
       "description": "tasa_ahorro",
       "layout": "IPY_MODEL_686a08bf50c74cb4aabe75ed84898ae0",
       "max": 1,
       "step": 0.01,
       "value": 0.2
      }
     },
     "6264a8af3e514703a416c67417ccb598": {
      "model_module": "jupyter-js-widgets",
      "model_module_version": "~2.1.4",
      "model_name": "IntSliderModel",
      "state": {
       "_model_module_version": "~2.1.4",
       "_view_module_version": "~2.1.4",
       "description": "dias",
       "layout": "IPY_MODEL_777c8d37ef444ad08931cd0aee23fc7c",
       "max": 360,
       "min": 1,
       "step": 10,
       "style": "IPY_MODEL_1b989f6d83794276a9f2c682fd1f60a2",
       "value": 30
      }
     },
     "6287f4a4c459481aab9b35b11bafbeef": {
      "model_module": "jupyter-js-widgets",
      "model_module_version": "~2.1.4",
      "model_name": "FloatSliderModel",
      "state": {
       "_model_module_version": "~2.1.4",
       "_view_module_version": "~2.1.4",
       "description": "tasa_ahorro",
       "layout": "IPY_MODEL_fb4de8dee0e24b69ae00cee959a746d1",
       "max": 1,
       "step": 0.01,
       "value": 0.2
      }
     },
     "62894db6c1134946b25c6943400ade43": {
      "model_module": "jupyter-js-widgets",
      "model_module_version": "~2.1.4",
      "model_name": "SliderStyleModel",
      "state": {
       "_model_module_version": "~2.1.4",
       "_view_module_version": "~2.1.4"
      }
     },
     "62b98c84e41d460c90d244e24fb51bcf": {
      "model_module": "jupyter-js-widgets",
      "model_module_version": "~2.1.4",
      "model_name": "VBoxModel",
      "state": {
       "_dom_classes": [
        "widget-interact"
       ],
       "_model_module_version": "~2.1.4",
       "_view_module_version": "~2.1.4",
       "children": [
        "IPY_MODEL_52a7d100d0df416c821a530c34df1265",
        "IPY_MODEL_9d82a4b888304c19ac4d1a2182fd6f6f",
        "IPY_MODEL_2220a106f8684defac1acdee220f2c22",
        "IPY_MODEL_ea544194ed08447d93f5b1a7b62a93bd",
        "IPY_MODEL_7d514dd10b8245b188d7a2632c847179",
        "IPY_MODEL_24e4e7b161e449b3bb4c7bbfb12b48a4",
        "IPY_MODEL_fda35198e5ff4b4982e99775e8164629",
        "IPY_MODEL_fc35bd8f2d9a4ea9908cc305d773e452"
       ],
       "layout": "IPY_MODEL_c104e28318914806bc096eb1a2fc15a2"
      }
     },
     "62d2007cddc14a6a85adb61b8c1d5e29": {
      "model_module": "jupyter-js-widgets",
      "model_module_version": "~2.1.4",
      "model_name": "IntSliderModel",
      "state": {
       "_model_module_version": "~2.1.4",
       "_view_module_version": "~2.1.4",
       "description": "initial",
       "layout": "IPY_MODEL_37880bc36ce44cf88410ea3c24748de7",
       "max": 25000,
       "step": 500,
       "style": "IPY_MODEL_f5614f08d0804987abc5513da63c296b",
       "value": 15000
      }
     },
     "62e35911b8224c76aec9ee645169ca9e": {
      "model_module": "jupyter-js-widgets",
      "model_module_version": "~2.1.4",
      "model_name": "LayoutModel",
      "state": {
       "_model_module_version": "~2.1.4",
       "_view_module_version": "~2.1.4",
       "width": "100%"
      }
     },
     "636073f05b8c4cf0a68688fb01a75788": {
      "model_module": "jupyter-js-widgets",
      "model_module_version": "~2.1.4",
      "model_name": "LayoutModel",
      "state": {
       "_model_module_version": "~2.1.4",
       "_view_module_version": "~2.1.4",
       "width": "100%"
      }
     },
     "6382393190c142b38d8099ae83800cc5": {
      "model_module": "jupyter-js-widgets",
      "model_module_version": "~2.1.4",
      "model_name": "LayoutModel",
      "state": {
       "_model_module_version": "~2.1.4",
       "_view_module_version": "~2.1.4",
       "width": "100%"
      }
     },
     "639ec616279348b688f91493e07e6607": {
      "model_module": "jupyter-js-widgets",
      "model_module_version": "~2.1.4",
      "model_name": "IntSliderModel",
      "state": {
       "_model_module_version": "~2.1.4",
       "_view_module_version": "~2.1.4",
       "description": "gasto_fijo_diario",
       "layout": "IPY_MODEL_7e8360aa57ef47028fcec7b4689e1dc3",
       "max": 1000,
       "min": 1,
       "step": 50,
       "style": "IPY_MODEL_eee7a81e121c49bbb480a39bd3a4c926",
       "value": 100
      }
     },
     "63cc3f690968406a9e90a47bf4fb0342": {
      "model_module": "jupyter-js-widgets",
      "model_module_version": "~2.1.4",
      "model_name": "VBoxModel",
      "state": {
       "_dom_classes": [
        "widget-interact"
       ],
       "_model_module_version": "~2.1.4",
       "_view_module_version": "~2.1.4",
       "children": [
        "IPY_MODEL_3dac88b93b994cdbbe28d37b5093b0dd",
        "IPY_MODEL_b86428290a5d4c70a14d38e8f616302a",
        "IPY_MODEL_fd304b5a4d5849de8cd9b8ff02998ac0",
        "IPY_MODEL_97861375ed2241b1881cc2a8f678dbfb",
        "IPY_MODEL_912a154db99540cbbd1662337f4991a9",
        "IPY_MODEL_495812fbcaed4f56b2840bb7bf08d212",
        "IPY_MODEL_fe32f26dba0b474caee7227acb5dd28e",
        "IPY_MODEL_3f921726d11143329da38d4d9298bf0d"
       ],
       "layout": "IPY_MODEL_326a514162314f29b28ab361cd32ceb3"
      }
     },
     "63d1579a92c24e0cb6d3d93f9929f0f7": {
      "model_module": "jupyter-js-widgets",
      "model_module_version": "~2.1.4",
      "model_name": "LayoutModel",
      "state": {
       "_model_module_version": "~2.1.4",
       "_view_module_version": "~2.1.4",
       "width": "100%"
      }
     },
     "63edfb18609f4212a080f827147259ad": {
      "model_module": "jupyter-js-widgets",
      "model_module_version": "~2.1.4",
      "model_name": "FloatSliderModel",
      "state": {
       "_model_module_version": "~2.1.4",
       "_view_module_version": "~2.1.4",
       "description": "tasa_gasto_extra",
       "layout": "IPY_MODEL_87765b677cce4b40b3e166d4654a9928",
       "max": 1,
       "step": 0.01,
       "value": 0.3
      }
     },
     "6413be390df24c3fa4c6170358b521c6": {
      "model_module": "jupyter-js-widgets",
      "model_module_version": "~2.1.4",
      "model_name": "LayoutModel",
      "state": {
       "_model_module_version": "~2.1.4",
       "_view_module_version": "~2.1.4",
       "width": "100%"
      }
     },
     "645c1cdbf45b428cad913b4b42c0278d": {
      "model_module": "jupyter-js-widgets",
      "model_module_version": "~2.1.4",
      "model_name": "FloatSliderModel",
      "state": {
       "_model_module_version": "~2.1.4",
       "_view_module_version": "~2.1.4",
       "description": "tasa_ahorro",
       "layout": "IPY_MODEL_f0c86337e6064237b05922bbcd1ff5a3",
       "max": 1,
       "step": 0.01,
       "value": 0.2
      }
     },
     "6499f49b93a948dfadc3e4ce880908eb": {
      "model_module": "jupyter-js-widgets",
      "model_module_version": "~2.1.4",
      "model_name": "FloatSliderModel",
      "state": {
       "_model_module_version": "~2.1.4",
       "_view_module_version": "~2.1.4",
       "description": "tasa_ahorro",
       "layout": "IPY_MODEL_79e8a35261374697b1b44e56883bf42d",
       "max": 1,
       "step": 0.01,
       "value": 0.2
      }
     },
     "649c3bd2e894405abeea55f73cf8eeac": {
      "model_module": "jupyter-js-widgets",
      "model_module_version": "~2.1.4",
      "model_name": "IntSliderModel",
      "state": {
       "_model_module_version": "~2.1.4",
       "_view_module_version": "~2.1.4",
       "description": "dias",
       "layout": "IPY_MODEL_936339986ace4a259cdb17c504fdbcc3",
       "max": 360,
       "min": 1,
       "step": 10,
       "style": "IPY_MODEL_60887de85a244347b3fd06960ca26566",
       "value": 30
      }
     },
     "6511b1522f0e4983ae8bfdce167bc8b3": {
      "model_module": "jupyter-js-widgets",
      "model_module_version": "~2.1.4",
      "model_name": "LayoutModel",
      "state": {
       "_model_module_version": "~2.1.4",
       "_view_module_version": "~2.1.4",
       "width": "100%"
      }
     },
     "651485fd874845eda6e7f1bde0e4c597": {
      "model_module": "jupyter-js-widgets",
      "model_module_version": "~2.1.4",
      "model_name": "FloatSliderModel",
      "state": {
       "_model_module_version": "~2.1.4",
       "_view_module_version": "~2.1.4",
       "description": "paso",
       "layout": "IPY_MODEL_139998ec96df450f89f4913450b93cb2",
       "max": 1,
       "step": 0.01,
       "value": 0.1
      }
     },
     "654d7cb38ad34ab681f51bac042e6748": {
      "model_module": "jupyter-js-widgets",
      "model_module_version": "~2.1.4",
      "model_name": "VBoxModel",
      "state": {
       "_dom_classes": [
        "widget-interact"
       ],
       "_model_module_version": "~2.1.4",
       "_view_module_version": "~2.1.4",
       "children": [
        "IPY_MODEL_befbed7a863a452f95a2dea20b1cd9a1",
        "IPY_MODEL_b8f3a3d5891047b69b962369c4441584",
        "IPY_MODEL_3a1dfb62261b41ab9bc41299e8f73ebf",
        "IPY_MODEL_e5d9f3bdca304ecdbe89e1110abeef00",
        "IPY_MODEL_4fd6fc4e78354d52af199701dfc06318",
        "IPY_MODEL_778bd5f3b25445b5997c825ffa9616fe",
        "IPY_MODEL_7b2c1f10822f456c8b7f13db890c85c5",
        "IPY_MODEL_61c1ec0c1cee44b994d352c5f617485a"
       ],
       "layout": "IPY_MODEL_710ca02c7787441db633983cab7eb90e"
      }
     },
     "660f90f830544ed2bfde67ef4d458b6c": {
      "model_module": "jupyter-js-widgets",
      "model_module_version": "~2.1.4",
      "model_name": "LayoutModel",
      "state": {
       "_model_module_version": "~2.1.4",
       "_view_module_version": "~2.1.4",
       "width": "100%"
      }
     },
     "661747483ded4ca2b01cd248496bd041": {
      "model_module": "jupyter-js-widgets",
      "model_module_version": "~2.1.4",
      "model_name": "FloatSliderModel",
      "state": {
       "_model_module_version": "~2.1.4",
       "_view_module_version": "~2.1.4",
       "description": "cap",
       "layout": "IPY_MODEL_1f3d6121035743d39002a6393b6bedbf",
       "max": 1,
       "step": 0.1,
       "value": 0.2
      }
     },
     "66c2962d967d46c99533259e4466f660": {
      "model_module": "jupyter-js-widgets",
      "model_module_version": "~2.1.4",
      "model_name": "SliderStyleModel",
      "state": {
       "_model_module_version": "~2.1.4",
       "_view_module_version": "~2.1.4"
      }
     },
     "674d787a3dca48469eb5f9ee9b4937e1": {
      "model_module": "jupyter-js-widgets",
      "model_module_version": "~2.1.4",
      "model_name": "VBoxModel",
      "state": {
       "_dom_classes": [
        "widget-interact"
       ],
       "_model_module_version": "~2.1.4",
       "_view_module_version": "~2.1.4",
       "children": [
        "IPY_MODEL_8f215015924b4f2885ff0650ecf29bb7",
        "IPY_MODEL_0ad220aeb24e4171bf93a519b39c9146",
        "IPY_MODEL_512b039bf4ce4a7d99da13779e6ad5f3",
        "IPY_MODEL_fb63d287b8fa45ddbf7fbfc11887ac56",
        "IPY_MODEL_d912b0e50a904fd5a268b80468f05dfd",
        "IPY_MODEL_a2e6a0ed36c94f779c4ece9e73076d0a"
       ],
       "layout": "IPY_MODEL_3577b3167c1f46bc9d487dfa18fea18f"
      }
     },
     "679d7b7264f346e6b0b7a94b1a7512e8": {
      "model_module": "jupyter-js-widgets",
      "model_module_version": "~2.1.4",
      "model_name": "VBoxModel",
      "state": {
       "_dom_classes": [
        "widget-interact"
       ],
       "_model_module_version": "~2.1.4",
       "_view_module_version": "~2.1.4",
       "children": [
        "IPY_MODEL_dd40200ba39f4e7fa8952fd7053f6cc1",
        "IPY_MODEL_21f819bc56f04121b9f71655689ee6fe",
        "IPY_MODEL_f24076d239024541b0d6ea74abaecdbe",
        "IPY_MODEL_73c6924c4445448b96e713a7a345d75e",
        "IPY_MODEL_f86fea3b732c4f42a853efc7ed5ed33d",
        "IPY_MODEL_ef11bdf6c4c34a2ba822f776bd970c1b"
       ],
       "layout": "IPY_MODEL_6dc9e64801674dc0b05def341bda67b6"
      }
     },
     "67c7601a35ad46518e34fbd18e36aed6": {
      "model_module": "jupyter-js-widgets",
      "model_module_version": "~2.1.4",
      "model_name": "LayoutModel",
      "state": {
       "_model_module_version": "~2.1.4",
       "_view_module_version": "~2.1.4",
       "width": "100%"
      }
     },
     "6810778f32a246b3ae31cd20479d2631": {
      "model_module": "jupyter-js-widgets",
      "model_module_version": "~2.1.4",
      "model_name": "VBoxModel",
      "state": {
       "_dom_classes": [
        "widget-interact"
       ],
       "_model_module_version": "~2.1.4",
       "_view_module_version": "~2.1.4",
       "children": [
        "IPY_MODEL_12ced1c33b2e47bfaab633645fa13aa3",
        "IPY_MODEL_5d1137fbe6bb4934b4994a3c7eb70bb7",
        "IPY_MODEL_403b9628f563478e83c538861b928153",
        "IPY_MODEL_639ec616279348b688f91493e07e6607",
        "IPY_MODEL_0ba95022dc85429aae31783b6a207385",
        "IPY_MODEL_b0ed47dc17764cc588d0b3f10d808e71"
       ],
       "layout": "IPY_MODEL_6fc882179d704be094daca515e190b8c"
      }
     },
     "686a08bf50c74cb4aabe75ed84898ae0": {
      "model_module": "jupyter-js-widgets",
      "model_module_version": "~2.1.4",
      "model_name": "LayoutModel",
      "state": {
       "_model_module_version": "~2.1.4",
       "_view_module_version": "~2.1.4",
       "width": "100%"
      }
     },
     "68ef570fd4764490b9f28d6b781d9185": {
      "model_module": "jupyter-js-widgets",
      "model_module_version": "~2.1.4",
      "model_name": "LayoutModel",
      "state": {
       "_model_module_version": "~2.1.4",
       "_view_module_version": "~2.1.4",
       "width": "100%"
      }
     },
     "6908f781ab2846318a84e72cc1b03784": {
      "model_module": "jupyter-js-widgets",
      "model_module_version": "~2.1.4",
      "model_name": "IntSliderModel",
      "state": {
       "_model_module_version": "~2.1.4",
       "_view_module_version": "~2.1.4",
       "description": "dias",
       "layout": "IPY_MODEL_16cb63615b11447a8679cecc57e5ce76",
       "max": 360,
       "min": 1,
       "step": 10,
       "style": "IPY_MODEL_e4529d9594534842ab730753d3fd1185",
       "value": 30
      }
     },
     "698541194a2a489092276f997668d7f1": {
      "model_module": "jupyter-js-widgets",
      "model_module_version": "~2.1.4",
      "model_name": "LayoutModel",
      "state": {
       "_model_module_version": "~2.1.4",
       "_view_module_version": "~2.1.4"
      }
     },
     "6987342c738e4be3a04080408da5030d": {
      "model_module": "jupyter-js-widgets",
      "model_module_version": "~2.1.4",
      "model_name": "OutputModel",
      "state": {
       "_dom_classes": [],
       "_model_module": "jupyter-js-widgets",
       "_model_module_version": "~2.1.4",
       "_view_module": "jupyter-js-widgets",
       "_view_module_version": "~2.1.4",
       "layout": "IPY_MODEL_9e81b09ca1ff4fc9b0719bbccb3866fe",
       "msg_throttle": 1
      }
     },
     "69a218c89a204d82b7ce5e4cc407aa59": {
      "model_module": "jupyter-js-widgets",
      "model_module_version": "~2.1.4",
      "model_name": "SliderStyleModel",
      "state": {
       "_model_module_version": "~2.1.4",
       "_view_module_version": "~2.1.4"
      }
     },
     "6a3661d0e5b94a3c9e06f08e058780ce": {
      "model_module": "jupyter-js-widgets",
      "model_module_version": "~2.1.4",
      "model_name": "SliderStyleModel",
      "state": {
       "_model_module_version": "~2.1.4",
       "_view_module_version": "~2.1.4"
      }
     },
     "6a6740833c4b445ab4176d1d735c97f9": {
      "model_module": "jupyter-js-widgets",
      "model_module_version": "~2.1.4",
      "model_name": "LayoutModel",
      "state": {
       "_model_module_version": "~2.1.4",
       "_view_module_version": "~2.1.4",
       "width": "100%"
      }
     },
     "6aefb8c9f17b4ba49b8a04bd59a6f426": {
      "model_module": "jupyter-js-widgets",
      "model_module_version": "~2.1.4",
      "model_name": "LayoutModel",
      "state": {
       "_model_module_version": "~2.1.4",
       "_view_module_version": "~2.1.4",
       "width": "100%"
      }
     },
     "6b52594ab64f47cdbc9795915020b4bc": {
      "model_module": "jupyter-js-widgets",
      "model_module_version": "~2.1.4",
      "model_name": "IntSliderModel",
      "state": {
       "_model_module_version": "~2.1.4",
       "_view_module_version": "~2.1.4",
       "description": "dias",
       "layout": "IPY_MODEL_5a1dc2c87a8d4304892c198f0a1a8b8c",
       "max": 360,
       "min": 1,
       "step": 10,
       "style": "IPY_MODEL_10c9a95668be4abeac58bde42776248f",
       "value": 30
      }
     },
     "6b6c71fb2ad6490c931f0eaac96679ed": {
      "model_module": "jupyter-js-widgets",
      "model_module_version": "~2.1.4",
      "model_name": "FloatSliderModel",
      "state": {
       "_model_module_version": "~2.1.4",
       "_view_module_version": "~2.1.4",
       "description": "tasa_ahorro",
       "layout": "IPY_MODEL_8c864804a91d4054a5e59ae970a56bcb",
       "max": 1,
       "step": 0.01,
       "value": 0.2
      }
     },
     "6b9434d5d6fb4b83be1dd691a2420547": {
      "model_module": "jupyter-js-widgets",
      "model_module_version": "~2.1.4",
      "model_name": "SliderStyleModel",
      "state": {
       "_model_module_version": "~2.1.4",
       "_view_module_version": "~2.1.4"
      }
     },
     "6b95b9a890ea4c0aa49bde0f33129453": {
      "model_module": "jupyter-js-widgets",
      "model_module_version": "~2.1.4",
      "model_name": "OutputModel",
      "state": {
       "_dom_classes": [],
       "_model_module": "jupyter-js-widgets",
       "_model_module_version": "~2.1.4",
       "_view_module": "jupyter-js-widgets",
       "_view_module_version": "~2.1.4",
       "layout": "IPY_MODEL_d22c2a9355e5484f8e2d7c1eef0d73f3",
       "msg_throttle": 1
      }
     },
     "6b9e27d2c1fb47feb97ef0c65eb8796c": {
      "model_module": "jupyter-js-widgets",
      "model_module_version": "~2.1.4",
      "model_name": "LayoutModel",
      "state": {
       "_model_module_version": "~2.1.4",
       "_view_module_version": "~2.1.4",
       "width": "100%"
      }
     },
     "6bf0c24c8a2e45e1876999eca6a12561": {
      "model_module": "jupyter-js-widgets",
      "model_module_version": "~2.1.4",
      "model_name": "FloatSliderModel",
      "state": {
       "_model_module_version": "~2.1.4",
       "_view_module_version": "~2.1.4",
       "description": "k",
       "layout": "IPY_MODEL_278af4639d414a79a3e63d3bdb195563",
       "max": 1,
       "step": 0.1,
       "value": 0.3
      }
     },
     "6bf3181960214238a8cb26dac3899815": {
      "model_module": "jupyter-js-widgets",
      "model_module_version": "~2.1.4",
      "model_name": "LayoutModel",
      "state": {
       "_model_module_version": "~2.1.4",
       "_view_module_version": "~2.1.4"
      }
     },
     "6c1ebe09e6854808a4c272f71d2dacad": {
      "model_module": "jupyter-js-widgets",
      "model_module_version": "~2.1.4",
      "model_name": "SliderStyleModel",
      "state": {
       "_model_module_version": "~2.1.4",
       "_view_module_version": "~2.1.4"
      }
     },
     "6c20169a9b6b4e09a435ea9e55a7adc0": {
      "model_module": "jupyter-js-widgets",
      "model_module_version": "~2.1.4",
      "model_name": "FloatSliderModel",
      "state": {
       "_model_module_version": "~2.1.4",
       "_view_module_version": "~2.1.4",
       "description": "tasa_gasto_extra",
       "layout": "IPY_MODEL_7dc617089e734b87be5e4588f15b275b",
       "max": 1,
       "step": 0.01,
       "value": 0.3
      }
     },
     "6c2167c78d944e73af3049aab557d23a": {
      "model_module": "jupyter-js-widgets",
      "model_module_version": "~2.1.4",
      "model_name": "LayoutModel",
      "state": {
       "_model_module_version": "~2.1.4",
       "_view_module_version": "~2.1.4",
       "width": "100%"
      }
     },
     "6d1eeb5c6ed04152b95e21491d1eb636": {
      "model_module": "jupyter-js-widgets",
      "model_module_version": "~2.1.4",
      "model_name": "FloatSliderModel",
      "state": {
       "_model_module_version": "~2.1.4",
       "_view_module_version": "~2.1.4",
       "description": "tasa_gasto_extra",
       "layout": "IPY_MODEL_0856c9ddd1f148dd9f79bc36adb69c3c",
       "max": 1,
       "step": 0.01,
       "value": 0.3
      }
     },
     "6d6fac0ab0124e1d8cd4c46be7694eca": {
      "model_module": "jupyter-js-widgets",
      "model_module_version": "~2.1.4",
      "model_name": "SliderStyleModel",
      "state": {
       "_model_module_version": "~2.1.4",
       "_view_module_version": "~2.1.4"
      }
     },
     "6d7743578148444cb008cc52be73840e": {
      "model_module": "jupyter-js-widgets",
      "model_module_version": "~2.1.4",
      "model_name": "LayoutModel",
      "state": {
       "_model_module_version": "~2.1.4",
       "_view_module_version": "~2.1.4",
       "width": "100%"
      }
     },
     "6d794ebbe6f6473ba1df3cd1a30b536d": {
      "model_module": "jupyter-js-widgets",
      "model_module_version": "~2.1.4",
      "model_name": "LayoutModel",
      "state": {
       "_model_module_version": "~2.1.4",
       "_view_module_version": "~2.1.4",
       "width": "100%"
      }
     },
     "6d970aba98624277bc46d7e7f9d2b347": {
      "model_module": "jupyter-js-widgets",
      "model_module_version": "~2.1.4",
      "model_name": "OutputModel",
      "state": {
       "_dom_classes": [],
       "_model_module": "jupyter-js-widgets",
       "_model_module_version": "~2.1.4",
       "_view_module": "jupyter-js-widgets",
       "_view_module_version": "~2.1.4",
       "layout": "IPY_MODEL_f84b203997664f988d72d83028df1853",
       "msg_throttle": 1
      }
     },
     "6d9771cd671245d3a0156fd7d4bd7496": {
      "model_module": "jupyter-js-widgets",
      "model_module_version": "~2.1.4",
      "model_name": "OutputModel",
      "state": {
       "_dom_classes": [],
       "_model_module": "jupyter-js-widgets",
       "_model_module_version": "~2.1.4",
       "_view_module": "jupyter-js-widgets",
       "_view_module_version": "~2.1.4",
       "layout": "IPY_MODEL_0e873fce10dd48e99071e5d36d40c596",
       "msg_throttle": 1
      }
     },
     "6dc46afb18f54c62a49959f2cf7e13ae": {
      "model_module": "jupyter-js-widgets",
      "model_module_version": "~2.1.4",
      "model_name": "IntSliderModel",
      "state": {
       "_model_module_version": "~2.1.4",
       "_view_module_version": "~2.1.4",
       "description": "gasto_fijo_diario",
       "layout": "IPY_MODEL_b74ab670b1e24efd8dd0d61c976ebd19",
       "max": 1000,
       "min": 1,
       "step": 50,
       "style": "IPY_MODEL_bfd4020dc7754eb0b2200b22df2c6fdc",
       "value": 100
      }
     },
     "6dc9e64801674dc0b05def341bda67b6": {
      "model_module": "jupyter-js-widgets",
      "model_module_version": "~2.1.4",
      "model_name": "LayoutModel",
      "state": {
       "_model_module_version": "~2.1.4",
       "_view_module_version": "~2.1.4"
      }
     },
     "6dcabeb93df74fffbea9d2781f92342a": {
      "model_module": "jupyter-js-widgets",
      "model_module_version": "~2.1.4",
      "model_name": "SliderStyleModel",
      "state": {
       "_model_module_version": "~2.1.4",
       "_view_module_version": "~2.1.4"
      }
     },
     "6e09b3085b8a48f7b2d2de0eabfaac3f": {
      "model_module": "jupyter-js-widgets",
      "model_module_version": "~2.1.4",
      "model_name": "LayoutModel",
      "state": {
       "_model_module_version": "~2.1.4",
       "_view_module_version": "~2.1.4",
       "width": "100%"
      }
     },
     "6eb66b72b39f406c8447bd318c3e60b5": {
      "model_module": "jupyter-js-widgets",
      "model_module_version": "~2.1.4",
      "model_name": "SliderStyleModel",
      "state": {
       "_model_module_version": "~2.1.4",
       "_view_module_version": "~2.1.4"
      }
     },
     "6edfc363a1334e3ea7e7efdc589d50e5": {
      "model_module": "jupyter-js-widgets",
      "model_module_version": "~2.1.4",
      "model_name": "SliderStyleModel",
      "state": {
       "_model_module_version": "~2.1.4",
       "_view_module_version": "~2.1.4"
      }
     },
     "6fc2ec671d33461ab158d225a167ed3f": {
      "model_module": "jupyter-js-widgets",
      "model_module_version": "~2.1.4",
      "model_name": "LayoutModel",
      "state": {
       "_model_module_version": "~2.1.4",
       "_view_module_version": "~2.1.4",
       "width": "100%"
      }
     },
     "6fc882179d704be094daca515e190b8c": {
      "model_module": "jupyter-js-widgets",
      "model_module_version": "~2.1.4",
      "model_name": "LayoutModel",
      "state": {
       "_model_module_version": "~2.1.4",
       "_view_module_version": "~2.1.4"
      }
     },
     "6fdb8f445fcf4d5f934d888ac5788318": {
      "model_module": "jupyter-js-widgets",
      "model_module_version": "~2.1.4",
      "model_name": "LayoutModel",
      "state": {
       "_model_module_version": "~2.1.4",
       "_view_module_version": "~2.1.4",
       "width": "100%"
      }
     },
     "702a0fc5b3274d31b5410932f0e84571": {
      "model_module": "jupyter-js-widgets",
      "model_module_version": "~2.1.4",
      "model_name": "IntSliderModel",
      "state": {
       "_model_module_version": "~2.1.4",
       "_view_module_version": "~2.1.4",
       "description": "gasto_fijo_diario",
       "layout": "IPY_MODEL_25d60461622b4463af139ec9f75768e2",
       "max": 1000,
       "min": 1,
       "step": 50,
       "style": "IPY_MODEL_dbcbc1b7ea4f461cb34df437d40c2f40",
       "value": 100
      }
     },
     "702b23d35b60423f8d96a69c63319151": {
      "model_module": "jupyter-js-widgets",
      "model_module_version": "~2.1.4",
      "model_name": "IntSliderModel",
      "state": {
       "_model_module_version": "~2.1.4",
       "_view_module_version": "~2.1.4",
       "description": "sueldo_inicial",
       "layout": "IPY_MODEL_d642a6c67ebc44328a06015ba0f07871",
       "max": 25000,
       "step": 500,
       "style": "IPY_MODEL_caf5fabb311e4a46badc53e774902ad9",
       "value": 15000
      }
     },
     "70567c19499d4f02a70d0afa206feae8": {
      "model_module": "jupyter-js-widgets",
      "model_module_version": "~2.1.4",
      "model_name": "FloatSliderModel",
      "state": {
       "_model_module_version": "~2.1.4",
       "_view_module_version": "~2.1.4",
       "description": "tasa_ahorro",
       "layout": "IPY_MODEL_fbb50b8455da4d55ab26986391ecd986",
       "max": 1,
       "step": 0.01,
       "value": 0.2
      }
     },
     "7060cdc9adca4224863c21a85183c3ed": {
      "model_module": "jupyter-js-widgets",
      "model_module_version": "~2.1.4",
      "model_name": "IntSliderModel",
      "state": {
       "_model_module_version": "~2.1.4",
       "_view_module_version": "~2.1.4",
       "description": "sueldo_inicial",
       "layout": "IPY_MODEL_7d99b7cd088f40018e15053618fc2690",
       "max": 25000,
       "step": 500,
       "style": "IPY_MODEL_7a5a2d91ed794caf9078851e058e8ade",
       "value": 15000
      }
     },
     "7104a566842f405eb35637c9a3e28197": {
      "model_module": "jupyter-js-widgets",
      "model_module_version": "~2.1.4",
      "model_name": "IntSliderModel",
      "state": {
       "_model_module_version": "~2.1.4",
       "_view_module_version": "~2.1.4",
       "description": "intervalo",
       "layout": "IPY_MODEL_f5c4e39c04264860bddf588aa92c0712",
       "max": 360,
       "min": 1,
       "step": 10,
       "style": "IPY_MODEL_4a176b621bce48aea43217dd914c97ff",
       "value": 30
      }
     },
     "710ca02c7787441db633983cab7eb90e": {
      "model_module": "jupyter-js-widgets",
      "model_module_version": "~2.1.4",
      "model_name": "LayoutModel",
      "state": {
       "_model_module_version": "~2.1.4",
       "_view_module_version": "~2.1.4"
      }
     },
     "714dd1befce145c8b7dba35844e146cf": {
      "model_module": "jupyter-js-widgets",
      "model_module_version": "~2.1.4",
      "model_name": "SliderStyleModel",
      "state": {
       "_model_module_version": "~2.1.4",
       "_view_module_version": "~2.1.4"
      }
     },
     "717a5c16490644fe8778abd724f170e8": {
      "model_module": "jupyter-js-widgets",
      "model_module_version": "~2.1.4",
      "model_name": "LayoutModel",
      "state": {
       "_model_module_version": "~2.1.4",
       "_view_module_version": "~2.1.4",
       "width": "100%"
      }
     },
     "723091c87e3a49dcbd7baf363d79a0e0": {
      "model_module": "jupyter-js-widgets",
      "model_module_version": "~2.1.4",
      "model_name": "OutputModel",
      "state": {
       "_dom_classes": [],
       "_model_module": "jupyter-js-widgets",
       "_model_module_version": "~2.1.4",
       "_view_module": "jupyter-js-widgets",
       "_view_module_version": "~2.1.4",
       "layout": "IPY_MODEL_61deb9f49ca8404fbc13685e3ef2831b",
       "msg_throttle": 1
      }
     },
     "7251a08d6dda4d82beb941aaa67b0e21": {
      "model_module": "jupyter-js-widgets",
      "model_module_version": "~2.1.4",
      "model_name": "SliderStyleModel",
      "state": {
       "_model_module_version": "~2.1.4",
       "_view_module_version": "~2.1.4"
      }
     },
     "7256e45719334c428b44b64a235284b5": {
      "model_module": "jupyter-js-widgets",
      "model_module_version": "~2.1.4",
      "model_name": "SliderStyleModel",
      "state": {
       "_model_module_version": "~2.1.4",
       "_view_module_version": "~2.1.4"
      }
     },
     "7270fe4a51a144178fec8cad284847ab": {
      "model_module": "jupyter-js-widgets",
      "model_module_version": "~2.1.4",
      "model_name": "IntSliderModel",
      "state": {
       "_model_module_version": "~2.1.4",
       "_view_module_version": "~2.1.4",
       "description": "gasto_fijo_diario",
       "layout": "IPY_MODEL_e8d6c4457cbb423dbb0099b9f5fdead1",
       "max": 1000,
       "min": 1,
       "step": 50,
       "style": "IPY_MODEL_171db36705d6458caff0abf2d16bf5f3",
       "value": 100
      }
     },
     "727d5a4d1044494386f79929462c1239": {
      "model_module": "jupyter-js-widgets",
      "model_module_version": "~2.1.4",
      "model_name": "LayoutModel",
      "state": {
       "_model_module_version": "~2.1.4",
       "_view_module_version": "~2.1.4",
       "width": "100%"
      }
     },
     "72b2b4ad1d5a4bb3a21c50e05a6ed3a5": {
      "model_module": "jupyter-js-widgets",
      "model_module_version": "~2.1.4",
      "model_name": "IntSliderModel",
      "state": {
       "_model_module_version": "~2.1.4",
       "_view_module_version": "~2.1.4",
       "description": "dias",
       "layout": "IPY_MODEL_f3eb840f706848789fe5bf9c1df68735",
       "max": 360,
       "min": 1,
       "step": 10,
       "style": "IPY_MODEL_7251a08d6dda4d82beb941aaa67b0e21",
       "value": 71
      }
     },
     "72bcb4b4e60c41f5b105a74f0ebfd059": {
      "model_module": "jupyter-js-widgets",
      "model_module_version": "~2.1.4",
      "model_name": "LayoutModel",
      "state": {
       "_model_module_version": "~2.1.4",
       "_view_module_version": "~2.1.4",
       "width": "100%"
      }
     },
     "72bebb6d64674972adf0b2f01d4b2f9c": {
      "model_module": "jupyter-js-widgets",
      "model_module_version": "~2.1.4",
      "model_name": "IntSliderModel",
      "state": {
       "_model_module_version": "~2.1.4",
       "_view_module_version": "~2.1.4",
       "description": "sueldo_inicial",
       "layout": "IPY_MODEL_fa9f9b4e8225460fb252ed44fe7f9087",
       "max": 25000,
       "step": 500,
       "style": "IPY_MODEL_e274359287d046c185d4ae9fa8c0aee2",
       "value": 15000
      }
     },
     "72c24d43bb5640f780f73e3ec0ebe69b": {
      "model_module": "jupyter-js-widgets",
      "model_module_version": "~2.1.4",
      "model_name": "LayoutModel",
      "state": {
       "_model_module_version": "~2.1.4",
       "_view_module_version": "~2.1.4"
      }
     },
     "73a113d5ce184630bf400a2696d0abdb": {
      "model_module": "jupyter-js-widgets",
      "model_module_version": "~2.1.4",
      "model_name": "LayoutModel",
      "state": {
       "_model_module_version": "~2.1.4",
       "_view_module_version": "~2.1.4"
      }
     },
     "73c6924c4445448b96e713a7a345d75e": {
      "model_module": "jupyter-js-widgets",
      "model_module_version": "~2.1.4",
      "model_name": "IntSliderModel",
      "state": {
       "_model_module_version": "~2.1.4",
       "_view_module_version": "~2.1.4",
       "description": "gasto_fijo_diario",
       "layout": "IPY_MODEL_4b95a851e4eb4725834f9bb1bff3910c",
       "max": 1000,
       "min": 1,
       "step": 50,
       "style": "IPY_MODEL_e52b231db79d4a368ff8f596c202e29a",
       "value": 100
      }
     },
     "73eb8f93f7e249c3b3129b416931d740": {
      "model_module": "jupyter-js-widgets",
      "model_module_version": "~2.1.4",
      "model_name": "LayoutModel",
      "state": {
       "_model_module_version": "~2.1.4",
       "_view_module_version": "~2.1.4",
       "width": "100%"
      }
     },
     "7450e1c18d464cdfb61d77d215e2f606": {
      "model_module": "jupyter-js-widgets",
      "model_module_version": "~2.1.4",
      "model_name": "LayoutModel",
      "state": {
       "_model_module_version": "~2.1.4",
       "_view_module_version": "~2.1.4",
       "width": "100%"
      }
     },
     "750026ac997e487bbad4f1a11d15336b": {
      "model_module": "jupyter-js-widgets",
      "model_module_version": "~2.1.4",
      "model_name": "FloatSliderModel",
      "state": {
       "_model_module_version": "~2.1.4",
       "_view_module_version": "~2.1.4",
       "description": "paso",
       "layout": "IPY_MODEL_7c4dc021e7c644cdb4c2c0f9a7de80a4",
       "max": 1,
       "step": 0.01,
       "value": 0.1
      }
     },
     "7539960ceada4e3a89283ba258f2e4ab": {
      "model_module": "jupyter-js-widgets",
      "model_module_version": "~2.1.4",
      "model_name": "LayoutModel",
      "state": {
       "_model_module_version": "~2.1.4",
       "_view_module_version": "~2.1.4"
      }
     },
     "764c41e2ac6f4529a0c655123af69aeb": {
      "model_module": "jupyter-js-widgets",
      "model_module_version": "~2.1.4",
      "model_name": "LayoutModel",
      "state": {
       "_model_module_version": "~2.1.4",
       "_view_module_version": "~2.1.4",
       "width": "100%"
      }
     },
     "7684deddae14435bac3225f5844342b0": {
      "model_module": "jupyter-js-widgets",
      "model_module_version": "~2.1.4",
      "model_name": "SliderStyleModel",
      "state": {
       "_model_module_version": "~2.1.4",
       "_view_module_version": "~2.1.4"
      }
     },
     "76dd2d39e8ba45c29582e41d68f31be2": {
      "model_module": "jupyter-js-widgets",
      "model_module_version": "~2.1.4",
      "model_name": "VBoxModel",
      "state": {
       "_dom_classes": [
        "widget-interact"
       ],
       "_model_module_version": "~2.1.4",
       "_view_module_version": "~2.1.4",
       "children": [
        "IPY_MODEL_dcf91b21b2134c9687a6b4b03fc37c8a",
        "IPY_MODEL_854131fd167c41d380616878bce1821f",
        "IPY_MODEL_f85608d3ac7143caa7986fa78bae7345",
        "IPY_MODEL_e380b6b8220d4d7dadffa9a75e4cec89",
        "IPY_MODEL_0725b23e49f6482d830c514bfcff3572",
        "IPY_MODEL_306e8174e3e34c29bb512bed41cdbcf0",
        "IPY_MODEL_be4b707849254ce69b73234152d5b734",
        "IPY_MODEL_07f4188b8a10442f90e9feed6a02fdba"
       ],
       "layout": "IPY_MODEL_12d50f1c31664aaaa12c26f4a6385cba"
      }
     },
     "771c81bea2b643c0844fe68208d69bf0": {
      "model_module": "jupyter-js-widgets",
      "model_module_version": "~2.1.4",
      "model_name": "LayoutModel",
      "state": {
       "_model_module_version": "~2.1.4",
       "_view_module_version": "~2.1.4",
       "width": "100%"
      }
     },
     "7720a64ffc6d4f02b918dcdcb8bdf086": {
      "model_module": "jupyter-js-widgets",
      "model_module_version": "~2.1.4",
      "model_name": "IntSliderModel",
      "state": {
       "_model_module_version": "~2.1.4",
       "_view_module_version": "~2.1.4",
       "description": "sueldo_inicial",
       "layout": "IPY_MODEL_d631f04a4c184c24a4af6816fb3d2b8e",
       "max": 25000,
       "step": 500,
       "style": "IPY_MODEL_714dd1befce145c8b7dba35844e146cf",
       "value": 15000
      }
     },
     "777c8d37ef444ad08931cd0aee23fc7c": {
      "model_module": "jupyter-js-widgets",
      "model_module_version": "~2.1.4",
      "model_name": "LayoutModel",
      "state": {
       "_model_module_version": "~2.1.4",
       "_view_module_version": "~2.1.4",
       "width": "100%"
      }
     },
     "778bd5f3b25445b5997c825ffa9616fe": {
      "model_module": "jupyter-js-widgets",
      "model_module_version": "~2.1.4",
      "model_name": "IntSliderModel",
      "state": {
       "_model_module_version": "~2.1.4",
       "_view_module_version": "~2.1.4",
       "description": "intervalo",
       "layout": "IPY_MODEL_1633df7b25b04bc9a5aba2ae18e28140",
       "max": 360,
       "min": 1,
       "step": 10,
       "style": "IPY_MODEL_03f514927d9f4afc8e15c2657498e9a6",
       "value": 30
      }
     },
     "77ec03788f0147f989d2fc80870e0c58": {
      "model_module": "jupyter-js-widgets",
      "model_module_version": "~2.1.4",
      "model_name": "FloatSliderModel",
      "state": {
       "_model_module_version": "~2.1.4",
       "_view_module_version": "~2.1.4",
       "description": "tasa_gasto_extra",
       "layout": "IPY_MODEL_3d14c6223dd3440a8695a35645fb1cee",
       "max": 1,
       "step": 0.01,
       "value": 0.3
      }
     },
     "7818499530a04d24bc2eb2f47014d902": {
      "model_module": "jupyter-js-widgets",
      "model_module_version": "~2.1.4",
      "model_name": "SliderStyleModel",
      "state": {
       "_model_module_version": "~2.1.4",
       "_view_module_version": "~2.1.4"
      }
     },
     "782815a0e6ac4d45bffc98d8660ca211": {
      "model_module": "jupyter-js-widgets",
      "model_module_version": "~2.1.4",
      "model_name": "LayoutModel",
      "state": {
       "_model_module_version": "~2.1.4",
       "_view_module_version": "~2.1.4"
      }
     },
     "78c248437fc64e588bb46fb30a1e8ade": {
      "model_module": "jupyter-js-widgets",
      "model_module_version": "~2.1.4",
      "model_name": "VBoxModel",
      "state": {
       "_dom_classes": [
        "widget-interact"
       ],
       "_model_module_version": "~2.1.4",
       "_view_module_version": "~2.1.4",
       "children": [
        "IPY_MODEL_8ac072f104a14d3e84ac5965db5f3467",
        "IPY_MODEL_36af5681bf3444809328b46efded69f3",
        "IPY_MODEL_63edfb18609f4212a080f827147259ad",
        "IPY_MODEL_3ca9d91194e044d7b49e2be4e4a0d744",
        "IPY_MODEL_ab0cd99320b348838d4745dc971e97c1",
        "IPY_MODEL_cb933ac0bde94f6e96ea2a21bd4b3473"
       ],
       "layout": "IPY_MODEL_47bc8496acc44720933280721a42af7d"
      }
     },
     "78cb8959bde642ae8c910ab0a908af42": {
      "model_module": "jupyter-js-widgets",
      "model_module_version": "~2.1.4",
      "model_name": "LayoutModel",
      "state": {
       "_model_module_version": "~2.1.4",
       "_view_module_version": "~2.1.4",
       "width": "100%"
      }
     },
     "78e93ae8d4884bfa9e877dff50d31cef": {
      "model_module": "jupyter-js-widgets",
      "model_module_version": "~2.1.4",
      "model_name": "OutputModel",
      "state": {
       "_dom_classes": [],
       "_model_module": "jupyter-js-widgets",
       "_model_module_version": "~2.1.4",
       "_view_module": "jupyter-js-widgets",
       "_view_module_version": "~2.1.4",
       "layout": "IPY_MODEL_ed0c34e269db4720870d10d4406b9475",
       "msg_throttle": 1
      }
     },
     "793ef347af18491ca35cd523b6feda37": {
      "model_module": "jupyter-js-widgets",
      "model_module_version": "~2.1.4",
      "model_name": "LayoutModel",
      "state": {
       "_model_module_version": "~2.1.4",
       "_view_module_version": "~2.1.4",
       "width": "100%"
      }
     },
     "79425bd0942d462bb3d57ec973f00c77": {
      "model_module": "jupyter-js-widgets",
      "model_module_version": "~2.1.4",
      "model_name": "LayoutModel",
      "state": {
       "_model_module_version": "~2.1.4",
       "_view_module_version": "~2.1.4"
      }
     },
     "79d662588a404a2cbc92390c139256f8": {
      "model_module": "jupyter-js-widgets",
      "model_module_version": "~2.1.4",
      "model_name": "LayoutModel",
      "state": {
       "_model_module_version": "~2.1.4",
       "_view_module_version": "~2.1.4",
       "width": "100%"
      }
     },
     "79e8a35261374697b1b44e56883bf42d": {
      "model_module": "jupyter-js-widgets",
      "model_module_version": "~2.1.4",
      "model_name": "LayoutModel",
      "state": {
       "_model_module_version": "~2.1.4",
       "_view_module_version": "~2.1.4",
       "width": "100%"
      }
     },
     "7a35152308b944e9af8eb23019a915cb": {
      "model_module": "jupyter-js-widgets",
      "model_module_version": "~2.1.4",
      "model_name": "LayoutModel",
      "state": {
       "_model_module_version": "~2.1.4",
       "_view_module_version": "~2.1.4"
      }
     },
     "7a5a2d91ed794caf9078851e058e8ade": {
      "model_module": "jupyter-js-widgets",
      "model_module_version": "~2.1.4",
      "model_name": "SliderStyleModel",
      "state": {
       "_model_module_version": "~2.1.4",
       "_view_module_version": "~2.1.4"
      }
     },
     "7a96e7c81d844c97b69e3a9bad7aa574": {
      "model_module": "jupyter-js-widgets",
      "model_module_version": "~2.1.4",
      "model_name": "LayoutModel",
      "state": {
       "_model_module_version": "~2.1.4",
       "_view_module_version": "~2.1.4",
       "width": "100%"
      }
     },
     "7aa5851711b1465db3dd223f73eccfb1": {
      "model_module": "jupyter-js-widgets",
      "model_module_version": "~2.1.4",
      "model_name": "LayoutModel",
      "state": {
       "_model_module_version": "~2.1.4",
       "_view_module_version": "~2.1.4",
       "width": "100%"
      }
     },
     "7b2c1f10822f456c8b7f13db890c85c5": {
      "model_module": "jupyter-js-widgets",
      "model_module_version": "~2.1.4",
      "model_name": "FloatSliderModel",
      "state": {
       "_model_module_version": "~2.1.4",
       "_view_module_version": "~2.1.4",
       "description": "paso",
       "layout": "IPY_MODEL_206b0e40b17c4f2391e76da487786c9f",
       "max": 1,
       "step": 0.01,
       "value": 0.1
      }
     },
     "7b81eb8af43842169018c69e2f4ea4e9": {
      "model_module": "jupyter-js-widgets",
      "model_module_version": "~2.1.4",
      "model_name": "FloatSliderModel",
      "state": {
       "_model_module_version": "~2.1.4",
       "_view_module_version": "~2.1.4",
       "description": "tasa_ahorro",
       "layout": "IPY_MODEL_539c2975ab194b6cb20de719ffbc6ced",
       "max": 1,
       "step": 0.01,
       "value": 0.2
      }
     },
     "7bb0c39e163e415c86a43e50a505aeb5": {
      "model_module": "jupyter-js-widgets",
      "model_module_version": "~2.1.4",
      "model_name": "SliderStyleModel",
      "state": {
       "_model_module_version": "~2.1.4",
       "_view_module_version": "~2.1.4"
      }
     },
     "7bf966155be74354a5a30b06ebb634ae": {
      "model_module": "jupyter-js-widgets",
      "model_module_version": "~2.1.4",
      "model_name": "SliderStyleModel",
      "state": {
       "_model_module_version": "~2.1.4",
       "_view_module_version": "~2.1.4"
      }
     },
     "7c4dc021e7c644cdb4c2c0f9a7de80a4": {
      "model_module": "jupyter-js-widgets",
      "model_module_version": "~2.1.4",
      "model_name": "LayoutModel",
      "state": {
       "_model_module_version": "~2.1.4",
       "_view_module_version": "~2.1.4",
       "width": "100%"
      }
     },
     "7c538720cc894942bfe3ee3cbd15da8f": {
      "model_module": "jupyter-js-widgets",
      "model_module_version": "~2.1.4",
      "model_name": "LayoutModel",
      "state": {
       "_model_module_version": "~2.1.4",
       "_view_module_version": "~2.1.4",
       "width": "100%"
      }
     },
     "7cebfc75fe3e47548759a6d81d929cd0": {
      "model_module": "jupyter-js-widgets",
      "model_module_version": "~2.1.4",
      "model_name": "FloatSliderModel",
      "state": {
       "_model_module_version": "~2.1.4",
       "_view_module_version": "~2.1.4",
       "description": "tasa_gasto_extra",
       "layout": "IPY_MODEL_94613478263043d1a0f19dfac332d351",
       "max": 1,
       "step": 0.01,
       "value": 0.3
      }
     },
     "7d13f5e0f0ce4d8790506557b58f36f1": {
      "model_module": "jupyter-js-widgets",
      "model_module_version": "~2.1.4",
      "model_name": "OutputModel",
      "state": {
       "_dom_classes": [],
       "_model_module": "jupyter-js-widgets",
       "_model_module_version": "~2.1.4",
       "_view_module": "jupyter-js-widgets",
       "_view_module_version": "~2.1.4",
       "layout": "IPY_MODEL_de7874e20f5447399831aa136fe9fc26",
       "msg_throttle": 1
      }
     },
     "7d25f41a79ef4630aa401087723923ad": {
      "model_module": "jupyter-js-widgets",
      "model_module_version": "~2.1.4",
      "model_name": "IntSliderModel",
      "state": {
       "_model_module_version": "~2.1.4",
       "_view_module_version": "~2.1.4",
       "description": "intervalo",
       "layout": "IPY_MODEL_fcb7ef64bcc0436abdcd8fe33022960a",
       "max": 360,
       "min": 1,
       "step": 10,
       "style": "IPY_MODEL_26434c336e9543a58582e4147bfd95af",
       "value": 30
      }
     },
     "7d29218a89a04d7295376abd6fef7f3e": {
      "model_module": "jupyter-js-widgets",
      "model_module_version": "~2.1.4",
      "model_name": "SliderStyleModel",
      "state": {
       "_model_module_version": "~2.1.4",
       "_view_module_version": "~2.1.4"
      }
     },
     "7d514dd10b8245b188d7a2632c847179": {
      "model_module": "jupyter-js-widgets",
      "model_module_version": "~2.1.4",
      "model_name": "IntSliderModel",
      "state": {
       "_model_module_version": "~2.1.4",
       "_view_module_version": "~2.1.4",
       "description": "dias",
       "layout": "IPY_MODEL_41053946f58046a894847af44753cea1",
       "max": 360,
       "min": 1,
       "step": 10,
       "style": "IPY_MODEL_f768e082824140be8ada8ebdbcf2783b",
       "value": 60
      }
     },
     "7d52870894d14319b12d94ad29742b13": {
      "model_module": "jupyter-js-widgets",
      "model_module_version": "~2.1.4",
      "model_name": "LayoutModel",
      "state": {
       "_model_module_version": "~2.1.4",
       "_view_module_version": "~2.1.4",
       "width": "100%"
      }
     },
     "7d75d372198741c5a44a66cfc0cf798d": {
      "model_module": "jupyter-js-widgets",
      "model_module_version": "~2.1.4",
      "model_name": "VBoxModel",
      "state": {
       "_dom_classes": [
        "widget-interact"
       ],
       "_model_module_version": "~2.1.4",
       "_view_module_version": "~2.1.4",
       "children": [
        "IPY_MODEL_7060cdc9adca4224863c21a85183c3ed",
        "IPY_MODEL_a2b292ebd9bf48edbcb584b20d92e042",
        "IPY_MODEL_fb583dc9bff044529fc9b45006013d9f",
        "IPY_MODEL_1155d54403854934b8444209ab63225b",
        "IPY_MODEL_6908f781ab2846318a84e72cc1b03784",
        "IPY_MODEL_e4b4a161447541ae97cc29416ec6f01b",
        "IPY_MODEL_f59ef2a1b1da4b9fa6b3095a997dc8c2",
        "IPY_MODEL_d031f42152a746ecbccf38d5ca10b86e"
       ],
       "layout": "IPY_MODEL_1a804f75a8f742cf9df3055c03da2ff6"
      }
     },
     "7d79d11d0731495fac47d22dfbe4b870": {
      "model_module": "jupyter-js-widgets",
      "model_module_version": "~2.1.4",
      "model_name": "LayoutModel",
      "state": {
       "_model_module_version": "~2.1.4",
       "_view_module_version": "~2.1.4",
       "width": "100%"
      }
     },
     "7d99b7cd088f40018e15053618fc2690": {
      "model_module": "jupyter-js-widgets",
      "model_module_version": "~2.1.4",
      "model_name": "LayoutModel",
      "state": {
       "_model_module_version": "~2.1.4",
       "_view_module_version": "~2.1.4",
       "width": "100%"
      }
     },
     "7db9d35f1a564d0593be0bebd0037a58": {
      "model_module": "jupyter-js-widgets",
      "model_module_version": "~2.1.4",
      "model_name": "LayoutModel",
      "state": {
       "_model_module_version": "~2.1.4",
       "_view_module_version": "~2.1.4",
       "width": "100%"
      }
     },
     "7dc617089e734b87be5e4588f15b275b": {
      "model_module": "jupyter-js-widgets",
      "model_module_version": "~2.1.4",
      "model_name": "LayoutModel",
      "state": {
       "_model_module_version": "~2.1.4",
       "_view_module_version": "~2.1.4",
       "width": "100%"
      }
     },
     "7e0159e7e73b48ce91a02068ba1cc8e3": {
      "model_module": "jupyter-js-widgets",
      "model_module_version": "~2.1.4",
      "model_name": "SliderStyleModel",
      "state": {
       "_model_module_version": "~2.1.4",
       "_view_module_version": "~2.1.4"
      }
     },
     "7e085e71af464e72927d0b9fc66420fc": {
      "model_module": "jupyter-js-widgets",
      "model_module_version": "~2.1.4",
      "model_name": "OutputModel",
      "state": {
       "_dom_classes": [],
       "_model_module": "jupyter-js-widgets",
       "_model_module_version": "~2.1.4",
       "_view_module": "jupyter-js-widgets",
       "_view_module_version": "~2.1.4",
       "layout": "IPY_MODEL_f72def265cb347498f4fe0287b5c4b59",
       "msg_throttle": 1
      }
     },
     "7e58c90aeb7d4857b9720d2b9c3a3aa5": {
      "model_module": "jupyter-js-widgets",
      "model_module_version": "~2.1.4",
      "model_name": "VBoxModel",
      "state": {
       "_dom_classes": [
        "widget-interact"
       ],
       "_model_module_version": "~2.1.4",
       "_view_module_version": "~2.1.4",
       "children": [
        "IPY_MODEL_f4510f623abf4562ab8dee5f2ff126ec",
        "IPY_MODEL_c7540a085fd6421c8cd257661dce7961",
        "IPY_MODEL_06d1d402a1404f41931f05732f8a61e3",
        "IPY_MODEL_ef01c8e73f6248f690ccf1fc81ad911e",
        "IPY_MODEL_565b32f9c0ca421497bc94f72f918f46",
        "IPY_MODEL_3ec2068dbcb146d08601bd1c3ea19493",
        "IPY_MODEL_7d13f5e0f0ce4d8790506557b58f36f1"
       ],
       "layout": "IPY_MODEL_4b2050a0f30344baba3b2cc0b0226850"
      }
     },
     "7e79b5d3f21c48e491fe7d122c7a39e2": {
      "model_module": "jupyter-js-widgets",
      "model_module_version": "~2.1.4",
      "model_name": "IntSliderModel",
      "state": {
       "_model_module_version": "~2.1.4",
       "_view_module_version": "~2.1.4",
       "description": "dias",
       "layout": "IPY_MODEL_2b063a9851ac434b9610435c60aa32bb",
       "max": 360,
       "min": 1,
       "step": 10,
       "style": "IPY_MODEL_8da241882e3b4acea210643d7651e94b",
       "value": 30
      }
     },
     "7e7d9615101c4323a4132d5b0141d343": {
      "model_module": "jupyter-js-widgets",
      "model_module_version": "~2.1.4",
      "model_name": "IntSliderModel",
      "state": {
       "_model_module_version": "~2.1.4",
       "_view_module_version": "~2.1.4",
       "description": "gasto_fijo_diario",
       "layout": "IPY_MODEL_28888131991d412794295d52ab6bdc0e",
       "max": 1000,
       "min": 1,
       "step": 50,
       "style": "IPY_MODEL_374f31f9b9174735abac97d495c932eb",
       "value": 100
      }
     },
     "7e8360aa57ef47028fcec7b4689e1dc3": {
      "model_module": "jupyter-js-widgets",
      "model_module_version": "~2.1.4",
      "model_name": "LayoutModel",
      "state": {
       "_model_module_version": "~2.1.4",
       "_view_module_version": "~2.1.4",
       "width": "100%"
      }
     },
     "7f0c72f21562481487b4f3edf609d85c": {
      "model_module": "jupyter-js-widgets",
      "model_module_version": "~2.1.4",
      "model_name": "IntSliderModel",
      "state": {
       "_model_module_version": "~2.1.4",
       "_view_module_version": "~2.1.4",
       "description": "intervalo",
       "layout": "IPY_MODEL_eaaf1d53d2dd434184dc850165902da7",
       "max": 360,
       "min": 1,
       "step": 10,
       "style": "IPY_MODEL_2d5cfbdb430447dd92d8512e27366631",
       "value": 30
      }
     },
     "7f34a8769ba447dd90a093f9c4f9503c": {
      "model_module": "jupyter-js-widgets",
      "model_module_version": "~2.1.4",
      "model_name": "LayoutModel",
      "state": {
       "_model_module_version": "~2.1.4",
       "_view_module_version": "~2.1.4"
      }
     },
     "7f3ea24d4a2e4406a75e20cef2518949": {
      "model_module": "jupyter-js-widgets",
      "model_module_version": "~2.1.4",
      "model_name": "LayoutModel",
      "state": {
       "_model_module_version": "~2.1.4",
       "_view_module_version": "~2.1.4",
       "width": "100%"
      }
     },
     "7f96f0bbbc314094b9d5d54e94a6b3cf": {
      "model_module": "jupyter-js-widgets",
      "model_module_version": "~2.1.4",
      "model_name": "LayoutModel",
      "state": {
       "_model_module_version": "~2.1.4",
       "_view_module_version": "~2.1.4",
       "width": "100%"
      }
     },
     "7fd725fdabe6499cbca296c0405d0319": {
      "model_module": "jupyter-js-widgets",
      "model_module_version": "~2.1.4",
      "model_name": "IntSliderModel",
      "state": {
       "_model_module_version": "~2.1.4",
       "_view_module_version": "~2.1.4",
       "description": "dias",
       "layout": "IPY_MODEL_59e0cefccc0a4a6281c694f2930e032c",
       "max": 360,
       "min": 1,
       "step": 10,
       "style": "IPY_MODEL_db9d5d0f8563432c8e7ac47e1738d9c2",
       "value": 30
      }
     },
     "7ff5eb19a7464861a6ea1675fc889525": {
      "model_module": "jupyter-js-widgets",
      "model_module_version": "~2.1.4",
      "model_name": "LayoutModel",
      "state": {
       "_model_module_version": "~2.1.4",
       "_view_module_version": "~2.1.4",
       "width": "100%"
      }
     },
     "801132c33a22402eb3e64692e9ff08e9": {
      "model_module": "jupyter-js-widgets",
      "model_module_version": "~2.1.4",
      "model_name": "SliderStyleModel",
      "state": {
       "_model_module_version": "~2.1.4",
       "_view_module_version": "~2.1.4"
      }
     },
     "807c49d98dda4618be36f5763c22152c": {
      "model_module": "jupyter-js-widgets",
      "model_module_version": "~2.1.4",
      "model_name": "SliderStyleModel",
      "state": {
       "_model_module_version": "~2.1.4",
       "_view_module_version": "~2.1.4"
      }
     },
     "8082b4e2447b4c2191e9e872b08bcf15": {
      "model_module": "jupyter-js-widgets",
      "model_module_version": "~2.1.4",
      "model_name": "LayoutModel",
      "state": {
       "_model_module_version": "~2.1.4",
       "_view_module_version": "~2.1.4",
       "width": "100%"
      }
     },
     "8082f61ba6c04493be359ce65c7ea153": {
      "model_module": "jupyter-js-widgets",
      "model_module_version": "~2.1.4",
      "model_name": "IntSliderModel",
      "state": {
       "_model_module_version": "~2.1.4",
       "_view_module_version": "~2.1.4",
       "description": "sueldo_inicial",
       "layout": "IPY_MODEL_b5748e29a199451f951ae7956a5557f5",
       "max": 25000,
       "step": 500,
       "style": "IPY_MODEL_c0c2f093066843b5bf76563b2dc62b13",
       "value": 15000
      }
     },
     "80eeb984e9404b5aafc28c83b4f21ec6": {
      "model_module": "jupyter-js-widgets",
      "model_module_version": "~2.1.4",
      "model_name": "FloatSliderModel",
      "state": {
       "_model_module_version": "~2.1.4",
       "_view_module_version": "~2.1.4",
       "description": "tasa_ahorro",
       "layout": "IPY_MODEL_7c538720cc894942bfe3ee3cbd15da8f",
       "max": 1,
       "step": 0.01,
       "value": 0.2
      }
     },
     "8131efbc292145b49ed6b32feae01004": {
      "model_module": "jupyter-js-widgets",
      "model_module_version": "~2.1.4",
      "model_name": "IntSliderModel",
      "state": {
       "_model_module_version": "~2.1.4",
       "_view_module_version": "~2.1.4",
       "description": "gasto_fijo_diario",
       "layout": "IPY_MODEL_25e6816862354bdebad7469347cfe9be",
       "max": 1000,
       "min": 1,
       "step": 50,
       "style": "IPY_MODEL_1e73897187ea4658b43133d55cad00ca",
       "value": 100
      }
     },
     "819beb222581430cb6596fee0f1c92ca": {
      "model_module": "jupyter-js-widgets",
      "model_module_version": "~2.1.4",
      "model_name": "FloatSliderModel",
      "state": {
       "_model_module_version": "~2.1.4",
       "_view_module_version": "~2.1.4",
       "description": "paso",
       "layout": "IPY_MODEL_2ace8a9be97d4134a7db5e04368e79ea",
       "max": 1,
       "step": 0.01,
       "value": 0.1
      }
     },
     "81c35b2311cf4f5a9c5eb95d2731d731": {
      "model_module": "jupyter-js-widgets",
      "model_module_version": "~2.1.4",
      "model_name": "FloatSliderModel",
      "state": {
       "_model_module_version": "~2.1.4",
       "_view_module_version": "~2.1.4",
       "description": "paso",
       "layout": "IPY_MODEL_49843e0d0a73473ead24d49eab36b2ff",
       "max": 1,
       "step": 0.01,
       "value": 0.1
      }
     },
     "820a4cf720514038bdf3971368bcef32": {
      "model_module": "jupyter-js-widgets",
      "model_module_version": "~2.1.4",
      "model_name": "IntSliderModel",
      "state": {
       "_model_module_version": "~2.1.4",
       "_view_module_version": "~2.1.4",
       "description": "dias",
       "layout": "IPY_MODEL_6382393190c142b38d8099ae83800cc5",
       "max": 360,
       "min": 1,
       "step": 10,
       "style": "IPY_MODEL_eb0bd178715d4cbdafc823da2b4cf4dd",
       "value": 60
      }
     },
     "820b0c7130f049a2916dce955e0ebaa1": {
      "model_module": "jupyter-js-widgets",
      "model_module_version": "~2.1.4",
      "model_name": "LayoutModel",
      "state": {
       "_model_module_version": "~2.1.4",
       "_view_module_version": "~2.1.4",
       "width": "100%"
      }
     },
     "821c09c7ce3c40d6859d40b66902125c": {
      "model_module": "jupyter-js-widgets",
      "model_module_version": "~2.1.4",
      "model_name": "IntSliderModel",
      "state": {
       "_model_module_version": "~2.1.4",
       "_view_module_version": "~2.1.4",
       "description": "dias",
       "layout": "IPY_MODEL_df96d46581ff40f1879c9b11fd9939ab",
       "max": 360,
       "min": 1,
       "step": 10,
       "style": "IPY_MODEL_32062d5041b34f21b1894d01e043d421",
       "value": 60
      }
     },
     "8269b64c27b04d5eb4139b8ea10121bf": {
      "model_module": "jupyter-js-widgets",
      "model_module_version": "~2.1.4",
      "model_name": "LayoutModel",
      "state": {
       "_model_module_version": "~2.1.4",
       "_view_module_version": "~2.1.4",
       "width": "100%"
      }
     },
     "827eadf550bb40ecbd5b983fd70fc8a4": {
      "model_module": "jupyter-js-widgets",
      "model_module_version": "~2.1.4",
      "model_name": "SliderStyleModel",
      "state": {
       "_model_module_version": "~2.1.4",
       "_view_module_version": "~2.1.4"
      }
     },
     "82fb61f923bf4227b7de4d72455117a3": {
      "model_module": "jupyter-js-widgets",
      "model_module_version": "~2.1.4",
      "model_name": "IntSliderModel",
      "state": {
       "_model_module_version": "~2.1.4",
       "_view_module_version": "~2.1.4",
       "description": "gasto_fijo_diario",
       "layout": "IPY_MODEL_52d4f6ba8c864c14a8e7964711eb1d12",
       "max": 1000,
       "min": 1,
       "step": 50,
       "style": "IPY_MODEL_2682c72519a6432fa0b4f379b679d636",
       "value": 100
      }
     },
     "83142fd934ab4d4792a33c1ae4a38a35": {
      "model_module": "jupyter-js-widgets",
      "model_module_version": "~2.1.4",
      "model_name": "LayoutModel",
      "state": {
       "_model_module_version": "~2.1.4",
       "_view_module_version": "~2.1.4"
      }
     },
     "834ae4ec6f314d3ca7704a8a34b94ed0": {
      "model_module": "jupyter-js-widgets",
      "model_module_version": "~2.1.4",
      "model_name": "SliderStyleModel",
      "state": {
       "_model_module_version": "~2.1.4",
       "_view_module_version": "~2.1.4"
      }
     },
     "838135dfbc014212a9fdf81b79a6dc06": {
      "model_module": "jupyter-js-widgets",
      "model_module_version": "~2.1.4",
      "model_name": "IntSliderModel",
      "state": {
       "_model_module_version": "~2.1.4",
       "_view_module_version": "~2.1.4",
       "description": "intervalo",
       "layout": "IPY_MODEL_0609196914604bfd93cf80a5bfeae869",
       "max": 360,
       "min": 1,
       "step": 10,
       "style": "IPY_MODEL_d2fb4a789cbd472dafbe535f3498a872",
       "value": 30
      }
     },
     "838cd4abf56c4b6ba2496cd30011297d": {
      "model_module": "jupyter-js-widgets",
      "model_module_version": "~2.1.4",
      "model_name": "VBoxModel",
      "state": {
       "_dom_classes": [
        "widget-interact"
       ],
       "_model_module_version": "~2.1.4",
       "_view_module_version": "~2.1.4",
       "children": [
        "IPY_MODEL_3444c9a229ef458c9dfb4d0c678657d3",
        "IPY_MODEL_50b250391f5442c4a10a5ed89097bd37",
        "IPY_MODEL_0a460f78bba340929b5d8b87e38a67d7",
        "IPY_MODEL_9b6ef490f82c4c6284d06a94d0aac924",
        "IPY_MODEL_a51c0fd2b5df4f889cc71513e7e5c380",
        "IPY_MODEL_1c3b39190f67406cb5e69406a0ac268d"
       ],
       "layout": "IPY_MODEL_b9258151633149da9f7dd7a0db334811"
      }
     },
     "83ebb2a3111041ba9d3287b280b665ea": {
      "model_module": "jupyter-js-widgets",
      "model_module_version": "~2.1.4",
      "model_name": "IntSliderModel",
      "state": {
       "_model_module_version": "~2.1.4",
       "_view_module_version": "~2.1.4",
       "description": "dias",
       "layout": "IPY_MODEL_6413be390df24c3fa4c6170358b521c6",
       "max": 360,
       "min": 1,
       "step": 10,
       "style": "IPY_MODEL_bff3d6ee0eaf4068925d7baaa9fe851a",
       "value": 30
      }
     },
     "842d28e6f410484ca5b5a0e63d438716": {
      "model_module": "jupyter-js-widgets",
      "model_module_version": "~2.1.4",
      "model_name": "SliderStyleModel",
      "state": {
       "_model_module_version": "~2.1.4",
       "_view_module_version": "~2.1.4"
      }
     },
     "84d8d6fd3dda497cb227a2930cc4aac9": {
      "model_module": "jupyter-js-widgets",
      "model_module_version": "~2.1.4",
      "model_name": "LayoutModel",
      "state": {
       "_model_module_version": "~2.1.4",
       "_view_module_version": "~2.1.4",
       "width": "100%"
      }
     },
     "84e9a8a5ee1c42c38fc591aa04533793": {
      "model_module": "jupyter-js-widgets",
      "model_module_version": "~2.1.4",
      "model_name": "LayoutModel",
      "state": {
       "_model_module_version": "~2.1.4",
       "_view_module_version": "~2.1.4",
       "width": "100%"
      }
     },
     "84eb721441d64923b3d9c04696292090": {
      "model_module": "jupyter-js-widgets",
      "model_module_version": "~2.1.4",
      "model_name": "IntSliderModel",
      "state": {
       "_model_module_version": "~2.1.4",
       "_view_module_version": "~2.1.4",
       "description": "intervalo",
       "layout": "IPY_MODEL_1b438a34860946bd84955564455740f3",
       "max": 360,
       "min": 1,
       "step": 10,
       "style": "IPY_MODEL_9800f0dd696848f4bded9f3f51f23df3",
       "value": 30
      }
     },
     "84ee7802c5b8457d820e7afe13323c4d": {
      "model_module": "jupyter-js-widgets",
      "model_module_version": "~2.1.4",
      "model_name": "SliderStyleModel",
      "state": {
       "_model_module_version": "~2.1.4",
       "_view_module_version": "~2.1.4"
      }
     },
     "854131fd167c41d380616878bce1821f": {
      "model_module": "jupyter-js-widgets",
      "model_module_version": "~2.1.4",
      "model_name": "FloatSliderModel",
      "state": {
       "_model_module_version": "~2.1.4",
       "_view_module_version": "~2.1.4",
       "description": "tasa_ahorro",
       "layout": "IPY_MODEL_f12ba699906d4bbb9b3f8fc99b39e91f",
       "max": 1,
       "step": 0.01,
       "value": 0.2
      }
     },
     "857f55c0a1644f8888fe80d459006400": {
      "model_module": "jupyter-js-widgets",
      "model_module_version": "~2.1.4",
      "model_name": "FloatSliderModel",
      "state": {
       "_model_module_version": "~2.1.4",
       "_view_module_version": "~2.1.4",
       "description": "tasa_ahorro",
       "layout": "IPY_MODEL_4388c5c62e9840a2a19918d45a80f0cb",
       "max": 1,
       "step": 0.01,
       "value": 0.2
      }
     },
     "85b7e564be964a9bb91bdada21b391c1": {
      "model_module": "jupyter-js-widgets",
      "model_module_version": "~2.1.4",
      "model_name": "IntSliderModel",
      "state": {
       "_model_module_version": "~2.1.4",
       "_view_module_version": "~2.1.4",
       "description": "intervalo",
       "layout": "IPY_MODEL_436828b1d3b042af87e4220926d015bf",
       "max": 360,
       "min": 1,
       "step": 10,
       "style": "IPY_MODEL_834ae4ec6f314d3ca7704a8a34b94ed0",
       "value": 30
      }
     },
     "861229a815f3400ca2cfbd3d290dd34c": {
      "model_module": "jupyter-js-widgets",
      "model_module_version": "~2.1.4",
      "model_name": "FloatSliderModel",
      "state": {
       "_model_module_version": "~2.1.4",
       "_view_module_version": "~2.1.4",
       "description": "paso",
       "layout": "IPY_MODEL_793ef347af18491ca35cd523b6feda37",
       "max": 1,
       "step": 0.01,
       "value": 0.1
      }
     },
     "865e4c9e662f4530b74334a117695f7d": {
      "model_module": "jupyter-js-widgets",
      "model_module_version": "~2.1.4",
      "model_name": "OutputModel",
      "state": {
       "_dom_classes": [],
       "_model_module": "jupyter-js-widgets",
       "_model_module_version": "~2.1.4",
       "_view_module": "jupyter-js-widgets",
       "_view_module_version": "~2.1.4",
       "layout": "IPY_MODEL_9e0bcbc827744151a85a98cf9b643eca",
       "msg_throttle": 1
      }
     },
     "86865b010f544386ae7e375e16e6c88f": {
      "model_module": "jupyter-js-widgets",
      "model_module_version": "~2.1.4",
      "model_name": "LayoutModel",
      "state": {
       "_model_module_version": "~2.1.4",
       "_view_module_version": "~2.1.4"
      }
     },
     "86dc06030f0b409d831b36fc58bd8407": {
      "model_module": "jupyter-js-widgets",
      "model_module_version": "~2.1.4",
      "model_name": "LayoutModel",
      "state": {
       "_model_module_version": "~2.1.4",
       "_view_module_version": "~2.1.4",
       "width": "100%"
      }
     },
     "8745966cff7249d992d67958aef60605": {
      "model_module": "jupyter-js-widgets",
      "model_module_version": "~2.1.4",
      "model_name": "VBoxModel",
      "state": {
       "_dom_classes": [
        "widget-interact"
       ],
       "_model_module_version": "~2.1.4",
       "_view_module_version": "~2.1.4",
       "children": [
        "IPY_MODEL_2475a629cee4440f9670e1d50c312c6b",
        "IPY_MODEL_971cc0c254ca4c05ada4dce95e1c0eb2",
        "IPY_MODEL_1f251ef78c69457c9c83302f1f3107f3",
        "IPY_MODEL_82fb61f923bf4227b7de4d72455117a3",
        "IPY_MODEL_6b52594ab64f47cdbc9795915020b4bc",
        "IPY_MODEL_f75cd86a2b3c400a914ec376b8ae1964"
       ],
       "layout": "IPY_MODEL_c8089b7402254b2c8e60ee44fe922cf3"
      }
     },
     "87611af9712548d28818845163f055af": {
      "model_module": "jupyter-js-widgets",
      "model_module_version": "~2.1.4",
      "model_name": "SliderStyleModel",
      "state": {
       "_model_module_version": "~2.1.4",
       "_view_module_version": "~2.1.4"
      }
     },
     "87765b677cce4b40b3e166d4654a9928": {
      "model_module": "jupyter-js-widgets",
      "model_module_version": "~2.1.4",
      "model_name": "LayoutModel",
      "state": {
       "_model_module_version": "~2.1.4",
       "_view_module_version": "~2.1.4",
       "width": "100%"
      }
     },
     "8817e0e9a02a4a9f946970a8a7ae239e": {
      "model_module": "jupyter-js-widgets",
      "model_module_version": "~2.1.4",
      "model_name": "SliderStyleModel",
      "state": {
       "_model_module_version": "~2.1.4",
       "_view_module_version": "~2.1.4"
      }
     },
     "882ac1cfb1ae4e2fa26d37639300084f": {
      "model_module": "jupyter-js-widgets",
      "model_module_version": "~2.1.4",
      "model_name": "LayoutModel",
      "state": {
       "_model_module_version": "~2.1.4",
       "_view_module_version": "~2.1.4",
       "width": "100%"
      }
     },
     "8894fcdef9964cb193a686d4b1b9c42f": {
      "model_module": "jupyter-js-widgets",
      "model_module_version": "~2.1.4",
      "model_name": "IntSliderModel",
      "state": {
       "_model_module_version": "~2.1.4",
       "_view_module_version": "~2.1.4",
       "description": "sueldo_inicial",
       "layout": "IPY_MODEL_c116576fb2a343c3ae8845d44ddd9a03",
       "max": 25000,
       "step": 500,
       "style": "IPY_MODEL_6d6fac0ab0124e1d8cd4c46be7694eca",
       "value": 15000
      }
     },
     "8909c85357ef4a6ca5dee0fceddc7c65": {
      "model_module": "jupyter-js-widgets",
      "model_module_version": "~2.1.4",
      "model_name": "IntSliderModel",
      "state": {
       "_model_module_version": "~2.1.4",
       "_view_module_version": "~2.1.4",
       "description": "gasto_fijo_diario",
       "layout": "IPY_MODEL_29408cbbec9e4b87a41a72f42b70b229",
       "max": 1000,
       "min": 1,
       "step": 50,
       "style": "IPY_MODEL_55e680c867cb4bfebfcd702e5cdf5d83",
       "value": 100
      }
     },
     "8910af21d3ba426298f71a914b2ae19b": {
      "model_module": "jupyter-js-widgets",
      "model_module_version": "~2.1.4",
      "model_name": "LayoutModel",
      "state": {
       "_model_module_version": "~2.1.4",
       "_view_module_version": "~2.1.4"
      }
     },
     "8940fae50e8747299907ce5cdc5035fd": {
      "model_module": "jupyter-js-widgets",
      "model_module_version": "~2.1.4",
      "model_name": "VBoxModel",
      "state": {
       "_dom_classes": [
        "widget-interact"
       ],
       "_model_module_version": "~2.1.4",
       "_view_module_version": "~2.1.4",
       "children": [
        "IPY_MODEL_32f175f82e694f758e397312d8529b36",
        "IPY_MODEL_130ca9264b844b5ca1d0d7831b56338d",
        "IPY_MODEL_4ebb438c64ca425fbd088f01c64b97ef",
        "IPY_MODEL_a866bac2380e4704898c99f9cbcc8a00",
        "IPY_MODEL_7e79b5d3f21c48e491fe7d122c7a39e2",
        "IPY_MODEL_c226f192b7d141b1be79c23046a78926"
       ],
       "layout": "IPY_MODEL_22f48efa76e54b83be8a65154664acb2"
      }
     },
     "894e68f4a1e64b8e96d68cc3e71f0769": {
      "model_module": "jupyter-js-widgets",
      "model_module_version": "~2.1.4",
      "model_name": "FloatSliderModel",
      "state": {
       "_model_module_version": "~2.1.4",
       "_view_module_version": "~2.1.4",
       "description": "paso",
       "layout": "IPY_MODEL_abdbf111eb644719ae119841c505257c",
       "max": 1,
       "step": 0.01,
       "value": 0.1
      }
     },
     "896fc91a9bb841ea84b222398557602b": {
      "model_module": "jupyter-js-widgets",
      "model_module_version": "~2.1.4",
      "model_name": "IntSliderModel",
      "state": {
       "_model_module_version": "~2.1.4",
       "_view_module_version": "~2.1.4",
       "description": "gasto_fijo_diario",
       "layout": "IPY_MODEL_d787af0b67c84673a3d826e21818ac24",
       "max": 1000,
       "min": 1,
       "step": 50,
       "style": "IPY_MODEL_7256e45719334c428b44b64a235284b5",
       "value": 100
      }
     },
     "89b15d6b1d034204ad88e71f697ccade": {
      "model_module": "jupyter-js-widgets",
      "model_module_version": "~2.1.4",
      "model_name": "FloatSliderModel",
      "state": {
       "_model_module_version": "~2.1.4",
       "_view_module_version": "~2.1.4",
       "description": "paso",
       "layout": "IPY_MODEL_c8b7051c77064300addc953f0ced07dd",
       "max": 1,
       "step": 0.01,
       "value": 0.1
      }
     },
     "8a37143c12de4287a2c44bd30d112086": {
      "model_module": "jupyter-js-widgets",
      "model_module_version": "~2.1.4",
      "model_name": "SliderStyleModel",
      "state": {
       "_model_module_version": "~2.1.4",
       "_view_module_version": "~2.1.4"
      }
     },
     "8a53938b992d4bfd843adf50c94f7b64": {
      "model_module": "jupyter-js-widgets",
      "model_module_version": "~2.1.4",
      "model_name": "LayoutModel",
      "state": {
       "_model_module_version": "~2.1.4",
       "_view_module_version": "~2.1.4",
       "width": "100%"
      }
     },
     "8a57dcdcfa794bb6acbfd848d5c3fd6f": {
      "model_module": "jupyter-js-widgets",
      "model_module_version": "~2.1.4",
      "model_name": "OutputModel",
      "state": {
       "_dom_classes": [],
       "_model_module": "jupyter-js-widgets",
       "_model_module_version": "~2.1.4",
       "_view_module": "jupyter-js-widgets",
       "_view_module_version": "~2.1.4",
       "layout": "IPY_MODEL_e1e3c90d25d24714ace9d24296afa7cb",
       "msg_throttle": 1
      }
     },
     "8a74ef514219430697c0ee74d5c0b8b8": {
      "model_module": "jupyter-js-widgets",
      "model_module_version": "~2.1.4",
      "model_name": "SliderStyleModel",
      "state": {
       "_model_module_version": "~2.1.4",
       "_view_module_version": "~2.1.4"
      }
     },
     "8ac072f104a14d3e84ac5965db5f3467": {
      "model_module": "jupyter-js-widgets",
      "model_module_version": "~2.1.4",
      "model_name": "IntSliderModel",
      "state": {
       "_model_module_version": "~2.1.4",
       "_view_module_version": "~2.1.4",
       "description": "sueldo_inicial",
       "layout": "IPY_MODEL_b6c0c402053a41a5b65881aef263dcec",
       "max": 25000,
       "step": 500,
       "style": "IPY_MODEL_c47a4cfe29a447a8a3e8b0e7b9fe082d",
       "value": 15000
      }
     },
     "8ad0fc9318d141e0bc0f23646a895af1": {
      "model_module": "jupyter-js-widgets",
      "model_module_version": "~2.1.4",
      "model_name": "IntSliderModel",
      "state": {
       "_model_module_version": "~2.1.4",
       "_view_module_version": "~2.1.4",
       "description": "initial",
       "layout": "IPY_MODEL_98a14b9169164221bc4a012e6d9cd4bf",
       "max": 25000,
       "step": 500,
       "style": "IPY_MODEL_edf272543d5446eface9fca1dc367213",
       "value": 11000
      }
     },
     "8af9e2e7fe014a67bf0fc0a01830c415": {
      "model_module": "jupyter-js-widgets",
      "model_module_version": "~2.1.4",
      "model_name": "OutputModel",
      "state": {
       "_dom_classes": [],
       "_model_module": "jupyter-js-widgets",
       "_model_module_version": "~2.1.4",
       "_view_module": "jupyter-js-widgets",
       "_view_module_version": "~2.1.4",
       "layout": "IPY_MODEL_5b3ad9dc4ecb4e409097fdbb99874c6b",
       "msg_throttle": 1
      }
     },
     "8b0c79cca3654920b87bedfca831307a": {
      "model_module": "jupyter-js-widgets",
      "model_module_version": "~2.1.4",
      "model_name": "FloatSliderModel",
      "state": {
       "_model_module_version": "~2.1.4",
       "_view_module_version": "~2.1.4",
       "description": "paso",
       "layout": "IPY_MODEL_2d8f0f820d774fbd9ab1901dec35a0ea",
       "max": 1,
       "step": 0.01,
       "value": 0.1
      }
     },
     "8b1cdc5ce7e841ab9fb983672808240d": {
      "model_module": "jupyter-js-widgets",
      "model_module_version": "~2.1.4",
      "model_name": "OutputModel",
      "state": {
       "_dom_classes": [],
       "_model_module": "jupyter-js-widgets",
       "_model_module_version": "~2.1.4",
       "_view_module": "jupyter-js-widgets",
       "_view_module_version": "~2.1.4",
       "layout": "IPY_MODEL_eeef6359373b45fc8cb429701d23ab9a",
       "msg_throttle": 1
      }
     },
     "8b5b60742ea1487f8e378c67f8d6f888": {
      "model_module": "jupyter-js-widgets",
      "model_module_version": "~2.1.4",
      "model_name": "IntSliderModel",
      "state": {
       "_model_module_version": "~2.1.4",
       "_view_module_version": "~2.1.4",
       "description": "gasto_fijo_diario",
       "layout": "IPY_MODEL_c642358d06df48d2997996baae1a066e",
       "max": 1000,
       "min": 1,
       "step": 50,
       "style": "IPY_MODEL_15180f8df2a94e76bdec956c84fd06c7",
       "value": 100
      }
     },
     "8b5e1fc919d947edbd1ca1870744cae6": {
      "model_module": "jupyter-js-widgets",
      "model_module_version": "~2.1.4",
      "model_name": "SliderStyleModel",
      "state": {
       "_model_module_version": "~2.1.4",
       "_view_module_version": "~2.1.4"
      }
     },
     "8bc43480b948499dbbfe34664dc043a1": {
      "model_module": "jupyter-js-widgets",
      "model_module_version": "~2.1.4",
      "model_name": "LayoutModel",
      "state": {
       "_model_module_version": "~2.1.4",
       "_view_module_version": "~2.1.4"
      }
     },
     "8c6a683179f94188aecec36a9640c762": {
      "model_module": "jupyter-js-widgets",
      "model_module_version": "~2.1.4",
      "model_name": "LayoutModel",
      "state": {
       "_model_module_version": "~2.1.4",
       "_view_module_version": "~2.1.4",
       "width": "100%"
      }
     },
     "8c864804a91d4054a5e59ae970a56bcb": {
      "model_module": "jupyter-js-widgets",
      "model_module_version": "~2.1.4",
      "model_name": "LayoutModel",
      "state": {
       "_model_module_version": "~2.1.4",
       "_view_module_version": "~2.1.4",
       "width": "100%"
      }
     },
     "8c9039d7f0c04e8abb98b09b60cefbb4": {
      "model_module": "jupyter-js-widgets",
      "model_module_version": "~2.1.4",
      "model_name": "IntSliderModel",
      "state": {
       "_model_module_version": "~2.1.4",
       "_view_module_version": "~2.1.4",
       "description": "s",
       "layout": "IPY_MODEL_2d3df5b2040441598aa075bf09a1f361",
       "max": 1000,
       "min": 1,
       "step": 50,
       "style": "IPY_MODEL_19db67d649024404aa83ece6665fbeae",
       "value": 100
      }
     },
     "8ca0244ea137431889e98f715668f394": {
      "model_module": "jupyter-js-widgets",
      "model_module_version": "~2.1.4",
      "model_name": "FloatSliderModel",
      "state": {
       "_model_module_version": "~2.1.4",
       "_view_module_version": "~2.1.4",
       "description": "tasa_ahorro",
       "layout": "IPY_MODEL_b9df0756b7cd4c6caf9c58cd911b856a",
       "max": 1,
       "step": 0.01,
       "value": 0.2
      }
     },
     "8cb32421f14e45b09cddb583f96f83cd": {
      "model_module": "jupyter-js-widgets",
      "model_module_version": "~2.1.4",
      "model_name": "LayoutModel",
      "state": {
       "_model_module_version": "~2.1.4",
       "_view_module_version": "~2.1.4",
       "width": "100%"
      }
     },
     "8ceaf04e58be4f29afcce70ddd966f19": {
      "model_module": "jupyter-js-widgets",
      "model_module_version": "~2.1.4",
      "model_name": "IntSliderModel",
      "state": {
       "_model_module_version": "~2.1.4",
       "_view_module_version": "~2.1.4",
       "description": "intervalo",
       "layout": "IPY_MODEL_a72fb289c8c1418ca230e145bf13f855",
       "max": 360,
       "min": 1,
       "step": 10,
       "style": "IPY_MODEL_118c813c639141329684531077a47eb6",
       "value": 30
      }
     },
     "8d232829822d459da0a0b68a87ea57ec": {
      "model_module": "jupyter-js-widgets",
      "model_module_version": "~2.1.4",
      "model_name": "LayoutModel",
      "state": {
       "_model_module_version": "~2.1.4",
       "_view_module_version": "~2.1.4",
       "width": "100%"
      }
     },
     "8d6d0e52a1304246891e63fefd2230fb": {
      "model_module": "jupyter-js-widgets",
      "model_module_version": "~2.1.4",
      "model_name": "LayoutModel",
      "state": {
       "_model_module_version": "~2.1.4",
       "_view_module_version": "~2.1.4",
       "width": "100%"
      }
     },
     "8da241882e3b4acea210643d7651e94b": {
      "model_module": "jupyter-js-widgets",
      "model_module_version": "~2.1.4",
      "model_name": "SliderStyleModel",
      "state": {
       "_model_module_version": "~2.1.4",
       "_view_module_version": "~2.1.4"
      }
     },
     "8dbc852623914aee9455f785ddd17ed7": {
      "model_module": "jupyter-js-widgets",
      "model_module_version": "~2.1.4",
      "model_name": "IntSliderModel",
      "state": {
       "_model_module_version": "~2.1.4",
       "_view_module_version": "~2.1.4",
       "description": "intervalo",
       "layout": "IPY_MODEL_93c8fa2037cc4c68a496cd2277e6685b",
       "max": 360,
       "min": 1,
       "step": 10,
       "style": "IPY_MODEL_6a3661d0e5b94a3c9e06f08e058780ce",
       "value": 30
      }
     },
     "8de539b506d244e08d049f44a7bce5e1": {
      "model_module": "jupyter-js-widgets",
      "model_module_version": "~2.1.4",
      "model_name": "IntSliderModel",
      "state": {
       "_model_module_version": "~2.1.4",
       "_view_module_version": "~2.1.4",
       "description": "intervalo",
       "layout": "IPY_MODEL_5f742ecaddcb4a0caa1db1f3c15dd8f8",
       "max": 360,
       "min": 1,
       "step": 10,
       "style": "IPY_MODEL_fbc095c9494044469178b34d3f8f7233",
       "value": 30
      }
     },
     "8dfced2629ad46eab4f32edaf613a269": {
      "model_module": "jupyter-js-widgets",
      "model_module_version": "~2.1.4",
      "model_name": "IntSliderModel",
      "state": {
       "_model_module_version": "~2.1.4",
       "_view_module_version": "~2.1.4",
       "description": "intervalo",
       "layout": "IPY_MODEL_4c05e82495bc4c348d3620240cd02d90",
       "max": 360,
       "min": 1,
       "step": 10,
       "style": "IPY_MODEL_3c0efafecd564a7ca1ceda2435a2f5ab",
       "value": 30
      }
     },
     "8e4a5a792c1f4ed2af24ee7a030c2475": {
      "model_module": "jupyter-js-widgets",
      "model_module_version": "~2.1.4",
      "model_name": "LayoutModel",
      "state": {
       "_model_module_version": "~2.1.4",
       "_view_module_version": "~2.1.4",
       "width": "100%"
      }
     },
     "8e5e0f6fe5644071b6ba7f6055c95341": {
      "model_module": "jupyter-js-widgets",
      "model_module_version": "~2.1.4",
      "model_name": "LayoutModel",
      "state": {
       "_model_module_version": "~2.1.4",
       "_view_module_version": "~2.1.4",
       "width": "100%"
      }
     },
     "8e763cc752eb4b038cd0a00b9022af70": {
      "model_module": "jupyter-js-widgets",
      "model_module_version": "~2.1.4",
      "model_name": "SliderStyleModel",
      "state": {
       "_model_module_version": "~2.1.4",
       "_view_module_version": "~2.1.4"
      }
     },
     "8e8002455ffb42d99d195ad15bb97fe4": {
      "model_module": "jupyter-js-widgets",
      "model_module_version": "~2.1.4",
      "model_name": "SliderStyleModel",
      "state": {
       "_model_module_version": "~2.1.4",
       "_view_module_version": "~2.1.4"
      }
     },
     "8e825bafeb474c19944b37e98794f324": {
      "model_module": "jupyter-js-widgets",
      "model_module_version": "~2.1.4",
      "model_name": "IntSliderModel",
      "state": {
       "_model_module_version": "~2.1.4",
       "_view_module_version": "~2.1.4",
       "description": "sueldo_inicial",
       "layout": "IPY_MODEL_b4fe2c2596e24ef590628dbb0a712a2a",
       "max": 25000,
       "step": 500,
       "style": "IPY_MODEL_801132c33a22402eb3e64692e9ff08e9",
       "value": 15000
      }
     },
     "8ec43390a4cb41e398757ed3f0e7271b": {
      "model_module": "jupyter-js-widgets",
      "model_module_version": "~2.1.4",
      "model_name": "LayoutModel",
      "state": {
       "_model_module_version": "~2.1.4",
       "_view_module_version": "~2.1.4",
       "width": "100%"
      }
     },
     "8f215015924b4f2885ff0650ecf29bb7": {
      "model_module": "jupyter-js-widgets",
      "model_module_version": "~2.1.4",
      "model_name": "IntSliderModel",
      "state": {
       "_model_module_version": "~2.1.4",
       "_view_module_version": "~2.1.4",
       "description": "initial",
       "layout": "IPY_MODEL_1cfaa9525fd740f7ad4c00b321f99383",
       "max": 25000,
       "step": 500,
       "style": "IPY_MODEL_38827043ca3246479438bdcb66632110",
       "value": 14000
      }
     },
     "8fb6137229a64af3b5f82e23c2f1cf65": {
      "model_module": "jupyter-js-widgets",
      "model_module_version": "~2.1.4",
      "model_name": "FloatSliderModel",
      "state": {
       "_model_module_version": "~2.1.4",
       "_view_module_version": "~2.1.4",
       "description": "tasa_ahorro",
       "layout": "IPY_MODEL_1dd1385a7e7c46a38a5d34689e214c87",
       "max": 1,
       "step": 0.01,
       "value": 0.2
      }
     },
     "90477522814a4952b81ae1c9186991fd": {
      "model_module": "jupyter-js-widgets",
      "model_module_version": "~2.1.4",
      "model_name": "LayoutModel",
      "state": {
       "_model_module_version": "~2.1.4",
       "_view_module_version": "~2.1.4"
      }
     },
     "904a05f27b564e4aa4b23fb8be4dae7b": {
      "model_module": "jupyter-js-widgets",
      "model_module_version": "~2.1.4",
      "model_name": "FloatSliderModel",
      "state": {
       "_model_module_version": "~2.1.4",
       "_view_module_version": "~2.1.4",
       "description": "paso",
       "layout": "IPY_MODEL_cc6bfcbf698e4b8cb55ece5321a6c0ab",
       "max": 1,
       "step": 0.01,
       "value": 0.1
      }
     },
     "90820d7da0c64229ad080c2b52c021f8": {
      "model_module": "jupyter-js-widgets",
      "model_module_version": "~2.1.4",
      "model_name": "IntSliderModel",
      "state": {
       "_model_module_version": "~2.1.4",
       "_view_module_version": "~2.1.4",
       "description": "gasto_fijo_diario",
       "layout": "IPY_MODEL_cd3010772b384005ac03be4bc41243ed",
       "max": 1000,
       "min": 1,
       "step": 50,
       "style": "IPY_MODEL_a191f8e805314ca49c95a9fce011e827",
       "value": 100
      }
     },
     "90c35f5e132d4b43838d48374cc30a91": {
      "model_module": "jupyter-js-widgets",
      "model_module_version": "~2.1.4",
      "model_name": "OutputModel",
      "state": {
       "_dom_classes": [],
       "_model_module": "jupyter-js-widgets",
       "_model_module_version": "~2.1.4",
       "_view_module": "jupyter-js-widgets",
       "_view_module_version": "~2.1.4",
       "layout": "IPY_MODEL_698541194a2a489092276f997668d7f1",
       "msg_throttle": 1
      }
     },
     "90c51efa54954155ae997a42f367ba57": {
      "model_module": "jupyter-js-widgets",
      "model_module_version": "~2.1.4",
      "model_name": "LayoutModel",
      "state": {
       "_model_module_version": "~2.1.4",
       "_view_module_version": "~2.1.4"
      }
     },
     "90d06641a022429e837343584585f939": {
      "model_module": "jupyter-js-widgets",
      "model_module_version": "~2.1.4",
      "model_name": "LayoutModel",
      "state": {
       "_model_module_version": "~2.1.4",
       "_view_module_version": "~2.1.4",
       "width": "100%"
      }
     },
     "912a154db99540cbbd1662337f4991a9": {
      "model_module": "jupyter-js-widgets",
      "model_module_version": "~2.1.4",
      "model_name": "IntSliderModel",
      "state": {
       "_model_module_version": "~2.1.4",
       "_view_module_version": "~2.1.4",
       "description": "dias",
       "layout": "IPY_MODEL_af589b855814499aa3d9fb7166b16e66",
       "max": 360,
       "min": 1,
       "step": 10,
       "style": "IPY_MODEL_207bc9b037a94feaa4593975077b7b19",
       "value": 30
      }
     },
     "913727a93e0e453d95f26898a61ee730": {
      "model_module": "jupyter-js-widgets",
      "model_module_version": "~2.1.4",
      "model_name": "OutputModel",
      "state": {
       "_dom_classes": [],
       "_model_module": "jupyter-js-widgets",
       "_model_module_version": "~2.1.4",
       "_view_module": "jupyter-js-widgets",
       "_view_module_version": "~2.1.4",
       "layout": "IPY_MODEL_72c24d43bb5640f780f73e3ec0ebe69b",
       "msg_throttle": 1
      }
     },
     "9159fb6af783494c8e5e1661c510d47f": {
      "model_module": "jupyter-js-widgets",
      "model_module_version": "~2.1.4",
      "model_name": "IntSliderModel",
      "state": {
       "_model_module_version": "~2.1.4",
       "_view_module_version": "~2.1.4",
       "description": "intervalo",
       "layout": "IPY_MODEL_a6f128f6b8734f2e8b7848cc6665cb64",
       "max": 360,
       "min": 1,
       "step": 10,
       "style": "IPY_MODEL_a63b67edb0ab48f980418c943958e70e",
       "value": 30
      }
     },
     "9178830c2aaf417eaca7fd36333d6765": {
      "model_module": "jupyter-js-widgets",
      "model_module_version": "~2.1.4",
      "model_name": "LayoutModel",
      "state": {
       "_model_module_version": "~2.1.4",
       "_view_module_version": "~2.1.4",
       "width": "100%"
      }
     },
     "9199f760b58d4111a91a9e70d327f7c3": {
      "model_module": "jupyter-js-widgets",
      "model_module_version": "~2.1.4",
      "model_name": "IntSliderModel",
      "state": {
       "_model_module_version": "~2.1.4",
       "_view_module_version": "~2.1.4",
       "description": "sueldo_inicial",
       "layout": "IPY_MODEL_67c7601a35ad46518e34fbd18e36aed6",
       "max": 25000,
       "step": 500,
       "style": "IPY_MODEL_66c2962d967d46c99533259e4466f660",
       "value": 15000
      }
     },
     "920e1a01434f4bfb94625ae65c39e6cf": {
      "model_module": "jupyter-js-widgets",
      "model_module_version": "~2.1.4",
      "model_name": "SliderStyleModel",
      "state": {
       "_model_module_version": "~2.1.4",
       "_view_module_version": "~2.1.4"
      }
     },
     "929bce4f0bba48fe9f74d52f3b5497ac": {
      "model_module": "jupyter-js-widgets",
      "model_module_version": "~2.1.4",
      "model_name": "LayoutModel",
      "state": {
       "_model_module_version": "~2.1.4",
       "_view_module_version": "~2.1.4"
      }
     },
     "92b49a86e98f48f2bf6ca67dea90e287": {
      "model_module": "jupyter-js-widgets",
      "model_module_version": "~2.1.4",
      "model_name": "FloatSliderModel",
      "state": {
       "_model_module_version": "~2.1.4",
       "_view_module_version": "~2.1.4",
       "description": "tasa_ahorro",
       "layout": "IPY_MODEL_c8409172fb7a45e7b03aa95a6a9d7331",
       "max": 1,
       "step": 0.01,
       "value": 0.2
      }
     },
     "92c82ab4bee04decba01a743d1c3974b": {
      "model_module": "jupyter-js-widgets",
      "model_module_version": "~2.1.4",
      "model_name": "SliderStyleModel",
      "state": {
       "_model_module_version": "~2.1.4",
       "_view_module_version": "~2.1.4"
      }
     },
     "934be77a6c604b7eb4e63192efb27b3d": {
      "model_module": "jupyter-js-widgets",
      "model_module_version": "~2.1.4",
      "model_name": "LayoutModel",
      "state": {
       "_model_module_version": "~2.1.4",
       "_view_module_version": "~2.1.4",
       "width": "100%"
      }
     },
     "935fac274b144021905764e472752e24": {
      "model_module": "jupyter-js-widgets",
      "model_module_version": "~2.1.4",
      "model_name": "FloatSliderModel",
      "state": {
       "_model_module_version": "~2.1.4",
       "_view_module_version": "~2.1.4",
       "description": "k",
       "layout": "IPY_MODEL_60a82bf70a134bc78c7ba9870e574d75",
       "max": 1,
       "step": 0.1,
       "value": 0.2
      }
     },
     "936339986ace4a259cdb17c504fdbcc3": {
      "model_module": "jupyter-js-widgets",
      "model_module_version": "~2.1.4",
      "model_name": "LayoutModel",
      "state": {
       "_model_module_version": "~2.1.4",
       "_view_module_version": "~2.1.4",
       "width": "100%"
      }
     },
     "93c8fa2037cc4c68a496cd2277e6685b": {
      "model_module": "jupyter-js-widgets",
      "model_module_version": "~2.1.4",
      "model_name": "LayoutModel",
      "state": {
       "_model_module_version": "~2.1.4",
       "_view_module_version": "~2.1.4",
       "width": "100%"
      }
     },
     "941dd862c2e346aa921a9172906ab57f": {
      "model_module": "jupyter-js-widgets",
      "model_module_version": "~2.1.4",
      "model_name": "FloatSliderModel",
      "state": {
       "_model_module_version": "~2.1.4",
       "_view_module_version": "~2.1.4",
       "description": "paso",
       "layout": "IPY_MODEL_9b9a604762b949a0bab5c2a554a3319d",
       "max": 1,
       "step": 0.01,
       "value": 0.1
      }
     },
     "943e879986bd4b32ae809b0973969363": {
      "model_module": "jupyter-js-widgets",
      "model_module_version": "~2.1.4",
      "model_name": "FloatSliderModel",
      "state": {
       "_model_module_version": "~2.1.4",
       "_view_module_version": "~2.1.4",
       "description": "tasa_gasto_extra",
       "layout": "IPY_MODEL_2aa34d885e4a4d66b61d7b93b311486e",
       "max": 1,
       "step": 0.01,
       "value": 0.3
      }
     },
     "94613478263043d1a0f19dfac332d351": {
      "model_module": "jupyter-js-widgets",
      "model_module_version": "~2.1.4",
      "model_name": "LayoutModel",
      "state": {
       "_model_module_version": "~2.1.4",
       "_view_module_version": "~2.1.4",
       "width": "100%"
      }
     },
     "94d13cdab15a4b52b770ae5392619c41": {
      "model_module": "jupyter-js-widgets",
      "model_module_version": "~2.1.4",
      "model_name": "LayoutModel",
      "state": {
       "_model_module_version": "~2.1.4",
       "_view_module_version": "~2.1.4",
       "width": "100%"
      }
     },
     "94ddd6516a4f4065918d76f4fd9338e2": {
      "model_module": "jupyter-js-widgets",
      "model_module_version": "~2.1.4",
      "model_name": "LayoutModel",
      "state": {
       "_model_module_version": "~2.1.4",
       "_view_module_version": "~2.1.4",
       "width": "100%"
      }
     },
     "94f3c6c438434046af96afefc8088096": {
      "model_module": "jupyter-js-widgets",
      "model_module_version": "~2.1.4",
      "model_name": "LayoutModel",
      "state": {
       "_model_module_version": "~2.1.4",
       "_view_module_version": "~2.1.4"
      }
     },
     "95a31caabc724fb6b8972643f8de79d2": {
      "model_module": "jupyter-js-widgets",
      "model_module_version": "~2.1.4",
      "model_name": "SliderStyleModel",
      "state": {
       "_model_module_version": "~2.1.4",
       "_view_module_version": "~2.1.4"
      }
     },
     "95fcae6aded643328ae35c46f5932ada": {
      "model_module": "jupyter-js-widgets",
      "model_module_version": "~2.1.4",
      "model_name": "LayoutModel",
      "state": {
       "_model_module_version": "~2.1.4",
       "_view_module_version": "~2.1.4",
       "width": "100%"
      }
     },
     "9616f304111c41149a141311523af87d": {
      "model_module": "jupyter-js-widgets",
      "model_module_version": "~2.1.4",
      "model_name": "FloatSliderModel",
      "state": {
       "_model_module_version": "~2.1.4",
       "_view_module_version": "~2.1.4",
       "description": "tasa_ahorro",
       "layout": "IPY_MODEL_f92cb29aaf8d493599a356e0ba81d545",
       "max": 1,
       "step": 0.01,
       "value": 0.2
      }
     },
     "96302d1375c042ad84b9d778c8c3409a": {
      "model_module": "jupyter-js-widgets",
      "model_module_version": "~2.1.4",
      "model_name": "OutputModel",
      "state": {
       "_dom_classes": [],
       "_model_module": "jupyter-js-widgets",
       "_model_module_version": "~2.1.4",
       "_view_module": "jupyter-js-widgets",
       "_view_module_version": "~2.1.4",
       "layout": "IPY_MODEL_b1048f9760a34a98970d72bc083987ec",
       "msg_throttle": 1
      }
     },
     "968d228aafc642afa8af6158da5b62bf": {
      "model_module": "jupyter-js-widgets",
      "model_module_version": "~2.1.4",
      "model_name": "LayoutModel",
      "state": {
       "_model_module_version": "~2.1.4",
       "_view_module_version": "~2.1.4"
      }
     },
     "971cc0c254ca4c05ada4dce95e1c0eb2": {
      "model_module": "jupyter-js-widgets",
      "model_module_version": "~2.1.4",
      "model_name": "FloatSliderModel",
      "state": {
       "_model_module_version": "~2.1.4",
       "_view_module_version": "~2.1.4",
       "description": "tasa_ahorro",
       "layout": "IPY_MODEL_1fd3e362e8464192a9f36e5eba90732e",
       "max": 1,
       "step": 0.05,
       "value": 0.2
      }
     },
     "9723022daf2a4625bc6b3cfade271cf4": {
      "model_module": "jupyter-js-widgets",
      "model_module_version": "~2.1.4",
      "model_name": "FloatSliderModel",
      "state": {
       "_model_module_version": "~2.1.4",
       "_view_module_version": "~2.1.4",
       "description": "paso",
       "layout": "IPY_MODEL_512134c033fb490893329d4841286e84",
       "max": 1,
       "step": 0.01,
       "value": 0.1
      }
     },
     "97443efcfa194395bba2eed5b8fc7d10": {
      "model_module": "jupyter-js-widgets",
      "model_module_version": "~2.1.4",
      "model_name": "OutputModel",
      "state": {
       "_dom_classes": [],
       "_model_module": "jupyter-js-widgets",
       "_model_module_version": "~2.1.4",
       "_view_module": "jupyter-js-widgets",
       "_view_module_version": "~2.1.4",
       "layout": "IPY_MODEL_a5c4bddc2bc14914adb05b7feb957abf",
       "msg_throttle": 1
      }
     },
     "975d2ad11dcc4d0aa3b489264760b77a": {
      "model_module": "jupyter-js-widgets",
      "model_module_version": "~2.1.4",
      "model_name": "SliderStyleModel",
      "state": {
       "_model_module_version": "~2.1.4",
       "_view_module_version": "~2.1.4"
      }
     },
     "97861375ed2241b1881cc2a8f678dbfb": {
      "model_module": "jupyter-js-widgets",
      "model_module_version": "~2.1.4",
      "model_name": "IntSliderModel",
      "state": {
       "_model_module_version": "~2.1.4",
       "_view_module_version": "~2.1.4",
       "description": "gasto_fijo_diario",
       "layout": "IPY_MODEL_34c73d64d369484390836e1d883360fc",
       "max": 1000,
       "min": 1,
       "step": 50,
       "style": "IPY_MODEL_62894db6c1134946b25c6943400ade43",
       "value": 100
      }
     },
     "97b6cba6358c448bb554961cd15398f9": {
      "model_module": "jupyter-js-widgets",
      "model_module_version": "~2.1.4",
      "model_name": "LayoutModel",
      "state": {
       "_model_module_version": "~2.1.4",
       "_view_module_version": "~2.1.4"
      }
     },
     "97ed493a039b4d5e825fb41a9278baa2": {
      "model_module": "jupyter-js-widgets",
      "model_module_version": "~2.1.4",
      "model_name": "IntSliderModel",
      "state": {
       "_model_module_version": "~2.1.4",
       "_view_module_version": "~2.1.4",
       "description": "sueldo_inicial",
       "layout": "IPY_MODEL_94d13cdab15a4b52b770ae5392619c41",
       "max": 25000,
       "step": 500,
       "style": "IPY_MODEL_52dfe86f0dd4447bab56fd70f43caf5e",
       "value": 15000
      }
     },
     "9800f0dd696848f4bded9f3f51f23df3": {
      "model_module": "jupyter-js-widgets",
      "model_module_version": "~2.1.4",
      "model_name": "SliderStyleModel",
      "state": {
       "_model_module_version": "~2.1.4",
       "_view_module_version": "~2.1.4"
      }
     },
     "9864aa6dfb804071a5fcb4854a1c72fc": {
      "model_module": "jupyter-js-widgets",
      "model_module_version": "~2.1.4",
      "model_name": "LayoutModel",
      "state": {
       "_model_module_version": "~2.1.4",
       "_view_module_version": "~2.1.4",
       "width": "100%"
      }
     },
     "98a14b9169164221bc4a012e6d9cd4bf": {
      "model_module": "jupyter-js-widgets",
      "model_module_version": "~2.1.4",
      "model_name": "LayoutModel",
      "state": {
       "_model_module_version": "~2.1.4",
       "_view_module_version": "~2.1.4",
       "width": "100%"
      }
     },
     "98cfd601c7d4482f96404e2be0eebe21": {
      "model_module": "jupyter-js-widgets",
      "model_module_version": "~2.1.4",
      "model_name": "LayoutModel",
      "state": {
       "_model_module_version": "~2.1.4",
       "_view_module_version": "~2.1.4",
       "width": "100%"
      }
     },
     "98e20cf20d5245e38f17538bf41bb60f": {
      "model_module": "jupyter-js-widgets",
      "model_module_version": "~2.1.4",
      "model_name": "LayoutModel",
      "state": {
       "_model_module_version": "~2.1.4",
       "_view_module_version": "~2.1.4",
       "width": "100%"
      }
     },
     "98f8a1bd08ad4e4d9db73eefacf9f956": {
      "model_module": "jupyter-js-widgets",
      "model_module_version": "~2.1.4",
      "model_name": "IntSliderModel",
      "state": {
       "_model_module_version": "~2.1.4",
       "_view_module_version": "~2.1.4",
       "description": "sueldo_inicial",
       "layout": "IPY_MODEL_b471b22c7f9f41c698119a900af13bdd",
       "max": 25000,
       "step": 500,
       "style": "IPY_MODEL_975d2ad11dcc4d0aa3b489264760b77a",
       "value": 15000
      }
     },
     "992566edaeba484dab2474b2636ce247": {
      "model_module": "jupyter-js-widgets",
      "model_module_version": "~2.1.4",
      "model_name": "LayoutModel",
      "state": {
       "_model_module_version": "~2.1.4",
       "_view_module_version": "~2.1.4",
       "width": "100%"
      }
     },
     "99337dc95e644f8099caab0d31437ccb": {
      "model_module": "jupyter-js-widgets",
      "model_module_version": "~2.1.4",
      "model_name": "LayoutModel",
      "state": {
       "_model_module_version": "~2.1.4",
       "_view_module_version": "~2.1.4"
      }
     },
     "9939c1f58e4246cda6ec1084e20ad24c": {
      "model_module": "jupyter-js-widgets",
      "model_module_version": "~2.1.4",
      "model_name": "LayoutModel",
      "state": {
       "_model_module_version": "~2.1.4",
       "_view_module_version": "~2.1.4",
       "width": "100%"
      }
     },
     "996dfeaddfb44a64bdfab4987a77f0e3": {
      "model_module": "jupyter-js-widgets",
      "model_module_version": "~2.1.4",
      "model_name": "IntSliderModel",
      "state": {
       "_model_module_version": "~2.1.4",
       "_view_module_version": "~2.1.4",
       "description": "initial",
       "layout": "IPY_MODEL_053fb6beb26a48668978348853858cd6",
       "max": 25000,
       "step": 500,
       "style": "IPY_MODEL_17660560be8a4bd8981ac3af8bae3dc0",
       "value": 15000
      }
     },
     "99a12b63284c4b479918ef51cc2412bf": {
      "model_module": "jupyter-js-widgets",
      "model_module_version": "~2.1.4",
      "model_name": "IntSliderModel",
      "state": {
       "_model_module_version": "~2.1.4",
       "_view_module_version": "~2.1.4",
       "description": "sueldo_inicial",
       "layout": "IPY_MODEL_1d98a51a85ce4cd8915777b441a2136a",
       "max": 25000,
       "step": 500,
       "style": "IPY_MODEL_47298b04b5384461860734a29036d704",
       "value": 15000
      }
     },
     "9a78bf3b3a204201a89d42cbcfc779ae": {
      "model_module": "jupyter-js-widgets",
      "model_module_version": "~2.1.4",
      "model_name": "SliderStyleModel",
      "state": {
       "_model_module_version": "~2.1.4",
       "_view_module_version": "~2.1.4"
      }
     },
     "9a7fb46ea9fc4b17bafb730c44b1828d": {
      "model_module": "jupyter-js-widgets",
      "model_module_version": "~2.1.4",
      "model_name": "FloatSliderModel",
      "state": {
       "_model_module_version": "~2.1.4",
       "_view_module_version": "~2.1.4",
       "description": "tasa_gasto_extra",
       "layout": "IPY_MODEL_992566edaeba484dab2474b2636ce247",
       "max": 1,
       "step": 0.01,
       "value": 0.3
      }
     },
     "9abfde9af97d4af8818aa931d3344b53": {
      "model_module": "jupyter-js-widgets",
      "model_module_version": "~2.1.4",
      "model_name": "LayoutModel",
      "state": {
       "_model_module_version": "~2.1.4",
       "_view_module_version": "~2.1.4"
      }
     },
     "9b15bad2b4ab41adb6360c82752b0091": {
      "model_module": "jupyter-js-widgets",
      "model_module_version": "~2.1.4",
      "model_name": "VBoxModel",
      "state": {
       "_dom_classes": [
        "widget-interact"
       ],
       "_model_module_version": "~2.1.4",
       "_view_module_version": "~2.1.4",
       "children": [
        "IPY_MODEL_e6e7f8af072545a087a34c7df5bb337f",
        "IPY_MODEL_70567c19499d4f02a70d0afa206feae8",
        "IPY_MODEL_377bbe6ea14c419b8320d0ab0f7a6b78",
        "IPY_MODEL_430ee3612a38410d8cc67c616dbb0181",
        "IPY_MODEL_c12390441395470981ff23214e05973e",
        "IPY_MODEL_b7b1f22507ef4cc79fe620de70e1a5d6",
        "IPY_MODEL_89b15d6b1d034204ad88e71f697ccade",
        "IPY_MODEL_8b1cdc5ce7e841ab9fb983672808240d"
       ],
       "layout": "IPY_MODEL_73a113d5ce184630bf400a2696d0abdb"
      }
     },
     "9b6ef490f82c4c6284d06a94d0aac924": {
      "model_module": "jupyter-js-widgets",
      "model_module_version": "~2.1.4",
      "model_name": "IntSliderModel",
      "state": {
       "_model_module_version": "~2.1.4",
       "_view_module_version": "~2.1.4",
       "description": "gasto_fijo_diario",
       "layout": "IPY_MODEL_6c2167c78d944e73af3049aab557d23a",
       "max": 1000,
       "min": 1,
       "step": 50,
       "style": "IPY_MODEL_154e17af17064e6c995aff90af9551f0",
       "value": 100
      }
     },
     "9b9a604762b949a0bab5c2a554a3319d": {
      "model_module": "jupyter-js-widgets",
      "model_module_version": "~2.1.4",
      "model_name": "LayoutModel",
      "state": {
       "_model_module_version": "~2.1.4",
       "_view_module_version": "~2.1.4",
       "width": "100%"
      }
     },
     "9c44bef9017c43bfa54a1b1a5f045b78": {
      "model_module": "jupyter-js-widgets",
      "model_module_version": "~2.1.4",
      "model_name": "IntSliderModel",
      "state": {
       "_model_module_version": "~2.1.4",
       "_view_module_version": "~2.1.4",
       "description": "dias",
       "layout": "IPY_MODEL_f88b754820ed443680aa03e96ed2a89e",
       "max": 360,
       "min": 1,
       "step": 10,
       "style": "IPY_MODEL_920e1a01434f4bfb94625ae65c39e6cf",
       "value": 30
      }
     },
     "9c5e305a3ef64fe98048fa2db66a54c5": {
      "model_module": "jupyter-js-widgets",
      "model_module_version": "~2.1.4",
      "model_name": "LayoutModel",
      "state": {
       "_model_module_version": "~2.1.4",
       "_view_module_version": "~2.1.4",
       "width": "100%"
      }
     },
     "9d6df905f8b443408911d84abc032001": {
      "model_module": "jupyter-js-widgets",
      "model_module_version": "~2.1.4",
      "model_name": "SliderStyleModel",
      "state": {
       "_model_module_version": "~2.1.4",
       "_view_module_version": "~2.1.4"
      }
     },
     "9d82a4b888304c19ac4d1a2182fd6f6f": {
      "model_module": "jupyter-js-widgets",
      "model_module_version": "~2.1.4",
      "model_name": "FloatSliderModel",
      "state": {
       "_model_module_version": "~2.1.4",
       "_view_module_version": "~2.1.4",
       "description": "tasa_ahorro",
       "layout": "IPY_MODEL_c543f9f4a1874d1bb0173603c0f31d61",
       "max": 1,
       "step": 0.01,
       "value": 0.2
      }
     },
     "9d84fed049584a6a9ee0c5d79e371a3c": {
      "model_module": "jupyter-js-widgets",
      "model_module_version": "~2.1.4",
      "model_name": "LayoutModel",
      "state": {
       "_model_module_version": "~2.1.4",
       "_view_module_version": "~2.1.4",
       "width": "100%"
      }
     },
     "9df9d4edaf0049189f2fe26ff57f0da3": {
      "model_module": "jupyter-js-widgets",
      "model_module_version": "~2.1.4",
      "model_name": "OutputModel",
      "state": {
       "_dom_classes": [],
       "_model_module": "jupyter-js-widgets",
       "_model_module_version": "~2.1.4",
       "_view_module": "jupyter-js-widgets",
       "_view_module_version": "~2.1.4",
       "layout": "IPY_MODEL_97b6cba6358c448bb554961cd15398f9",
       "msg_throttle": 1
      }
     },
     "9e0bcbc827744151a85a98cf9b643eca": {
      "model_module": "jupyter-js-widgets",
      "model_module_version": "~2.1.4",
      "model_name": "LayoutModel",
      "state": {
       "_model_module_version": "~2.1.4",
       "_view_module_version": "~2.1.4"
      }
     },
     "9e573af4d9234cf589502f6cb91d8bed": {
      "model_module": "jupyter-js-widgets",
      "model_module_version": "~2.1.4",
      "model_name": "SliderStyleModel",
      "state": {
       "_model_module_version": "~2.1.4",
       "_view_module_version": "~2.1.4"
      }
     },
     "9e81b09ca1ff4fc9b0719bbccb3866fe": {
      "model_module": "jupyter-js-widgets",
      "model_module_version": "~2.1.4",
      "model_name": "LayoutModel",
      "state": {
       "_model_module_version": "~2.1.4",
       "_view_module_version": "~2.1.4"
      }
     },
     "9eff2c843836493f9d034bd311794a66": {
      "model_module": "jupyter-js-widgets",
      "model_module_version": "~2.1.4",
      "model_name": "IntSliderModel",
      "state": {
       "_model_module_version": "~2.1.4",
       "_view_module_version": "~2.1.4",
       "description": "gasto_fijo_diario",
       "layout": "IPY_MODEL_9d84fed049584a6a9ee0c5d79e371a3c",
       "max": 1000,
       "min": 1,
       "step": 50,
       "style": "IPY_MODEL_613622dc35fc4d1e99c259c25bf3fadf",
       "value": 100
      }
     },
     "9f04ad4b67d945c6841eea9e6e119f7c": {
      "model_module": "jupyter-js-widgets",
      "model_module_version": "~2.1.4",
      "model_name": "LayoutModel",
      "state": {
       "_model_module_version": "~2.1.4",
       "_view_module_version": "~2.1.4",
       "width": "100%"
      }
     },
     "9f09c5fa14054aff847a7b22fef7f267": {
      "model_module": "jupyter-js-widgets",
      "model_module_version": "~2.1.4",
      "model_name": "FloatSliderModel",
      "state": {
       "_model_module_version": "~2.1.4",
       "_view_module_version": "~2.1.4",
       "layout": "IPY_MODEL_d0eb96c368f24dbdb9ee75a6b015c7a4",
       "max": 1,
       "step": 0.01,
       "value": 0.2
      }
     },
     "9f8f357cdccf47af9694110f03f6f4a4": {
      "model_module": "jupyter-js-widgets",
      "model_module_version": "~2.1.4",
      "model_name": "VBoxModel",
      "state": {
       "_dom_classes": [
        "widget-interact"
       ],
       "_model_module_version": "~2.1.4",
       "_view_module_version": "~2.1.4",
       "children": [
        "IPY_MODEL_8ad0fc9318d141e0bc0f23646a895af1",
        "IPY_MODEL_423392e0b2b94f7cab14c0e9491614a7",
        "IPY_MODEL_dad16d135ec044368c97f1d37e54329e",
        "IPY_MODEL_5918d042169449d2953619773028b578",
        "IPY_MODEL_c204e21f61fa4edcad5002512746d49a",
        "IPY_MODEL_571cc2ba14f7462aa348577c5605a01d"
       ],
       "layout": "IPY_MODEL_6079ca8d64134470ae3c81e39e43c6a4"
      }
     },
     "9fb613be6a2641ca8e4ce5341508d61b": {
      "model_module": "jupyter-js-widgets",
      "model_module_version": "~2.1.4",
      "model_name": "SliderStyleModel",
      "state": {
       "_model_module_version": "~2.1.4",
       "_view_module_version": "~2.1.4"
      }
     },
     "a04fc3a34b194d98961afc3ba583d3dc": {
      "model_module": "jupyter-js-widgets",
      "model_module_version": "~2.1.4",
      "model_name": "FloatSliderModel",
      "state": {
       "_model_module_version": "~2.1.4",
       "_view_module_version": "~2.1.4",
       "description": "tasa_gasto_extra",
       "layout": "IPY_MODEL_51c057027e29442ca46d0927023d21f6",
       "max": 1,
       "step": 0.01,
       "value": 0.3
      }
     },
     "a05aa76e96934af88b034ccd1193208d": {
      "model_module": "jupyter-js-widgets",
      "model_module_version": "~2.1.4",
      "model_name": "LayoutModel",
      "state": {
       "_model_module_version": "~2.1.4",
       "_view_module_version": "~2.1.4",
       "width": "100%"
      }
     },
     "a07a79ff2f56424fb0e0b3cfe2dc6f13": {
      "model_module": "jupyter-js-widgets",
      "model_module_version": "~2.1.4",
      "model_name": "VBoxModel",
      "state": {
       "_dom_classes": [
        "widget-interact"
       ],
       "_model_module_version": "~2.1.4",
       "_view_module_version": "~2.1.4",
       "children": [
        "IPY_MODEL_ac499da4b64741b4ac732d68a9d7358d",
        "IPY_MODEL_645c1cdbf45b428cad913b4b42c0278d",
        "IPY_MODEL_5fe316c908b949c6976a0d652a0f62b0",
        "IPY_MODEL_7e7d9615101c4323a4132d5b0141d343",
        "IPY_MODEL_f876f432556141438a943abda0daea19",
        "IPY_MODEL_327d3fb52e42411696211b17e825ae57",
        "IPY_MODEL_651485fd874845eda6e7f1bde0e4c597",
        "IPY_MODEL_6d9771cd671245d3a0156fd7d4bd7496"
       ],
       "layout": "IPY_MODEL_1d51479f7047400182a01fe86554bc3d"
      }
     },
     "a0a2e20622cf4a6790a2159e4abf2b8d": {
      "model_module": "jupyter-js-widgets",
      "model_module_version": "~2.1.4",
      "model_name": "FloatSliderModel",
      "state": {
       "_model_module_version": "~2.1.4",
       "_view_module_version": "~2.1.4",
       "description": "tasa_ahorro",
       "layout": "IPY_MODEL_2e277cb07f83492bb05b11585c3f1d1b",
       "max": 1,
       "step": 0.01,
       "value": 0.2
      }
     },
     "a0ba5df0a16448f3b366e44cdb7060c0": {
      "model_module": "jupyter-js-widgets",
      "model_module_version": "~2.1.4",
      "model_name": "FloatSliderModel",
      "state": {
       "_model_module_version": "~2.1.4",
       "_view_module_version": "~2.1.4",
       "description": "tasa_gasto_extra",
       "layout": "IPY_MODEL_a7e00837a9c044dfa9ed598a51c18ee9",
       "max": 1,
       "step": 0.01,
       "value": 0.3
      }
     },
     "a15e99d73f394635a1df750637f988f3": {
      "model_module": "jupyter-js-widgets",
      "model_module_version": "~2.1.4",
      "model_name": "SliderStyleModel",
      "state": {
       "_model_module_version": "~2.1.4",
       "_view_module_version": "~2.1.4"
      }
     },
     "a191f8e805314ca49c95a9fce011e827": {
      "model_module": "jupyter-js-widgets",
      "model_module_version": "~2.1.4",
      "model_name": "SliderStyleModel",
      "state": {
       "_model_module_version": "~2.1.4",
       "_view_module_version": "~2.1.4"
      }
     },
     "a22c2e089357495a88474df746400a02": {
      "model_module": "jupyter-js-widgets",
      "model_module_version": "~2.1.4",
      "model_name": "LayoutModel",
      "state": {
       "_model_module_version": "~2.1.4",
       "_view_module_version": "~2.1.4",
       "width": "100%"
      }
     },
     "a26c00d9be644a3c94f144d96dcdd14c": {
      "model_module": "jupyter-js-widgets",
      "model_module_version": "~2.1.4",
      "model_name": "LayoutModel",
      "state": {
       "_model_module_version": "~2.1.4",
       "_view_module_version": "~2.1.4",
       "width": "100%"
      }
     },
     "a2b292ebd9bf48edbcb584b20d92e042": {
      "model_module": "jupyter-js-widgets",
      "model_module_version": "~2.1.4",
      "model_name": "FloatSliderModel",
      "state": {
       "_model_module_version": "~2.1.4",
       "_view_module_version": "~2.1.4",
       "description": "tasa_ahorro",
       "layout": "IPY_MODEL_f9d6be4b598243da9d1487f200950a83",
       "max": 1,
       "step": 0.01,
       "value": 0.2
      }
     },
     "a2e6a0ed36c94f779c4ece9e73076d0a": {
      "model_module": "jupyter-js-widgets",
      "model_module_version": "~2.1.4",
      "model_name": "OutputModel",
      "state": {
       "_dom_classes": [],
       "_model_module": "jupyter-js-widgets",
       "_model_module_version": "~2.1.4",
       "_view_module": "jupyter-js-widgets",
       "_view_module_version": "~2.1.4",
       "layout": "IPY_MODEL_0c802ce407ff4d9080b1b8cbac1b0a97",
       "msg_throttle": 1
      }
     },
     "a34c6bf49a8f4ac79819a8173d8d7f68": {
      "model_module": "jupyter-js-widgets",
      "model_module_version": "~2.1.4",
      "model_name": "LayoutModel",
      "state": {
       "_model_module_version": "~2.1.4",
       "_view_module_version": "~2.1.4"
      }
     },
     "a3baa21a9c5f439183b8ad5ac14cecef": {
      "model_module": "jupyter-js-widgets",
      "model_module_version": "~2.1.4",
      "model_name": "SliderStyleModel",
      "state": {
       "_model_module_version": "~2.1.4",
       "_view_module_version": "~2.1.4"
      }
     },
     "a3c14242a22846cbbc310506a68a59a8": {
      "model_module": "jupyter-js-widgets",
      "model_module_version": "~2.1.4",
      "model_name": "IntSliderModel",
      "state": {
       "_model_module_version": "~2.1.4",
       "_view_module_version": "~2.1.4",
       "description": "dias",
       "layout": "IPY_MODEL_dc5006834b7a49a2a114b30f298a9106",
       "max": 360,
       "min": 1,
       "step": 10,
       "style": "IPY_MODEL_8e8002455ffb42d99d195ad15bb97fe4",
       "value": 30
      }
     },
     "a4514d7459714e74bbf41e2b34def0ad": {
      "model_module": "jupyter-js-widgets",
      "model_module_version": "~2.1.4",
      "model_name": "OutputModel",
      "state": {
       "_dom_classes": [],
       "_model_module": "jupyter-js-widgets",
       "_model_module_version": "~2.1.4",
       "_view_module": "jupyter-js-widgets",
       "_view_module_version": "~2.1.4",
       "layout": "IPY_MODEL_4e67997aeef7422bb2b56b657bfa94e0",
       "msg_throttle": 1
      }
     },
     "a4982672823c487eafdb5121dc9c3e5b": {
      "model_module": "jupyter-js-widgets",
      "model_module_version": "~2.1.4",
      "model_name": "SliderStyleModel",
      "state": {
       "_model_module_version": "~2.1.4",
       "_view_module_version": "~2.1.4"
      }
     },
     "a4f7f2ff16124c0abca7485ac6e17187": {
      "model_module": "jupyter-js-widgets",
      "model_module_version": "~2.1.4",
      "model_name": "FloatSliderModel",
      "state": {
       "_model_module_version": "~2.1.4",
       "_view_module_version": "~2.1.4",
       "description": "paso",
       "layout": "IPY_MODEL_5fad1c9cf1c94fd6b92507a28d5cb3ab",
       "max": 1,
       "step": 0.01,
       "value": 0.1
      }
     },
     "a5086651f5c64e29a6e32d2eb2c7c96c": {
      "model_module": "jupyter-js-widgets",
      "model_module_version": "~2.1.4",
      "model_name": "IntSliderModel",
      "state": {
       "_model_module_version": "~2.1.4",
       "_view_module_version": "~2.1.4",
       "description": "intervalo",
       "layout": "IPY_MODEL_0063e60bcfb444e59de9bb62f10cf9ac",
       "max": 360,
       "min": 1,
       "step": 10,
       "style": "IPY_MODEL_6c1ebe09e6854808a4c272f71d2dacad",
       "value": 30
      }
     },
     "a51c0fd2b5df4f889cc71513e7e5c380": {
      "model_module": "jupyter-js-widgets",
      "model_module_version": "~2.1.4",
      "model_name": "IntSliderModel",
      "state": {
       "_model_module_version": "~2.1.4",
       "_view_module_version": "~2.1.4",
       "description": "dias",
       "layout": "IPY_MODEL_7a96e7c81d844c97b69e3a9bad7aa574",
       "max": 360,
       "min": 1,
       "step": 10,
       "style": "IPY_MODEL_f1c5172e1ad14a7597bb32a89cac36ce",
       "value": 30
      }
     },
     "a560c5696cff4405b892a2ab8c1ea1d6": {
      "model_module": "jupyter-js-widgets",
      "model_module_version": "~2.1.4",
      "model_name": "SliderStyleModel",
      "state": {
       "_model_module_version": "~2.1.4",
       "_view_module_version": "~2.1.4"
      }
     },
     "a57d3f15efe44c4e8eb27c70a24d6884": {
      "model_module": "jupyter-js-widgets",
      "model_module_version": "~2.1.4",
      "model_name": "VBoxModel",
      "state": {
       "_dom_classes": [
        "widget-interact"
       ],
       "_model_module_version": "~2.1.4",
       "_view_module_version": "~2.1.4",
       "children": [
        "IPY_MODEL_1b7a7108e75646b0992bdbb511575ba7",
        "IPY_MODEL_e78623ac14b64a5d89344e4acf4345e0",
        "IPY_MODEL_61d461704926454693ff8d5f91236b3e",
        "IPY_MODEL_4be611ae085a452aaa4df181379ed874",
        "IPY_MODEL_f4150db0e4b74bea919cf50f3552fb4c",
        "IPY_MODEL_12c8e9e394af426db56e56806ba3acd9",
        "IPY_MODEL_8b0c79cca3654920b87bedfca831307a",
        "IPY_MODEL_6987342c738e4be3a04080408da5030d"
       ],
       "layout": "IPY_MODEL_d7c5d2793c7b4dd989d150d0ceb24b70"
      }
     },
     "a598e659b733415fa79466b134a2421e": {
      "model_module": "jupyter-js-widgets",
      "model_module_version": "~2.1.4",
      "model_name": "FloatSliderModel",
      "state": {
       "_model_module_version": "~2.1.4",
       "_view_module_version": "~2.1.4",
       "description": "tasa_ahorro",
       "layout": "IPY_MODEL_26e69f04ebad4dde8c25b7596b9f81b5",
       "max": 1,
       "step": 0.05,
       "value": 0.2
      }
     },
     "a5a3ec6abb104c04a4fd54cc67421aa5": {
      "model_module": "jupyter-js-widgets",
      "model_module_version": "~2.1.4",
      "model_name": "IntSliderModel",
      "state": {
       "_model_module_version": "~2.1.4",
       "_view_module_version": "~2.1.4",
       "description": "dias",
       "layout": "IPY_MODEL_2934441fe9e34a4e8bab7e8365da0085",
       "max": 360,
       "min": 1,
       "step": 10,
       "style": "IPY_MODEL_e0e428e1d9ca463d8203998171daa4f9",
       "value": 30
      }
     },
     "a5b523fdd7f94c1198186b381a827153": {
      "model_module": "jupyter-js-widgets",
      "model_module_version": "~2.1.4",
      "model_name": "SliderStyleModel",
      "state": {
       "_model_module_version": "~2.1.4",
       "_view_module_version": "~2.1.4"
      }
     },
     "a5c4bddc2bc14914adb05b7feb957abf": {
      "model_module": "jupyter-js-widgets",
      "model_module_version": "~2.1.4",
      "model_name": "LayoutModel",
      "state": {
       "_model_module_version": "~2.1.4",
       "_view_module_version": "~2.1.4"
      }
     },
     "a63b67edb0ab48f980418c943958e70e": {
      "model_module": "jupyter-js-widgets",
      "model_module_version": "~2.1.4",
      "model_name": "SliderStyleModel",
      "state": {
       "_model_module_version": "~2.1.4",
       "_view_module_version": "~2.1.4"
      }
     },
     "a6cf49ebb18f4606b09ff9049c0e8449": {
      "model_module": "jupyter-js-widgets",
      "model_module_version": "~2.1.4",
      "model_name": "IntSliderModel",
      "state": {
       "_model_module_version": "~2.1.4",
       "_view_module_version": "~2.1.4",
       "description": "dias",
       "layout": "IPY_MODEL_51022e0283b04e3583abed65c45dce54",
       "max": 360,
       "min": 1,
       "step": 10,
       "style": "IPY_MODEL_432dab950831488e82344a4ba308ce3e",
       "value": 30
      }
     },
     "a6f128f6b8734f2e8b7848cc6665cb64": {
      "model_module": "jupyter-js-widgets",
      "model_module_version": "~2.1.4",
      "model_name": "LayoutModel",
      "state": {
       "_model_module_version": "~2.1.4",
       "_view_module_version": "~2.1.4",
       "width": "100%"
      }
     },
     "a72bd5b0be79439bb2bbc727e2d49d90": {
      "model_module": "jupyter-js-widgets",
      "model_module_version": "~2.1.4",
      "model_name": "SliderStyleModel",
      "state": {
       "_model_module_version": "~2.1.4",
       "_view_module_version": "~2.1.4"
      }
     },
     "a72fb289c8c1418ca230e145bf13f855": {
      "model_module": "jupyter-js-widgets",
      "model_module_version": "~2.1.4",
      "model_name": "LayoutModel",
      "state": {
       "_model_module_version": "~2.1.4",
       "_view_module_version": "~2.1.4",
       "width": "100%"
      }
     },
     "a769c5cdd5ef4ff2ad83a2392aae0998": {
      "model_module": "jupyter-js-widgets",
      "model_module_version": "~2.1.4",
      "model_name": "FloatSliderModel",
      "state": {
       "_model_module_version": "~2.1.4",
       "_view_module_version": "~2.1.4",
       "description": "tasa_gasto_extra",
       "layout": "IPY_MODEL_3b8cfe629d9e458fbd048e2b635652ef",
       "max": 1,
       "step": 0.01,
       "value": 0.3
      }
     },
     "a7dd0896d9d7414fb04ffd64f70c402a": {
      "model_module": "jupyter-js-widgets",
      "model_module_version": "~2.1.4",
      "model_name": "LayoutModel",
      "state": {
       "_model_module_version": "~2.1.4",
       "_view_module_version": "~2.1.4",
       "width": "100%"
      }
     },
     "a7e00837a9c044dfa9ed598a51c18ee9": {
      "model_module": "jupyter-js-widgets",
      "model_module_version": "~2.1.4",
      "model_name": "LayoutModel",
      "state": {
       "_model_module_version": "~2.1.4",
       "_view_module_version": "~2.1.4",
       "width": "100%"
      }
     },
     "a7f65035a78f42eead3d3063efc3b36f": {
      "model_module": "jupyter-js-widgets",
      "model_module_version": "~2.1.4",
      "model_name": "LayoutModel",
      "state": {
       "_model_module_version": "~2.1.4",
       "_view_module_version": "~2.1.4"
      }
     },
     "a82ab8db5ded44e2a3148b9679418d97": {
      "model_module": "jupyter-js-widgets",
      "model_module_version": "~2.1.4",
      "model_name": "IntSliderModel",
      "state": {
       "_model_module_version": "~2.1.4",
       "_view_module_version": "~2.1.4",
       "description": "intervalo",
       "layout": "IPY_MODEL_79d662588a404a2cbc92390c139256f8",
       "max": 360,
       "min": 1,
       "step": 10,
       "style": "IPY_MODEL_e7dc849764bf414cb6de6e7560589bf0",
       "value": 30
      }
     },
     "a849c8d9ebb24c089a038393b1bbe51c": {
      "model_module": "jupyter-js-widgets",
      "model_module_version": "~2.1.4",
      "model_name": "SliderStyleModel",
      "state": {
       "_model_module_version": "~2.1.4",
       "_view_module_version": "~2.1.4"
      }
     },
     "a866bac2380e4704898c99f9cbcc8a00": {
      "model_module": "jupyter-js-widgets",
      "model_module_version": "~2.1.4",
      "model_name": "IntSliderModel",
      "state": {
       "_model_module_version": "~2.1.4",
       "_view_module_version": "~2.1.4",
       "description": "gasto_fijo_diario",
       "layout": "IPY_MODEL_bd2957e4133940639a5db9af0beb460f",
       "max": 1000,
       "min": 1,
       "step": 50,
       "style": "IPY_MODEL_8a74ef514219430697c0ee74d5c0b8b8",
       "value": 100
      }
     },
     "a87a649117274a27904d87c58dd65f71": {
      "model_module": "jupyter-js-widgets",
      "model_module_version": "~2.1.4",
      "model_name": "SliderStyleModel",
      "state": {
       "_model_module_version": "~2.1.4",
       "_view_module_version": "~2.1.4"
      }
     },
     "a89acaf33ccd40b1977982162754e6c8": {
      "model_module": "jupyter-js-widgets",
      "model_module_version": "~2.1.4",
      "model_name": "LayoutModel",
      "state": {
       "_model_module_version": "~2.1.4",
       "_view_module_version": "~2.1.4",
       "width": "100%"
      }
     },
     "a8bb738090e34aab8200a116e98af5b7": {
      "model_module": "jupyter-js-widgets",
      "model_module_version": "~2.1.4",
      "model_name": "LayoutModel",
      "state": {
       "_model_module_version": "~2.1.4",
       "_view_module_version": "~2.1.4",
       "width": "100%"
      }
     },
     "a93435361f04435b85cbbfec8a683f3c": {
      "model_module": "jupyter-js-widgets",
      "model_module_version": "~2.1.4",
      "model_name": "OutputModel",
      "state": {
       "_dom_classes": [],
       "_model_module": "jupyter-js-widgets",
       "_model_module_version": "~2.1.4",
       "_view_module": "jupyter-js-widgets",
       "_view_module_version": "~2.1.4",
       "layout": "IPY_MODEL_c246a74d5d474640b7356430725522b7",
       "msg_throttle": 1
      }
     },
     "a97005930d9f4c2688b0eab263ff4e85": {
      "model_module": "jupyter-js-widgets",
      "model_module_version": "~2.1.4",
      "model_name": "VBoxModel",
      "state": {
       "_dom_classes": [
        "widget-interact"
       ],
       "_model_module_version": "~2.1.4",
       "_view_module_version": "~2.1.4",
       "children": [
        "IPY_MODEL_99a12b63284c4b479918ef51cc2412bf",
        "IPY_MODEL_6b6c71fb2ad6490c931f0eaac96679ed",
        "IPY_MODEL_5d9faf5f08f54a3896b992210941aadd",
        "IPY_MODEL_dc1a58f2e8674f3fa8bccbaf68bfb206",
        "IPY_MODEL_72b2b4ad1d5a4bb3a21c50e05a6ed3a5",
        "IPY_MODEL_301a9fe7e8f94430a57943f04ae61694",
        "IPY_MODEL_941dd862c2e346aa921a9172906ab57f",
        "IPY_MODEL_471e93dba8b142fc821ca48633fd36ae"
       ],
       "layout": "IPY_MODEL_d977483e675445e4aeecf86eaabb9e32"
      }
     },
     "a9d129ccfb694d1c8bb6f9b2a0a70dae": {
      "model_module": "jupyter-js-widgets",
      "model_module_version": "~2.1.4",
      "model_name": "LayoutModel",
      "state": {
       "_model_module_version": "~2.1.4",
       "_view_module_version": "~2.1.4",
       "width": "100%"
      }
     },
     "a9e658e6802247d780ba7e59183f4ba6": {
      "model_module": "jupyter-js-widgets",
      "model_module_version": "~2.1.4",
      "model_name": "FloatSliderModel",
      "state": {
       "_model_module_version": "~2.1.4",
       "_view_module_version": "~2.1.4",
       "description": "cap",
       "layout": "IPY_MODEL_b4f38c6e61994af18e52eda74d502061",
       "max": 1,
       "step": 0.1,
       "value": 0.2
      }
     },
     "a9e686bd98cc42f88b7636fbf3fbf6d4": {
      "model_module": "jupyter-js-widgets",
      "model_module_version": "~2.1.4",
      "model_name": "LayoutModel",
      "state": {
       "_model_module_version": "~2.1.4",
       "_view_module_version": "~2.1.4",
       "width": "100%"
      }
     },
     "aa0ca09e2fe8471bb011ce34cb656066": {
      "model_module": "jupyter-js-widgets",
      "model_module_version": "~2.1.4",
      "model_name": "LayoutModel",
      "state": {
       "_model_module_version": "~2.1.4",
       "_view_module_version": "~2.1.4",
       "width": "100%"
      }
     },
     "aa5c6748461b4f6e8db197e4a4064a69": {
      "model_module": "jupyter-js-widgets",
      "model_module_version": "~2.1.4",
      "model_name": "LayoutModel",
      "state": {
       "_model_module_version": "~2.1.4",
       "_view_module_version": "~2.1.4",
       "width": "100%"
      }
     },
     "aa6660aa1833480d9f86b7ad696322e1": {
      "model_module": "jupyter-js-widgets",
      "model_module_version": "~2.1.4",
      "model_name": "LayoutModel",
      "state": {
       "_model_module_version": "~2.1.4",
       "_view_module_version": "~2.1.4"
      }
     },
     "aa7cb527590c403fbba374aad4854158": {
      "model_module": "jupyter-js-widgets",
      "model_module_version": "~2.1.4",
      "model_name": "LayoutModel",
      "state": {
       "_model_module_version": "~2.1.4",
       "_view_module_version": "~2.1.4",
       "width": "100%"
      }
     },
     "aab16590cfcc4a22be65043d42118914": {
      "model_module": "jupyter-js-widgets",
      "model_module_version": "~2.1.4",
      "model_name": "SliderStyleModel",
      "state": {
       "_model_module_version": "~2.1.4",
       "_view_module_version": "~2.1.4"
      }
     },
     "aacae23179d1458894c94c362402349f": {
      "model_module": "jupyter-js-widgets",
      "model_module_version": "~2.1.4",
      "model_name": "LayoutModel",
      "state": {
       "_model_module_version": "~2.1.4",
       "_view_module_version": "~2.1.4",
       "width": "100%"
      }
     },
     "ab007d73cedd4d9996a86611b3e124e0": {
      "model_module": "jupyter-js-widgets",
      "model_module_version": "~2.1.4",
      "model_name": "LayoutModel",
      "state": {
       "_model_module_version": "~2.1.4",
       "_view_module_version": "~2.1.4"
      }
     },
     "ab0cd99320b348838d4745dc971e97c1": {
      "model_module": "jupyter-js-widgets",
      "model_module_version": "~2.1.4",
      "model_name": "IntSliderModel",
      "state": {
       "_model_module_version": "~2.1.4",
       "_view_module_version": "~2.1.4",
       "description": "dias",
       "layout": "IPY_MODEL_a9d129ccfb694d1c8bb6f9b2a0a70dae",
       "max": 360,
       "min": 1,
       "step": 10,
       "style": "IPY_MODEL_ebb17042fbc44265b503f63da8792f12",
       "value": 30
      }
     },
     "ab5f47e92cfd4ebfa4ca81b79c62c8db": {
      "model_module": "jupyter-js-widgets",
      "model_module_version": "~2.1.4",
      "model_name": "LayoutModel",
      "state": {
       "_model_module_version": "~2.1.4",
       "_view_module_version": "~2.1.4",
       "width": "100%"
      }
     },
     "ab881b6fd94a451f90ed53f437444fa4": {
      "model_module": "jupyter-js-widgets",
      "model_module_version": "~2.1.4",
      "model_name": "SliderStyleModel",
      "state": {
       "_model_module_version": "~2.1.4",
       "_view_module_version": "~2.1.4"
      }
     },
     "abdbf111eb644719ae119841c505257c": {
      "model_module": "jupyter-js-widgets",
      "model_module_version": "~2.1.4",
      "model_name": "LayoutModel",
      "state": {
       "_model_module_version": "~2.1.4",
       "_view_module_version": "~2.1.4",
       "width": "100%"
      }
     },
     "ac1fb26210e1479ab117ca3c1364ba6a": {
      "model_module": "jupyter-js-widgets",
      "model_module_version": "~2.1.4",
      "model_name": "IntSliderModel",
      "state": {
       "_model_module_version": "~2.1.4",
       "_view_module_version": "~2.1.4",
       "layout": "IPY_MODEL_8e5e0f6fe5644071b6ba7f6055c95341",
       "max": 360,
       "min": 1,
       "step": 10,
       "style": "IPY_MODEL_61be3fbef11e4de8b42c941c2b310b5a",
       "value": 30
      }
     },
     "ac2c90756753469babc2188312e092b1": {
      "model_module": "jupyter-js-widgets",
      "model_module_version": "~2.1.4",
      "model_name": "FloatSliderModel",
      "state": {
       "_model_module_version": "~2.1.4",
       "_view_module_version": "~2.1.4",
       "description": "paso",
       "layout": "IPY_MODEL_0509c24a99c349d1be66db3df422492b",
       "max": 1,
       "step": 0.01,
       "value": 0.1
      }
     },
     "ac33a33aa1e642c08ee9aff6b9ea66c8": {
      "model_module": "jupyter-js-widgets",
      "model_module_version": "~2.1.4",
      "model_name": "IntSliderModel",
      "state": {
       "_model_module_version": "~2.1.4",
       "_view_module_version": "~2.1.4",
       "description": "dias",
       "layout": "IPY_MODEL_0e34023ba0474c019fb733493cfd23aa",
       "max": 360,
       "min": 1,
       "step": 10,
       "style": "IPY_MODEL_20cf373aefbd4ad4a51501e2ba290674",
       "value": 60
      }
     },
     "ac499da4b64741b4ac732d68a9d7358d": {
      "model_module": "jupyter-js-widgets",
      "model_module_version": "~2.1.4",
      "model_name": "IntSliderModel",
      "state": {
       "_model_module_version": "~2.1.4",
       "_view_module_version": "~2.1.4",
       "description": "sueldo_inicial",
       "layout": "IPY_MODEL_3474c5064bdd464cb47b5318729be520",
       "max": 25000,
       "step": 500,
       "style": "IPY_MODEL_398c5a9c40b84cd8a8d8bd8c8a5122f1",
       "value": 15000
      }
     },
     "ad8ec7e8d7034901b4aa165f9194a527": {
      "model_module": "jupyter-js-widgets",
      "model_module_version": "~2.1.4",
      "model_name": "LayoutModel",
      "state": {
       "_model_module_version": "~2.1.4",
       "_view_module_version": "~2.1.4",
       "width": "100%"
      }
     },
     "ada1d4217d6a4b8795445d77769e5c0f": {
      "model_module": "jupyter-js-widgets",
      "model_module_version": "~2.1.4",
      "model_name": "LayoutModel",
      "state": {
       "_model_module_version": "~2.1.4",
       "_view_module_version": "~2.1.4"
      }
     },
     "ada2080875da4702b9383fac8c578f3f": {
      "model_module": "jupyter-js-widgets",
      "model_module_version": "~2.1.4",
      "model_name": "IntSliderModel",
      "state": {
       "_model_module_version": "~2.1.4",
       "_view_module_version": "~2.1.4",
       "description": "dias",
       "layout": "IPY_MODEL_1acd5298455c478aa8539ee8e2cee3ae",
       "max": 360,
       "min": 1,
       "step": 10,
       "style": "IPY_MODEL_28b3daa16545412ab7d4d0ea16771481",
       "value": 30
      }
     },
     "af1ba15f1bdc4d09824468b16688b4d7": {
      "model_module": "jupyter-js-widgets",
      "model_module_version": "~2.1.4",
      "model_name": "LayoutModel",
      "state": {
       "_model_module_version": "~2.1.4",
       "_view_module_version": "~2.1.4",
       "width": "100%"
      }
     },
     "af589b855814499aa3d9fb7166b16e66": {
      "model_module": "jupyter-js-widgets",
      "model_module_version": "~2.1.4",
      "model_name": "LayoutModel",
      "state": {
       "_model_module_version": "~2.1.4",
       "_view_module_version": "~2.1.4",
       "width": "100%"
      }
     },
     "af8e4cfbb5c74a9396f5e556efca4501": {
      "model_module": "jupyter-js-widgets",
      "model_module_version": "~2.1.4",
      "model_name": "SliderStyleModel",
      "state": {
       "_model_module_version": "~2.1.4",
       "_view_module_version": "~2.1.4"
      }
     },
     "affbb5d8d4094b67a983da5348d104f1": {
      "model_module": "jupyter-js-widgets",
      "model_module_version": "~2.1.4",
      "model_name": "FloatSliderModel",
      "state": {
       "_model_module_version": "~2.1.4",
       "_view_module_version": "~2.1.4",
       "description": "paso",
       "layout": "IPY_MODEL_b9cb44a197dd4354973dc7e598b26dc3",
       "max": 1,
       "step": 0.01,
       "value": 0.1
      }
     },
     "b001dd64d2a0460a8a15722f028df57b": {
      "model_module": "jupyter-js-widgets",
      "model_module_version": "~2.1.4",
      "model_name": "SliderStyleModel",
      "state": {
       "_model_module_version": "~2.1.4",
       "_view_module_version": "~2.1.4"
      }
     },
     "b08ae0a85f0e4addbdd6d6c7cbe7a582": {
      "model_module": "jupyter-js-widgets",
      "model_module_version": "~2.1.4",
      "model_name": "FloatSliderModel",
      "state": {
       "_model_module_version": "~2.1.4",
       "_view_module_version": "~2.1.4",
       "description": "tasa_ahorro",
       "layout": "IPY_MODEL_2bf36c918c314388bdf1ff77510de960",
       "max": 1,
       "step": 0.01,
       "value": 0.2
      }
     },
     "b096de42797e4775a77d0b4e85db424a": {
      "model_module": "jupyter-js-widgets",
      "model_module_version": "~2.1.4",
      "model_name": "FloatSliderModel",
      "state": {
       "_model_module_version": "~2.1.4",
       "_view_module_version": "~2.1.4",
       "description": "tasa_ahorro",
       "layout": "IPY_MODEL_3f75c6f0958944bcab36c32c7475a5f5",
       "max": 1,
       "step": 0.01,
       "value": 0.2
      }
     },
     "b0d08f3f736c43b79d9e579c35bea336": {
      "model_module": "jupyter-js-widgets",
      "model_module_version": "~2.1.4",
      "model_name": "LayoutModel",
      "state": {
       "_model_module_version": "~2.1.4",
       "_view_module_version": "~2.1.4",
       "width": "100%"
      }
     },
     "b0ed47dc17764cc588d0b3f10d808e71": {
      "model_module": "jupyter-js-widgets",
      "model_module_version": "~2.1.4",
      "model_name": "OutputModel",
      "state": {
       "_dom_classes": [],
       "_model_module": "jupyter-js-widgets",
       "_model_module_version": "~2.1.4",
       "_view_module": "jupyter-js-widgets",
       "_view_module_version": "~2.1.4",
       "layout": "IPY_MODEL_b3da2b33da76499d809671064ecf16aa",
       "msg_throttle": 1
      }
     },
     "b1048f9760a34a98970d72bc083987ec": {
      "model_module": "jupyter-js-widgets",
      "model_module_version": "~2.1.4",
      "model_name": "LayoutModel",
      "state": {
       "_model_module_version": "~2.1.4",
       "_view_module_version": "~2.1.4"
      }
     },
     "b11022921d834671923e2678313af3ff": {
      "model_module": "jupyter-js-widgets",
      "model_module_version": "~2.1.4",
      "model_name": "SliderStyleModel",
      "state": {
       "_model_module_version": "~2.1.4",
       "_view_module_version": "~2.1.4"
      }
     },
     "b118ccc311814399b6eeb2ce7a77525e": {
      "model_module": "jupyter-js-widgets",
      "model_module_version": "~2.1.4",
      "model_name": "IntSliderModel",
      "state": {
       "_model_module_version": "~2.1.4",
       "_view_module_version": "~2.1.4",
       "description": "dias",
       "layout": "IPY_MODEL_fb4cdcc14cbf4fb3a20fec60792b8286",
       "max": 360,
       "min": 1,
       "step": 10,
       "style": "IPY_MODEL_43f3d52a0b904b1798564411cc2371b8",
       "value": 30
      }
     },
     "b2371e4c76ab416f8aa84a8a89daa5f1": {
      "model_module": "jupyter-js-widgets",
      "model_module_version": "~2.1.4",
      "model_name": "LayoutModel",
      "state": {
       "_model_module_version": "~2.1.4",
       "_view_module_version": "~2.1.4",
       "width": "100%"
      }
     },
     "b2696deff39d4232972619198fbe1b76": {
      "model_module": "jupyter-js-widgets",
      "model_module_version": "~2.1.4",
      "model_name": "LayoutModel",
      "state": {
       "_model_module_version": "~2.1.4",
       "_view_module_version": "~2.1.4",
       "width": "100%"
      }
     },
     "b2fbb1f5ac2b47eaa737914f881b405c": {
      "model_module": "jupyter-js-widgets",
      "model_module_version": "~2.1.4",
      "model_name": "SliderStyleModel",
      "state": {
       "_model_module_version": "~2.1.4",
       "_view_module_version": "~2.1.4"
      }
     },
     "b3519a522e3944e09510b8b2bc7079d5": {
      "model_module": "jupyter-js-widgets",
      "model_module_version": "~2.1.4",
      "model_name": "LayoutModel",
      "state": {
       "_model_module_version": "~2.1.4",
       "_view_module_version": "~2.1.4",
       "width": "100%"
      }
     },
     "b3ba11ee9e3a484db1fb0c060dd89880": {
      "model_module": "jupyter-js-widgets",
      "model_module_version": "~2.1.4",
      "model_name": "SliderStyleModel",
      "state": {
       "_model_module_version": "~2.1.4",
       "_view_module_version": "~2.1.4"
      }
     },
     "b3da2b33da76499d809671064ecf16aa": {
      "model_module": "jupyter-js-widgets",
      "model_module_version": "~2.1.4",
      "model_name": "LayoutModel",
      "state": {
       "_model_module_version": "~2.1.4",
       "_view_module_version": "~2.1.4"
      }
     },
     "b410cc2b22f74260a3f83f3b10e35cae": {
      "model_module": "jupyter-js-widgets",
      "model_module_version": "~2.1.4",
      "model_name": "LayoutModel",
      "state": {
       "_model_module_version": "~2.1.4",
       "_view_module_version": "~2.1.4",
       "width": "100%"
      }
     },
     "b471b22c7f9f41c698119a900af13bdd": {
      "model_module": "jupyter-js-widgets",
      "model_module_version": "~2.1.4",
      "model_name": "LayoutModel",
      "state": {
       "_model_module_version": "~2.1.4",
       "_view_module_version": "~2.1.4",
       "width": "100%"
      }
     },
     "b4f38c6e61994af18e52eda74d502061": {
      "model_module": "jupyter-js-widgets",
      "model_module_version": "~2.1.4",
      "model_name": "LayoutModel",
      "state": {
       "_model_module_version": "~2.1.4",
       "_view_module_version": "~2.1.4",
       "width": "100%"
      }
     },
     "b4fe2c2596e24ef590628dbb0a712a2a": {
      "model_module": "jupyter-js-widgets",
      "model_module_version": "~2.1.4",
      "model_name": "LayoutModel",
      "state": {
       "_model_module_version": "~2.1.4",
       "_view_module_version": "~2.1.4",
       "width": "100%"
      }
     },
     "b51f8b5001124c54ad6d73900caa707a": {
      "model_module": "jupyter-js-widgets",
      "model_module_version": "~2.1.4",
      "model_name": "FloatSliderModel",
      "state": {
       "_model_module_version": "~2.1.4",
       "_view_module_version": "~2.1.4",
       "description": "tasa_ahorro",
       "layout": "IPY_MODEL_636073f05b8c4cf0a68688fb01a75788",
       "max": 1,
       "step": 0.01,
       "value": 0.2
      }
     },
     "b5748e29a199451f951ae7956a5557f5": {
      "model_module": "jupyter-js-widgets",
      "model_module_version": "~2.1.4",
      "model_name": "LayoutModel",
      "state": {
       "_model_module_version": "~2.1.4",
       "_view_module_version": "~2.1.4",
       "width": "100%"
      }
     },
     "b5daefaf0e09442580560a422fb6e935": {
      "model_module": "jupyter-js-widgets",
      "model_module_version": "~2.1.4",
      "model_name": "LayoutModel",
      "state": {
       "_model_module_version": "~2.1.4",
       "_view_module_version": "~2.1.4"
      }
     },
     "b5eafaba18b34fd1ae1c864aea19219b": {
      "model_module": "jupyter-js-widgets",
      "model_module_version": "~2.1.4",
      "model_name": "IntSliderModel",
      "state": {
       "_model_module_version": "~2.1.4",
       "_view_module_version": "~2.1.4",
       "description": "sueldo_inicial",
       "layout": "IPY_MODEL_43b95c55671c4affb4b3c3cb31b32a0b",
       "max": 25000,
       "step": 500,
       "style": "IPY_MODEL_3dc826e5657141c99671b053b28f2e65",
       "value": 15000
      }
     },
     "b660c0db2eba4370990c1f45defb79c0": {
      "model_module": "jupyter-js-widgets",
      "model_module_version": "~2.1.4",
      "model_name": "IntSliderModel",
      "state": {
       "_model_module_version": "~2.1.4",
       "_view_module_version": "~2.1.4",
       "description": "dias",
       "layout": "IPY_MODEL_c9328a20b22e4fa9a3ff96d04e6abd7c",
       "max": 360,
       "min": 1,
       "step": 10,
       "style": "IPY_MODEL_e94f1ff2352e41feaaa40cd181ce6c8c",
       "value": 60
      }
     },
     "b6782b3061f444fe9eb524c92dd851f1": {
      "model_module": "jupyter-js-widgets",
      "model_module_version": "~2.1.4",
      "model_name": "IntSliderModel",
      "state": {
       "_model_module_version": "~2.1.4",
       "_view_module_version": "~2.1.4",
       "description": "gasto_fijo_diario",
       "layout": "IPY_MODEL_ab5f47e92cfd4ebfa4ca81b79c62c8db",
       "max": 1000,
       "min": 1,
       "step": 50,
       "style": "IPY_MODEL_ce6b41b59a704c6483c41101c754f63a",
       "value": 100
      }
     },
     "b6c0c402053a41a5b65881aef263dcec": {
      "model_module": "jupyter-js-widgets",
      "model_module_version": "~2.1.4",
      "model_name": "LayoutModel",
      "state": {
       "_model_module_version": "~2.1.4",
       "_view_module_version": "~2.1.4",
       "width": "100%"
      }
     },
     "b6f44006753c4c3193ca327a359e2bb5": {
      "model_module": "jupyter-js-widgets",
      "model_module_version": "~2.1.4",
      "model_name": "VBoxModel",
      "state": {
       "_dom_classes": [
        "widget-interact"
       ],
       "_model_module_version": "~2.1.4",
       "_view_module_version": "~2.1.4",
       "children": [
        "IPY_MODEL_5746635b92974311b43400b1d50584e5",
        "IPY_MODEL_09143970a1ba4475b01b2d2b84d16624",
        "IPY_MODEL_6d1eeb5c6ed04152b95e21491d1eb636",
        "IPY_MODEL_588ff22515a2416195b28891006833db",
        "IPY_MODEL_ffd40419ad934e4c9a40857c61576068",
        "IPY_MODEL_06be906abedf4dc2bf9df1252962a58b"
       ],
       "layout": "IPY_MODEL_e76857f8dd3f48eda7992981290e2377"
      }
     },
     "b710fd2dc475402ca0ccde80447981b4": {
      "model_module": "jupyter-js-widgets",
      "model_module_version": "~2.1.4",
      "model_name": "IntSliderModel",
      "state": {
       "_model_module_version": "~2.1.4",
       "_view_module_version": "~2.1.4",
       "description": "gasto_fijo_diario",
       "layout": "IPY_MODEL_e79d53f0db4c4048b1b2ef8e4e6486a4",
       "max": 1000,
       "min": 1,
       "step": 50,
       "style": "IPY_MODEL_609958a084e34795abd496915fa85712",
       "value": 100
      }
     },
     "b74ab670b1e24efd8dd0d61c976ebd19": {
      "model_module": "jupyter-js-widgets",
      "model_module_version": "~2.1.4",
      "model_name": "LayoutModel",
      "state": {
       "_model_module_version": "~2.1.4",
       "_view_module_version": "~2.1.4",
       "width": "100%"
      }
     },
     "b75b8204fb134c1d86c0888921d1d0e4": {
      "model_module": "jupyter-js-widgets",
      "model_module_version": "~2.1.4",
      "model_name": "FloatSliderModel",
      "state": {
       "_model_module_version": "~2.1.4",
       "_view_module_version": "~2.1.4",
       "description": "tasa_gasto_extra",
       "layout": "IPY_MODEL_5527108d50954962b7cd1edb64932010",
       "max": 1,
       "step": 0.01,
       "value": 0.3
      }
     },
     "b78eb17c39c1495481fd1dcfb788afe4": {
      "model_module": "jupyter-js-widgets",
      "model_module_version": "~2.1.4",
      "model_name": "LayoutModel",
      "state": {
       "_model_module_version": "~2.1.4",
       "_view_module_version": "~2.1.4",
       "width": "100%"
      }
     },
     "b7b1f22507ef4cc79fe620de70e1a5d6": {
      "model_module": "jupyter-js-widgets",
      "model_module_version": "~2.1.4",
      "model_name": "IntSliderModel",
      "state": {
       "_model_module_version": "~2.1.4",
       "_view_module_version": "~2.1.4",
       "description": "intervalo",
       "layout": "IPY_MODEL_bcb98ea1d5a94a07aba7aade1c133996",
       "max": 360,
       "min": 1,
       "step": 10,
       "style": "IPY_MODEL_9a78bf3b3a204201a89d42cbcfc779ae",
       "value": 30
      }
     },
     "b7b6e9ebc872480e83ae69faa007ade4": {
      "model_module": "jupyter-js-widgets",
      "model_module_version": "~2.1.4",
      "model_name": "LayoutModel",
      "state": {
       "_model_module_version": "~2.1.4",
       "_view_module_version": "~2.1.4",
       "width": "100%"
      }
     },
     "b7e4e3fc48a74ba0bd230129b6b8c919": {
      "model_module": "jupyter-js-widgets",
      "model_module_version": "~2.1.4",
      "model_name": "LayoutModel",
      "state": {
       "_model_module_version": "~2.1.4",
       "_view_module_version": "~2.1.4",
       "width": "100%"
      }
     },
     "b86428290a5d4c70a14d38e8f616302a": {
      "model_module": "jupyter-js-widgets",
      "model_module_version": "~2.1.4",
      "model_name": "FloatSliderModel",
      "state": {
       "_model_module_version": "~2.1.4",
       "_view_module_version": "~2.1.4",
       "description": "tasa_ahorro",
       "layout": "IPY_MODEL_cfc1cfcdcf9645849bdc8be52bad6aba",
       "max": 1,
       "step": 0.01,
       "value": 0.2
      }
     },
     "b8dea1a080f94c8092fb5ed17fa3ac77": {
      "model_module": "jupyter-js-widgets",
      "model_module_version": "~2.1.4",
      "model_name": "LayoutModel",
      "state": {
       "_model_module_version": "~2.1.4",
       "_view_module_version": "~2.1.4"
      }
     },
     "b8f3a3d5891047b69b962369c4441584": {
      "model_module": "jupyter-js-widgets",
      "model_module_version": "~2.1.4",
      "model_name": "FloatSliderModel",
      "state": {
       "_model_module_version": "~2.1.4",
       "_view_module_version": "~2.1.4",
       "description": "tasa_ahorro",
       "layout": "IPY_MODEL_6d794ebbe6f6473ba1df3cd1a30b536d",
       "max": 1,
       "step": 0.01,
       "value": 0.2
      }
     },
     "b90b2fd43a654c1bae0e6f49e6520267": {
      "model_module": "jupyter-js-widgets",
      "model_module_version": "~2.1.4",
      "model_name": "IntSliderModel",
      "state": {
       "_model_module_version": "~2.1.4",
       "_view_module_version": "~2.1.4",
       "description": "gasto_fijo_diario",
       "layout": "IPY_MODEL_3187f179b7f54a16831b5e14845f5b2f",
       "max": 1000,
       "min": 1,
       "step": 50,
       "style": "IPY_MODEL_b11022921d834671923e2678313af3ff",
       "value": 100
      }
     },
     "b9258151633149da9f7dd7a0db334811": {
      "model_module": "jupyter-js-widgets",
      "model_module_version": "~2.1.4",
      "model_name": "LayoutModel",
      "state": {
       "_model_module_version": "~2.1.4",
       "_view_module_version": "~2.1.4"
      }
     },
     "b945acde6e2d4dd6b748480ecc7ba972": {
      "model_module": "jupyter-js-widgets",
      "model_module_version": "~2.1.4",
      "model_name": "LayoutModel",
      "state": {
       "_model_module_version": "~2.1.4",
       "_view_module_version": "~2.1.4",
       "width": "100%"
      }
     },
     "b9cb44a197dd4354973dc7e598b26dc3": {
      "model_module": "jupyter-js-widgets",
      "model_module_version": "~2.1.4",
      "model_name": "LayoutModel",
      "state": {
       "_model_module_version": "~2.1.4",
       "_view_module_version": "~2.1.4",
       "width": "100%"
      }
     },
     "b9d01546a914413499042d64d7d0992f": {
      "model_module": "jupyter-js-widgets",
      "model_module_version": "~2.1.4",
      "model_name": "SliderStyleModel",
      "state": {
       "_model_module_version": "~2.1.4",
       "_view_module_version": "~2.1.4"
      }
     },
     "b9df0756b7cd4c6caf9c58cd911b856a": {
      "model_module": "jupyter-js-widgets",
      "model_module_version": "~2.1.4",
      "model_name": "LayoutModel",
      "state": {
       "_model_module_version": "~2.1.4",
       "_view_module_version": "~2.1.4",
       "width": "100%"
      }
     },
     "b9e08e9018484eeea24d9f8d03d39cd7": {
      "model_module": "jupyter-js-widgets",
      "model_module_version": "~2.1.4",
      "model_name": "SliderStyleModel",
      "state": {
       "_model_module_version": "~2.1.4",
       "_view_module_version": "~2.1.4"
      }
     },
     "b9e95731782148dd83d3cfb6f9e5dc93": {
      "model_module": "jupyter-js-widgets",
      "model_module_version": "~2.1.4",
      "model_name": "VBoxModel",
      "state": {
       "_dom_classes": [
        "widget-interact"
       ],
       "_model_module_version": "~2.1.4",
       "_view_module_version": "~2.1.4",
       "children": [
        "IPY_MODEL_556dc683e07b4aa9b9543c9bc803f753",
        "IPY_MODEL_113067202bb24cabbece529fc9ca4d23",
        "IPY_MODEL_943e879986bd4b32ae809b0973969363",
        "IPY_MODEL_bf0a67dab59f44c9b306a7742ac58dd7",
        "IPY_MODEL_b660c0db2eba4370990c1f45defb79c0",
        "IPY_MODEL_23758e58e9384463b4e1b5cfd1b43f1f",
        "IPY_MODEL_f0c081f4ab604a8393924cc3945b6bc0"
       ],
       "layout": "IPY_MODEL_0fa4827e0cee430a9cc5117a75facf84"
      }
     },
     "ba2860b453844a5aa9f4dc2a813538b4": {
      "model_module": "jupyter-js-widgets",
      "model_module_version": "~2.1.4",
      "model_name": "LayoutModel",
      "state": {
       "_model_module_version": "~2.1.4",
       "_view_module_version": "~2.1.4",
       "width": "100%"
      }
     },
     "ba404d8b08654442a215d73ede88a50c": {
      "model_module": "jupyter-js-widgets",
      "model_module_version": "~2.1.4",
      "model_name": "LayoutModel",
      "state": {
       "_model_module_version": "~2.1.4",
       "_view_module_version": "~2.1.4"
      }
     },
     "bac792eb883d48c1837b9f45be735265": {
      "model_module": "jupyter-js-widgets",
      "model_module_version": "~2.1.4",
      "model_name": "IntSliderModel",
      "state": {
       "_model_module_version": "~2.1.4",
       "_view_module_version": "~2.1.4",
       "description": "intervalo",
       "layout": "IPY_MODEL_e4dd0321ab8d44fabab4fd2275a87d6a",
       "max": 360,
       "min": 1,
       "step": 10,
       "style": "IPY_MODEL_06bc614edf374d58b3ceba3b97abf203",
       "value": 30
      }
     },
     "bb8d3a76e3dd44748f81164adb81ba56": {
      "model_module": "jupyter-js-widgets",
      "model_module_version": "~2.1.4",
      "model_name": "VBoxModel",
      "state": {
       "_dom_classes": [
        "widget-interact"
       ],
       "_model_module_version": "~2.1.4",
       "_view_module_version": "~2.1.4",
       "children": [
        "IPY_MODEL_702b23d35b60423f8d96a69c63319151",
        "IPY_MODEL_6499f49b93a948dfadc3e4ce880908eb",
        "IPY_MODEL_c1bbd09bbfb74e198454f7bca4ed8043",
        "IPY_MODEL_1ae81a4418c048d7891a2f95e4d44365",
        "IPY_MODEL_ef4710aeedaa439b87e81f44752b552a",
        "IPY_MODEL_1e1cc861ccaf46f683a380ee2363da35",
        "IPY_MODEL_07a67db7d5184e98b731eb946e35d63a",
        "IPY_MODEL_e3cbd71716ba4bedb887194cef36a11b"
       ],
       "layout": "IPY_MODEL_fae0d1e8ab59466c8da2550bcc1480f9"
      }
     },
     "bbb1265e5fe84ce38d8c3791f000fd7c": {
      "model_module": "jupyter-js-widgets",
      "model_module_version": "~2.1.4",
      "model_name": "LayoutModel",
      "state": {
       "_model_module_version": "~2.1.4",
       "_view_module_version": "~2.1.4"
      }
     },
     "bbe48c95b549449cb84a0803642534e0": {
      "model_module": "jupyter-js-widgets",
      "model_module_version": "~2.1.4",
      "model_name": "LayoutModel",
      "state": {
       "_model_module_version": "~2.1.4",
       "_view_module_version": "~2.1.4",
       "width": "100%"
      }
     },
     "bc1a0c9f1077484b81c9505f186b1e79": {
      "model_module": "jupyter-js-widgets",
      "model_module_version": "~2.1.4",
      "model_name": "LayoutModel",
      "state": {
       "_model_module_version": "~2.1.4",
       "_view_module_version": "~2.1.4",
       "width": "100%"
      }
     },
     "bc386c6b90ad478195b15013bae91d3b": {
      "model_module": "jupyter-js-widgets",
      "model_module_version": "~2.1.4",
      "model_name": "OutputModel",
      "state": {
       "_dom_classes": [],
       "_model_module": "jupyter-js-widgets",
       "_model_module_version": "~2.1.4",
       "_view_module": "jupyter-js-widgets",
       "_view_module_version": "~2.1.4",
       "layout": "IPY_MODEL_2bff5bf48e8647a88d0ffd7f0938149f",
       "msg_throttle": 1
      }
     },
     "bc5753a77dfd405abb285e2de021d366": {
      "model_module": "jupyter-js-widgets",
      "model_module_version": "~2.1.4",
      "model_name": "VBoxModel",
      "state": {
       "_dom_classes": [
        "widget-interact"
       ],
       "_model_module_version": "~2.1.4",
       "_view_module_version": "~2.1.4",
       "children": [
        "IPY_MODEL_118b3b462691439992d47582f16c60de",
        "IPY_MODEL_cb450ce8a89c411e80d47644fc110065",
        "IPY_MODEL_77ec03788f0147f989d2fc80870e0c58",
        "IPY_MODEL_c308a1d853af4d79b31ef6284ef7f938",
        "IPY_MODEL_fa27ba9103a94562ae521e165ab4bfbb",
        "IPY_MODEL_0734f7e7ef8b4d5e95546c53a173c54e",
        "IPY_MODEL_ac2c90756753469babc2188312e092b1",
        "IPY_MODEL_e67208e8e91749b69c53a4c2c3ed2579"
       ],
       "layout": "IPY_MODEL_86865b010f544386ae7e375e16e6c88f"
      }
     },
     "bcb98ea1d5a94a07aba7aade1c133996": {
      "model_module": "jupyter-js-widgets",
      "model_module_version": "~2.1.4",
      "model_name": "LayoutModel",
      "state": {
       "_model_module_version": "~2.1.4",
       "_view_module_version": "~2.1.4",
       "width": "100%"
      }
     },
     "bcc1e246b8bd437ba90b47540ab23b68": {
      "model_module": "jupyter-js-widgets",
      "model_module_version": "~2.1.4",
      "model_name": "LayoutModel",
      "state": {
       "_model_module_version": "~2.1.4",
       "_view_module_version": "~2.1.4"
      }
     },
     "bd2957e4133940639a5db9af0beb460f": {
      "model_module": "jupyter-js-widgets",
      "model_module_version": "~2.1.4",
      "model_name": "LayoutModel",
      "state": {
       "_model_module_version": "~2.1.4",
       "_view_module_version": "~2.1.4",
       "width": "100%"
      }
     },
     "bd6160be82394ac480a792cee57d7159": {
      "model_module": "jupyter-js-widgets",
      "model_module_version": "~2.1.4",
      "model_name": "FloatSliderModel",
      "state": {
       "_model_module_version": "~2.1.4",
       "_view_module_version": "~2.1.4",
       "description": "tasa_gasto_extra",
       "layout": "IPY_MODEL_1d8bc379fcc647ca9ba5902bb0e6c80a",
       "max": 1,
       "step": 0.01,
       "value": 0.3
      }
     },
     "bd77e2b480ff4615bee7509d2e9c7537": {
      "model_module": "jupyter-js-widgets",
      "model_module_version": "~2.1.4",
      "model_name": "IntSliderModel",
      "state": {
       "_model_module_version": "~2.1.4",
       "_view_module_version": "~2.1.4",
       "description": "k",
       "layout": "IPY_MODEL_06ae34398e0b461084bb5334cc6eb65d",
       "max": 1,
       "step": 0,
       "style": "IPY_MODEL_9e573af4d9234cf589502f6cb91d8bed"
      }
     },
     "be375ea6b34b438f8bd17b4363a4d3b4": {
      "model_module": "jupyter-js-widgets",
      "model_module_version": "~2.1.4",
      "model_name": "LayoutModel",
      "state": {
       "_model_module_version": "~2.1.4",
       "_view_module_version": "~2.1.4",
       "width": "100%"
      }
     },
     "be4b707849254ce69b73234152d5b734": {
      "model_module": "jupyter-js-widgets",
      "model_module_version": "~2.1.4",
      "model_name": "FloatSliderModel",
      "state": {
       "_model_module_version": "~2.1.4",
       "_view_module_version": "~2.1.4",
       "description": "paso",
       "layout": "IPY_MODEL_f89a4235b5cb49299e7d1f1b853b1eca",
       "max": 1,
       "step": 0.01,
       "value": 0.1
      }
     },
     "be8354a54749432cba02e6a770b2899e": {
      "model_module": "jupyter-js-widgets",
      "model_module_version": "~2.1.4",
      "model_name": "LayoutModel",
      "state": {
       "_model_module_version": "~2.1.4",
       "_view_module_version": "~2.1.4"
      }
     },
     "be9c3949841b4fe587e81202a2584c30": {
      "model_module": "jupyter-js-widgets",
      "model_module_version": "~2.1.4",
      "model_name": "SliderStyleModel",
      "state": {
       "_model_module_version": "~2.1.4",
       "_view_module_version": "~2.1.4"
      }
     },
     "beec4ed41b4a4e12a234bbbca13cd111": {
      "model_module": "jupyter-js-widgets",
      "model_module_version": "~2.1.4",
      "model_name": "OutputModel",
      "state": {
       "_dom_classes": [],
       "_model_module": "jupyter-js-widgets",
       "_model_module_version": "~2.1.4",
       "_view_module": "jupyter-js-widgets",
       "_view_module_version": "~2.1.4",
       "layout": "IPY_MODEL_c0c4b4ed768c4634b50cfb8547a4ecf4",
       "msg_throttle": 1
      }
     },
     "befbed7a863a452f95a2dea20b1cd9a1": {
      "model_module": "jupyter-js-widgets",
      "model_module_version": "~2.1.4",
      "model_name": "IntSliderModel",
      "state": {
       "_model_module_version": "~2.1.4",
       "_view_module_version": "~2.1.4",
       "description": "sueldo_inicial",
       "layout": "IPY_MODEL_aa7cb527590c403fbba374aad4854158",
       "max": 25000,
       "step": 500,
       "style": "IPY_MODEL_ce6ebb17244b4b4a9622715de7ff039f",
       "value": 15000
      }
     },
     "bf0a67dab59f44c9b306a7742ac58dd7": {
      "model_module": "jupyter-js-widgets",
      "model_module_version": "~2.1.4",
      "model_name": "IntSliderModel",
      "state": {
       "_model_module_version": "~2.1.4",
       "_view_module_version": "~2.1.4",
       "description": "gasto_fijo_diario",
       "layout": "IPY_MODEL_2015191ff1c14f659f7d0dab0568ca75",
       "max": 1000,
       "min": 1,
       "step": 50,
       "style": "IPY_MODEL_df71e762744645d899ac270e56044d78",
       "value": 100
      }
     },
     "bf680b721aa04fef9bf83dfb32e053aa": {
      "model_module": "jupyter-js-widgets",
      "model_module_version": "~2.1.4",
      "model_name": "LayoutModel",
      "state": {
       "_model_module_version": "~2.1.4",
       "_view_module_version": "~2.1.4",
       "width": "100%"
      }
     },
     "bfd4020dc7754eb0b2200b22df2c6fdc": {
      "model_module": "jupyter-js-widgets",
      "model_module_version": "~2.1.4",
      "model_name": "SliderStyleModel",
      "state": {
       "_model_module_version": "~2.1.4",
       "_view_module_version": "~2.1.4"
      }
     },
     "bfeb713885114534ae1adcb58334210c": {
      "model_module": "jupyter-js-widgets",
      "model_module_version": "~2.1.4",
      "model_name": "FloatSliderModel",
      "state": {
       "_model_module_version": "~2.1.4",
       "_view_module_version": "~2.1.4",
       "description": "paso",
       "layout": "IPY_MODEL_3a9c07a0d18f45e0b9545fe86ca2f50b",
       "max": 1,
       "step": 0.01,
       "value": 0.1
      }
     },
     "bff3d6ee0eaf4068925d7baaa9fe851a": {
      "model_module": "jupyter-js-widgets",
      "model_module_version": "~2.1.4",
      "model_name": "SliderStyleModel",
      "state": {
       "_model_module_version": "~2.1.4",
       "_view_module_version": "~2.1.4"
      }
     },
     "bfff11ba2793451288d100f216518a54": {
      "model_module": "jupyter-js-widgets",
      "model_module_version": "~2.1.4",
      "model_name": "IntSliderModel",
      "state": {
       "_model_module_version": "~2.1.4",
       "_view_module_version": "~2.1.4",
       "description": "gasto_fijo_diario",
       "layout": "IPY_MODEL_f4a1e53bc9ce46b6b73d4a547044282b",
       "max": 1000,
       "min": 1,
       "step": 50,
       "style": "IPY_MODEL_95a31caabc724fb6b8972643f8de79d2",
       "value": 100
      }
     },
     "c008cffee04d483fa549ac15d1fb4355": {
      "model_module": "jupyter-js-widgets",
      "model_module_version": "~2.1.4",
      "model_name": "IntSliderModel",
      "state": {
       "_model_module_version": "~2.1.4",
       "_view_module_version": "~2.1.4",
       "description": "intervalo",
       "layout": "IPY_MODEL_b78eb17c39c1495481fd1dcfb788afe4",
       "max": 360,
       "min": 1,
       "step": 10,
       "style": "IPY_MODEL_446f4916c28f40faa7e2d6a74ef907ab",
       "value": 30
      }
     },
     "c053e6718f2943f8928b9081dc92baca": {
      "model_module": "jupyter-js-widgets",
      "model_module_version": "~2.1.4",
      "model_name": "SliderStyleModel",
      "state": {
       "_model_module_version": "~2.1.4",
       "_view_module_version": "~2.1.4"
      }
     },
     "c05863d1e3f5434f8742f7fe4e8b3df3": {
      "model_module": "jupyter-js-widgets",
      "model_module_version": "~2.1.4",
      "model_name": "LayoutModel",
      "state": {
       "_model_module_version": "~2.1.4",
       "_view_module_version": "~2.1.4",
       "width": "100%"
      }
     },
     "c0918fabce0f476f9fd23b88c60ef05e": {
      "model_module": "jupyter-js-widgets",
      "model_module_version": "~2.1.4",
      "model_name": "LayoutModel",
      "state": {
       "_model_module_version": "~2.1.4",
       "_view_module_version": "~2.1.4",
       "width": "100%"
      }
     },
     "c0c2f093066843b5bf76563b2dc62b13": {
      "model_module": "jupyter-js-widgets",
      "model_module_version": "~2.1.4",
      "model_name": "SliderStyleModel",
      "state": {
       "_model_module_version": "~2.1.4",
       "_view_module_version": "~2.1.4"
      }
     },
     "c0c4b4ed768c4634b50cfb8547a4ecf4": {
      "model_module": "jupyter-js-widgets",
      "model_module_version": "~2.1.4",
      "model_name": "LayoutModel",
      "state": {
       "_model_module_version": "~2.1.4",
       "_view_module_version": "~2.1.4"
      }
     },
     "c0cba5409d9d497d823288e0ff76d8a4": {
      "model_module": "jupyter-js-widgets",
      "model_module_version": "~2.1.4",
      "model_name": "LayoutModel",
      "state": {
       "_model_module_version": "~2.1.4",
       "_view_module_version": "~2.1.4",
       "width": "100%"
      }
     },
     "c104e28318914806bc096eb1a2fc15a2": {
      "model_module": "jupyter-js-widgets",
      "model_module_version": "~2.1.4",
      "model_name": "LayoutModel",
      "state": {
       "_model_module_version": "~2.1.4",
       "_view_module_version": "~2.1.4"
      }
     },
     "c10ab1d33675417788465d4e3837281d": {
      "model_module": "jupyter-js-widgets",
      "model_module_version": "~2.1.4",
      "model_name": "IntSliderModel",
      "state": {
       "_model_module_version": "~2.1.4",
       "_view_module_version": "~2.1.4",
       "description": "dias",
       "layout": "IPY_MODEL_c79d6b7ccd0542d6bc12d8af6b69a043",
       "max": 360,
       "min": 1,
       "step": 10,
       "style": "IPY_MODEL_aab16590cfcc4a22be65043d42118914",
       "value": 30
      }
     },
     "c116576fb2a343c3ae8845d44ddd9a03": {
      "model_module": "jupyter-js-widgets",
      "model_module_version": "~2.1.4",
      "model_name": "LayoutModel",
      "state": {
       "_model_module_version": "~2.1.4",
       "_view_module_version": "~2.1.4",
       "width": "100%"
      }
     },
     "c12390441395470981ff23214e05973e": {
      "model_module": "jupyter-js-widgets",
      "model_module_version": "~2.1.4",
      "model_name": "IntSliderModel",
      "state": {
       "_model_module_version": "~2.1.4",
       "_view_module_version": "~2.1.4",
       "description": "dias",
       "layout": "IPY_MODEL_d65c2072a00c4a89af5dc5f9b013cbcd",
       "max": 360,
       "min": 1,
       "step": 10,
       "style": "IPY_MODEL_6eb66b72b39f406c8447bd318c3e60b5",
       "value": 60
      }
     },
     "c12c5f33d6cc497398a1c1f16c4e0a14": {
      "model_module": "jupyter-js-widgets",
      "model_module_version": "~2.1.4",
      "model_name": "VBoxModel",
      "state": {
       "_dom_classes": [
        "widget-interact"
       ],
       "_model_module_version": "~2.1.4",
       "_view_module_version": "~2.1.4",
       "children": [
        "IPY_MODEL_98f8a1bd08ad4e4d9db73eefacf9f956",
        "IPY_MODEL_4668e81c73024155ae3f67e6f078d70d",
        "IPY_MODEL_1251cd18206347ffad4f3d7f214bb287",
        "IPY_MODEL_b90b2fd43a654c1bae0e6f49e6520267",
        "IPY_MODEL_ada2080875da4702b9383fac8c578f3f",
        "IPY_MODEL_85b7e564be964a9bb91bdada21b391c1",
        "IPY_MODEL_a4f7f2ff16124c0abca7485ac6e17187",
        "IPY_MODEL_8af9e2e7fe014a67bf0fc0a01830c415"
       ],
       "layout": "IPY_MODEL_542ecb01af4e4161a0636aee3876ded8"
      }
     },
     "c1bbd09bbfb74e198454f7bca4ed8043": {
      "model_module": "jupyter-js-widgets",
      "model_module_version": "~2.1.4",
      "model_name": "FloatSliderModel",
      "state": {
       "_model_module_version": "~2.1.4",
       "_view_module_version": "~2.1.4",
       "description": "tasa_gasto_extra",
       "layout": "IPY_MODEL_e23a03dabe744e949e227266a5495971",
       "max": 1,
       "step": 0.01,
       "value": 0.3
      }
     },
     "c1f5df527c76497eb4063116084e5350": {
      "model_module": "jupyter-js-widgets",
      "model_module_version": "~2.1.4",
      "model_name": "FloatSliderModel",
      "state": {
       "_model_module_version": "~2.1.4",
       "_view_module_version": "~2.1.4",
       "description": "tasa_ahorro",
       "layout": "IPY_MODEL_364de3a9b21a426d92f162b81a9436f2",
       "max": 1,
       "step": 0.01,
       "value": 0.2
      }
     },
     "c1fd53175d8546a4b03fe316bdff1a99": {
      "model_module": "jupyter-js-widgets",
      "model_module_version": "~2.1.4",
      "model_name": "LayoutModel",
      "state": {
       "_model_module_version": "~2.1.4",
       "_view_module_version": "~2.1.4",
       "width": "100%"
      }
     },
     "c204e21f61fa4edcad5002512746d49a": {
      "model_module": "jupyter-js-widgets",
      "model_module_version": "~2.1.4",
      "model_name": "IntSliderModel",
      "state": {
       "_model_module_version": "~2.1.4",
       "_view_module_version": "~2.1.4",
       "description": "dias",
       "layout": "IPY_MODEL_4acd50072f19465abf6f446b3ee904e9",
       "max": 360,
       "min": 1,
       "step": 10,
       "style": "IPY_MODEL_84ee7802c5b8457d820e7afe13323c4d",
       "value": 30
      }
     },
     "c226f192b7d141b1be79c23046a78926": {
      "model_module": "jupyter-js-widgets",
      "model_module_version": "~2.1.4",
      "model_name": "OutputModel",
      "state": {
       "_dom_classes": [],
       "_model_module": "jupyter-js-widgets",
       "_model_module_version": "~2.1.4",
       "_view_module": "jupyter-js-widgets",
       "_view_module_version": "~2.1.4",
       "layout": "IPY_MODEL_cd26c6c1b1fa4dca9e8efeb23d1fffcd",
       "msg_throttle": 1
      }
     },
     "c23afa5c8377477fb647d786f562979c": {
      "model_module": "jupyter-js-widgets",
      "model_module_version": "~2.1.4",
      "model_name": "IntSliderModel",
      "state": {
       "_model_module_version": "~2.1.4",
       "_view_module_version": "~2.1.4",
       "description": "gasto_fijo_diario",
       "layout": "IPY_MODEL_f1e9a960cf8e4eb7b84db7da0b3278c3",
       "max": 1000,
       "min": 1,
       "step": 50,
       "style": "IPY_MODEL_61db789ae03f4b0ebaee8468af6b6932",
       "value": 100
      }
     },
     "c246a74d5d474640b7356430725522b7": {
      "model_module": "jupyter-js-widgets",
      "model_module_version": "~2.1.4",
      "model_name": "LayoutModel",
      "state": {
       "_model_module_version": "~2.1.4",
       "_view_module_version": "~2.1.4"
      }
     },
     "c2f70cd86a3941c2bb079262bbabedb9": {
      "model_module": "jupyter-js-widgets",
      "model_module_version": "~2.1.4",
      "model_name": "LayoutModel",
      "state": {
       "_model_module_version": "~2.1.4",
       "_view_module_version": "~2.1.4",
       "width": "100%"
      }
     },
     "c308a1d853af4d79b31ef6284ef7f938": {
      "model_module": "jupyter-js-widgets",
      "model_module_version": "~2.1.4",
      "model_name": "IntSliderModel",
      "state": {
       "_model_module_version": "~2.1.4",
       "_view_module_version": "~2.1.4",
       "description": "gasto_fijo_diario",
       "layout": "IPY_MODEL_1e8fbfa738d540d9b6a5f4913a77a8b4",
       "max": 1000,
       "min": 1,
       "step": 50,
       "style": "IPY_MODEL_443b4dda4b5b42d5a842b16811f368bd",
       "value": 100
      }
     },
     "c316977dfaa84df089540fa39fb475d3": {
      "model_module": "jupyter-js-widgets",
      "model_module_version": "~2.1.4",
      "model_name": "LayoutModel",
      "state": {
       "_model_module_version": "~2.1.4",
       "_view_module_version": "~2.1.4",
       "width": "100%"
      }
     },
     "c3385e707e93493a98def8be215f66c0": {
      "model_module": "jupyter-js-widgets",
      "model_module_version": "~2.1.4",
      "model_name": "LayoutModel",
      "state": {
       "_model_module_version": "~2.1.4",
       "_view_module_version": "~2.1.4"
      }
     },
     "c34dccb75a174a208360a363e0b84590": {
      "model_module": "jupyter-js-widgets",
      "model_module_version": "~2.1.4",
      "model_name": "LayoutModel",
      "state": {
       "_model_module_version": "~2.1.4",
       "_view_module_version": "~2.1.4",
       "width": "100%"
      }
     },
     "c3cc4e66b3694b049a80917b0b1c30d5": {
      "model_module": "jupyter-js-widgets",
      "model_module_version": "~2.1.4",
      "model_name": "SliderStyleModel",
      "state": {
       "_model_module_version": "~2.1.4",
       "_view_module_version": "~2.1.4"
      }
     },
     "c3eedddff62a4d2d895e579129b02496": {
      "model_module": "jupyter-js-widgets",
      "model_module_version": "~2.1.4",
      "model_name": "LayoutModel",
      "state": {
       "_model_module_version": "~2.1.4",
       "_view_module_version": "~2.1.4",
       "width": "100%"
      }
     },
     "c411bac4a68f4fe888e9112a0f0c5755": {
      "model_module": "jupyter-js-widgets",
      "model_module_version": "~2.1.4",
      "model_name": "LayoutModel",
      "state": {
       "_model_module_version": "~2.1.4",
       "_view_module_version": "~2.1.4",
       "width": "100%"
      }
     },
     "c45b9ca7baee43c091764188b05121c6": {
      "model_module": "jupyter-js-widgets",
      "model_module_version": "~2.1.4",
      "model_name": "IntSliderModel",
      "state": {
       "_model_module_version": "~2.1.4",
       "_view_module_version": "~2.1.4",
       "description": "gasto_fijo_diario",
       "layout": "IPY_MODEL_48e3a868100c44868c4735ed10352d9b",
       "max": 1000,
       "min": 1,
       "step": 50,
       "style": "IPY_MODEL_20968fc472f74743b74f32d40a05a123",
       "value": 100
      }
     },
     "c47a4cfe29a447a8a3e8b0e7b9fe082d": {
      "model_module": "jupyter-js-widgets",
      "model_module_version": "~2.1.4",
      "model_name": "SliderStyleModel",
      "state": {
       "_model_module_version": "~2.1.4",
       "_view_module_version": "~2.1.4"
      }
     },
     "c4b06df321ec49e68e32282fa7a65ba3": {
      "model_module": "jupyter-js-widgets",
      "model_module_version": "~2.1.4",
      "model_name": "SliderStyleModel",
      "state": {
       "_model_module_version": "~2.1.4",
       "_view_module_version": "~2.1.4"
      }
     },
     "c4dd391213e0491e9f7ee06aa333aef8": {
      "model_module": "jupyter-js-widgets",
      "model_module_version": "~2.1.4",
      "model_name": "IntSliderModel",
      "state": {
       "_model_module_version": "~2.1.4",
       "_view_module_version": "~2.1.4",
       "description": "gasto_fijo_diario",
       "layout": "IPY_MODEL_6fdb8f445fcf4d5f934d888ac5788318",
       "max": 1000,
       "min": 1,
       "step": 50,
       "style": "IPY_MODEL_b2fbb1f5ac2b47eaa737914f881b405c",
       "value": 100
      }
     },
     "c543f9f4a1874d1bb0173603c0f31d61": {
      "model_module": "jupyter-js-widgets",
      "model_module_version": "~2.1.4",
      "model_name": "LayoutModel",
      "state": {
       "_model_module_version": "~2.1.4",
       "_view_module_version": "~2.1.4",
       "width": "100%"
      }
     },
     "c58e7906fd6b48c0b75def4e7d883c2b": {
      "model_module": "jupyter-js-widgets",
      "model_module_version": "~2.1.4",
      "model_name": "FloatSliderModel",
      "state": {
       "_model_module_version": "~2.1.4",
       "_view_module_version": "~2.1.4",
       "description": "paso",
       "layout": "IPY_MODEL_f3301adf177a47939bf653b096b538c8",
       "max": 1,
       "step": 0.01,
       "value": 0.1
      }
     },
     "c5bfe6351116498da5493d77b00f9f1f": {
      "model_module": "jupyter-js-widgets",
      "model_module_version": "~2.1.4",
      "model_name": "LayoutModel",
      "state": {
       "_model_module_version": "~2.1.4",
       "_view_module_version": "~2.1.4",
       "width": "100%"
      }
     },
     "c5f33c1c43d845bf85bdc1a284c7ffbb": {
      "model_module": "jupyter-js-widgets",
      "model_module_version": "~2.1.4",
      "model_name": "VBoxModel",
      "state": {
       "_dom_classes": [
        "widget-interact"
       ],
       "_model_module_version": "~2.1.4",
       "_view_module_version": "~2.1.4",
       "children": [
        "IPY_MODEL_f2d0961d6c4c470487665c9a5ebb888d",
        "IPY_MODEL_0b80716716ca4262a1bb878edfe774e6",
        "IPY_MODEL_5b991afeb69448baa9dd008ad88823f3",
        "IPY_MODEL_b6782b3061f444fe9eb524c92dd851f1",
        "IPY_MODEL_820a4cf720514038bdf3971368bcef32",
        "IPY_MODEL_150aa620eb1e4e9697ee8d36b1eb53dc",
        "IPY_MODEL_723091c87e3a49dcbd7baf363d79a0e0"
       ],
       "layout": "IPY_MODEL_29d01d9ce51a4893991bcd893c13f2d2"
      }
     },
     "c6217591f20947ac8f37ac964ed65796": {
      "model_module": "jupyter-js-widgets",
      "model_module_version": "~2.1.4",
      "model_name": "SliderStyleModel",
      "state": {
       "_model_module_version": "~2.1.4",
       "_view_module_version": "~2.1.4"
      }
     },
     "c642358d06df48d2997996baae1a066e": {
      "model_module": "jupyter-js-widgets",
      "model_module_version": "~2.1.4",
      "model_name": "LayoutModel",
      "state": {
       "_model_module_version": "~2.1.4",
       "_view_module_version": "~2.1.4",
       "width": "100%"
      }
     },
     "c6812dbb9833408db19fe050ff6fcd5e": {
      "model_module": "jupyter-js-widgets",
      "model_module_version": "~2.1.4",
      "model_name": "IntSliderModel",
      "state": {
       "_model_module_version": "~2.1.4",
       "_view_module_version": "~2.1.4",
       "description": "gasto_fijo_diario",
       "layout": "IPY_MODEL_6fc2ec671d33461ab158d225a167ed3f",
       "max": 1000,
       "min": 1,
       "step": 50,
       "style": "IPY_MODEL_322f42a083994540b4120fcba3d419b8",
       "value": 100
      }
     },
     "c68a27bece884bcca7aa7eb341a62046": {
      "model_module": "jupyter-js-widgets",
      "model_module_version": "~2.1.4",
      "model_name": "OutputModel",
      "state": {
       "_dom_classes": [],
       "_model_module": "jupyter-js-widgets",
       "_model_module_version": "~2.1.4",
       "_view_module": "jupyter-js-widgets",
       "_view_module_version": "~2.1.4",
       "layout": "IPY_MODEL_b5daefaf0e09442580560a422fb6e935",
       "msg_throttle": 1
      }
     },
     "c68ca10de52d4092a2e6d75c031fbcd5": {
      "model_module": "jupyter-js-widgets",
      "model_module_version": "~2.1.4",
      "model_name": "LayoutModel",
      "state": {
       "_model_module_version": "~2.1.4",
       "_view_module_version": "~2.1.4",
       "width": "100%"
      }
     },
     "c6f0f435eb9b494d8c01815848a311aa": {
      "model_module": "jupyter-js-widgets",
      "model_module_version": "~2.1.4",
      "model_name": "SliderStyleModel",
      "state": {
       "_model_module_version": "~2.1.4",
       "_view_module_version": "~2.1.4"
      }
     },
     "c728028ff4404c249b6611b5425169e2": {
      "model_module": "jupyter-js-widgets",
      "model_module_version": "~2.1.4",
      "model_name": "LayoutModel",
      "state": {
       "_model_module_version": "~2.1.4",
       "_view_module_version": "~2.1.4",
       "width": "100%"
      }
     },
     "c7540a085fd6421c8cd257661dce7961": {
      "model_module": "jupyter-js-widgets",
      "model_module_version": "~2.1.4",
      "model_name": "FloatSliderModel",
      "state": {
       "_model_module_version": "~2.1.4",
       "_view_module_version": "~2.1.4",
       "description": "tasa_ahorro",
       "layout": "IPY_MODEL_882ac1cfb1ae4e2fa26d37639300084f",
       "max": 1,
       "step": 0.01,
       "value": 0.2
      }
     },
     "c770aa2e90fa4931886f0544446b8886": {
      "model_module": "jupyter-js-widgets",
      "model_module_version": "~2.1.4",
      "model_name": "SliderStyleModel",
      "state": {
       "_model_module_version": "~2.1.4",
       "_view_module_version": "~2.1.4"
      }
     },
     "c77342618b864a05b4a6c34c850b7304": {
      "model_module": "jupyter-js-widgets",
      "model_module_version": "~2.1.4",
      "model_name": "LayoutModel",
      "state": {
       "_model_module_version": "~2.1.4",
       "_view_module_version": "~2.1.4"
      }
     },
     "c78a1e31ee7e45f38fd4703198b9bc66": {
      "model_module": "jupyter-js-widgets",
      "model_module_version": "~2.1.4",
      "model_name": "LayoutModel",
      "state": {
       "_model_module_version": "~2.1.4",
       "_view_module_version": "~2.1.4",
       "width": "100%"
      }
     },
     "c79d6b7ccd0542d6bc12d8af6b69a043": {
      "model_module": "jupyter-js-widgets",
      "model_module_version": "~2.1.4",
      "model_name": "LayoutModel",
      "state": {
       "_model_module_version": "~2.1.4",
       "_view_module_version": "~2.1.4",
       "width": "100%"
      }
     },
     "c7e1b02adcdb43a4887400d2987b4622": {
      "model_module": "jupyter-js-widgets",
      "model_module_version": "~2.1.4",
      "model_name": "IntSliderModel",
      "state": {
       "_model_module_version": "~2.1.4",
       "_view_module_version": "~2.1.4",
       "description": "gasto_fijo_diario",
       "layout": "IPY_MODEL_28371cd33393430e89860305e9d2bc85",
       "max": 1000,
       "min": 1,
       "step": 50,
       "style": "IPY_MODEL_7684deddae14435bac3225f5844342b0",
       "value": 100
      }
     },
     "c7fd34f2030d40cf8a707d4eaea5c0d3": {
      "model_module": "jupyter-js-widgets",
      "model_module_version": "~2.1.4",
      "model_name": "SliderStyleModel",
      "state": {
       "_model_module_version": "~2.1.4",
       "_view_module_version": "~2.1.4"
      }
     },
     "c8089b7402254b2c8e60ee44fe922cf3": {
      "model_module": "jupyter-js-widgets",
      "model_module_version": "~2.1.4",
      "model_name": "LayoutModel",
      "state": {
       "_model_module_version": "~2.1.4",
       "_view_module_version": "~2.1.4"
      }
     },
     "c8409172fb7a45e7b03aa95a6a9d7331": {
      "model_module": "jupyter-js-widgets",
      "model_module_version": "~2.1.4",
      "model_name": "LayoutModel",
      "state": {
       "_model_module_version": "~2.1.4",
       "_view_module_version": "~2.1.4",
       "width": "100%"
      }
     },
     "c8a124e0b7754c2d8722471e6daa1fda": {
      "model_module": "jupyter-js-widgets",
      "model_module_version": "~2.1.4",
      "model_name": "LayoutModel",
      "state": {
       "_model_module_version": "~2.1.4",
       "_view_module_version": "~2.1.4",
       "width": "100%"
      }
     },
     "c8b7051c77064300addc953f0ced07dd": {
      "model_module": "jupyter-js-widgets",
      "model_module_version": "~2.1.4",
      "model_name": "LayoutModel",
      "state": {
       "_model_module_version": "~2.1.4",
       "_view_module_version": "~2.1.4",
       "width": "100%"
      }
     },
     "c8f0b21a818e42e498033cddc1c01eb5": {
      "model_module": "jupyter-js-widgets",
      "model_module_version": "~2.1.4",
      "model_name": "LayoutModel",
      "state": {
       "_model_module_version": "~2.1.4",
       "_view_module_version": "~2.1.4",
       "width": "100%"
      }
     },
     "c9328a20b22e4fa9a3ff96d04e6abd7c": {
      "model_module": "jupyter-js-widgets",
      "model_module_version": "~2.1.4",
      "model_name": "LayoutModel",
      "state": {
       "_model_module_version": "~2.1.4",
       "_view_module_version": "~2.1.4",
       "width": "100%"
      }
     },
     "c93437c554d04b9b8f1d9a466e494bee": {
      "model_module": "jupyter-js-widgets",
      "model_module_version": "~2.1.4",
      "model_name": "SliderStyleModel",
      "state": {
       "_model_module_version": "~2.1.4",
       "_view_module_version": "~2.1.4"
      }
     },
     "c96fadb65c324bdda8f78507fa66d862": {
      "model_module": "jupyter-js-widgets",
      "model_module_version": "~2.1.4",
      "model_name": "IntSliderModel",
      "state": {
       "_model_module_version": "~2.1.4",
       "_view_module_version": "~2.1.4",
       "description": "dias",
       "layout": "IPY_MODEL_e24695906b6d4dbaab20a1fffa32a6ec",
       "max": 360,
       "min": 1,
       "step": 10,
       "style": "IPY_MODEL_c770aa2e90fa4931886f0544446b8886",
       "value": 60
      }
     },
     "c98c7abcc5244c1fac460bce77f613de": {
      "model_module": "jupyter-js-widgets",
      "model_module_version": "~2.1.4",
      "model_name": "IntSliderModel",
      "state": {
       "_model_module_version": "~2.1.4",
       "_view_module_version": "~2.1.4",
       "description": "intervalo",
       "layout": "IPY_MODEL_f3022686c0e04ec28d2ec32ad5222868",
       "max": 360,
       "min": 1,
       "step": 10,
       "style": "IPY_MODEL_5ae5de56d56842239a85f7a802425360",
       "value": 30
      }
     },
     "c9b5edc0f4ca41fdb213cbd3ed9c12c6": {
      "model_module": "jupyter-js-widgets",
      "model_module_version": "~2.1.4",
      "model_name": "VBoxModel",
      "state": {
       "_dom_classes": [
        "widget-interact"
       ],
       "_model_module_version": "~2.1.4",
       "_view_module_version": "~2.1.4",
       "children": [
        "IPY_MODEL_f6747b561eca4c109285566b4786e61b",
        "IPY_MODEL_14cda01bfa78495692209f9803866ac0",
        "IPY_MODEL_3a6625b6dc1c4eab8f32198a6928956f",
        "IPY_MODEL_6dc46afb18f54c62a49959f2cf7e13ae",
        "IPY_MODEL_162768b314c04365961137f7b16496ad",
        "IPY_MODEL_8dfced2629ad46eab4f32edaf613a269",
        "IPY_MODEL_894e68f4a1e64b8e96d68cc3e71f0769",
        "IPY_MODEL_f93a6e8f79264972bca6669a4cd5555b"
       ],
       "layout": "IPY_MODEL_99337dc95e644f8099caab0d31437ccb"
      }
     },
     "c9cdd059493544c1be7112801de74783": {
      "model_module": "jupyter-js-widgets",
      "model_module_version": "~2.1.4",
      "model_name": "IntSliderModel",
      "state": {
       "_model_module_version": "~2.1.4",
       "_view_module_version": "~2.1.4",
       "description": "gasto_fijo_diario",
       "layout": "IPY_MODEL_ec79cdd59dca46c186cd8ddbbfb4d6f6",
       "max": 1000,
       "min": 1,
       "step": 50,
       "style": "IPY_MODEL_7e0159e7e73b48ce91a02068ba1cc8e3",
       "value": 100
      }
     },
     "c9ceb76b871e4626a5cdb1df438e0d70": {
      "model_module": "jupyter-js-widgets",
      "model_module_version": "~2.1.4",
      "model_name": "LayoutModel",
      "state": {
       "_model_module_version": "~2.1.4",
       "_view_module_version": "~2.1.4",
       "width": "100%"
      }
     },
     "ca08fea17a904b9ca46ee0c56d557ee9": {
      "model_module": "jupyter-js-widgets",
      "model_module_version": "~2.1.4",
      "model_name": "FloatSliderModel",
      "state": {
       "_model_module_version": "~2.1.4",
       "_view_module_version": "~2.1.4",
       "description": "tasa_gasto_extra",
       "layout": "IPY_MODEL_4e97a6b8cf964f9aa880427aba1d0983",
       "max": 1,
       "step": 0.01,
       "value": 0.3
      }
     },
     "ca892381a15940bb82999ba77d631e2e": {
      "model_module": "jupyter-js-widgets",
      "model_module_version": "~2.1.4",
      "model_name": "LayoutModel",
      "state": {
       "_model_module_version": "~2.1.4",
       "_view_module_version": "~2.1.4",
       "width": "100%"
      }
     },
     "caad949d5bd246c6bff54c82082fb378": {
      "model_module": "jupyter-js-widgets",
      "model_module_version": "~2.1.4",
      "model_name": "LayoutModel",
      "state": {
       "_model_module_version": "~2.1.4",
       "_view_module_version": "~2.1.4",
       "width": "100%"
      }
     },
     "cacab7208d22443fa9b4dde9ead7da23": {
      "model_module": "jupyter-js-widgets",
      "model_module_version": "~2.1.4",
      "model_name": "LayoutModel",
      "state": {
       "_model_module_version": "~2.1.4",
       "_view_module_version": "~2.1.4"
      }
     },
     "cacd312ee85440e99abe3eb19e2e0d8a": {
      "model_module": "jupyter-js-widgets",
      "model_module_version": "~2.1.4",
      "model_name": "VBoxModel",
      "state": {
       "_dom_classes": [
        "widget-interact"
       ],
       "_model_module_version": "~2.1.4",
       "_view_module_version": "~2.1.4",
       "children": [
        "IPY_MODEL_445756eca64e45138d5574ab42b5bf60",
        "IPY_MODEL_cd48599fb6dc45f3872c741bcb7a088a",
        "IPY_MODEL_a769c5cdd5ef4ff2ad83a2392aae0998",
        "IPY_MODEL_ff8537dc8d2e439d938a5d62748b7d12",
        "IPY_MODEL_ec25fa6aa412431180dc50a8c56f2bbf",
        "IPY_MODEL_a82ab8db5ded44e2a3148b9679418d97",
        "IPY_MODEL_bfeb713885114534ae1adcb58334210c",
        "IPY_MODEL_0a031c9b99a440428657fe3bb920835c"
       ],
       "layout": "IPY_MODEL_9abfde9af97d4af8818aa931d3344b53"
      }
     },
     "caf5fabb311e4a46badc53e774902ad9": {
      "model_module": "jupyter-js-widgets",
      "model_module_version": "~2.1.4",
      "model_name": "SliderStyleModel",
      "state": {
       "_model_module_version": "~2.1.4",
       "_view_module_version": "~2.1.4"
      }
     },
     "cb450ce8a89c411e80d47644fc110065": {
      "model_module": "jupyter-js-widgets",
      "model_module_version": "~2.1.4",
      "model_name": "FloatSliderModel",
      "state": {
       "_model_module_version": "~2.1.4",
       "_view_module_version": "~2.1.4",
       "description": "tasa_ahorro",
       "layout": "IPY_MODEL_7ff5eb19a7464861a6ea1675fc889525",
       "max": 1,
       "step": 0.01,
       "value": 0.2
      }
     },
     "cb85906c4aa74999b4eb6fb3f0eb597c": {
      "model_module": "jupyter-js-widgets",
      "model_module_version": "~2.1.4",
      "model_name": "LayoutModel",
      "state": {
       "_model_module_version": "~2.1.4",
       "_view_module_version": "~2.1.4",
       "width": "100%"
      }
     },
     "cb933ac0bde94f6e96ea2a21bd4b3473": {
      "model_module": "jupyter-js-widgets",
      "model_module_version": "~2.1.4",
      "model_name": "OutputModel",
      "state": {
       "_dom_classes": [],
       "_model_module": "jupyter-js-widgets",
       "_model_module_version": "~2.1.4",
       "_view_module": "jupyter-js-widgets",
       "_view_module_version": "~2.1.4",
       "layout": "IPY_MODEL_eacd6927f42a46ff9c484f5f4c674674",
       "msg_throttle": 1
      }
     },
     "cc6bfcbf698e4b8cb55ece5321a6c0ab": {
      "model_module": "jupyter-js-widgets",
      "model_module_version": "~2.1.4",
      "model_name": "LayoutModel",
      "state": {
       "_model_module_version": "~2.1.4",
       "_view_module_version": "~2.1.4",
       "width": "100%"
      }
     },
     "cc83b086f514407dbf61d592bb4781e2": {
      "model_module": "jupyter-js-widgets",
      "model_module_version": "~2.1.4",
      "model_name": "IntSliderModel",
      "state": {
       "_model_module_version": "~2.1.4",
       "_view_module_version": "~2.1.4",
       "description": "s",
       "layout": "IPY_MODEL_604a892777f245d995a740025de0df72",
       "max": 1000,
       "min": 1,
       "step": 50,
       "style": "IPY_MODEL_c4b06df321ec49e68e32282fa7a65ba3",
       "value": 100
      }
     },
     "cd26c6c1b1fa4dca9e8efeb23d1fffcd": {
      "model_module": "jupyter-js-widgets",
      "model_module_version": "~2.1.4",
      "model_name": "LayoutModel",
      "state": {
       "_model_module_version": "~2.1.4",
       "_view_module_version": "~2.1.4"
      }
     },
     "cd3010772b384005ac03be4bc41243ed": {
      "model_module": "jupyter-js-widgets",
      "model_module_version": "~2.1.4",
      "model_name": "LayoutModel",
      "state": {
       "_model_module_version": "~2.1.4",
       "_view_module_version": "~2.1.4",
       "width": "100%"
      }
     },
     "cd48599fb6dc45f3872c741bcb7a088a": {
      "model_module": "jupyter-js-widgets",
      "model_module_version": "~2.1.4",
      "model_name": "FloatSliderModel",
      "state": {
       "_model_module_version": "~2.1.4",
       "_view_module_version": "~2.1.4",
       "description": "tasa_ahorro",
       "layout": "IPY_MODEL_d46c5095e4f64289996fd787a00dee1e",
       "max": 1,
       "step": 0.01,
       "value": 0.2
      }
     },
     "cdbf47f9d53743aca3c4601633686b43": {
      "model_module": "jupyter-js-widgets",
      "model_module_version": "~2.1.4",
      "model_name": "LayoutModel",
      "state": {
       "_model_module_version": "~2.1.4",
       "_view_module_version": "~2.1.4"
      }
     },
     "ce0c9d71cff84ab4addcbd704c087840": {
      "model_module": "jupyter-js-widgets",
      "model_module_version": "~2.1.4",
      "model_name": "SliderStyleModel",
      "state": {
       "_model_module_version": "~2.1.4",
       "_view_module_version": "~2.1.4"
      }
     },
     "ce12ab9ea134405bb7387ea0d8f6ee50": {
      "model_module": "jupyter-js-widgets",
      "model_module_version": "~2.1.4",
      "model_name": "LayoutModel",
      "state": {
       "_model_module_version": "~2.1.4",
       "_view_module_version": "~2.1.4",
       "width": "100%"
      }
     },
     "ce6b41b59a704c6483c41101c754f63a": {
      "model_module": "jupyter-js-widgets",
      "model_module_version": "~2.1.4",
      "model_name": "SliderStyleModel",
      "state": {
       "_model_module_version": "~2.1.4",
       "_view_module_version": "~2.1.4"
      }
     },
     "ce6ebb17244b4b4a9622715de7ff039f": {
      "model_module": "jupyter-js-widgets",
      "model_module_version": "~2.1.4",
      "model_name": "SliderStyleModel",
      "state": {
       "_model_module_version": "~2.1.4",
       "_view_module_version": "~2.1.4"
      }
     },
     "cf390057ad034351bb464708d6d021a8": {
      "model_module": "jupyter-js-widgets",
      "model_module_version": "~2.1.4",
      "model_name": "IntSliderModel",
      "state": {
       "_model_module_version": "~2.1.4",
       "_view_module_version": "~2.1.4",
       "description": "intervalo",
       "layout": "IPY_MODEL_764c41e2ac6f4529a0c655123af69aeb",
       "max": 360,
       "min": 1,
       "step": 10,
       "style": "IPY_MODEL_f4360824f0034824b9c289521b6c727f",
       "value": 11
      }
     },
     "cf9045e8ba4a4496a7f08b50512c79d8": {
      "model_module": "jupyter-js-widgets",
      "model_module_version": "~2.1.4",
      "model_name": "FloatSliderModel",
      "state": {
       "_model_module_version": "~2.1.4",
       "_view_module_version": "~2.1.4",
       "description": "paso",
       "layout": "IPY_MODEL_90d06641a022429e837343584585f939",
       "max": 1,
       "step": 0.01,
       "value": 0.07
      }
     },
     "cfc1cfcdcf9645849bdc8be52bad6aba": {
      "model_module": "jupyter-js-widgets",
      "model_module_version": "~2.1.4",
      "model_name": "LayoutModel",
      "state": {
       "_model_module_version": "~2.1.4",
       "_view_module_version": "~2.1.4",
       "width": "100%"
      }
     },
     "d008f9da4ba94d5bbeacbcfe5b42bfe8": {
      "model_module": "jupyter-js-widgets",
      "model_module_version": "~2.1.4",
      "model_name": "LayoutModel",
      "state": {
       "_model_module_version": "~2.1.4",
       "_view_module_version": "~2.1.4",
       "width": "100%"
      }
     },
     "d0101b63144d46b68f21cf8ca2fa566f": {
      "model_module": "jupyter-js-widgets",
      "model_module_version": "~2.1.4",
      "model_name": "LayoutModel",
      "state": {
       "_model_module_version": "~2.1.4",
       "_view_module_version": "~2.1.4"
      }
     },
     "d031f42152a746ecbccf38d5ca10b86e": {
      "model_module": "jupyter-js-widgets",
      "model_module_version": "~2.1.4",
      "model_name": "OutputModel",
      "state": {
       "_dom_classes": [],
       "_model_module": "jupyter-js-widgets",
       "_model_module_version": "~2.1.4",
       "_view_module": "jupyter-js-widgets",
       "_view_module_version": "~2.1.4",
       "layout": "IPY_MODEL_c77342618b864a05b4a6c34c850b7304",
       "msg_throttle": 1
      }
     },
     "d09357064cc44b9ebab5a6bd04f8ac4c": {
      "model_module": "jupyter-js-widgets",
      "model_module_version": "~2.1.4",
      "model_name": "LayoutModel",
      "state": {
       "_model_module_version": "~2.1.4",
       "_view_module_version": "~2.1.4"
      }
     },
     "d0a7a4542f874ab0965ef17310c468f2": {
      "model_module": "jupyter-js-widgets",
      "model_module_version": "~2.1.4",
      "model_name": "FloatSliderModel",
      "state": {
       "_model_module_version": "~2.1.4",
       "_view_module_version": "~2.1.4",
       "description": "paso",
       "layout": "IPY_MODEL_ee1aba38248b4c7b915db3b804428440",
       "max": 1,
       "step": 0.01,
       "value": 0.1
      }
     },
     "d0eb96c368f24dbdb9ee75a6b015c7a4": {
      "model_module": "jupyter-js-widgets",
      "model_module_version": "~2.1.4",
      "model_name": "LayoutModel",
      "state": {
       "_model_module_version": "~2.1.4",
       "_view_module_version": "~2.1.4",
       "width": "100%"
      }
     },
     "d20a20748327423dadfdc8ac120d87a0": {
      "model_module": "jupyter-js-widgets",
      "model_module_version": "~2.1.4",
      "model_name": "FloatSliderModel",
      "state": {
       "_model_module_version": "~2.1.4",
       "_view_module_version": "~2.1.4",
       "description": "paso",
       "layout": "IPY_MODEL_d008f9da4ba94d5bbeacbcfe5b42bfe8",
       "max": 1,
       "step": 0.01,
       "value": 0.1
      }
     },
     "d22c2a9355e5484f8e2d7c1eef0d73f3": {
      "model_module": "jupyter-js-widgets",
      "model_module_version": "~2.1.4",
      "model_name": "LayoutModel",
      "state": {
       "_model_module_version": "~2.1.4",
       "_view_module_version": "~2.1.4"
      }
     },
     "d23d731c01f0403f8f5d1e5d89f14dbe": {
      "model_module": "jupyter-js-widgets",
      "model_module_version": "~2.1.4",
      "model_name": "SliderStyleModel",
      "state": {
       "_model_module_version": "~2.1.4",
       "_view_module_version": "~2.1.4"
      }
     },
     "d29e47945040427f9cafcbcf0e5cc21d": {
      "model_module": "jupyter-js-widgets",
      "model_module_version": "~2.1.4",
      "model_name": "VBoxModel",
      "state": {
       "_dom_classes": [
        "widget-interact"
       ],
       "_model_module_version": "~2.1.4",
       "_view_module_version": "~2.1.4",
       "children": [
        "IPY_MODEL_36f5d0d28c914031a6d17e0dbcd31504",
        "IPY_MODEL_661747483ded4ca2b01cd248496bd041",
        "IPY_MODEL_935fac274b144021905764e472752e24",
        "IPY_MODEL_e62771d42032482e8739773db935197f",
        "IPY_MODEL_2db9896eac1e4f8589eef8c912317750",
        "IPY_MODEL_90c35f5e132d4b43838d48374cc30a91"
       ],
       "layout": "IPY_MODEL_3d214e9d884d4710b92a72bf6cdac201"
      }
     },
     "d2c93bff9cb043d3b616c116b1e7503e": {
      "model_module": "jupyter-js-widgets",
      "model_module_version": "~2.1.4",
      "model_name": "SliderStyleModel",
      "state": {
       "_model_module_version": "~2.1.4",
       "_view_module_version": "~2.1.4"
      }
     },
     "d2fb4a789cbd472dafbe535f3498a872": {
      "model_module": "jupyter-js-widgets",
      "model_module_version": "~2.1.4",
      "model_name": "SliderStyleModel",
      "state": {
       "_model_module_version": "~2.1.4",
       "_view_module_version": "~2.1.4"
      }
     },
     "d3761d473d50400aa618ca360ab87da4": {
      "model_module": "jupyter-js-widgets",
      "model_module_version": "~2.1.4",
      "model_name": "LayoutModel",
      "state": {
       "_model_module_version": "~2.1.4",
       "_view_module_version": "~2.1.4",
       "width": "100%"
      }
     },
     "d3da5994d12c4b6b9080a2926954351f": {
      "model_module": "jupyter-js-widgets",
      "model_module_version": "~2.1.4",
      "model_name": "LayoutModel",
      "state": {
       "_model_module_version": "~2.1.4",
       "_view_module_version": "~2.1.4"
      }
     },
     "d3e2e0eb40184b54b4bb46400e629327": {
      "model_module": "jupyter-js-widgets",
      "model_module_version": "~2.1.4",
      "model_name": "SliderStyleModel",
      "state": {
       "_model_module_version": "~2.1.4",
       "_view_module_version": "~2.1.4"
      }
     },
     "d3fae39da89a4d9b92b13d59d1f9c950": {
      "model_module": "jupyter-js-widgets",
      "model_module_version": "~2.1.4",
      "model_name": "SliderStyleModel",
      "state": {
       "_model_module_version": "~2.1.4",
       "_view_module_version": "~2.1.4"
      }
     },
     "d41cda49bc404df7a8747ce71e2bf33f": {
      "model_module": "jupyter-js-widgets",
      "model_module_version": "~2.1.4",
      "model_name": "LayoutModel",
      "state": {
       "_model_module_version": "~2.1.4",
       "_view_module_version": "~2.1.4",
       "width": "100%"
      }
     },
     "d45e367dec244fde86caf5994df2f521": {
      "model_module": "jupyter-js-widgets",
      "model_module_version": "~2.1.4",
      "model_name": "LayoutModel",
      "state": {
       "_model_module_version": "~2.1.4",
       "_view_module_version": "~2.1.4",
       "width": "100%"
      }
     },
     "d46c5095e4f64289996fd787a00dee1e": {
      "model_module": "jupyter-js-widgets",
      "model_module_version": "~2.1.4",
      "model_name": "LayoutModel",
      "state": {
       "_model_module_version": "~2.1.4",
       "_view_module_version": "~2.1.4",
       "width": "100%"
      }
     },
     "d470a7ef47c24f0db26dbd7c99159e58": {
      "model_module": "jupyter-js-widgets",
      "model_module_version": "~2.1.4",
      "model_name": "FloatSliderModel",
      "state": {
       "_model_module_version": "~2.1.4",
       "_view_module_version": "~2.1.4",
       "description": "tasa_ahorro",
       "layout": "IPY_MODEL_a89acaf33ccd40b1977982162754e6c8",
       "max": 1,
       "step": 0.01,
       "value": 0.2
      }
     },
     "d47a0a410ea7402aa1cb1cd1a28dcfa5": {
      "model_module": "jupyter-js-widgets",
      "model_module_version": "~2.1.4",
      "model_name": "FloatSliderModel",
      "state": {
       "_model_module_version": "~2.1.4",
       "_view_module_version": "~2.1.4",
       "description": "tasa_gasto_extra",
       "layout": "IPY_MODEL_cb85906c4aa74999b4eb6fb3f0eb597c",
       "max": 1,
       "step": 0.01,
       "value": 0.3
      }
     },
     "d4896bcd10f9495f94d50069be80267a": {
      "model_module": "jupyter-js-widgets",
      "model_module_version": "~2.1.4",
      "model_name": "IntSliderModel",
      "state": {
       "_model_module_version": "~2.1.4",
       "_view_module_version": "~2.1.4",
       "description": "sueldo_inicial",
       "layout": "IPY_MODEL_f4f7c68d4eda47919cc19b8d479b27d7",
       "max": 25000,
       "step": 500,
       "style": "IPY_MODEL_ce0c9d71cff84ab4addcbd704c087840",
       "value": 15000
      }
     },
     "d4ad165108474dafa12f1e55eecdaaf6": {
      "model_module": "jupyter-js-widgets",
      "model_module_version": "~2.1.4",
      "model_name": "SliderStyleModel",
      "state": {
       "_model_module_version": "~2.1.4",
       "_view_module_version": "~2.1.4"
      }
     },
     "d54e986bf9934d629dac80e59e0cf885": {
      "model_module": "jupyter-js-widgets",
      "model_module_version": "~2.1.4",
      "model_name": "SliderStyleModel",
      "state": {
       "_model_module_version": "~2.1.4",
       "_view_module_version": "~2.1.4"
      }
     },
     "d631f04a4c184c24a4af6816fb3d2b8e": {
      "model_module": "jupyter-js-widgets",
      "model_module_version": "~2.1.4",
      "model_name": "LayoutModel",
      "state": {
       "_model_module_version": "~2.1.4",
       "_view_module_version": "~2.1.4",
       "width": "100%"
      }
     },
     "d642a6c67ebc44328a06015ba0f07871": {
      "model_module": "jupyter-js-widgets",
      "model_module_version": "~2.1.4",
      "model_name": "LayoutModel",
      "state": {
       "_model_module_version": "~2.1.4",
       "_view_module_version": "~2.1.4",
       "width": "100%"
      }
     },
     "d65c2072a00c4a89af5dc5f9b013cbcd": {
      "model_module": "jupyter-js-widgets",
      "model_module_version": "~2.1.4",
      "model_name": "LayoutModel",
      "state": {
       "_model_module_version": "~2.1.4",
       "_view_module_version": "~2.1.4",
       "width": "100%"
      }
     },
     "d6bc473663be4a9e8438d6bd079ab197": {
      "model_module": "jupyter-js-widgets",
      "model_module_version": "~2.1.4",
      "model_name": "LayoutModel",
      "state": {
       "_model_module_version": "~2.1.4",
       "_view_module_version": "~2.1.4",
       "width": "100%"
      }
     },
     "d6f347a21eac4f949d95309e29f55965": {
      "model_module": "jupyter-js-widgets",
      "model_module_version": "~2.1.4",
      "model_name": "SliderStyleModel",
      "state": {
       "_model_module_version": "~2.1.4",
       "_view_module_version": "~2.1.4"
      }
     },
     "d75f746887c7463e88cffa776e6d4d7b": {
      "model_module": "jupyter-js-widgets",
      "model_module_version": "~2.1.4",
      "model_name": "FloatSliderModel",
      "state": {
       "_model_module_version": "~2.1.4",
       "_view_module_version": "~2.1.4",
       "description": "tasa_gasto_extra",
       "layout": "IPY_MODEL_9178830c2aaf417eaca7fd36333d6765",
       "max": 1,
       "step": 0.01,
       "value": 0.3
      }
     },
     "d787af0b67c84673a3d826e21818ac24": {
      "model_module": "jupyter-js-widgets",
      "model_module_version": "~2.1.4",
      "model_name": "LayoutModel",
      "state": {
       "_model_module_version": "~2.1.4",
       "_view_module_version": "~2.1.4",
       "width": "100%"
      }
     },
     "d7c5d2793c7b4dd989d150d0ceb24b70": {
      "model_module": "jupyter-js-widgets",
      "model_module_version": "~2.1.4",
      "model_name": "LayoutModel",
      "state": {
       "_model_module_version": "~2.1.4",
       "_view_module_version": "~2.1.4"
      }
     },
     "d80122c9f747414ea42ded61ce4e5689": {
      "model_module": "jupyter-js-widgets",
      "model_module_version": "~2.1.4",
      "model_name": "LayoutModel",
      "state": {
       "_model_module_version": "~2.1.4",
       "_view_module_version": "~2.1.4",
       "width": "100%"
      }
     },
     "d864bd283cfc442a8dcc91391a8c74eb": {
      "model_module": "jupyter-js-widgets",
      "model_module_version": "~2.1.4",
      "model_name": "LayoutModel",
      "state": {
       "_model_module_version": "~2.1.4",
       "_view_module_version": "~2.1.4",
       "width": "100%"
      }
     },
     "d88437c4fa774da0836f57d450ec0e98": {
      "model_module": "jupyter-js-widgets",
      "model_module_version": "~2.1.4",
      "model_name": "IntSliderModel",
      "state": {
       "_model_module_version": "~2.1.4",
       "_view_module_version": "~2.1.4",
       "description": "intervalo",
       "layout": "IPY_MODEL_820b0c7130f049a2916dce955e0ebaa1",
       "max": 360,
       "min": 1,
       "step": 10,
       "style": "IPY_MODEL_b9d01546a914413499042d64d7d0992f",
       "value": 30
      }
     },
     "d912b0e50a904fd5a268b80468f05dfd": {
      "model_module": "jupyter-js-widgets",
      "model_module_version": "~2.1.4",
      "model_name": "IntSliderModel",
      "state": {
       "_model_module_version": "~2.1.4",
       "_view_module_version": "~2.1.4",
       "description": "dias",
       "layout": "IPY_MODEL_4061d0fb35cd4528a031b21b91e852c1",
       "max": 360,
       "min": 1,
       "step": 10,
       "style": "IPY_MODEL_46de5df2ec5548ca9cd75990889e7e05",
       "value": 31
      }
     },
     "d96f51ecfb1f48978f049536b63d5d01": {
      "model_module": "jupyter-js-widgets",
      "model_module_version": "~2.1.4",
      "model_name": "VBoxModel",
      "state": {
       "_dom_classes": [
        "widget-interact"
       ],
       "_model_module_version": "~2.1.4",
       "_view_module_version": "~2.1.4",
       "children": [
        "IPY_MODEL_8e825bafeb474c19944b37e98794f324",
        "IPY_MODEL_6287f4a4c459481aab9b35b11bafbeef",
        "IPY_MODEL_dd4bc6de8dd4406ba1302a83fa14b486",
        "IPY_MODEL_410ea02bd2894436ac0068a81da8914f",
        "IPY_MODEL_138a79daa089434fa86bf10d2b0ee9f5",
        "IPY_MODEL_d88437c4fa774da0836f57d450ec0e98",
        "IPY_MODEL_33684b747b714a1a96fdb5a747170562",
        "IPY_MODEL_2f9477c7ce9842faadd6afaaae7222ae"
       ],
       "layout": "IPY_MODEL_258a651cb33d47e9a110e42299f95e47"
      }
     },
     "d977483e675445e4aeecf86eaabb9e32": {
      "model_module": "jupyter-js-widgets",
      "model_module_version": "~2.1.4",
      "model_name": "LayoutModel",
      "state": {
       "_model_module_version": "~2.1.4",
       "_view_module_version": "~2.1.4"
      }
     },
     "d99c8cf5c2ed45c5ad8252ec47535ee2": {
      "model_module": "jupyter-js-widgets",
      "model_module_version": "~2.1.4",
      "model_name": "LayoutModel",
      "state": {
       "_model_module_version": "~2.1.4",
       "_view_module_version": "~2.1.4",
       "width": "100%"
      }
     },
     "da13e4c30e8a46ffa1f12fff96855fdb": {
      "model_module": "jupyter-js-widgets",
      "model_module_version": "~2.1.4",
      "model_name": "SliderStyleModel",
      "state": {
       "_model_module_version": "~2.1.4",
       "_view_module_version": "~2.1.4"
      }
     },
     "da180986476b4f4489ae60491f571098": {
      "model_module": "jupyter-js-widgets",
      "model_module_version": "~2.1.4",
      "model_name": "IntSliderModel",
      "state": {
       "_model_module_version": "~2.1.4",
       "_view_module_version": "~2.1.4",
       "description": "dias",
       "layout": "IPY_MODEL_4ff668eefc2f4502aaf68164777a23f3",
       "max": 360,
       "min": 1,
       "step": 10,
       "style": "IPY_MODEL_e31aaa04ec71486c933b6a6ca025d394",
       "value": 60
      }
     },
     "da35d015febc47d0bbe515c0a2e7374d": {
      "model_module": "jupyter-js-widgets",
      "model_module_version": "~2.1.4",
      "model_name": "FloatSliderModel",
      "state": {
       "_model_module_version": "~2.1.4",
       "_view_module_version": "~2.1.4",
       "description": "tasa_gasto_extra",
       "layout": "IPY_MODEL_be375ea6b34b438f8bd17b4363a4d3b4",
       "max": 1,
       "step": 0.01,
       "value": 0.3
      }
     },
     "da3f2be08ec24e349830b669b81d894f": {
      "model_module": "jupyter-js-widgets",
      "model_module_version": "~2.1.4",
      "model_name": "VBoxModel",
      "state": {
       "_dom_classes": [
        "widget-interact"
       ],
       "_model_module_version": "~2.1.4",
       "_view_module_version": "~2.1.4",
       "children": [
        "IPY_MODEL_62d2007cddc14a6a85adb61b8c1d5e29",
        "IPY_MODEL_19c2112d52894e18872ed162cf69932f",
        "IPY_MODEL_bd77e2b480ff4615bee7509d2e9c7537",
        "IPY_MODEL_8c9039d7f0c04e8abb98b09b60cefbb4",
        "IPY_MODEL_1e51135e714841a19c4ffa0957b01ef6",
        "IPY_MODEL_ff8a817456384b1bb6f488636e7d85b8"
       ],
       "layout": "IPY_MODEL_83142fd934ab4d4792a33c1ae4a38a35"
      }
     },
     "da679cd9f1744eae98381d8506c75fb7": {
      "model_module": "jupyter-js-widgets",
      "model_module_version": "~2.1.4",
      "model_name": "FloatSliderModel",
      "state": {
       "_model_module_version": "~2.1.4",
       "_view_module_version": "~2.1.4",
       "description": "tasa_gasto_extra",
       "layout": "IPY_MODEL_9c5e305a3ef64fe98048fa2db66a54c5",
       "max": 1,
       "step": 0.01,
       "value": 0.3
      }
     },
     "dad16d135ec044368c97f1d37e54329e": {
      "model_module": "jupyter-js-widgets",
      "model_module_version": "~2.1.4",
      "model_name": "FloatSliderModel",
      "state": {
       "_model_module_version": "~2.1.4",
       "_view_module_version": "~2.1.4",
       "description": "k",
       "layout": "IPY_MODEL_3eb9da9982c54268ad572a87bba8ce41",
       "max": 1,
       "step": 0.05,
       "value": 0.15
      }
     },
     "daf9217ab8cb4995a9dd01e555c9b284": {
      "model_module": "jupyter-js-widgets",
      "model_module_version": "~2.1.4",
      "model_name": "LayoutModel",
      "state": {
       "_model_module_version": "~2.1.4",
       "_view_module_version": "~2.1.4",
       "width": "100%"
      }
     },
     "db03dbcdfc40434d91a9e6ccdd48aa21": {
      "model_module": "jupyter-js-widgets",
      "model_module_version": "~2.1.4",
      "model_name": "IntSliderModel",
      "state": {
       "_model_module_version": "~2.1.4",
       "_view_module_version": "~2.1.4",
       "description": "sueldo_inicial",
       "layout": "IPY_MODEL_e7917d2f877f4666b7d400345180e7ee",
       "max": 25000,
       "step": 500,
       "style": "IPY_MODEL_842d28e6f410484ca5b5a0e63d438716",
       "value": 15000
      }
     },
     "db437519a9cb4aafa3abb4c003ff78e6": {
      "model_module": "jupyter-js-widgets",
      "model_module_version": "~2.1.4",
      "model_name": "SliderStyleModel",
      "state": {
       "_model_module_version": "~2.1.4",
       "_view_module_version": "~2.1.4"
      }
     },
     "db743130f6b04a4b943288cb6d2c6a13": {
      "model_module": "jupyter-js-widgets",
      "model_module_version": "~2.1.4",
      "model_name": "SliderStyleModel",
      "state": {
       "_model_module_version": "~2.1.4",
       "_view_module_version": "~2.1.4"
      }
     },
     "db8dbc0d9e4b4231b7494b2c31d37cb5": {
      "model_module": "jupyter-js-widgets",
      "model_module_version": "~2.1.4",
      "model_name": "VBoxModel",
      "state": {
       "_dom_classes": [
        "widget-interact"
       ],
       "_model_module_version": "~2.1.4",
       "_view_module_version": "~2.1.4",
       "children": [
        "IPY_MODEL_97ed493a039b4d5e825fb41a9278baa2",
        "IPY_MODEL_9616f304111c41149a141311523af87d",
        "IPY_MODEL_552bd870186b49d4b16e31e2e6441147",
        "IPY_MODEL_9eff2c843836493f9d034bd311794a66",
        "IPY_MODEL_a3c14242a22846cbbc310506a68a59a8",
        "IPY_MODEL_c98c7abcc5244c1fac460bce77f613de",
        "IPY_MODEL_904a05f27b564e4aa4b23fb8be4dae7b",
        "IPY_MODEL_374f9393caef47e090c3bb3e7499e432"
       ],
       "layout": "IPY_MODEL_2926395d072a4f0c842dff23ae2e9aef"
      }
     },
     "db9d5d0f8563432c8e7ac47e1738d9c2": {
      "model_module": "jupyter-js-widgets",
      "model_module_version": "~2.1.4",
      "model_name": "SliderStyleModel",
      "state": {
       "_model_module_version": "~2.1.4",
       "_view_module_version": "~2.1.4"
      }
     },
     "dbc6413d2836465ab226e16b7b3b0323": {
      "model_module": "jupyter-js-widgets",
      "model_module_version": "~2.1.4",
      "model_name": "FloatSliderModel",
      "state": {
       "_model_module_version": "~2.1.4",
       "_view_module_version": "~2.1.4",
       "description": "paso",
       "layout": "IPY_MODEL_1b504e494b6a43498d15625f989a2f40",
       "max": 1,
       "step": 0.01,
       "value": 0.1
      }
     },
     "dbcbc1b7ea4f461cb34df437d40c2f40": {
      "model_module": "jupyter-js-widgets",
      "model_module_version": "~2.1.4",
      "model_name": "SliderStyleModel",
      "state": {
       "_model_module_version": "~2.1.4",
       "_view_module_version": "~2.1.4"
      }
     },
     "dbe05e09b3314be5b631dfa7e87c672b": {
      "model_module": "jupyter-js-widgets",
      "model_module_version": "~2.1.4",
      "model_name": "LayoutModel",
      "state": {
       "_model_module_version": "~2.1.4",
       "_view_module_version": "~2.1.4"
      }
     },
     "dbfedf49120b46a5a96878d958b7d5e9": {
      "model_module": "jupyter-js-widgets",
      "model_module_version": "~2.1.4",
      "model_name": "LayoutModel",
      "state": {
       "_model_module_version": "~2.1.4",
       "_view_module_version": "~2.1.4",
       "width": "100%"
      }
     },
     "dc1a58f2e8674f3fa8bccbaf68bfb206": {
      "model_module": "jupyter-js-widgets",
      "model_module_version": "~2.1.4",
      "model_name": "IntSliderModel",
      "state": {
       "_model_module_version": "~2.1.4",
       "_view_module_version": "~2.1.4",
       "description": "gasto_fijo_diario",
       "layout": "IPY_MODEL_934be77a6c604b7eb4e63192efb27b3d",
       "max": 1000,
       "min": 1,
       "step": 50,
       "style": "IPY_MODEL_029772b2f66d43abbce78b3ed2152af7",
       "value": 100
      }
     },
     "dc5006834b7a49a2a114b30f298a9106": {
      "model_module": "jupyter-js-widgets",
      "model_module_version": "~2.1.4",
      "model_name": "LayoutModel",
      "state": {
       "_model_module_version": "~2.1.4",
       "_view_module_version": "~2.1.4",
       "width": "100%"
      }
     },
     "dc5a9860625c4e8e97b724b7fb1ba212": {
      "model_module": "jupyter-js-widgets",
      "model_module_version": "~2.1.4",
      "model_name": "SliderStyleModel",
      "state": {
       "_model_module_version": "~2.1.4",
       "_view_module_version": "~2.1.4"
      }
     },
     "dc8d16e3687c422892d1ed1438417d65": {
      "model_module": "jupyter-js-widgets",
      "model_module_version": "~2.1.4",
      "model_name": "IntSliderModel",
      "state": {
       "_model_module_version": "~2.1.4",
       "_view_module_version": "~2.1.4",
       "description": "dias",
       "layout": "IPY_MODEL_1d059d299b584c8381e3dd4fe109156e",
       "max": 360,
       "min": 1,
       "step": 10,
       "style": "IPY_MODEL_e70205136fd2446ba4d2f51a2d4b6682",
       "value": 30
      }
     },
     "dc91858ef6ee47c9b894f6bdde05e485": {
      "model_module": "jupyter-js-widgets",
      "model_module_version": "~2.1.4",
      "model_name": "FloatSliderModel",
      "state": {
       "_model_module_version": "~2.1.4",
       "_view_module_version": "~2.1.4",
       "description": "tasa_gasto_extra",
       "layout": "IPY_MODEL_115eb7a9bbca4a06ab590ce3b6386f05",
       "max": 1,
       "step": 0.01,
       "value": 0.3
      }
     },
     "dcc6299c9b80451bbe5f31fd27693733": {
      "model_module": "jupyter-js-widgets",
      "model_module_version": "~2.1.4",
      "model_name": "LayoutModel",
      "state": {
       "_model_module_version": "~2.1.4",
       "_view_module_version": "~2.1.4",
       "width": "100%"
      }
     },
     "dcf91b21b2134c9687a6b4b03fc37c8a": {
      "model_module": "jupyter-js-widgets",
      "model_module_version": "~2.1.4",
      "model_name": "IntSliderModel",
      "state": {
       "_model_module_version": "~2.1.4",
       "_view_module_version": "~2.1.4",
       "description": "sueldo_inicial",
       "layout": "IPY_MODEL_d80122c9f747414ea42ded61ce4e5689",
       "max": 25000,
       "step": 500,
       "style": "IPY_MODEL_39c56eb082834a27afd0a1192f1f10dc",
       "value": 15000
      }
     },
     "dd40200ba39f4e7fa8952fd7053f6cc1": {
      "model_module": "jupyter-js-widgets",
      "model_module_version": "~2.1.4",
      "model_name": "IntSliderModel",
      "state": {
       "_model_module_version": "~2.1.4",
       "_view_module_version": "~2.1.4",
       "description": "sueldo_inicial",
       "layout": "IPY_MODEL_c8f0b21a818e42e498033cddc1c01eb5",
       "max": 25000,
       "step": 500,
       "style": "IPY_MODEL_dc5a9860625c4e8e97b724b7fb1ba212",
       "value": 15000
      }
     },
     "dd4bc6de8dd4406ba1302a83fa14b486": {
      "model_module": "jupyter-js-widgets",
      "model_module_version": "~2.1.4",
      "model_name": "FloatSliderModel",
      "state": {
       "_model_module_version": "~2.1.4",
       "_view_module_version": "~2.1.4",
       "description": "tasa_gasto_extra",
       "layout": "IPY_MODEL_b410cc2b22f74260a3f83f3b10e35cae",
       "max": 1,
       "step": 0.01,
       "value": 0.3
      }
     },
     "dd95c9b0b85144b5915f06c3c7af40db": {
      "model_module": "jupyter-js-widgets",
      "model_module_version": "~2.1.4",
      "model_name": "LayoutModel",
      "state": {
       "_model_module_version": "~2.1.4",
       "_view_module_version": "~2.1.4",
       "width": "100%"
      }
     },
     "de321fe40e6d414692eae8dbb3bf9929": {
      "model_module": "jupyter-js-widgets",
      "model_module_version": "~2.1.4",
      "model_name": "IntSliderModel",
      "state": {
       "_model_module_version": "~2.1.4",
       "_view_module_version": "~2.1.4",
       "description": "sueldo_inicial",
       "layout": "IPY_MODEL_7f3ea24d4a2e4406a75e20cef2518949",
       "max": 25000,
       "step": 500,
       "style": "IPY_MODEL_3e5bf23400554974bdd48fce29283048",
       "value": 15000
      }
     },
     "de4b4e8dd90a4992805c0afe9bc032f2": {
      "model_module": "jupyter-js-widgets",
      "model_module_version": "~2.1.4",
      "model_name": "VBoxModel",
      "state": {
       "_dom_classes": [
        "widget-interact"
       ],
       "_model_module_version": "~2.1.4",
       "_view_module_version": "~2.1.4",
       "layout": "IPY_MODEL_e68cb9e49e2342c5acf76116fd7b0269"
      }
     },
     "de7874e20f5447399831aa136fe9fc26": {
      "model_module": "jupyter-js-widgets",
      "model_module_version": "~2.1.4",
      "model_name": "LayoutModel",
      "state": {
       "_model_module_version": "~2.1.4",
       "_view_module_version": "~2.1.4"
      }
     },
     "de9b6a7416d44d80b4907f74fee0a80c": {
      "model_module": "jupyter-js-widgets",
      "model_module_version": "~2.1.4",
      "model_name": "SliderStyleModel",
      "state": {
       "_model_module_version": "~2.1.4",
       "_view_module_version": "~2.1.4"
      }
     },
     "deb5cbea2f5c45eda0cbff7a0eff263b": {
      "model_module": "jupyter-js-widgets",
      "model_module_version": "~2.1.4",
      "model_name": "VBoxModel",
      "state": {
       "_dom_classes": [
        "widget-interact"
       ],
       "_model_module_version": "~2.1.4",
       "_view_module_version": "~2.1.4",
       "children": [
        "IPY_MODEL_2cc61afafda5498086f775e38b7ba3a8",
        "IPY_MODEL_086eafdf4cf14179aed329b0b0b6d38f",
        "IPY_MODEL_7cebfc75fe3e47548759a6d81d929cd0",
        "IPY_MODEL_c7e1b02adcdb43a4887400d2987b4622",
        "IPY_MODEL_c96fadb65c324bdda8f78507fa66d862",
        "IPY_MODEL_078798fc1e3f487898cd4b41d6bead3f",
        "IPY_MODEL_9723022daf2a4625bc6b3cfade271cf4",
        "IPY_MODEL_97443efcfa194395bba2eed5b8fc7d10"
       ],
       "layout": "IPY_MODEL_10e45403b8a347298b101391920d8219"
      }
     },
     "ded650dda1ed4edbba700a088c878151": {
      "model_module": "jupyter-js-widgets",
      "model_module_version": "~2.1.4",
      "model_name": "OutputModel",
      "state": {
       "_dom_classes": [],
       "_model_module": "jupyter-js-widgets",
       "_model_module_version": "~2.1.4",
       "_view_module": "jupyter-js-widgets",
       "_view_module_version": "~2.1.4",
       "layout": "IPY_MODEL_a34c6bf49a8f4ac79819a8173d8d7f68",
       "msg_throttle": 1
      }
     },
     "deefd5a2aafd485b84496719e3b64409": {
      "model_module": "jupyter-js-widgets",
      "model_module_version": "~2.1.4",
      "model_name": "FloatSliderModel",
      "state": {
       "_model_module_version": "~2.1.4",
       "_view_module_version": "~2.1.4",
       "description": "paso",
       "layout": "IPY_MODEL_aa0ca09e2fe8471bb011ce34cb656066",
       "max": 1,
       "step": 0.01,
       "value": 0.1
      }
     },
     "def374b6685c41aba85447001b0c406d": {
      "model_module": "jupyter-js-widgets",
      "model_module_version": "~2.1.4",
      "model_name": "LayoutModel",
      "state": {
       "_model_module_version": "~2.1.4",
       "_view_module_version": "~2.1.4"
      }
     },
     "df71e762744645d899ac270e56044d78": {
      "model_module": "jupyter-js-widgets",
      "model_module_version": "~2.1.4",
      "model_name": "SliderStyleModel",
      "state": {
       "_model_module_version": "~2.1.4",
       "_view_module_version": "~2.1.4"
      }
     },
     "df96d46581ff40f1879c9b11fd9939ab": {
      "model_module": "jupyter-js-widgets",
      "model_module_version": "~2.1.4",
      "model_name": "LayoutModel",
      "state": {
       "_model_module_version": "~2.1.4",
       "_view_module_version": "~2.1.4",
       "width": "100%"
      }
     },
     "dfc9700ef8bf44fba52fda422f86efe8": {
      "model_module": "jupyter-js-widgets",
      "model_module_version": "~2.1.4",
      "model_name": "SliderStyleModel",
      "state": {
       "_model_module_version": "~2.1.4",
       "_view_module_version": "~2.1.4"
      }
     },
     "e08b277bbd8f4e95b7d55e76d51b9780": {
      "model_module": "jupyter-js-widgets",
      "model_module_version": "~2.1.4",
      "model_name": "IntSliderModel",
      "state": {
       "_model_module_version": "~2.1.4",
       "_view_module_version": "~2.1.4",
       "description": "intervalo",
       "layout": "IPY_MODEL_ecb9ab8935624fd982e87351b0d21a4a",
       "max": 360,
       "min": 1,
       "step": 10,
       "style": "IPY_MODEL_2fca45e0cf3b4a51a1a4992ab5a23ffc",
       "value": 30
      }
     },
     "e0e428e1d9ca463d8203998171daa4f9": {
      "model_module": "jupyter-js-widgets",
      "model_module_version": "~2.1.4",
      "model_name": "SliderStyleModel",
      "state": {
       "_model_module_version": "~2.1.4",
       "_view_module_version": "~2.1.4"
      }
     },
     "e1cd3b4bfeb14bd2a3e4e5e439ac1fa2": {
      "model_module": "jupyter-js-widgets",
      "model_module_version": "~2.1.4",
      "model_name": "SliderStyleModel",
      "state": {
       "_model_module_version": "~2.1.4",
       "_view_module_version": "~2.1.4"
      }
     },
     "e1e3c90d25d24714ace9d24296afa7cb": {
      "model_module": "jupyter-js-widgets",
      "model_module_version": "~2.1.4",
      "model_name": "LayoutModel",
      "state": {
       "_model_module_version": "~2.1.4",
       "_view_module_version": "~2.1.4"
      }
     },
     "e227fdcd5d35473fad0f76e0637e8959": {
      "model_module": "jupyter-js-widgets",
      "model_module_version": "~2.1.4",
      "model_name": "LayoutModel",
      "state": {
       "_model_module_version": "~2.1.4",
       "_view_module_version": "~2.1.4",
       "width": "100%"
      }
     },
     "e23a03dabe744e949e227266a5495971": {
      "model_module": "jupyter-js-widgets",
      "model_module_version": "~2.1.4",
      "model_name": "LayoutModel",
      "state": {
       "_model_module_version": "~2.1.4",
       "_view_module_version": "~2.1.4",
       "width": "100%"
      }
     },
     "e24695906b6d4dbaab20a1fffa32a6ec": {
      "model_module": "jupyter-js-widgets",
      "model_module_version": "~2.1.4",
      "model_name": "LayoutModel",
      "state": {
       "_model_module_version": "~2.1.4",
       "_view_module_version": "~2.1.4",
       "width": "100%"
      }
     },
     "e274359287d046c185d4ae9fa8c0aee2": {
      "model_module": "jupyter-js-widgets",
      "model_module_version": "~2.1.4",
      "model_name": "SliderStyleModel",
      "state": {
       "_model_module_version": "~2.1.4",
       "_view_module_version": "~2.1.4"
      }
     },
     "e2b4f0af228142ec8a3378fa788e24c8": {
      "model_module": "jupyter-js-widgets",
      "model_module_version": "~2.1.4",
      "model_name": "LayoutModel",
      "state": {
       "_model_module_version": "~2.1.4",
       "_view_module_version": "~2.1.4",
       "width": "100%"
      }
     },
     "e30d0e1820ea4158980b7bcccbb7654e": {
      "model_module": "jupyter-js-widgets",
      "model_module_version": "~2.1.4",
      "model_name": "OutputModel",
      "state": {
       "_dom_classes": [],
       "_model_module": "jupyter-js-widgets",
       "_model_module_version": "~2.1.4",
       "_view_module": "jupyter-js-widgets",
       "_view_module_version": "~2.1.4",
       "layout": "IPY_MODEL_e5067d745f7c445397d1acf62cee90b1",
       "msg_throttle": 1
      }
     },
     "e310ffd141254088b70b8cd96a4a976d": {
      "model_module": "jupyter-js-widgets",
      "model_module_version": "~2.1.4",
      "model_name": "LayoutModel",
      "state": {
       "_model_module_version": "~2.1.4",
       "_view_module_version": "~2.1.4",
       "width": "100%"
      }
     },
     "e3194e5b57694c20b3b9e82f4f7c68fd": {
      "model_module": "jupyter-js-widgets",
      "model_module_version": "~2.1.4",
      "model_name": "IntSliderModel",
      "state": {
       "_model_module_version": "~2.1.4",
       "_view_module_version": "~2.1.4",
       "description": "gasto_fijo_diario",
       "layout": "IPY_MODEL_5d6963b4f0284ac8b8cd703f0b88de4e",
       "max": 1000,
       "min": 1,
       "step": 50,
       "style": "IPY_MODEL_ed44382d70b6458c8adaa6d7482a42fa",
       "value": 100
      }
     },
     "e31aaa04ec71486c933b6a6ca025d394": {
      "model_module": "jupyter-js-widgets",
      "model_module_version": "~2.1.4",
      "model_name": "SliderStyleModel",
      "state": {
       "_model_module_version": "~2.1.4",
       "_view_module_version": "~2.1.4"
      }
     },
     "e36da62eb6764e40a32d398f8e5d1ab3": {
      "model_module": "jupyter-js-widgets",
      "model_module_version": "~2.1.4",
      "model_name": "OutputModel",
      "state": {
       "_dom_classes": [],
       "_model_module": "jupyter-js-widgets",
       "_model_module_version": "~2.1.4",
       "_view_module": "jupyter-js-widgets",
       "_view_module_version": "~2.1.4",
       "layout": "IPY_MODEL_b8dea1a080f94c8092fb5ed17fa3ac77",
       "msg_throttle": 1
      }
     },
     "e380b6b8220d4d7dadffa9a75e4cec89": {
      "model_module": "jupyter-js-widgets",
      "model_module_version": "~2.1.4",
      "model_name": "IntSliderModel",
      "state": {
       "_model_module_version": "~2.1.4",
       "_view_module_version": "~2.1.4",
       "description": "gasto_fijo_diario",
       "layout": "IPY_MODEL_8e4a5a792c1f4ed2af24ee7a030c2475",
       "max": 1000,
       "min": 1,
       "step": 50,
       "style": "IPY_MODEL_7bf966155be74354a5a30b06ebb634ae",
       "value": 100
      }
     },
     "e3cbd71716ba4bedb887194cef36a11b": {
      "model_module": "jupyter-js-widgets",
      "model_module_version": "~2.1.4",
      "model_name": "OutputModel",
      "state": {
       "_dom_classes": [],
       "_model_module": "jupyter-js-widgets",
       "_model_module_version": "~2.1.4",
       "_view_module": "jupyter-js-widgets",
       "_view_module_version": "~2.1.4",
       "layout": "IPY_MODEL_4eda6c6a2b2b42d796d0c8a30eec4fad",
       "msg_throttle": 1
      }
     },
     "e3f704eb00f54334b23d8bf0e37e12e3": {
      "model_module": "jupyter-js-widgets",
      "model_module_version": "~2.1.4",
      "model_name": "LayoutModel",
      "state": {
       "_model_module_version": "~2.1.4",
       "_view_module_version": "~2.1.4",
       "width": "100%"
      }
     },
     "e4529d9594534842ab730753d3fd1185": {
      "model_module": "jupyter-js-widgets",
      "model_module_version": "~2.1.4",
      "model_name": "SliderStyleModel",
      "state": {
       "_model_module_version": "~2.1.4",
       "_view_module_version": "~2.1.4"
      }
     },
     "e48b159771f94d5289880af67ee8f340": {
      "model_module": "jupyter-js-widgets",
      "model_module_version": "~2.1.4",
      "model_name": "SliderStyleModel",
      "state": {
       "_model_module_version": "~2.1.4",
       "_view_module_version": "~2.1.4"
      }
     },
     "e4b4a161447541ae97cc29416ec6f01b": {
      "model_module": "jupyter-js-widgets",
      "model_module_version": "~2.1.4",
      "model_name": "IntSliderModel",
      "state": {
       "_model_module_version": "~2.1.4",
       "_view_module_version": "~2.1.4",
       "description": "intervalo",
       "layout": "IPY_MODEL_016c0f8846f24365825075f8efe297c9",
       "max": 360,
       "min": 1,
       "step": 10,
       "style": "IPY_MODEL_4d5aeab76c89436a927be9eee534c00c",
       "value": 30
      }
     },
     "e4dd0321ab8d44fabab4fd2275a87d6a": {
      "model_module": "jupyter-js-widgets",
      "model_module_version": "~2.1.4",
      "model_name": "LayoutModel",
      "state": {
       "_model_module_version": "~2.1.4",
       "_view_module_version": "~2.1.4",
       "width": "100%"
      }
     },
     "e4fd28a375a34c788b03ecf0ccaddf2c": {
      "model_module": "jupyter-js-widgets",
      "model_module_version": "~2.1.4",
      "model_name": "LayoutModel",
      "state": {
       "_model_module_version": "~2.1.4",
       "_view_module_version": "~2.1.4",
       "width": "100%"
      }
     },
     "e5067d745f7c445397d1acf62cee90b1": {
      "model_module": "jupyter-js-widgets",
      "model_module_version": "~2.1.4",
      "model_name": "LayoutModel",
      "state": {
       "_model_module_version": "~2.1.4",
       "_view_module_version": "~2.1.4"
      }
     },
     "e52b231db79d4a368ff8f596c202e29a": {
      "model_module": "jupyter-js-widgets",
      "model_module_version": "~2.1.4",
      "model_name": "SliderStyleModel",
      "state": {
       "_model_module_version": "~2.1.4",
       "_view_module_version": "~2.1.4"
      }
     },
     "e54bf0731a8a44dcb04aebec2b96a4f1": {
      "model_module": "jupyter-js-widgets",
      "model_module_version": "~2.1.4",
      "model_name": "SliderStyleModel",
      "state": {
       "_model_module_version": "~2.1.4",
       "_view_module_version": "~2.1.4"
      }
     },
     "e5531ca368704134be51b65d0e3a8e2d": {
      "model_module": "jupyter-js-widgets",
      "model_module_version": "~2.1.4",
      "model_name": "IntSliderModel",
      "state": {
       "_model_module_version": "~2.1.4",
       "_view_module_version": "~2.1.4",
       "layout": "IPY_MODEL_a7dd0896d9d7414fb04ffd64f70c402a",
       "max": 360,
       "min": 1,
       "step": 10,
       "style": "IPY_MODEL_43a89a7a0e734fc3942c51c1ec54984b",
       "value": 30
      }
     },
     "e5c102305782482896b510c9e76a78ae": {
      "model_module": "jupyter-js-widgets",
      "model_module_version": "~2.1.4",
      "model_name": "IntSliderModel",
      "state": {
       "_model_module_version": "~2.1.4",
       "_view_module_version": "~2.1.4",
       "description": "sueldo_inicial",
       "layout": "IPY_MODEL_84e9a8a5ee1c42c38fc591aa04533793",
       "max": 25000,
       "step": 500,
       "style": "IPY_MODEL_a3baa21a9c5f439183b8ad5ac14cecef",
       "value": 15000
      }
     },
     "e5d9f3bdca304ecdbe89e1110abeef00": {
      "model_module": "jupyter-js-widgets",
      "model_module_version": "~2.1.4",
      "model_name": "IntSliderModel",
      "state": {
       "_model_module_version": "~2.1.4",
       "_view_module_version": "~2.1.4",
       "description": "gasto_fijo_diario",
       "layout": "IPY_MODEL_58eed4f82b5943728595bc65eb8509a7",
       "max": 1000,
       "min": 1,
       "step": 50,
       "style": "IPY_MODEL_9d6df905f8b443408911d84abc032001",
       "value": 100
      }
     },
     "e62771d42032482e8739773db935197f": {
      "model_module": "jupyter-js-widgets",
      "model_module_version": "~2.1.4",
      "model_name": "IntSliderModel",
      "state": {
       "_model_module_version": "~2.1.4",
       "_view_module_version": "~2.1.4",
       "description": "s",
       "layout": "IPY_MODEL_ba2860b453844a5aa9f4dc2a813538b4",
       "max": 1000,
       "min": 1,
       "step": 50,
       "style": "IPY_MODEL_483b7693f8284dd3a53b4df07d3004c2",
       "value": 100
      }
     },
     "e67208e8e91749b69c53a4c2c3ed2579": {
      "model_module": "jupyter-js-widgets",
      "model_module_version": "~2.1.4",
      "model_name": "OutputModel",
      "state": {
       "_dom_classes": [],
       "_model_module": "jupyter-js-widgets",
       "_model_module_version": "~2.1.4",
       "_view_module": "jupyter-js-widgets",
       "_view_module_version": "~2.1.4",
       "layout": "IPY_MODEL_cdbf47f9d53743aca3c4601633686b43",
       "msg_throttle": 1
      }
     },
     "e68cb9e49e2342c5acf76116fd7b0269": {
      "model_module": "jupyter-js-widgets",
      "model_module_version": "~2.1.4",
      "model_name": "LayoutModel",
      "state": {
       "_model_module_version": "~2.1.4",
       "_view_module_version": "~2.1.4"
      }
     },
     "e6e7f8af072545a087a34c7df5bb337f": {
      "model_module": "jupyter-js-widgets",
      "model_module_version": "~2.1.4",
      "model_name": "IntSliderModel",
      "state": {
       "_model_module_version": "~2.1.4",
       "_view_module_version": "~2.1.4",
       "description": "sueldo_inicial",
       "layout": "IPY_MODEL_c78a1e31ee7e45f38fd4703198b9bc66",
       "max": 25000,
       "step": 500,
       "style": "IPY_MODEL_558c1e770779448c9b4454ba6efdf760",
       "value": 15000
      }
     },
     "e70205136fd2446ba4d2f51a2d4b6682": {
      "model_module": "jupyter-js-widgets",
      "model_module_version": "~2.1.4",
      "model_name": "SliderStyleModel",
      "state": {
       "_model_module_version": "~2.1.4",
       "_view_module_version": "~2.1.4"
      }
     },
     "e746298c63224dbe8ae659d70f2c346e": {
      "model_module": "jupyter-js-widgets",
      "model_module_version": "~2.1.4",
      "model_name": "LayoutModel",
      "state": {
       "_model_module_version": "~2.1.4",
       "_view_module_version": "~2.1.4",
       "width": "100%"
      }
     },
     "e7523ea7f7db4b5c92072596ff394428": {
      "model_module": "jupyter-js-widgets",
      "model_module_version": "~2.1.4",
      "model_name": "SliderStyleModel",
      "state": {
       "_model_module_version": "~2.1.4",
       "_view_module_version": "~2.1.4"
      }
     },
     "e76857f8dd3f48eda7992981290e2377": {
      "model_module": "jupyter-js-widgets",
      "model_module_version": "~2.1.4",
      "model_name": "LayoutModel",
      "state": {
       "_model_module_version": "~2.1.4",
       "_view_module_version": "~2.1.4"
      }
     },
     "e78623ac14b64a5d89344e4acf4345e0": {
      "model_module": "jupyter-js-widgets",
      "model_module_version": "~2.1.4",
      "model_name": "FloatSliderModel",
      "state": {
       "_model_module_version": "~2.1.4",
       "_view_module_version": "~2.1.4",
       "description": "tasa_ahorro",
       "layout": "IPY_MODEL_6e09b3085b8a48f7b2d2de0eabfaac3f",
       "max": 1,
       "step": 0.01,
       "value": 0.2
      }
     },
     "e7917d2f877f4666b7d400345180e7ee": {
      "model_module": "jupyter-js-widgets",
      "model_module_version": "~2.1.4",
      "model_name": "LayoutModel",
      "state": {
       "_model_module_version": "~2.1.4",
       "_view_module_version": "~2.1.4",
       "width": "100%"
      }
     },
     "e79d53f0db4c4048b1b2ef8e4e6486a4": {
      "model_module": "jupyter-js-widgets",
      "model_module_version": "~2.1.4",
      "model_name": "LayoutModel",
      "state": {
       "_model_module_version": "~2.1.4",
       "_view_module_version": "~2.1.4",
       "width": "100%"
      }
     },
     "e7dc849764bf414cb6de6e7560589bf0": {
      "model_module": "jupyter-js-widgets",
      "model_module_version": "~2.1.4",
      "model_name": "SliderStyleModel",
      "state": {
       "_model_module_version": "~2.1.4",
       "_view_module_version": "~2.1.4"
      }
     },
     "e81bee2b034a41489bba77f8be89dc3d": {
      "model_module": "jupyter-js-widgets",
      "model_module_version": "~2.1.4",
      "model_name": "SliderStyleModel",
      "state": {
       "_model_module_version": "~2.1.4",
       "_view_module_version": "~2.1.4"
      }
     },
     "e82754311b7a43948ae174f4ad8477e8": {
      "model_module": "jupyter-js-widgets",
      "model_module_version": "~2.1.4",
      "model_name": "VBoxModel",
      "state": {
       "_dom_classes": [
        "widget-interact"
       ],
       "_model_module_version": "~2.1.4",
       "_view_module_version": "~2.1.4",
       "children": [
        "IPY_MODEL_996dfeaddfb44a64bdfab4987a77f0e3",
        "IPY_MODEL_09b053e568aa401da5d3db2ed76d6b3a",
        "IPY_MODEL_11aed75adad347539d171ec92e892168",
        "IPY_MODEL_cc83b086f514407dbf61d592bb4781e2",
        "IPY_MODEL_27fbc19eb1894d9c824c41a53a1d3ae9",
        "IPY_MODEL_8a57dcdcfa794bb6acbfd848d5c3fd6f"
       ],
       "layout": "IPY_MODEL_d0101b63144d46b68f21cf8ca2fa566f"
      }
     },
     "e82e07c724c340fba5ac323f11e776cd": {
      "model_module": "jupyter-js-widgets",
      "model_module_version": "~2.1.4",
      "model_name": "LayoutModel",
      "state": {
       "_model_module_version": "~2.1.4",
       "_view_module_version": "~2.1.4",
       "width": "100%"
      }
     },
     "e83270a9409d405cb1979562bbb5d099": {
      "model_module": "jupyter-js-widgets",
      "model_module_version": "~2.1.4",
      "model_name": "IntSliderModel",
      "state": {
       "_model_module_version": "~2.1.4",
       "_view_module_version": "~2.1.4",
       "description": "intervalo",
       "layout": "IPY_MODEL_c316977dfaa84df089540fa39fb475d3",
       "max": 360,
       "min": 1,
       "step": 10,
       "style": "IPY_MODEL_020de3a60db0411d98bfdbdb877f446c",
       "value": 30
      }
     },
     "e852c076612b47fdbb453568e5cc8a5c": {
      "model_module": "jupyter-js-widgets",
      "model_module_version": "~2.1.4",
      "model_name": "SliderStyleModel",
      "state": {
       "_model_module_version": "~2.1.4",
       "_view_module_version": "~2.1.4"
      }
     },
     "e85ed25fe084448a98cd79c81f884a9a": {
      "model_module": "jupyter-js-widgets",
      "model_module_version": "~2.1.4",
      "model_name": "IntSliderModel",
      "state": {
       "_model_module_version": "~2.1.4",
       "_view_module_version": "~2.1.4",
       "description": "sueldo_inicial",
       "layout": "IPY_MODEL_ee3af07da874489bbfd110f564f08ee0",
       "max": 25000,
       "step": 500,
       "style": "IPY_MODEL_f1549135b60a450f9616d54e75294cea",
       "value": 15000
      }
     },
     "e8c15f0fbf4141689b09c53dc37e1d44": {
      "model_module": "jupyter-js-widgets",
      "model_module_version": "~2.1.4",
      "model_name": "FloatSliderModel",
      "state": {
       "_model_module_version": "~2.1.4",
       "_view_module_version": "~2.1.4",
       "description": "tasa_gasto_extra",
       "layout": "IPY_MODEL_9939c1f58e4246cda6ec1084e20ad24c",
       "max": 1,
       "step": 0.01,
       "value": 0.3
      }
     },
     "e8d6c4457cbb423dbb0099b9f5fdead1": {
      "model_module": "jupyter-js-widgets",
      "model_module_version": "~2.1.4",
      "model_name": "LayoutModel",
      "state": {
       "_model_module_version": "~2.1.4",
       "_view_module_version": "~2.1.4",
       "width": "100%"
      }
     },
     "e90d265722444f06bc90db8859b8e324": {
      "model_module": "jupyter-js-widgets",
      "model_module_version": "~2.1.4",
      "model_name": "IntSliderModel",
      "state": {
       "_model_module_version": "~2.1.4",
       "_view_module_version": "~2.1.4",
       "description": "gasto_fijo_diario",
       "layout": "IPY_MODEL_1aaf81d924e941bfb417edd3194b2f63",
       "max": 1000,
       "min": 1,
       "step": 50,
       "style": "IPY_MODEL_c7fd34f2030d40cf8a707d4eaea5c0d3",
       "value": 100
      }
     },
     "e940e84a8ac94e1eb9b14c68edd54bbb": {
      "model_module": "jupyter-js-widgets",
      "model_module_version": "~2.1.4",
      "model_name": "IntSliderModel",
      "state": {
       "_model_module_version": "~2.1.4",
       "_view_module_version": "~2.1.4",
       "description": "sueldo_inicial",
       "layout": "IPY_MODEL_68ef570fd4764490b9f28d6b781d9185",
       "max": 25000,
       "step": 500,
       "style": "IPY_MODEL_e852c076612b47fdbb453568e5cc8a5c",
       "value": 15000
      }
     },
     "e94f1ff2352e41feaaa40cd181ce6c8c": {
      "model_module": "jupyter-js-widgets",
      "model_module_version": "~2.1.4",
      "model_name": "SliderStyleModel",
      "state": {
       "_model_module_version": "~2.1.4",
       "_view_module_version": "~2.1.4"
      }
     },
     "ea2333f5c9a64df79c3601376afb51ef": {
      "model_module": "jupyter-js-widgets",
      "model_module_version": "~2.1.4",
      "model_name": "LayoutModel",
      "state": {
       "_model_module_version": "~2.1.4",
       "_view_module_version": "~2.1.4",
       "width": "100%"
      }
     },
     "ea345ef5274b48f68cf463bdf0fcefb8": {
      "model_module": "jupyter-js-widgets",
      "model_module_version": "~2.1.4",
      "model_name": "LayoutModel",
      "state": {
       "_model_module_version": "~2.1.4",
       "_view_module_version": "~2.1.4",
       "width": "100%"
      }
     },
     "ea544194ed08447d93f5b1a7b62a93bd": {
      "model_module": "jupyter-js-widgets",
      "model_module_version": "~2.1.4",
      "model_name": "IntSliderModel",
      "state": {
       "_model_module_version": "~2.1.4",
       "_view_module_version": "~2.1.4",
       "description": "gasto_fijo_diario",
       "layout": "IPY_MODEL_6a6740833c4b445ab4176d1d735c97f9",
       "max": 1000,
       "min": 1,
       "step": 50,
       "style": "IPY_MODEL_a72bd5b0be79439bb2bbc727e2d49d90",
       "value": 100
      }
     },
     "eaaf1d53d2dd434184dc850165902da7": {
      "model_module": "jupyter-js-widgets",
      "model_module_version": "~2.1.4",
      "model_name": "LayoutModel",
      "state": {
       "_model_module_version": "~2.1.4",
       "_view_module_version": "~2.1.4",
       "width": "100%"
      }
     },
     "eacd6927f42a46ff9c484f5f4c674674": {
      "model_module": "jupyter-js-widgets",
      "model_module_version": "~2.1.4",
      "model_name": "LayoutModel",
      "state": {
       "_model_module_version": "~2.1.4",
       "_view_module_version": "~2.1.4"
      }
     },
     "eafed4c2d71f4513aa4db4f015da1347": {
      "model_module": "jupyter-js-widgets",
      "model_module_version": "~2.1.4",
      "model_name": "LayoutModel",
      "state": {
       "_model_module_version": "~2.1.4",
       "_view_module_version": "~2.1.4"
      }
     },
     "eb000b2b423a40429f2e7d1546e155e8": {
      "model_module": "jupyter-js-widgets",
      "model_module_version": "~2.1.4",
      "model_name": "OutputModel",
      "state": {
       "_dom_classes": [],
       "_model_module": "jupyter-js-widgets",
       "_model_module_version": "~2.1.4",
       "_view_module": "jupyter-js-widgets",
       "_view_module_version": "~2.1.4",
       "layout": "IPY_MODEL_44fc81d284f64ffbb68c2367b81227bd",
       "msg_throttle": 1
      }
     },
     "eb0bd178715d4cbdafc823da2b4cf4dd": {
      "model_module": "jupyter-js-widgets",
      "model_module_version": "~2.1.4",
      "model_name": "SliderStyleModel",
      "state": {
       "_model_module_version": "~2.1.4",
       "_view_module_version": "~2.1.4"
      }
     },
     "ebb17042fbc44265b503f63da8792f12": {
      "model_module": "jupyter-js-widgets",
      "model_module_version": "~2.1.4",
      "model_name": "SliderStyleModel",
      "state": {
       "_model_module_version": "~2.1.4",
       "_view_module_version": "~2.1.4"
      }
     },
     "ebc1544e0f7f4812a6af48d807d1aabc": {
      "model_module": "jupyter-js-widgets",
      "model_module_version": "~2.1.4",
      "model_name": "SliderStyleModel",
      "state": {
       "_model_module_version": "~2.1.4",
       "_view_module_version": "~2.1.4"
      }
     },
     "ec25fa6aa412431180dc50a8c56f2bbf": {
      "model_module": "jupyter-js-widgets",
      "model_module_version": "~2.1.4",
      "model_name": "IntSliderModel",
      "state": {
       "_model_module_version": "~2.1.4",
       "_view_module_version": "~2.1.4",
       "description": "dias",
       "layout": "IPY_MODEL_95fcae6aded643328ae35c46f5932ada",
       "max": 360,
       "min": 1,
       "step": 10,
       "style": "IPY_MODEL_4c0baf58f7ae4e439f17c96ffd49d825",
       "value": 60
      }
     },
     "ec79cdd59dca46c186cd8ddbbfb4d6f6": {
      "model_module": "jupyter-js-widgets",
      "model_module_version": "~2.1.4",
      "model_name": "LayoutModel",
      "state": {
       "_model_module_version": "~2.1.4",
       "_view_module_version": "~2.1.4",
       "width": "100%"
      }
     },
     "ecb9ab8935624fd982e87351b0d21a4a": {
      "model_module": "jupyter-js-widgets",
      "model_module_version": "~2.1.4",
      "model_name": "LayoutModel",
      "state": {
       "_model_module_version": "~2.1.4",
       "_view_module_version": "~2.1.4",
       "width": "100%"
      }
     },
     "ed0c34e269db4720870d10d4406b9475": {
      "model_module": "jupyter-js-widgets",
      "model_module_version": "~2.1.4",
      "model_name": "LayoutModel",
      "state": {
       "_model_module_version": "~2.1.4",
       "_view_module_version": "~2.1.4"
      }
     },
     "ed44382d70b6458c8adaa6d7482a42fa": {
      "model_module": "jupyter-js-widgets",
      "model_module_version": "~2.1.4",
      "model_name": "SliderStyleModel",
      "state": {
       "_model_module_version": "~2.1.4",
       "_view_module_version": "~2.1.4"
      }
     },
     "ed8f47569d4843839ee5c9f1c798d566": {
      "model_module": "jupyter-js-widgets",
      "model_module_version": "~2.1.4",
      "model_name": "VBoxModel",
      "state": {
       "_dom_classes": [
        "widget-interact"
       ],
       "_model_module_version": "~2.1.4",
       "_view_module_version": "~2.1.4",
       "children": [
        "IPY_MODEL_ffd56a0209c24d35a8cc5bddbd68be19",
        "IPY_MODEL_a0a2e20622cf4a6790a2159e4abf2b8d",
        "IPY_MODEL_d47a0a410ea7402aa1cb1cd1a28dcfa5",
        "IPY_MODEL_702a0fc5b3274d31b5410932f0e84571",
        "IPY_MODEL_649c3bd2e894405abeea55f73cf8eeac",
        "IPY_MODEL_bac792eb883d48c1837b9f45be735265",
        "IPY_MODEL_32519b80ee31474f912bb11de560ad8e",
        "IPY_MODEL_9df9d4edaf0049189f2fe26ff57f0da3"
       ],
       "layout": "IPY_MODEL_18a99da83a4e4982bc0e311bbf454c46"
      }
     },
     "edb66be6843f4ecca0eed2bb6372d5d1": {
      "model_module": "jupyter-js-widgets",
      "model_module_version": "~2.1.4",
      "model_name": "LayoutModel",
      "state": {
       "_model_module_version": "~2.1.4",
       "_view_module_version": "~2.1.4",
       "width": "100%"
      }
     },
     "edf272543d5446eface9fca1dc367213": {
      "model_module": "jupyter-js-widgets",
      "model_module_version": "~2.1.4",
      "model_name": "SliderStyleModel",
      "state": {
       "_model_module_version": "~2.1.4",
       "_view_module_version": "~2.1.4"
      }
     },
     "ee1aba38248b4c7b915db3b804428440": {
      "model_module": "jupyter-js-widgets",
      "model_module_version": "~2.1.4",
      "model_name": "LayoutModel",
      "state": {
       "_model_module_version": "~2.1.4",
       "_view_module_version": "~2.1.4",
       "width": "100%"
      }
     },
     "ee3af07da874489bbfd110f564f08ee0": {
      "model_module": "jupyter-js-widgets",
      "model_module_version": "~2.1.4",
      "model_name": "LayoutModel",
      "state": {
       "_model_module_version": "~2.1.4",
       "_view_module_version": "~2.1.4",
       "width": "100%"
      }
     },
     "ee4e4acfb73543558a8ab8de1cee19d2": {
      "model_module": "jupyter-js-widgets",
      "model_module_version": "~2.1.4",
      "model_name": "IntSliderModel",
      "state": {
       "_model_module_version": "~2.1.4",
       "_view_module_version": "~2.1.4",
       "description": "gasto_fijo_diario",
       "layout": "IPY_MODEL_7aa5851711b1465db3dd223f73eccfb1",
       "max": 1000,
       "min": 1,
       "step": 50,
       "style": "IPY_MODEL_5ec1e37f577f422487c78f5a7b773aeb",
       "value": 100
      }
     },
     "ee5e3664d0164c05a5812c1f596c567c": {
      "model_module": "jupyter-js-widgets",
      "model_module_version": "~2.1.4",
      "model_name": "IntSliderModel",
      "state": {
       "_model_module_version": "~2.1.4",
       "_view_module_version": "~2.1.4",
       "description": "gasto_fijo_diario",
       "layout": "IPY_MODEL_8269b64c27b04d5eb4139b8ea10121bf",
       "max": 1000,
       "min": 1,
       "step": 50,
       "style": "IPY_MODEL_39a1f246c9c748cda68e391509808b40",
       "value": 100
      }
     },
     "eee7a81e121c49bbb480a39bd3a4c926": {
      "model_module": "jupyter-js-widgets",
      "model_module_version": "~2.1.4",
      "model_name": "SliderStyleModel",
      "state": {
       "_model_module_version": "~2.1.4",
       "_view_module_version": "~2.1.4"
      }
     },
     "eeef6359373b45fc8cb429701d23ab9a": {
      "model_module": "jupyter-js-widgets",
      "model_module_version": "~2.1.4",
      "model_name": "LayoutModel",
      "state": {
       "_model_module_version": "~2.1.4",
       "_view_module_version": "~2.1.4"
      }
     },
     "ef01c8e73f6248f690ccf1fc81ad911e": {
      "model_module": "jupyter-js-widgets",
      "model_module_version": "~2.1.4",
      "model_name": "IntSliderModel",
      "state": {
       "_model_module_version": "~2.1.4",
       "_view_module_version": "~2.1.4",
       "description": "gasto_fijo_diario",
       "layout": "IPY_MODEL_2674c34c816f44e9b0505bff6e362dcd",
       "max": 1000,
       "min": 1,
       "step": 50,
       "style": "IPY_MODEL_ef6beff3e9664915a7bf54e28b464b1d",
       "value": 100
      }
     },
     "ef0813f98d4a48c1806e977be698c913": {
      "model_module": "jupyter-js-widgets",
      "model_module_version": "~2.1.4",
      "model_name": "FloatSliderModel",
      "state": {
       "_model_module_version": "~2.1.4",
       "_view_module_version": "~2.1.4",
       "description": "tasa_gasto_extra",
       "layout": "IPY_MODEL_0704eaab1a954f359f39919b0735daaa",
       "max": 1,
       "step": 0.05,
       "value": 0.3
      }
     },
     "ef11bdf6c4c34a2ba822f776bd970c1b": {
      "model_module": "jupyter-js-widgets",
      "model_module_version": "~2.1.4",
      "model_name": "OutputModel",
      "state": {
       "_dom_classes": [],
       "_model_module": "jupyter-js-widgets",
       "_model_module_version": "~2.1.4",
       "_view_module": "jupyter-js-widgets",
       "_view_module_version": "~2.1.4",
       "layout": "IPY_MODEL_782815a0e6ac4d45bffc98d8660ca211",
       "msg_throttle": 1
      }
     },
     "ef247107a1df419b936569ca93b0b313": {
      "model_module": "jupyter-js-widgets",
      "model_module_version": "~2.1.4",
      "model_name": "LayoutModel",
      "state": {
       "_model_module_version": "~2.1.4",
       "_view_module_version": "~2.1.4",
       "width": "100%"
      }
     },
     "ef4710aeedaa439b87e81f44752b552a": {
      "model_module": "jupyter-js-widgets",
      "model_module_version": "~2.1.4",
      "model_name": "IntSliderModel",
      "state": {
       "_model_module_version": "~2.1.4",
       "_view_module_version": "~2.1.4",
       "description": "dias",
       "layout": "IPY_MODEL_98cfd601c7d4482f96404e2be0eebe21",
       "max": 360,
       "min": 1,
       "step": 10,
       "style": "IPY_MODEL_e81bee2b034a41489bba77f8be89dc3d",
       "value": 30
      }
     },
     "ef5781a7c7314078a2f4ebed1c109580": {
      "model_module": "jupyter-js-widgets",
      "model_module_version": "~2.1.4",
      "model_name": "LayoutModel",
      "state": {
       "_model_module_version": "~2.1.4",
       "_view_module_version": "~2.1.4",
       "width": "100%"
      }
     },
     "ef6beff3e9664915a7bf54e28b464b1d": {
      "model_module": "jupyter-js-widgets",
      "model_module_version": "~2.1.4",
      "model_name": "SliderStyleModel",
      "state": {
       "_model_module_version": "~2.1.4",
       "_view_module_version": "~2.1.4"
      }
     },
     "ef96ffb95c2648c0a66891817644e69f": {
      "model_module": "jupyter-js-widgets",
      "model_module_version": "~2.1.4",
      "model_name": "SliderStyleModel",
      "state": {
       "_model_module_version": "~2.1.4",
       "_view_module_version": "~2.1.4"
      }
     },
     "effb853b6ff8482b8fd2ddd18df81505": {
      "model_module": "jupyter-js-widgets",
      "model_module_version": "~2.1.4",
      "model_name": "OutputModel",
      "state": {
       "_dom_classes": [],
       "_model_module": "jupyter-js-widgets",
       "_model_module_version": "~2.1.4",
       "_view_module": "jupyter-js-widgets",
       "_view_module_version": "~2.1.4",
       "layout": "IPY_MODEL_d3da5994d12c4b6b9080a2926954351f",
       "msg_throttle": 1
      }
     },
     "f061cc47b4d8405bb598f17cf4550e11": {
      "model_module": "jupyter-js-widgets",
      "model_module_version": "~2.1.4",
      "model_name": "FloatSliderModel",
      "state": {
       "_model_module_version": "~2.1.4",
       "_view_module_version": "~2.1.4",
       "description": "tasa_gasto_extra",
       "layout": "IPY_MODEL_f4f9fec6d290444baef42584367d6cfe",
       "max": 1,
       "step": 0.01,
       "value": 0.3
      }
     },
     "f0c081f4ab604a8393924cc3945b6bc0": {
      "model_module": "jupyter-js-widgets",
      "model_module_version": "~2.1.4",
      "model_name": "OutputModel",
      "state": {
       "_dom_classes": [],
       "_model_module": "jupyter-js-widgets",
       "_model_module_version": "~2.1.4",
       "_view_module": "jupyter-js-widgets",
       "_view_module_version": "~2.1.4",
       "layout": "IPY_MODEL_ba404d8b08654442a215d73ede88a50c",
       "msg_throttle": 1
      }
     },
     "f0c86337e6064237b05922bbcd1ff5a3": {
      "model_module": "jupyter-js-widgets",
      "model_module_version": "~2.1.4",
      "model_name": "LayoutModel",
      "state": {
       "_model_module_version": "~2.1.4",
       "_view_module_version": "~2.1.4",
       "width": "100%"
      }
     },
     "f12ba699906d4bbb9b3f8fc99b39e91f": {
      "model_module": "jupyter-js-widgets",
      "model_module_version": "~2.1.4",
      "model_name": "LayoutModel",
      "state": {
       "_model_module_version": "~2.1.4",
       "_view_module_version": "~2.1.4",
       "width": "100%"
      }
     },
     "f13962d13ba14f72a9ed6023abd469d4": {
      "model_module": "jupyter-js-widgets",
      "model_module_version": "~2.1.4",
      "model_name": "SliderStyleModel",
      "state": {
       "_model_module_version": "~2.1.4",
       "_view_module_version": "~2.1.4"
      }
     },
     "f1549135b60a450f9616d54e75294cea": {
      "model_module": "jupyter-js-widgets",
      "model_module_version": "~2.1.4",
      "model_name": "SliderStyleModel",
      "state": {
       "_model_module_version": "~2.1.4",
       "_view_module_version": "~2.1.4"
      }
     },
     "f1c5172e1ad14a7597bb32a89cac36ce": {
      "model_module": "jupyter-js-widgets",
      "model_module_version": "~2.1.4",
      "model_name": "SliderStyleModel",
      "state": {
       "_model_module_version": "~2.1.4",
       "_view_module_version": "~2.1.4"
      }
     },
     "f1e9a960cf8e4eb7b84db7da0b3278c3": {
      "model_module": "jupyter-js-widgets",
      "model_module_version": "~2.1.4",
      "model_name": "LayoutModel",
      "state": {
       "_model_module_version": "~2.1.4",
       "_view_module_version": "~2.1.4",
       "width": "100%"
      }
     },
     "f24076d239024541b0d6ea74abaecdbe": {
      "model_module": "jupyter-js-widgets",
      "model_module_version": "~2.1.4",
      "model_name": "FloatSliderModel",
      "state": {
       "_model_module_version": "~2.1.4",
       "_view_module_version": "~2.1.4",
       "description": "tasa_gasto_extra",
       "layout": "IPY_MODEL_daf9217ab8cb4995a9dd01e555c9b284",
       "max": 1,
       "step": 0.05,
       "value": 0.3
      }
     },
     "f2d0961d6c4c470487665c9a5ebb888d": {
      "model_module": "jupyter-js-widgets",
      "model_module_version": "~2.1.4",
      "model_name": "IntSliderModel",
      "state": {
       "_model_module_version": "~2.1.4",
       "_view_module_version": "~2.1.4",
       "description": "sueldo_inicial",
       "layout": "IPY_MODEL_21580a17a9e64917a0ff2b3e70968b80",
       "max": 25000,
       "step": 500,
       "style": "IPY_MODEL_a560c5696cff4405b892a2ab8c1ea1d6",
       "value": 15000
      }
     },
     "f3022686c0e04ec28d2ec32ad5222868": {
      "model_module": "jupyter-js-widgets",
      "model_module_version": "~2.1.4",
      "model_name": "LayoutModel",
      "state": {
       "_model_module_version": "~2.1.4",
       "_view_module_version": "~2.1.4",
       "width": "100%"
      }
     },
     "f3301adf177a47939bf653b096b538c8": {
      "model_module": "jupyter-js-widgets",
      "model_module_version": "~2.1.4",
      "model_name": "LayoutModel",
      "state": {
       "_model_module_version": "~2.1.4",
       "_view_module_version": "~2.1.4",
       "width": "100%"
      }
     },
     "f3eb840f706848789fe5bf9c1df68735": {
      "model_module": "jupyter-js-widgets",
      "model_module_version": "~2.1.4",
      "model_name": "LayoutModel",
      "state": {
       "_model_module_version": "~2.1.4",
       "_view_module_version": "~2.1.4",
       "width": "100%"
      }
     },
     "f4150db0e4b74bea919cf50f3552fb4c": {
      "model_module": "jupyter-js-widgets",
      "model_module_version": "~2.1.4",
      "model_name": "IntSliderModel",
      "state": {
       "_model_module_version": "~2.1.4",
       "_view_module_version": "~2.1.4",
       "description": "dias",
       "layout": "IPY_MODEL_771c81bea2b643c0844fe68208d69bf0",
       "max": 360,
       "min": 1,
       "step": 10,
       "style": "IPY_MODEL_b9e08e9018484eeea24d9f8d03d39cd7",
       "value": 30
      }
     },
     "f4360824f0034824b9c289521b6c727f": {
      "model_module": "jupyter-js-widgets",
      "model_module_version": "~2.1.4",
      "model_name": "SliderStyleModel",
      "state": {
       "_model_module_version": "~2.1.4",
       "_view_module_version": "~2.1.4"
      }
     },
     "f4510f623abf4562ab8dee5f2ff126ec": {
      "model_module": "jupyter-js-widgets",
      "model_module_version": "~2.1.4",
      "model_name": "IntSliderModel",
      "state": {
       "_model_module_version": "~2.1.4",
       "_view_module_version": "~2.1.4",
       "description": "sueldo_inicial",
       "layout": "IPY_MODEL_b2696deff39d4232972619198fbe1b76",
       "max": 25000,
       "step": 500,
       "style": "IPY_MODEL_e54bf0731a8a44dcb04aebec2b96a4f1",
       "value": 15000
      }
     },
     "f4a1e53bc9ce46b6b73d4a547044282b": {
      "model_module": "jupyter-js-widgets",
      "model_module_version": "~2.1.4",
      "model_name": "LayoutModel",
      "state": {
       "_model_module_version": "~2.1.4",
       "_view_module_version": "~2.1.4",
       "width": "100%"
      }
     },
     "f4f7c68d4eda47919cc19b8d479b27d7": {
      "model_module": "jupyter-js-widgets",
      "model_module_version": "~2.1.4",
      "model_name": "LayoutModel",
      "state": {
       "_model_module_version": "~2.1.4",
       "_view_module_version": "~2.1.4",
       "width": "100%"
      }
     },
     "f4f9fec6d290444baef42584367d6cfe": {
      "model_module": "jupyter-js-widgets",
      "model_module_version": "~2.1.4",
      "model_name": "LayoutModel",
      "state": {
       "_model_module_version": "~2.1.4",
       "_view_module_version": "~2.1.4",
       "width": "100%"
      }
     },
     "f53a614fdd7f4bc48521aa2924cbd7ce": {
      "model_module": "jupyter-js-widgets",
      "model_module_version": "~2.1.4",
      "model_name": "SliderStyleModel",
      "state": {
       "_model_module_version": "~2.1.4",
       "_view_module_version": "~2.1.4"
      }
     },
     "f55256d49f8840de8ef1f0040a4b3bec": {
      "model_module": "jupyter-js-widgets",
      "model_module_version": "~2.1.4",
      "model_name": "LayoutModel",
      "state": {
       "_model_module_version": "~2.1.4",
       "_view_module_version": "~2.1.4",
       "width": "100%"
      }
     },
     "f5614f08d0804987abc5513da63c296b": {
      "model_module": "jupyter-js-widgets",
      "model_module_version": "~2.1.4",
      "model_name": "SliderStyleModel",
      "state": {
       "_model_module_version": "~2.1.4",
       "_view_module_version": "~2.1.4"
      }
     },
     "f570a24d39904f1caa5fc0173b339a46": {
      "model_module": "jupyter-js-widgets",
      "model_module_version": "~2.1.4",
      "model_name": "FloatSliderModel",
      "state": {
       "_model_module_version": "~2.1.4",
       "_view_module_version": "~2.1.4",
       "description": "tasa_gasto_extra",
       "layout": "IPY_MODEL_1952cc01cc4c441387781166e8e1222c",
       "max": 1,
       "step": 0.01,
       "value": 0.19
      }
     },
     "f59e006590f041b4becf5be20142979a": {
      "model_module": "jupyter-js-widgets",
      "model_module_version": "~2.1.4",
      "model_name": "LayoutModel",
      "state": {
       "_model_module_version": "~2.1.4",
       "_view_module_version": "~2.1.4",
       "width": "100%"
      }
     },
     "f59ef2a1b1da4b9fa6b3095a997dc8c2": {
      "model_module": "jupyter-js-widgets",
      "model_module_version": "~2.1.4",
      "model_name": "FloatSliderModel",
      "state": {
       "_model_module_version": "~2.1.4",
       "_view_module_version": "~2.1.4",
       "description": "paso",
       "layout": "IPY_MODEL_f5c599d49ca84ddabd953fbea0968a37",
       "max": 1,
       "step": 0.01,
       "value": 0.1
      }
     },
     "f5a1b4c2107d4664a5c8e6c179452b65": {
      "model_module": "jupyter-js-widgets",
      "model_module_version": "~2.1.4",
      "model_name": "LayoutModel",
      "state": {
       "_model_module_version": "~2.1.4",
       "_view_module_version": "~2.1.4",
       "width": "100%"
      }
     },
     "f5c4e39c04264860bddf588aa92c0712": {
      "model_module": "jupyter-js-widgets",
      "model_module_version": "~2.1.4",
      "model_name": "LayoutModel",
      "state": {
       "_model_module_version": "~2.1.4",
       "_view_module_version": "~2.1.4",
       "width": "100%"
      }
     },
     "f5c599d49ca84ddabd953fbea0968a37": {
      "model_module": "jupyter-js-widgets",
      "model_module_version": "~2.1.4",
      "model_name": "LayoutModel",
      "state": {
       "_model_module_version": "~2.1.4",
       "_view_module_version": "~2.1.4",
       "width": "100%"
      }
     },
     "f5de49ba28174205af6299443a73f836": {
      "model_module": "jupyter-js-widgets",
      "model_module_version": "~2.1.4",
      "model_name": "LayoutModel",
      "state": {
       "_model_module_version": "~2.1.4",
       "_view_module_version": "~2.1.4",
       "width": "100%"
      }
     },
     "f64b587771c34a4a8f0e34a4e5e41332": {
      "model_module": "jupyter-js-widgets",
      "model_module_version": "~2.1.4",
      "model_name": "IntSliderModel",
      "state": {
       "_model_module_version": "~2.1.4",
       "_view_module_version": "~2.1.4",
       "description": "s",
       "layout": "IPY_MODEL_1cf1d0cce7d2496b9950d07b24918079",
       "max": 1000,
       "min": 1,
       "step": 50,
       "style": "IPY_MODEL_4b8216e805a64582953408272474b2bf",
       "value": 100
      }
     },
     "f6747b561eca4c109285566b4786e61b": {
      "model_module": "jupyter-js-widgets",
      "model_module_version": "~2.1.4",
      "model_name": "IntSliderModel",
      "state": {
       "_model_module_version": "~2.1.4",
       "_view_module_version": "~2.1.4",
       "description": "sueldo_inicial",
       "layout": "IPY_MODEL_c68ca10de52d4092a2e6d75c031fbcd5",
       "max": 25000,
       "step": 500,
       "style": "IPY_MODEL_357d9842372442acb73d14f85438a489",
       "value": 15000
      }
     },
     "f72def265cb347498f4fe0287b5c4b59": {
      "model_module": "jupyter-js-widgets",
      "model_module_version": "~2.1.4",
      "model_name": "LayoutModel",
      "state": {
       "_model_module_version": "~2.1.4",
       "_view_module_version": "~2.1.4"
      }
     },
     "f74e86b0176740e1b4cd657d60570e67": {
      "model_module": "jupyter-js-widgets",
      "model_module_version": "~2.1.4",
      "model_name": "LayoutModel",
      "state": {
       "_model_module_version": "~2.1.4",
       "_view_module_version": "~2.1.4",
       "width": "100%"
      }
     },
     "f75cd86a2b3c400a914ec376b8ae1964": {
      "model_module": "jupyter-js-widgets",
      "model_module_version": "~2.1.4",
      "model_name": "OutputModel",
      "state": {
       "_dom_classes": [],
       "_model_module": "jupyter-js-widgets",
       "_model_module_version": "~2.1.4",
       "_view_module": "jupyter-js-widgets",
       "_view_module_version": "~2.1.4",
       "layout": "IPY_MODEL_a7f65035a78f42eead3d3063efc3b36f",
       "msg_throttle": 1
      }
     },
     "f768e082824140be8ada8ebdbcf2783b": {
      "model_module": "jupyter-js-widgets",
      "model_module_version": "~2.1.4",
      "model_name": "SliderStyleModel",
      "state": {
       "_model_module_version": "~2.1.4",
       "_view_module_version": "~2.1.4"
      }
     },
     "f7aa45ffd7c14d7098266516068f2c37": {
      "model_module": "jupyter-js-widgets",
      "model_module_version": "~2.1.4",
      "model_name": "FloatSliderModel",
      "state": {
       "_model_module_version": "~2.1.4",
       "_view_module_version": "~2.1.4",
       "description": "paso",
       "layout": "IPY_MODEL_4b5a846485e344589b75259e7ebab47a",
       "max": 1,
       "step": 0.01,
       "value": 0.1
      }
     },
     "f7d660ba56994082a274932cf3757161": {
      "model_module": "jupyter-js-widgets",
      "model_module_version": "~2.1.4",
      "model_name": "OutputModel",
      "state": {
       "_dom_classes": [],
       "_model_module": "jupyter-js-widgets",
       "_model_module_version": "~2.1.4",
       "_view_module": "jupyter-js-widgets",
       "_view_module_version": "~2.1.4",
       "layout": "IPY_MODEL_90c51efa54954155ae997a42f367ba57",
       "msg_throttle": 1
      }
     },
     "f7e5f461857e4074b97eb219bdcdb1cf": {
      "model_module": "jupyter-js-widgets",
      "model_module_version": "~2.1.4",
      "model_name": "FloatSliderModel",
      "state": {
       "_model_module_version": "~2.1.4",
       "_view_module_version": "~2.1.4",
       "layout": "IPY_MODEL_c8a124e0b7754c2d8722471e6daa1fda",
       "max": 1,
       "step": 0.01,
       "value": 0.3
      }
     },
     "f7f712ba027849d7add36a8416dbcc69": {
      "model_module": "jupyter-js-widgets",
      "model_module_version": "~2.1.4",
      "model_name": "VBoxModel",
      "state": {
       "_dom_classes": [
        "widget-interact"
       ],
       "_model_module_version": "~2.1.4",
       "_view_module_version": "~2.1.4",
       "children": [
        "IPY_MODEL_e940e84a8ac94e1eb9b14c68edd54bbb",
        "IPY_MODEL_feb8a49f832841eba60705a433f520dd",
        "IPY_MODEL_24a55996423a4d529c3de6c11eabce3d",
        "IPY_MODEL_bfff11ba2793451288d100f216518a54",
        "IPY_MODEL_1b4349aa93e44ecea95f4ca5ab375cba",
        "IPY_MODEL_c008cffee04d483fa549ac15d1fb4355",
        "IPY_MODEL_45b08b8033014e9fa6dc74482cf76b5a",
        "IPY_MODEL_eb000b2b423a40429f2e7d1546e155e8"
       ],
       "layout": "IPY_MODEL_18441e23c27945fb8a84dde133165f03"
      }
     },
     "f7f73ad538954623964286c7321e04f3": {
      "model_module": "jupyter-js-widgets",
      "model_module_version": "~2.1.4",
      "model_name": "SliderStyleModel",
      "state": {
       "_model_module_version": "~2.1.4",
       "_view_module_version": "~2.1.4"
      }
     },
     "f84b203997664f988d72d83028df1853": {
      "model_module": "jupyter-js-widgets",
      "model_module_version": "~2.1.4",
      "model_name": "LayoutModel",
      "state": {
       "_model_module_version": "~2.1.4",
       "_view_module_version": "~2.1.4"
      }
     },
     "f85608d3ac7143caa7986fa78bae7345": {
      "model_module": "jupyter-js-widgets",
      "model_module_version": "~2.1.4",
      "model_name": "FloatSliderModel",
      "state": {
       "_model_module_version": "~2.1.4",
       "_view_module_version": "~2.1.4",
       "description": "tasa_gasto_extra",
       "layout": "IPY_MODEL_72bcb4b4e60c41f5b105a74f0ebfd059",
       "max": 1,
       "step": 0.01,
       "value": 0.3
      }
     },
     "f86fea3b732c4f42a853efc7ed5ed33d": {
      "model_module": "jupyter-js-widgets",
      "model_module_version": "~2.1.4",
      "model_name": "IntSliderModel",
      "state": {
       "_model_module_version": "~2.1.4",
       "_view_module_version": "~2.1.4",
       "description": "dias",
       "layout": "IPY_MODEL_86dc06030f0b409d831b36fc58bd8407",
       "max": 360,
       "min": 1,
       "step": 10,
       "style": "IPY_MODEL_5b433d050eab46aab2a8abf9c43c95b0",
       "value": 30
      }
     },
     "f876f432556141438a943abda0daea19": {
      "model_module": "jupyter-js-widgets",
      "model_module_version": "~2.1.4",
      "model_name": "IntSliderModel",
      "state": {
       "_model_module_version": "~2.1.4",
       "_view_module_version": "~2.1.4",
       "description": "dias",
       "layout": "IPY_MODEL_4ca23eeccbd2498ca1199a98b45ce39c",
       "max": 360,
       "min": 1,
       "step": 10,
       "style": "IPY_MODEL_827eadf550bb40ecbd5b983fd70fc8a4",
       "value": 30
      }
     },
     "f878dcebd6874a93a4a692dd4fe13d24": {
      "model_module": "jupyter-js-widgets",
      "model_module_version": "~2.1.4",
      "model_name": "FloatSliderModel",
      "state": {
       "_model_module_version": "~2.1.4",
       "_view_module_version": "~2.1.4",
       "description": "tasa_gasto_extra",
       "layout": "IPY_MODEL_fc49dfdf9eaa42bbb24dde98100e0ebc",
       "max": 1,
       "step": 0.05,
       "value": 0.3
      }
     },
     "f88b754820ed443680aa03e96ed2a89e": {
      "model_module": "jupyter-js-widgets",
      "model_module_version": "~2.1.4",
      "model_name": "LayoutModel",
      "state": {
       "_model_module_version": "~2.1.4",
       "_view_module_version": "~2.1.4",
       "width": "100%"
      }
     },
     "f89a4235b5cb49299e7d1f1b853b1eca": {
      "model_module": "jupyter-js-widgets",
      "model_module_version": "~2.1.4",
      "model_name": "LayoutModel",
      "state": {
       "_model_module_version": "~2.1.4",
       "_view_module_version": "~2.1.4",
       "width": "100%"
      }
     },
     "f907f321f9ef4248bb301c22f64f7586": {
      "model_module": "jupyter-js-widgets",
      "model_module_version": "~2.1.4",
      "model_name": "SliderStyleModel",
      "state": {
       "_model_module_version": "~2.1.4",
       "_view_module_version": "~2.1.4"
      }
     },
     "f92cb29aaf8d493599a356e0ba81d545": {
      "model_module": "jupyter-js-widgets",
      "model_module_version": "~2.1.4",
      "model_name": "LayoutModel",
      "state": {
       "_model_module_version": "~2.1.4",
       "_view_module_version": "~2.1.4",
       "width": "100%"
      }
     },
     "f93a6e8f79264972bca6669a4cd5555b": {
      "model_module": "jupyter-js-widgets",
      "model_module_version": "~2.1.4",
      "model_name": "OutputModel",
      "state": {
       "_dom_classes": [],
       "_model_module": "jupyter-js-widgets",
       "_model_module_version": "~2.1.4",
       "_view_module": "jupyter-js-widgets",
       "_view_module_version": "~2.1.4",
       "layout": "IPY_MODEL_8bc43480b948499dbbfe34664dc043a1",
       "msg_throttle": 1
      }
     },
     "f9d6be4b598243da9d1487f200950a83": {
      "model_module": "jupyter-js-widgets",
      "model_module_version": "~2.1.4",
      "model_name": "LayoutModel",
      "state": {
       "_model_module_version": "~2.1.4",
       "_view_module_version": "~2.1.4",
       "width": "100%"
      }
     },
     "fa27ba9103a94562ae521e165ab4bfbb": {
      "model_module": "jupyter-js-widgets",
      "model_module_version": "~2.1.4",
      "model_name": "IntSliderModel",
      "state": {
       "_model_module_version": "~2.1.4",
       "_view_module_version": "~2.1.4",
       "description": "dias",
       "layout": "IPY_MODEL_139ba59b80cc445d870c8facc7710eae",
       "max": 360,
       "min": 1,
       "step": 10,
       "style": "IPY_MODEL_8a37143c12de4287a2c44bd30d112086",
       "value": 60
      }
     },
     "fa9f9b4e8225460fb252ed44fe7f9087": {
      "model_module": "jupyter-js-widgets",
      "model_module_version": "~2.1.4",
      "model_name": "LayoutModel",
      "state": {
       "_model_module_version": "~2.1.4",
       "_view_module_version": "~2.1.4",
       "width": "100%"
      }
     },
     "fabfcb49846545b29c6ee81119844b2f": {
      "model_module": "jupyter-js-widgets",
      "model_module_version": "~2.1.4",
      "model_name": "SliderStyleModel",
      "state": {
       "_model_module_version": "~2.1.4",
       "_view_module_version": "~2.1.4"
      }
     },
     "fae0d1e8ab59466c8da2550bcc1480f9": {
      "model_module": "jupyter-js-widgets",
      "model_module_version": "~2.1.4",
      "model_name": "LayoutModel",
      "state": {
       "_model_module_version": "~2.1.4",
       "_view_module_version": "~2.1.4"
      }
     },
     "faf5724aba3c461cb8244b6a7bd3a83f": {
      "model_module": "jupyter-js-widgets",
      "model_module_version": "~2.1.4",
      "model_name": "LayoutModel",
      "state": {
       "_model_module_version": "~2.1.4",
       "_view_module_version": "~2.1.4",
       "width": "100%"
      }
     },
     "fb4cdcc14cbf4fb3a20fec60792b8286": {
      "model_module": "jupyter-js-widgets",
      "model_module_version": "~2.1.4",
      "model_name": "LayoutModel",
      "state": {
       "_model_module_version": "~2.1.4",
       "_view_module_version": "~2.1.4",
       "width": "100%"
      }
     },
     "fb4de8dee0e24b69ae00cee959a746d1": {
      "model_module": "jupyter-js-widgets",
      "model_module_version": "~2.1.4",
      "model_name": "LayoutModel",
      "state": {
       "_model_module_version": "~2.1.4",
       "_view_module_version": "~2.1.4",
       "width": "100%"
      }
     },
     "fb583dc9bff044529fc9b45006013d9f": {
      "model_module": "jupyter-js-widgets",
      "model_module_version": "~2.1.4",
      "model_name": "FloatSliderModel",
      "state": {
       "_model_module_version": "~2.1.4",
       "_view_module_version": "~2.1.4",
       "description": "tasa_gasto_extra",
       "layout": "IPY_MODEL_128b1bb0fdc1435d830dd663718d5875",
       "max": 1,
       "step": 0.01,
       "value": 0.3
      }
     },
     "fb63d287b8fa45ddbf7fbfc11887ac56": {
      "model_module": "jupyter-js-widgets",
      "model_module_version": "~2.1.4",
      "model_name": "IntSliderModel",
      "state": {
       "_model_module_version": "~2.1.4",
       "_view_module_version": "~2.1.4",
       "description": "s",
       "layout": "IPY_MODEL_7d79d11d0731495fac47d22dfbe4b870",
       "max": 1000,
       "min": 1,
       "step": 50,
       "style": "IPY_MODEL_ab881b6fd94a451f90ed53f437444fa4",
       "value": 100
      }
     },
     "fb6ce20aeef245bd818d6e0d616a181e": {
      "model_module": "jupyter-js-widgets",
      "model_module_version": "~2.1.4",
      "model_name": "SliderStyleModel",
      "state": {
       "_model_module_version": "~2.1.4",
       "_view_module_version": "~2.1.4"
      }
     },
     "fbb50b8455da4d55ab26986391ecd986": {
      "model_module": "jupyter-js-widgets",
      "model_module_version": "~2.1.4",
      "model_name": "LayoutModel",
      "state": {
       "_model_module_version": "~2.1.4",
       "_view_module_version": "~2.1.4",
       "width": "100%"
      }
     },
     "fbc095c9494044469178b34d3f8f7233": {
      "model_module": "jupyter-js-widgets",
      "model_module_version": "~2.1.4",
      "model_name": "SliderStyleModel",
      "state": {
       "_model_module_version": "~2.1.4",
       "_view_module_version": "~2.1.4"
      }
     },
     "fbd1a24383fe489a87a5d4b21db25d51": {
      "model_module": "jupyter-js-widgets",
      "model_module_version": "~2.1.4",
      "model_name": "IntSliderModel",
      "state": {
       "_model_module_version": "~2.1.4",
       "_view_module_version": "~2.1.4",
       "description": "gasto_fijo_diario",
       "layout": "IPY_MODEL_1670507ed1bc4f44b3a6d28f80544053",
       "max": 1000,
       "min": 1,
       "step": 50,
       "style": "IPY_MODEL_a15e99d73f394635a1df750637f988f3",
       "value": 100
      }
     },
     "fc1ce9261d394dcda9fee1fed2da2738": {
      "model_module": "jupyter-js-widgets",
      "model_module_version": "~2.1.4",
      "model_name": "SliderStyleModel",
      "state": {
       "_model_module_version": "~2.1.4",
       "_view_module_version": "~2.1.4"
      }
     },
     "fc35bd8f2d9a4ea9908cc305d773e452": {
      "model_module": "jupyter-js-widgets",
      "model_module_version": "~2.1.4",
      "model_name": "OutputModel",
      "state": {
       "_dom_classes": [],
       "_model_module": "jupyter-js-widgets",
       "_model_module_version": "~2.1.4",
       "_view_module": "jupyter-js-widgets",
       "_view_module_version": "~2.1.4",
       "layout": "IPY_MODEL_be8354a54749432cba02e6a770b2899e",
       "msg_throttle": 1
      }
     },
     "fc49dfdf9eaa42bbb24dde98100e0ebc": {
      "model_module": "jupyter-js-widgets",
      "model_module_version": "~2.1.4",
      "model_name": "LayoutModel",
      "state": {
       "_model_module_version": "~2.1.4",
       "_view_module_version": "~2.1.4",
       "width": "100%"
      }
     },
     "fc94d500ad9f49b799ba5636a695fd3f": {
      "model_module": "jupyter-js-widgets",
      "model_module_version": "~2.1.4",
      "model_name": "LayoutModel",
      "state": {
       "_model_module_version": "~2.1.4",
       "_view_module_version": "~2.1.4",
       "width": "100%"
      }
     },
     "fcb7ef64bcc0436abdcd8fe33022960a": {
      "model_module": "jupyter-js-widgets",
      "model_module_version": "~2.1.4",
      "model_name": "LayoutModel",
      "state": {
       "_model_module_version": "~2.1.4",
       "_view_module_version": "~2.1.4",
       "width": "100%"
      }
     },
     "fd304b5a4d5849de8cd9b8ff02998ac0": {
      "model_module": "jupyter-js-widgets",
      "model_module_version": "~2.1.4",
      "model_name": "FloatSliderModel",
      "state": {
       "_model_module_version": "~2.1.4",
       "_view_module_version": "~2.1.4",
       "description": "tasa_gasto_extra",
       "layout": "IPY_MODEL_faf5724aba3c461cb8244b6a7bd3a83f",
       "max": 1,
       "step": 0.01,
       "value": 0.5
      }
     },
     "fd5844b51fd145969750e0225a658bcf": {
      "model_module": "jupyter-js-widgets",
      "model_module_version": "~2.1.4",
      "model_name": "IntSliderModel",
      "state": {
       "_model_module_version": "~2.1.4",
       "_view_module_version": "~2.1.4",
       "description": "dias",
       "layout": "IPY_MODEL_7db9d35f1a564d0593be0bebd0037a58",
       "max": 360,
       "min": 1,
       "step": 10,
       "style": "IPY_MODEL_27460c74eb9641d08169e32127cb2af4",
       "value": 60
      }
     },
     "fd7aef97b12948f4bd528dcdee82e69c": {
      "model_module": "jupyter-js-widgets",
      "model_module_version": "~2.1.4",
      "model_name": "LayoutModel",
      "state": {
       "_model_module_version": "~2.1.4",
       "_view_module_version": "~2.1.4"
      }
     },
     "fda35198e5ff4b4982e99775e8164629": {
      "model_module": "jupyter-js-widgets",
      "model_module_version": "~2.1.4",
      "model_name": "FloatSliderModel",
      "state": {
       "_model_module_version": "~2.1.4",
       "_view_module_version": "~2.1.4",
       "description": "paso",
       "layout": "IPY_MODEL_6d7743578148444cb008cc52be73840e",
       "max": 1,
       "step": 0.01,
       "value": 0.1
      }
     },
     "fe32f26dba0b474caee7227acb5dd28e": {
      "model_module": "jupyter-js-widgets",
      "model_module_version": "~2.1.4",
      "model_name": "FloatSliderModel",
      "state": {
       "_model_module_version": "~2.1.4",
       "_view_module_version": "~2.1.4",
       "description": "paso",
       "layout": "IPY_MODEL_9864aa6dfb804071a5fcb4854a1c72fc",
       "max": 1,
       "step": 0.01,
       "value": 0.1
      }
     },
     "feb8a49f832841eba60705a433f520dd": {
      "model_module": "jupyter-js-widgets",
      "model_module_version": "~2.1.4",
      "model_name": "FloatSliderModel",
      "state": {
       "_model_module_version": "~2.1.4",
       "_view_module_version": "~2.1.4",
       "description": "tasa_ahorro",
       "layout": "IPY_MODEL_d864bd283cfc442a8dcc91391a8c74eb",
       "max": 1,
       "step": 0.01,
       "value": 0.2
      }
     },
     "ff20c84841ea45c28297ac7722d1156b": {
      "model_module": "jupyter-js-widgets",
      "model_module_version": "~2.1.4",
      "model_name": "IntSliderModel",
      "state": {
       "_model_module_version": "~2.1.4",
       "_view_module_version": "~2.1.4",
       "description": "sueldo_inicial",
       "layout": "IPY_MODEL_c5bfe6351116498da5493d77b00f9f1f",
       "max": 25000,
       "step": 500,
       "style": "IPY_MODEL_fc1ce9261d394dcda9fee1fed2da2738",
       "value": 15000
      }
     },
     "ff3b5e9e42604c0183851336dd1d4aa0": {
      "model_module": "jupyter-js-widgets",
      "model_module_version": "~2.1.4",
      "model_name": "LayoutModel",
      "state": {
       "_model_module_version": "~2.1.4",
       "_view_module_version": "~2.1.4",
       "width": "100%"
      }
     },
     "ff8537dc8d2e439d938a5d62748b7d12": {
      "model_module": "jupyter-js-widgets",
      "model_module_version": "~2.1.4",
      "model_name": "IntSliderModel",
      "state": {
       "_model_module_version": "~2.1.4",
       "_view_module_version": "~2.1.4",
       "description": "gasto_fijo_diario",
       "layout": "IPY_MODEL_8d232829822d459da0a0b68a87ea57ec",
       "max": 1000,
       "min": 1,
       "step": 50,
       "style": "IPY_MODEL_36aa4e4cd5f54e29b16817700d8df011",
       "value": 100
      }
     },
     "ff8a817456384b1bb6f488636e7d85b8": {
      "model_module": "jupyter-js-widgets",
      "model_module_version": "~2.1.4",
      "model_name": "OutputModel",
      "state": {
       "_dom_classes": [],
       "_model_module": "jupyter-js-widgets",
       "_model_module_version": "~2.1.4",
       "_view_module": "jupyter-js-widgets",
       "_view_module_version": "~2.1.4",
       "layout": "IPY_MODEL_1b349b9de165467d8800eae28e193dab",
       "msg_throttle": 1
      }
     },
     "ffce00de703245a28dd3c5b97d7d20bf": {
      "model_module": "jupyter-js-widgets",
      "model_module_version": "~2.1.4",
      "model_name": "LayoutModel",
      "state": {
       "_model_module_version": "~2.1.4",
       "_view_module_version": "~2.1.4"
      }
     },
     "ffd40419ad934e4c9a40857c61576068": {
      "model_module": "jupyter-js-widgets",
      "model_module_version": "~2.1.4",
      "model_name": "IntSliderModel",
      "state": {
       "_model_module_version": "~2.1.4",
       "_view_module_version": "~2.1.4",
       "description": "dias",
       "layout": "IPY_MODEL_4762278541a54477b9755f9ac843ef86",
       "max": 360,
       "min": 1,
       "step": 10,
       "style": "IPY_MODEL_4a3e3c491970421aa64a915aeb9dc251",
       "value": 30
      }
     },
     "ffd56a0209c24d35a8cc5bddbd68be19": {
      "model_module": "jupyter-js-widgets",
      "model_module_version": "~2.1.4",
      "model_name": "IntSliderModel",
      "state": {
       "_model_module_version": "~2.1.4",
       "_view_module_version": "~2.1.4",
       "description": "sueldo_inicial",
       "layout": "IPY_MODEL_275ba1124e544725ba52d59dd2f14684",
       "max": 25000,
       "step": 500,
       "style": "IPY_MODEL_f13962d13ba14f72a9ed6023abd469d4",
       "value": 15000
      }
     }
    },
    "version_major": 1,
    "version_minor": 0
   }
  }
 },
 "nbformat": 4,
 "nbformat_minor": 4
}
